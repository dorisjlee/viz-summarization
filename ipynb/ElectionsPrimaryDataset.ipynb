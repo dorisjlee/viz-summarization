{
 "cells": [
  {
   "cell_type": "code",
   "execution_count": 1,
   "metadata": {
    "collapsed": false
   },
   "outputs": [
    {
     "name": "stdout",
     "output_type": "stream",
     "text": [
      "Populating the interactive namespace from numpy and matplotlib\n"
     ]
    }
   ],
   "source": [
    "%pylab inline"
   ]
  },
  {
   "cell_type": "code",
   "execution_count": 90,
   "metadata": {
    "collapsed": false
   },
   "outputs": [],
   "source": [
    "def bar_chart(A,B, N=1,width=0.3,subpopulation_name=\"\",vars_of_interest=('M','F')):\n",
    "    ind = np.arange(N)  # the x locations for the groups\n",
    "    fig, ax = plt.subplots()\n",
    "    rects1 = ax.bar(ind, A, width, color='r', ecolor= \"black\")\n",
    "    rects2 = ax.bar(ind + width, B, width, color='b', ecolor= \"black\")\n",
    "    # add some text for labels, title and axes ticks\n",
    "    ax.set_ylabel('%',fontsize=14)\n",
    "    ax.set_title(subpopulation_name,fontsize=16)\n",
    "    ax.set_xticks(ind + width)\n",
    "    ax.set_xticklabels(('',''),fontsize=14)\n",
    "    ax.legend((rects1[0], rects2[0]), vars_of_interest,fontsize=12)\n",
    "    ax.set_ylim(0,100)\n",
    "    #ax.set_xlim(-0.5*width,2*width)\n",
    "#     ax.set_xlim(-,1)\n",
    "    # Add text labels for values \n",
    "    def autolabel(rects):\n",
    "        # attach some text labels\n",
    "        for rect in rects:\n",
    "            height = rect.get_height()\n",
    "            ax.text(rect.get_x() + rect.get_width()/2., 0.5*height,\n",
    "                    '%.2f' % float(height),\n",
    "                    ha='center', va='bottom',color=\"white\",fontsize=15)\n",
    "\n",
    "    autolabel(rects1)\n",
    "    autolabel(rects2)"
   ]
  },
  {
   "cell_type": "code",
   "execution_count": 118,
   "metadata": {
    "collapsed": true
   },
   "outputs": [],
   "source": [
    "# np.set_printoptions(precision=0)\n",
    "def single_bar_chart(A,B, N=1,width=0.3,title=\"\",subpopulation_name=\"\",vars_of_interest=('M','F')):\n",
    "    \n",
    "    ind = np.arange(N)  # the x locations for the groups\n",
    "    \n",
    "    fig, ax = plt.subplots()\n",
    "    rects1 = ax.bar(ind, A, width, color='r', ecolor= \"black\")\n",
    "    rects2 = ax.bar(ind + width, B, width, color='b', ecolor= \"black\")\n",
    "# add some text for labels, title and axes ticks\n",
    "#     ax.set_ylabel('Rate [images/min]',fontsize=14)\n",
    "    ax.set_title(title,fontsize=16)\n",
    "    ax.set_xticks([width])\n",
    "    ax.set_xticklabels((''),fontsize=14)\n",
    "    ax.set_ylim(0,100)\n",
    "    ax.set_ylabel('%',fontsize=14)\n",
    "    ax.set_title(subpopulation_name,fontsize=16)\n",
    "    ax.legend((rects1[0], rects2[0]), vars_of_interest,fontsize=12)\n",
    "#     ax.set_yticklabels(np.arange(0,110,10),fontsize=13)\n",
    "#     ax.legend((rects1[0], rects2[0]), ('A', 'B'))\n",
    "    def autolabel(rects):\n",
    "        # attach some text labels\n",
    "        for rect in rects:\n",
    "            height = rect.get_height()\n",
    "            ax.text(rect.get_x() + rect.get_width()/2., 0.5*height,\n",
    "                    '%.2f' % float(height),\n",
    "                    ha='center', va='bottom',color=\"white\",fontsize=15)\n",
    "\n",
    "    autolabel(rects1)\n",
    "    autolabel(rects2)\n",
    "    #ax.set_xlim(-0.1,0.2)\n",
    "    ax.spines['right'].set_visible(False)\n",
    "    ax.spines['top'].set_visible(False)\n",
    "    plt.gca().set_xticks([])"
   ]
  },
  {
   "cell_type": "code",
   "execution_count": 119,
   "metadata": {
    "collapsed": false
   },
   "outputs": [
    {
     "data": {
      "image/png": "[encoded data removed]",
      "text/plain": [
       "<matplotlib.figure.Figure at 0x10ea06c10>"
      ]
     },
     "metadata": {},
     "output_type": "display_data"
    }
   ],
   "source": [
    "single_bar_chart(55,45,width=0.1)"
   ]
  },
  {
   "cell_type": "code",
   "execution_count": 67,
   "metadata": {
    "collapsed": false
   },
   "outputs": [
    {
     "data": {
      "image/png": "[encoded data removed]",
      "text/plain": [
       "<matplotlib.figure.Figure at 0x10e5da3d0>"
      ]
     },
     "metadata": {},
     "output_type": "display_data"
    }
   ],
   "source": [
    "bar_chart(20,10,width=0.5)"
   ]
  },
  {
   "cell_type": "code",
   "execution_count": 26,
   "metadata": {
    "collapsed": true
   },
   "outputs": [],
   "source": [
    "import pandas as pd "
   ]
  },
  {
   "cell_type": "code",
   "execution_count": 3,
   "metadata": {
    "collapsed": true
   },
   "outputs": [],
   "source": [
    "data =pd.read_csv(\"../data/joined_cleaned_primary.csv\")"
   ]
  },
  {
   "cell_type": "code",
   "execution_count": 9,
   "metadata": {
    "collapsed": false
   },
   "outputs": [
    {
     "data": {
      "text/html": [
       "<div>\n",
       "<style>\n",
       "    .dataframe thead tr:only-child th {\n",
       "        text-align: right;\n",
       "    }\n",
       "\n",
       "    .dataframe thead th {\n",
       "        text-align: left;\n",
       "    }\n",
       "\n",
       "    .dataframe tbody tr th {\n",
       "        vertical-align: top;\n",
       "    }\n",
       "</style>\n",
       "<table border=\"1\" class=\"dataframe\">\n",
       "  <thead>\n",
       "    <tr style=\"text-align: right;\">\n",
       "      <th></th>\n",
       "      <th>party</th>\n",
       "      <th>county</th>\n",
       "      <th>fips</th>\n",
       "      <th>votes</th>\n",
       "      <th>fraction_votes</th>\n",
       "      <th>PST045214</th>\n",
       "      <th>PST040210</th>\n",
       "      <th>PST120214</th>\n",
       "      <th>POP010210</th>\n",
       "      <th>AGE135214</th>\n",
       "      <th>...</th>\n",
       "      <th>SBO415207</th>\n",
       "      <th>SBO015207</th>\n",
       "      <th>MAN450207</th>\n",
       "      <th>WTN220207</th>\n",
       "      <th>RTN130207</th>\n",
       "      <th>RTN131207</th>\n",
       "      <th>AFN120207</th>\n",
       "      <th>BPS030214</th>\n",
       "      <th>LND110210</th>\n",
       "      <th>POP060210</th>\n",
       "    </tr>\n",
       "  </thead>\n",
       "  <tbody>\n",
       "    <tr>\n",
       "      <th>0</th>\n",
       "      <td>Democrat</td>\n",
       "      <td>Autauga</td>\n",
       "      <td>1001.0</td>\n",
       "      <td>1465.5</td>\n",
       "      <td>0.4910</td>\n",
       "      <td>55395.0</td>\n",
       "      <td>54571.0</td>\n",
       "      <td>1.5</td>\n",
       "      <td>54571.0</td>\n",
       "      <td>6.0</td>\n",
       "      <td>...</td>\n",
       "      <td>0.7</td>\n",
       "      <td>31.7</td>\n",
       "      <td>0.0</td>\n",
       "      <td>0.0</td>\n",
       "      <td>598175.0</td>\n",
       "      <td>12003.0</td>\n",
       "      <td>88157.0</td>\n",
       "      <td>131.0</td>\n",
       "      <td>594.44</td>\n",
       "      <td>91.8</td>\n",
       "    </tr>\n",
       "    <tr>\n",
       "      <th>1</th>\n",
       "      <td>Democrat</td>\n",
       "      <td>Baldwin</td>\n",
       "      <td>1003.0</td>\n",
       "      <td>3992.0</td>\n",
       "      <td>0.4880</td>\n",
       "      <td>200111.0</td>\n",
       "      <td>182265.0</td>\n",
       "      <td>9.8</td>\n",
       "      <td>182265.0</td>\n",
       "      <td>5.6</td>\n",
       "      <td>...</td>\n",
       "      <td>1.3</td>\n",
       "      <td>27.3</td>\n",
       "      <td>1410273.0</td>\n",
       "      <td>0.0</td>\n",
       "      <td>2966489.0</td>\n",
       "      <td>17166.0</td>\n",
       "      <td>436955.0</td>\n",
       "      <td>1384.0</td>\n",
       "      <td>1589.78</td>\n",
       "      <td>114.6</td>\n",
       "    </tr>\n",
       "    <tr>\n",
       "      <th>2</th>\n",
       "      <td>Democrat</td>\n",
       "      <td>Barbour</td>\n",
       "      <td>1005.0</td>\n",
       "      <td>1394.5</td>\n",
       "      <td>0.4920</td>\n",
       "      <td>26887.0</td>\n",
       "      <td>27457.0</td>\n",
       "      <td>-2.1</td>\n",
       "      <td>27457.0</td>\n",
       "      <td>5.7</td>\n",
       "      <td>...</td>\n",
       "      <td>0.0</td>\n",
       "      <td>27.0</td>\n",
       "      <td>0.0</td>\n",
       "      <td>0.0</td>\n",
       "      <td>188337.0</td>\n",
       "      <td>6334.0</td>\n",
       "      <td>0.0</td>\n",
       "      <td>8.0</td>\n",
       "      <td>884.88</td>\n",
       "      <td>31.0</td>\n",
       "    </tr>\n",
       "    <tr>\n",
       "      <th>3</th>\n",
       "      <td>Democrat</td>\n",
       "      <td>Bibb</td>\n",
       "      <td>1007.0</td>\n",
       "      <td>594.0</td>\n",
       "      <td>0.4760</td>\n",
       "      <td>22506.0</td>\n",
       "      <td>22919.0</td>\n",
       "      <td>-1.8</td>\n",
       "      <td>22915.0</td>\n",
       "      <td>5.3</td>\n",
       "      <td>...</td>\n",
       "      <td>0.0</td>\n",
       "      <td>0.0</td>\n",
       "      <td>0.0</td>\n",
       "      <td>0.0</td>\n",
       "      <td>124707.0</td>\n",
       "      <td>5804.0</td>\n",
       "      <td>10757.0</td>\n",
       "      <td>19.0</td>\n",
       "      <td>622.58</td>\n",
       "      <td>36.8</td>\n",
       "    </tr>\n",
       "    <tr>\n",
       "      <th>4</th>\n",
       "      <td>Democrat</td>\n",
       "      <td>Blount</td>\n",
       "      <td>1009.0</td>\n",
       "      <td>479.5</td>\n",
       "      <td>0.4685</td>\n",
       "      <td>57719.0</td>\n",
       "      <td>57322.0</td>\n",
       "      <td>0.7</td>\n",
       "      <td>57322.0</td>\n",
       "      <td>6.1</td>\n",
       "      <td>...</td>\n",
       "      <td>0.0</td>\n",
       "      <td>23.2</td>\n",
       "      <td>341544.0</td>\n",
       "      <td>0.0</td>\n",
       "      <td>319700.0</td>\n",
       "      <td>5622.0</td>\n",
       "      <td>20941.0</td>\n",
       "      <td>3.0</td>\n",
       "      <td>644.78</td>\n",
       "      <td>88.9</td>\n",
       "    </tr>\n",
       "    <tr>\n",
       "      <th>5</th>\n",
       "      <td>Democrat</td>\n",
       "      <td>Bullock</td>\n",
       "      <td>1011.0</td>\n",
       "      <td>1314.5</td>\n",
       "      <td>0.4895</td>\n",
       "      <td>10764.0</td>\n",
       "      <td>10915.0</td>\n",
       "      <td>-1.4</td>\n",
       "      <td>10914.0</td>\n",
       "      <td>6.3</td>\n",
       "      <td>...</td>\n",
       "      <td>0.0</td>\n",
       "      <td>38.8</td>\n",
       "      <td>0.0</td>\n",
       "      <td>0.0</td>\n",
       "      <td>43810.0</td>\n",
       "      <td>3995.0</td>\n",
       "      <td>3670.0</td>\n",
       "      <td>1.0</td>\n",
       "      <td>622.81</td>\n",
       "      <td>17.5</td>\n",
       "    </tr>\n",
       "    <tr>\n",
       "      <th>6</th>\n",
       "      <td>Democrat</td>\n",
       "      <td>Butler</td>\n",
       "      <td>1013.0</td>\n",
       "      <td>1176.0</td>\n",
       "      <td>0.4930</td>\n",
       "      <td>20296.0</td>\n",
       "      <td>20946.0</td>\n",
       "      <td>-3.1</td>\n",
       "      <td>20947.0</td>\n",
       "      <td>6.1</td>\n",
       "      <td>...</td>\n",
       "      <td>0.0</td>\n",
       "      <td>0.0</td>\n",
       "      <td>399132.0</td>\n",
       "      <td>56712.0</td>\n",
       "      <td>229277.0</td>\n",
       "      <td>11326.0</td>\n",
       "      <td>28427.0</td>\n",
       "      <td>2.0</td>\n",
       "      <td>776.83</td>\n",
       "      <td>27.0</td>\n",
       "    </tr>\n",
       "    <tr>\n",
       "      <th>7</th>\n",
       "      <td>Democrat</td>\n",
       "      <td>Calhoun</td>\n",
       "      <td>1015.0</td>\n",
       "      <td>3218.0</td>\n",
       "      <td>0.4915</td>\n",
       "      <td>115916.0</td>\n",
       "      <td>118586.0</td>\n",
       "      <td>-2.3</td>\n",
       "      <td>118572.0</td>\n",
       "      <td>5.7</td>\n",
       "      <td>...</td>\n",
       "      <td>0.5</td>\n",
       "      <td>24.7</td>\n",
       "      <td>2679991.0</td>\n",
       "      <td>0.0</td>\n",
       "      <td>1542981.0</td>\n",
       "      <td>13678.0</td>\n",
       "      <td>186533.0</td>\n",
       "      <td>114.0</td>\n",
       "      <td>605.87</td>\n",
       "      <td>195.7</td>\n",
       "    </tr>\n",
       "    <tr>\n",
       "      <th>8</th>\n",
       "      <td>Democrat</td>\n",
       "      <td>Chambers</td>\n",
       "      <td>1017.0</td>\n",
       "      <td>1605.5</td>\n",
       "      <td>0.4905</td>\n",
       "      <td>34076.0</td>\n",
       "      <td>34170.0</td>\n",
       "      <td>-0.3</td>\n",
       "      <td>34215.0</td>\n",
       "      <td>5.9</td>\n",
       "      <td>...</td>\n",
       "      <td>0.0</td>\n",
       "      <td>29.3</td>\n",
       "      <td>667283.0</td>\n",
       "      <td>0.0</td>\n",
       "      <td>264650.0</td>\n",
       "      <td>7620.0</td>\n",
       "      <td>23237.0</td>\n",
       "      <td>8.0</td>\n",
       "      <td>596.53</td>\n",
       "      <td>57.4</td>\n",
       "    </tr>\n",
       "    <tr>\n",
       "      <th>9</th>\n",
       "      <td>Democrat</td>\n",
       "      <td>Cherokee</td>\n",
       "      <td>1019.0</td>\n",
       "      <td>490.0</td>\n",
       "      <td>0.4550</td>\n",
       "      <td>26037.0</td>\n",
       "      <td>25986.0</td>\n",
       "      <td>0.2</td>\n",
       "      <td>25989.0</td>\n",
       "      <td>4.8</td>\n",
       "      <td>...</td>\n",
       "      <td>0.0</td>\n",
       "      <td>14.5</td>\n",
       "      <td>307439.0</td>\n",
       "      <td>62293.0</td>\n",
       "      <td>186321.0</td>\n",
       "      <td>7613.0</td>\n",
       "      <td>13948.0</td>\n",
       "      <td>2.0</td>\n",
       "      <td>553.70</td>\n",
       "      <td>46.9</td>\n",
       "    </tr>\n",
       "    <tr>\n",
       "      <th>10</th>\n",
       "      <td>Democrat</td>\n",
       "      <td>Chilton</td>\n",
       "      <td>1021.0</td>\n",
       "      <td>574.5</td>\n",
       "      <td>0.4885</td>\n",
       "      <td>43931.0</td>\n",
       "      <td>43631.0</td>\n",
       "      <td>0.7</td>\n",
       "      <td>43643.0</td>\n",
       "      <td>6.4</td>\n",
       "      <td>...</td>\n",
       "      <td>0.0</td>\n",
       "      <td>0.0</td>\n",
       "      <td>0.0</td>\n",
       "      <td>155139.0</td>\n",
       "      <td>359910.0</td>\n",
       "      <td>8496.0</td>\n",
       "      <td>34073.0</td>\n",
       "      <td>78.0</td>\n",
       "      <td>692.85</td>\n",
       "      <td>63.0</td>\n",
       "    </tr>\n",
       "    <tr>\n",
       "      <th>11</th>\n",
       "      <td>Democrat</td>\n",
       "      <td>Choctaw</td>\n",
       "      <td>1023.0</td>\n",
       "      <td>1022.5</td>\n",
       "      <td>0.4630</td>\n",
       "      <td>13323.0</td>\n",
       "      <td>13858.0</td>\n",
       "      <td>-3.9</td>\n",
       "      <td>13859.0</td>\n",
       "      <td>4.9</td>\n",
       "      <td>...</td>\n",
       "      <td>0.0</td>\n",
       "      <td>44.1</td>\n",
       "      <td>0.0</td>\n",
       "      <td>52904.0</td>\n",
       "      <td>84633.0</td>\n",
       "      <td>5969.0</td>\n",
       "      <td>11345.0</td>\n",
       "      <td>0.0</td>\n",
       "      <td>913.50</td>\n",
       "      <td>15.2</td>\n",
       "    </tr>\n",
       "    <tr>\n",
       "      <th>12</th>\n",
       "      <td>Democrat</td>\n",
       "      <td>Clarke</td>\n",
       "      <td>1025.0</td>\n",
       "      <td>1680.5</td>\n",
       "      <td>0.4965</td>\n",
       "      <td>24945.0</td>\n",
       "      <td>25840.0</td>\n",
       "      <td>-3.5</td>\n",
       "      <td>25833.0</td>\n",
       "      <td>5.6</td>\n",
       "      <td>...</td>\n",
       "      <td>0.0</td>\n",
       "      <td>28.6</td>\n",
       "      <td>571454.0</td>\n",
       "      <td>85803.0</td>\n",
       "      <td>344311.0</td>\n",
       "      <td>13034.0</td>\n",
       "      <td>23596.0</td>\n",
       "      <td>11.0</td>\n",
       "      <td>1238.47</td>\n",
       "      <td>20.9</td>\n",
       "    </tr>\n",
       "    <tr>\n",
       "      <th>13</th>\n",
       "      <td>Democrat</td>\n",
       "      <td>Clay</td>\n",
       "      <td>1027.0</td>\n",
       "      <td>471.0</td>\n",
       "      <td>0.4775</td>\n",
       "      <td>13552.0</td>\n",
       "      <td>13932.0</td>\n",
       "      <td>-2.7</td>\n",
       "      <td>13932.0</td>\n",
       "      <td>5.3</td>\n",
       "      <td>...</td>\n",
       "      <td>0.0</td>\n",
       "      <td>0.0</td>\n",
       "      <td>330878.0</td>\n",
       "      <td>0.0</td>\n",
       "      <td>70558.0</td>\n",
       "      <td>5123.0</td>\n",
       "      <td>4352.0</td>\n",
       "      <td>0.0</td>\n",
       "      <td>603.96</td>\n",
       "      <td>23.1</td>\n",
       "    </tr>\n",
       "    <tr>\n",
       "      <th>14</th>\n",
       "      <td>Democrat</td>\n",
       "      <td>Cleburne</td>\n",
       "      <td>1029.0</td>\n",
       "      <td>146.5</td>\n",
       "      <td>0.4850</td>\n",
       "      <td>15080.0</td>\n",
       "      <td>14972.0</td>\n",
       "      <td>0.7</td>\n",
       "      <td>14972.0</td>\n",
       "      <td>5.7</td>\n",
       "      <td>...</td>\n",
       "      <td>0.0</td>\n",
       "      <td>17.7</td>\n",
       "      <td>0.0</td>\n",
       "      <td>5888.0</td>\n",
       "      <td>133407.0</td>\n",
       "      <td>9080.0</td>\n",
       "      <td>4134.0</td>\n",
       "      <td>1.0</td>\n",
       "      <td>560.10</td>\n",
       "      <td>26.7</td>\n",
       "    </tr>\n",
       "    <tr>\n",
       "      <th>15</th>\n",
       "      <td>Republican</td>\n",
       "      <td>Autauga</td>\n",
       "      <td>1001.0</td>\n",
       "      <td>2367.8</td>\n",
       "      <td>0.1958</td>\n",
       "      <td>55395.0</td>\n",
       "      <td>54571.0</td>\n",
       "      <td>1.5</td>\n",
       "      <td>54571.0</td>\n",
       "      <td>6.0</td>\n",
       "      <td>...</td>\n",
       "      <td>0.7</td>\n",
       "      <td>31.7</td>\n",
       "      <td>0.0</td>\n",
       "      <td>0.0</td>\n",
       "      <td>598175.0</td>\n",
       "      <td>12003.0</td>\n",
       "      <td>88157.0</td>\n",
       "      <td>131.0</td>\n",
       "      <td>594.44</td>\n",
       "      <td>91.8</td>\n",
       "    </tr>\n",
       "    <tr>\n",
       "      <th>16</th>\n",
       "      <td>Republican</td>\n",
       "      <td>Baldwin</td>\n",
       "      <td>1003.0</td>\n",
       "      <td>9820.0</td>\n",
       "      <td>0.1950</td>\n",
       "      <td>200111.0</td>\n",
       "      <td>182265.0</td>\n",
       "      <td>9.8</td>\n",
       "      <td>182265.0</td>\n",
       "      <td>5.6</td>\n",
       "      <td>...</td>\n",
       "      <td>1.3</td>\n",
       "      <td>27.3</td>\n",
       "      <td>1410273.0</td>\n",
       "      <td>0.0</td>\n",
       "      <td>2966489.0</td>\n",
       "      <td>17166.0</td>\n",
       "      <td>436955.0</td>\n",
       "      <td>1384.0</td>\n",
       "      <td>1589.78</td>\n",
       "      <td>114.6</td>\n",
       "    </tr>\n",
       "    <tr>\n",
       "      <th>17</th>\n",
       "      <td>Republican</td>\n",
       "      <td>Barbour</td>\n",
       "      <td>1005.0</td>\n",
       "      <td>671.4</td>\n",
       "      <td>0.1968</td>\n",
       "      <td>26887.0</td>\n",
       "      <td>27457.0</td>\n",
       "      <td>-2.1</td>\n",
       "      <td>27457.0</td>\n",
       "      <td>5.7</td>\n",
       "      <td>...</td>\n",
       "      <td>0.0</td>\n",
       "      <td>27.0</td>\n",
       "      <td>0.0</td>\n",
       "      <td>0.0</td>\n",
       "      <td>188337.0</td>\n",
       "      <td>6334.0</td>\n",
       "      <td>0.0</td>\n",
       "      <td>8.0</td>\n",
       "      <td>884.88</td>\n",
       "      <td>31.0</td>\n",
       "    </tr>\n",
       "    <tr>\n",
       "      <th>18</th>\n",
       "      <td>Republican</td>\n",
       "      <td>Bibb</td>\n",
       "      <td>1007.0</td>\n",
       "      <td>778.2</td>\n",
       "      <td>0.1962</td>\n",
       "      <td>22506.0</td>\n",
       "      <td>22919.0</td>\n",
       "      <td>-1.8</td>\n",
       "      <td>22915.0</td>\n",
       "      <td>5.3</td>\n",
       "      <td>...</td>\n",
       "      <td>0.0</td>\n",
       "      <td>0.0</td>\n",
       "      <td>0.0</td>\n",
       "      <td>0.0</td>\n",
       "      <td>124707.0</td>\n",
       "      <td>5804.0</td>\n",
       "      <td>10757.0</td>\n",
       "      <td>19.0</td>\n",
       "      <td>622.58</td>\n",
       "      <td>36.8</td>\n",
       "    </tr>\n",
       "    <tr>\n",
       "      <th>19</th>\n",
       "      <td>Republican</td>\n",
       "      <td>Blount</td>\n",
       "      <td>1009.0</td>\n",
       "      <td>2958.2</td>\n",
       "      <td>0.1950</td>\n",
       "      <td>57719.0</td>\n",
       "      <td>57322.0</td>\n",
       "      <td>0.7</td>\n",
       "      <td>57322.0</td>\n",
       "      <td>6.1</td>\n",
       "      <td>...</td>\n",
       "      <td>0.0</td>\n",
       "      <td>23.2</td>\n",
       "      <td>341544.0</td>\n",
       "      <td>0.0</td>\n",
       "      <td>319700.0</td>\n",
       "      <td>5622.0</td>\n",
       "      <td>20941.0</td>\n",
       "      <td>3.0</td>\n",
       "      <td>644.78</td>\n",
       "      <td>88.9</td>\n",
       "    </tr>\n",
       "    <tr>\n",
       "      <th>20</th>\n",
       "      <td>Republican</td>\n",
       "      <td>Bullock</td>\n",
       "      <td>1011.0</td>\n",
       "      <td>108.2</td>\n",
       "      <td>0.1956</td>\n",
       "      <td>10764.0</td>\n",
       "      <td>10915.0</td>\n",
       "      <td>-1.4</td>\n",
       "      <td>10914.0</td>\n",
       "      <td>6.3</td>\n",
       "      <td>...</td>\n",
       "      <td>0.0</td>\n",
       "      <td>38.8</td>\n",
       "      <td>0.0</td>\n",
       "      <td>0.0</td>\n",
       "      <td>43810.0</td>\n",
       "      <td>3995.0</td>\n",
       "      <td>3670.0</td>\n",
       "      <td>1.0</td>\n",
       "      <td>622.81</td>\n",
       "      <td>17.5</td>\n",
       "    </tr>\n",
       "    <tr>\n",
       "      <th>21</th>\n",
       "      <td>Republican</td>\n",
       "      <td>Butler</td>\n",
       "      <td>1013.0</td>\n",
       "      <td>628.8</td>\n",
       "      <td>0.1966</td>\n",
       "      <td>20296.0</td>\n",
       "      <td>20946.0</td>\n",
       "      <td>-3.1</td>\n",
       "      <td>20947.0</td>\n",
       "      <td>6.1</td>\n",
       "      <td>...</td>\n",
       "      <td>0.0</td>\n",
       "      <td>0.0</td>\n",
       "      <td>399132.0</td>\n",
       "      <td>56712.0</td>\n",
       "      <td>229277.0</td>\n",
       "      <td>11326.0</td>\n",
       "      <td>28427.0</td>\n",
       "      <td>2.0</td>\n",
       "      <td>776.83</td>\n",
       "      <td>27.0</td>\n",
       "    </tr>\n",
       "    <tr>\n",
       "      <th>22</th>\n",
       "      <td>Republican</td>\n",
       "      <td>Calhoun</td>\n",
       "      <td>1015.0</td>\n",
       "      <td>3875.4</td>\n",
       "      <td>0.1948</td>\n",
       "      <td>115916.0</td>\n",
       "      <td>118586.0</td>\n",
       "      <td>-2.3</td>\n",
       "      <td>118572.0</td>\n",
       "      <td>5.7</td>\n",
       "      <td>...</td>\n",
       "      <td>0.5</td>\n",
       "      <td>24.7</td>\n",
       "      <td>2679991.0</td>\n",
       "      <td>0.0</td>\n",
       "      <td>1542981.0</td>\n",
       "      <td>13678.0</td>\n",
       "      <td>186533.0</td>\n",
       "      <td>114.0</td>\n",
       "      <td>605.87</td>\n",
       "      <td>195.7</td>\n",
       "    </tr>\n",
       "    <tr>\n",
       "      <th>23</th>\n",
       "      <td>Republican</td>\n",
       "      <td>Chambers</td>\n",
       "      <td>1017.0</td>\n",
       "      <td>888.2</td>\n",
       "      <td>0.1950</td>\n",
       "      <td>34076.0</td>\n",
       "      <td>34170.0</td>\n",
       "      <td>-0.3</td>\n",
       "      <td>34215.0</td>\n",
       "      <td>5.9</td>\n",
       "      <td>...</td>\n",
       "      <td>0.0</td>\n",
       "      <td>29.3</td>\n",
       "      <td>667283.0</td>\n",
       "      <td>0.0</td>\n",
       "      <td>264650.0</td>\n",
       "      <td>7620.0</td>\n",
       "      <td>23237.0</td>\n",
       "      <td>8.0</td>\n",
       "      <td>596.53</td>\n",
       "      <td>57.4</td>\n",
       "    </tr>\n",
       "    <tr>\n",
       "      <th>24</th>\n",
       "      <td>Republican</td>\n",
       "      <td>Cherokee</td>\n",
       "      <td>1019.0</td>\n",
       "      <td>1038.6</td>\n",
       "      <td>0.1948</td>\n",
       "      <td>26037.0</td>\n",
       "      <td>25986.0</td>\n",
       "      <td>0.2</td>\n",
       "      <td>25989.0</td>\n",
       "      <td>4.8</td>\n",
       "      <td>...</td>\n",
       "      <td>0.0</td>\n",
       "      <td>14.5</td>\n",
       "      <td>307439.0</td>\n",
       "      <td>62293.0</td>\n",
       "      <td>186321.0</td>\n",
       "      <td>7613.0</td>\n",
       "      <td>13948.0</td>\n",
       "      <td>2.0</td>\n",
       "      <td>553.70</td>\n",
       "      <td>46.9</td>\n",
       "    </tr>\n",
       "    <tr>\n",
       "      <th>25</th>\n",
       "      <td>Republican</td>\n",
       "      <td>Chilton</td>\n",
       "      <td>1021.0</td>\n",
       "      <td>2080.8</td>\n",
       "      <td>0.1946</td>\n",
       "      <td>43931.0</td>\n",
       "      <td>43631.0</td>\n",
       "      <td>0.7</td>\n",
       "      <td>43643.0</td>\n",
       "      <td>6.4</td>\n",
       "      <td>...</td>\n",
       "      <td>0.0</td>\n",
       "      <td>0.0</td>\n",
       "      <td>0.0</td>\n",
       "      <td>155139.0</td>\n",
       "      <td>359910.0</td>\n",
       "      <td>8496.0</td>\n",
       "      <td>34073.0</td>\n",
       "      <td>78.0</td>\n",
       "      <td>692.85</td>\n",
       "      <td>63.0</td>\n",
       "    </tr>\n",
       "    <tr>\n",
       "      <th>26</th>\n",
       "      <td>Republican</td>\n",
       "      <td>Choctaw</td>\n",
       "      <td>1023.0</td>\n",
       "      <td>414.6</td>\n",
       "      <td>0.1934</td>\n",
       "      <td>13323.0</td>\n",
       "      <td>13858.0</td>\n",
       "      <td>-3.9</td>\n",
       "      <td>13859.0</td>\n",
       "      <td>4.9</td>\n",
       "      <td>...</td>\n",
       "      <td>0.0</td>\n",
       "      <td>44.1</td>\n",
       "      <td>0.0</td>\n",
       "      <td>52904.0</td>\n",
       "      <td>84633.0</td>\n",
       "      <td>5969.0</td>\n",
       "      <td>11345.0</td>\n",
       "      <td>0.0</td>\n",
       "      <td>913.50</td>\n",
       "      <td>15.2</td>\n",
       "    </tr>\n",
       "    <tr>\n",
       "      <th>27</th>\n",
       "      <td>Republican</td>\n",
       "      <td>Clarke</td>\n",
       "      <td>1025.0</td>\n",
       "      <td>906.8</td>\n",
       "      <td>0.1972</td>\n",
       "      <td>24945.0</td>\n",
       "      <td>25840.0</td>\n",
       "      <td>-3.5</td>\n",
       "      <td>25833.0</td>\n",
       "      <td>5.6</td>\n",
       "      <td>...</td>\n",
       "      <td>0.0</td>\n",
       "      <td>28.6</td>\n",
       "      <td>571454.0</td>\n",
       "      <td>85803.0</td>\n",
       "      <td>344311.0</td>\n",
       "      <td>13034.0</td>\n",
       "      <td>23596.0</td>\n",
       "      <td>11.0</td>\n",
       "      <td>1238.47</td>\n",
       "      <td>20.9</td>\n",
       "    </tr>\n",
       "    <tr>\n",
       "      <th>28</th>\n",
       "      <td>Republican</td>\n",
       "      <td>Clay</td>\n",
       "      <td>1027.0</td>\n",
       "      <td>775.6</td>\n",
       "      <td>0.1922</td>\n",
       "      <td>13552.0</td>\n",
       "      <td>13932.0</td>\n",
       "      <td>-2.7</td>\n",
       "      <td>13932.0</td>\n",
       "      <td>5.3</td>\n",
       "      <td>...</td>\n",
       "      <td>0.0</td>\n",
       "      <td>0.0</td>\n",
       "      <td>330878.0</td>\n",
       "      <td>0.0</td>\n",
       "      <td>70558.0</td>\n",
       "      <td>5123.0</td>\n",
       "      <td>4352.0</td>\n",
       "      <td>0.0</td>\n",
       "      <td>603.96</td>\n",
       "      <td>23.1</td>\n",
       "    </tr>\n",
       "  </tbody>\n",
       "</table>\n",
       "<p>29 rows × 56 columns</p>\n",
       "</div>"
      ],
      "text/plain": [
       "         party    county    fips   votes  fraction_votes  PST045214  \\\n",
       "0     Democrat   Autauga  1001.0  1465.5          0.4910    55395.0   \n",
       "1     Democrat   Baldwin  1003.0  3992.0          0.4880   200111.0   \n",
       "2     Democrat   Barbour  1005.0  1394.5          0.4920    26887.0   \n",
       "3     Democrat      Bibb  1007.0   594.0          0.4760    22506.0   \n",
       "4     Democrat    Blount  1009.0   479.5          0.4685    57719.0   \n",
       "5     Democrat   Bullock  1011.0  1314.5          0.4895    10764.0   \n",
       "6     Democrat    Butler  1013.0  1176.0          0.4930    20296.0   \n",
       "7     Democrat   Calhoun  1015.0  3218.0          0.4915   115916.0   \n",
       "8     Democrat  Chambers  1017.0  1605.5          0.4905    34076.0   \n",
       "9     Democrat  Cherokee  1019.0   490.0          0.4550    26037.0   \n",
       "10    Democrat   Chilton  1021.0   574.5          0.4885    43931.0   \n",
       "11    Democrat   Choctaw  1023.0  1022.5          0.4630    13323.0   \n",
       "12    Democrat    Clarke  1025.0  1680.5          0.4965    24945.0   \n",
       "13    Democrat      Clay  1027.0   471.0          0.4775    13552.0   \n",
       "14    Democrat  Cleburne  1029.0   146.5          0.4850    15080.0   \n",
       "15  Republican   Autauga  1001.0  2367.8          0.1958    55395.0   \n",
       "16  Republican   Baldwin  1003.0  9820.0          0.1950   200111.0   \n",
       "17  Republican   Barbour  1005.0   671.4          0.1968    26887.0   \n",
       "18  Republican      Bibb  1007.0   778.2          0.1962    22506.0   \n",
       "19  Republican    Blount  1009.0  2958.2          0.1950    57719.0   \n",
       "20  Republican   Bullock  1011.0   108.2          0.1956    10764.0   \n",
       "21  Republican    Butler  1013.0   628.8          0.1966    20296.0   \n",
       "22  Republican   Calhoun  1015.0  3875.4          0.1948   115916.0   \n",
       "23  Republican  Chambers  1017.0   888.2          0.1950    34076.0   \n",
       "24  Republican  Cherokee  1019.0  1038.6          0.1948    26037.0   \n",
       "25  Republican   Chilton  1021.0  2080.8          0.1946    43931.0   \n",
       "26  Republican   Choctaw  1023.0   414.6          0.1934    13323.0   \n",
       "27  Republican    Clarke  1025.0   906.8          0.1972    24945.0   \n",
       "28  Republican      Clay  1027.0   775.6          0.1922    13552.0   \n",
       "\n",
       "    PST040210  PST120214  POP010210  AGE135214    ...      SBO415207  \\\n",
       "0     54571.0        1.5    54571.0        6.0    ...            0.7   \n",
       "1    182265.0        9.8   182265.0        5.6    ...            1.3   \n",
       "2     27457.0       -2.1    27457.0        5.7    ...            0.0   \n",
       "3     22919.0       -1.8    22915.0        5.3    ...            0.0   \n",
       "4     57322.0        0.7    57322.0        6.1    ...            0.0   \n",
       "5     10915.0       -1.4    10914.0        6.3    ...            0.0   \n",
       "6     20946.0       -3.1    20947.0        6.1    ...            0.0   \n",
       "7    118586.0       -2.3   118572.0        5.7    ...            0.5   \n",
       "8     34170.0       -0.3    34215.0        5.9    ...            0.0   \n",
       "9     25986.0        0.2    25989.0        4.8    ...            0.0   \n",
       "10    43631.0        0.7    43643.0        6.4    ...            0.0   \n",
       "11    13858.0       -3.9    13859.0        4.9    ...            0.0   \n",
       "12    25840.0       -3.5    25833.0        5.6    ...            0.0   \n",
       "13    13932.0       -2.7    13932.0        5.3    ...            0.0   \n",
       "14    14972.0        0.7    14972.0        5.7    ...            0.0   \n",
       "15    54571.0        1.5    54571.0        6.0    ...            0.7   \n",
       "16   182265.0        9.8   182265.0        5.6    ...            1.3   \n",
       "17    27457.0       -2.1    27457.0        5.7    ...            0.0   \n",
       "18    22919.0       -1.8    22915.0        5.3    ...            0.0   \n",
       "19    57322.0        0.7    57322.0        6.1    ...            0.0   \n",
       "20    10915.0       -1.4    10914.0        6.3    ...            0.0   \n",
       "21    20946.0       -3.1    20947.0        6.1    ...            0.0   \n",
       "22   118586.0       -2.3   118572.0        5.7    ...            0.5   \n",
       "23    34170.0       -0.3    34215.0        5.9    ...            0.0   \n",
       "24    25986.0        0.2    25989.0        4.8    ...            0.0   \n",
       "25    43631.0        0.7    43643.0        6.4    ...            0.0   \n",
       "26    13858.0       -3.9    13859.0        4.9    ...            0.0   \n",
       "27    25840.0       -3.5    25833.0        5.6    ...            0.0   \n",
       "28    13932.0       -2.7    13932.0        5.3    ...            0.0   \n",
       "\n",
       "    SBO015207  MAN450207  WTN220207  RTN130207  RTN131207  AFN120207  \\\n",
       "0        31.7        0.0        0.0   598175.0    12003.0    88157.0   \n",
       "1        27.3  1410273.0        0.0  2966489.0    17166.0   436955.0   \n",
       "2        27.0        0.0        0.0   188337.0     6334.0        0.0   \n",
       "3         0.0        0.0        0.0   124707.0     5804.0    10757.0   \n",
       "4        23.2   341544.0        0.0   319700.0     5622.0    20941.0   \n",
       "5        38.8        0.0        0.0    43810.0     3995.0     3670.0   \n",
       "6         0.0   399132.0    56712.0   229277.0    11326.0    28427.0   \n",
       "7        24.7  2679991.0        0.0  1542981.0    13678.0   186533.0   \n",
       "8        29.3   667283.0        0.0   264650.0     7620.0    23237.0   \n",
       "9        14.5   307439.0    62293.0   186321.0     7613.0    13948.0   \n",
       "10        0.0        0.0   155139.0   359910.0     8496.0    34073.0   \n",
       "11       44.1        0.0    52904.0    84633.0     5969.0    11345.0   \n",
       "12       28.6   571454.0    85803.0   344311.0    13034.0    23596.0   \n",
       "13        0.0   330878.0        0.0    70558.0     5123.0     4352.0   \n",
       "14       17.7        0.0     5888.0   133407.0     9080.0     4134.0   \n",
       "15       31.7        0.0        0.0   598175.0    12003.0    88157.0   \n",
       "16       27.3  1410273.0        0.0  2966489.0    17166.0   436955.0   \n",
       "17       27.0        0.0        0.0   188337.0     6334.0        0.0   \n",
       "18        0.0        0.0        0.0   124707.0     5804.0    10757.0   \n",
       "19       23.2   341544.0        0.0   319700.0     5622.0    20941.0   \n",
       "20       38.8        0.0        0.0    43810.0     3995.0     3670.0   \n",
       "21        0.0   399132.0    56712.0   229277.0    11326.0    28427.0   \n",
       "22       24.7  2679991.0        0.0  1542981.0    13678.0   186533.0   \n",
       "23       29.3   667283.0        0.0   264650.0     7620.0    23237.0   \n",
       "24       14.5   307439.0    62293.0   186321.0     7613.0    13948.0   \n",
       "25        0.0        0.0   155139.0   359910.0     8496.0    34073.0   \n",
       "26       44.1        0.0    52904.0    84633.0     5969.0    11345.0   \n",
       "27       28.6   571454.0    85803.0   344311.0    13034.0    23596.0   \n",
       "28        0.0   330878.0        0.0    70558.0     5123.0     4352.0   \n",
       "\n",
       "    BPS030214  LND110210  POP060210  \n",
       "0       131.0     594.44       91.8  \n",
       "1      1384.0    1589.78      114.6  \n",
       "2         8.0     884.88       31.0  \n",
       "3        19.0     622.58       36.8  \n",
       "4         3.0     644.78       88.9  \n",
       "5         1.0     622.81       17.5  \n",
       "6         2.0     776.83       27.0  \n",
       "7       114.0     605.87      195.7  \n",
       "8         8.0     596.53       57.4  \n",
       "9         2.0     553.70       46.9  \n",
       "10       78.0     692.85       63.0  \n",
       "11        0.0     913.50       15.2  \n",
       "12       11.0    1238.47       20.9  \n",
       "13        0.0     603.96       23.1  \n",
       "14        1.0     560.10       26.7  \n",
       "15      131.0     594.44       91.8  \n",
       "16     1384.0    1589.78      114.6  \n",
       "17        8.0     884.88       31.0  \n",
       "18       19.0     622.58       36.8  \n",
       "19        3.0     644.78       88.9  \n",
       "20        1.0     622.81       17.5  \n",
       "21        2.0     776.83       27.0  \n",
       "22      114.0     605.87      195.7  \n",
       "23        8.0     596.53       57.4  \n",
       "24        2.0     553.70       46.9  \n",
       "25       78.0     692.85       63.0  \n",
       "26        0.0     913.50       15.2  \n",
       "27       11.0    1238.47       20.9  \n",
       "28        0.0     603.96       23.1  \n",
       "\n",
       "[29 rows x 56 columns]"
      ]
     },
     "execution_count": 9,
     "metadata": {},
     "output_type": "execute_result"
    }
   ],
   "source": [
    "data[:100].groupby(['party','county'],as_index=False).mean()"
   ]
  },
  {
   "cell_type": "code",
   "execution_count": null,
   "metadata": {
    "collapsed": false
   },
   "outputs": [],
   "source": [
    "data.groupby(['party','county']).apply(mean)"
   ]
  },
  {
   "cell_type": "code",
   "execution_count": 8,
   "metadata": {
    "collapsed": false
   },
   "outputs": [
    {
     "data": {
      "text/plain": [
       "<matplotlib.axes._subplots.AxesSubplot at 0x1064a15d0>"
      ]
     },
     "execution_count": 8,
     "metadata": {},
     "output_type": "execute_result"
    },
    {
     "data": {
      "image/png": "[encoded data removed]",
      "text/plain": [
       "<matplotlib.figure.Figure at 0x10648e990>"
      ]
     },
     "metadata": {},
     "output_type": "display_data"
    }
   ],
   "source": [
    "data[\"Total Population\"].hist()"
   ]
  },
  {
   "cell_type": "code",
   "execution_count": 9,
   "metadata": {
    "collapsed": false
   },
   "outputs": [
    {
     "data": {
      "text/plain": [
       "33241.341692789967"
      ]
     },
     "execution_count": 9,
     "metadata": {},
     "output_type": "execute_result"
    }
   ],
   "source": [
    "data[\"Total Population\"].mean()"
   ]
  },
  {
   "cell_type": "code",
   "execution_count": 18,
   "metadata": {
    "collapsed": true
   },
   "outputs": [],
   "source": [
    "population_of_interest=['Total Males','Total Females']"
   ]
  },
  {
   "cell_type": "code",
   "execution_count": 30,
   "metadata": {
    "collapsed": false
   },
   "outputs": [
    {
     "data": {
      "text/plain": [
       "Total Males      0.493108\n",
       "Total Females    0.506892\n",
       "dtype: float64"
      ]
     },
     "execution_count": 30,
     "metadata": {},
     "output_type": "execute_result"
    }
   ],
   "source": [
    "subset_data = data.mean()[population_of_interest]\n",
    "subset_data/sum(subset_data)"
   ]
  },
  {
   "cell_type": "code",
   "execution_count": 21,
   "metadata": {
    "collapsed": false
   },
   "outputs": [],
   "source": [
    "subset_data = data[data[\"Total Population\"]>30000].mean()[population_of_interest]"
   ]
  },
  {
   "cell_type": "code",
   "execution_count": 24,
   "metadata": {
    "collapsed": false
   },
   "outputs": [
    {
     "data": {
      "text/plain": [
       "Total Males      0.492847\n",
       "Total Females    0.507153\n",
       "dtype: float64"
      ]
     },
     "execution_count": 24,
     "metadata": {},
     "output_type": "execute_result"
    }
   ],
   "source": [
    "subset_data/sum(subset_data)"
   ]
  },
  {
   "cell_type": "code",
   "execution_count": 35,
   "metadata": {
    "collapsed": false
   },
   "outputs": [
    {
     "data": {
      "text/plain": [
       "<matplotlib.axes._subplots.AxesSubplot at 0x10671ad90>"
      ]
     },
     "execution_count": 35,
     "metadata": {},
     "output_type": "execute_result"
    },
    {
     "data": {
      "image/png": "[encoded data removed]",
      "text/plain": [
       "<matplotlib.figure.Figure at 0x1065963d0>"
      ]
     },
     "metadata": {},
     "output_type": "display_data"
    }
   ],
   "source": [
    "data[\"Median Age\"].hist()"
   ]
  },
  {
   "cell_type": "code",
   "execution_count": 75,
   "metadata": {
    "collapsed": false
   },
   "outputs": [
    {
     "data": {
      "text/plain": [
       "Total Males      0.324841\n",
       "Total Females    0.675159\n",
       "dtype: float64"
      ]
     },
     "execution_count": 75,
     "metadata": {},
     "output_type": "execute_result"
    }
   ],
   "source": [
    "subset_data = data[data[\"Median Age\"]>70].mean()[population_of_interest]\n",
    "subset_data/sum(subset_data)"
   ]
  },
  {
   "cell_type": "code",
   "execution_count": 42,
   "metadata": {
    "collapsed": false
   },
   "outputs": [
    {
     "data": {
      "text/plain": [
       "Total Males      0.49311\n",
       "Total Females    0.50689\n",
       "dtype: float64"
      ]
     },
     "execution_count": 42,
     "metadata": {},
     "output_type": "execute_result"
    }
   ],
   "source": [
    "subset_data = data[data[\"Median Age\"]<70].mean()[population_of_interest]\n",
    "subset_data/sum(subset_data)"
   ]
  },
  {
   "cell_type": "code",
   "execution_count": 107,
   "metadata": {
    "collapsed": false
   },
   "outputs": [
    {
     "data": {
      "text/plain": [
       "Total Males      0.492847\n",
       "Total Females    0.507153\n",
       "dtype: float64"
      ]
     },
     "execution_count": 107,
     "metadata": {},
     "output_type": "execute_result"
    }
   ],
   "source": [
    "subset_data = data[data[\"Total Population\"]>30000].mean()[population_of_interest]\n",
    "subset_data/sum(subset_data)"
   ]
  },
  {
   "cell_type": "code",
   "execution_count": 98,
   "metadata": {
    "collapsed": false
   },
   "outputs": [
    {
     "data": {
      "text/plain": [
       "Total Males      0.454708\n",
       "Total Females    0.545292\n",
       "dtype: float64"
      ]
     },
     "execution_count": 98,
     "metadata": {},
     "output_type": "execute_result"
    }
   ],
   "source": [
    "subset_data = data[data[\"Median Age\"]>50].mean()[population_of_interest]\n",
    "subset_data/sum(subset_data)"
   ]
  },
  {
   "cell_type": "code",
   "execution_count": 100,
   "metadata": {
    "collapsed": false
   },
   "outputs": [
    {
     "data": {
      "text/plain": [
       "Total Males      0.454708\n",
       "Total Females    0.545292\n",
       "dtype: float64"
      ]
     },
     "execution_count": 100,
     "metadata": {},
     "output_type": "execute_result"
    }
   ],
   "source": [
    "subset_data = data[(data[\"Median Age\"]>50)&(data[\"Total Population\"]<30000)].mean()[population_of_interest]\n",
    "subset_data/sum(subset_data)"
   ]
  },
  {
   "cell_type": "code",
   "execution_count": 92,
   "metadata": {
    "collapsed": false
   },
   "outputs": [
    {
     "data": {
      "text/html": [
       "<div>\n",
       "<style>\n",
       "    .dataframe thead tr:only-child th {\n",
       "        text-align: right;\n",
       "    }\n",
       "\n",
       "    .dataframe thead th {\n",
       "        text-align: left;\n",
       "    }\n",
       "\n",
       "    .dataframe tbody tr th {\n",
       "        vertical-align: top;\n",
       "    }\n",
       "</style>\n",
       "<table border=\"1\" class=\"dataframe\">\n",
       "  <thead>\n",
       "    <tr style=\"text-align: right;\">\n",
       "      <th></th>\n",
       "      <th>Zip Code</th>\n",
       "      <th>Total Population</th>\n",
       "      <th>Median Age</th>\n",
       "      <th>Total Males</th>\n",
       "      <th>Total Females</th>\n",
       "      <th>Total Households</th>\n",
       "      <th>Average Household Size</th>\n",
       "    </tr>\n",
       "  </thead>\n",
       "  <tbody>\n",
       "    <tr>\n",
       "      <th>0</th>\n",
       "      <td>True</td>\n",
       "      <td>True</td>\n",
       "      <td>True</td>\n",
       "      <td>True</td>\n",
       "      <td>True</td>\n",
       "      <td>True</td>\n",
       "      <td>True</td>\n",
       "    </tr>\n",
       "    <tr>\n",
       "      <th>58</th>\n",
       "      <td>True</td>\n",
       "      <td>True</td>\n",
       "      <td>True</td>\n",
       "      <td>True</td>\n",
       "      <td>True</td>\n",
       "      <td>True</td>\n",
       "      <td>True</td>\n",
       "    </tr>\n",
       "    <tr>\n",
       "      <th>62</th>\n",
       "      <td>True</td>\n",
       "      <td>True</td>\n",
       "      <td>True</td>\n",
       "      <td>True</td>\n",
       "      <td>True</td>\n",
       "      <td>True</td>\n",
       "      <td>True</td>\n",
       "    </tr>\n",
       "    <tr>\n",
       "      <th>68</th>\n",
       "      <td>True</td>\n",
       "      <td>True</td>\n",
       "      <td>True</td>\n",
       "      <td>True</td>\n",
       "      <td>True</td>\n",
       "      <td>True</td>\n",
       "      <td>True</td>\n",
       "    </tr>\n",
       "    <tr>\n",
       "      <th>149</th>\n",
       "      <td>True</td>\n",
       "      <td>True</td>\n",
       "      <td>True</td>\n",
       "      <td>True</td>\n",
       "      <td>True</td>\n",
       "      <td>True</td>\n",
       "      <td>True</td>\n",
       "    </tr>\n",
       "    <tr>\n",
       "      <th>166</th>\n",
       "      <td>True</td>\n",
       "      <td>True</td>\n",
       "      <td>True</td>\n",
       "      <td>True</td>\n",
       "      <td>True</td>\n",
       "      <td>True</td>\n",
       "      <td>True</td>\n",
       "    </tr>\n",
       "    <tr>\n",
       "      <th>171</th>\n",
       "      <td>True</td>\n",
       "      <td>True</td>\n",
       "      <td>True</td>\n",
       "      <td>True</td>\n",
       "      <td>True</td>\n",
       "      <td>True</td>\n",
       "      <td>True</td>\n",
       "    </tr>\n",
       "    <tr>\n",
       "      <th>180</th>\n",
       "      <td>True</td>\n",
       "      <td>True</td>\n",
       "      <td>True</td>\n",
       "      <td>True</td>\n",
       "      <td>True</td>\n",
       "      <td>True</td>\n",
       "      <td>True</td>\n",
       "    </tr>\n",
       "    <tr>\n",
       "      <th>311</th>\n",
       "      <td>True</td>\n",
       "      <td>True</td>\n",
       "      <td>True</td>\n",
       "      <td>True</td>\n",
       "      <td>True</td>\n",
       "      <td>True</td>\n",
       "      <td>True</td>\n",
       "    </tr>\n",
       "  </tbody>\n",
       "</table>\n",
       "</div>"
      ],
      "text/plain": [
       "     Zip Code  Total Population  Median Age  Total Males  Total Females  \\\n",
       "0        True              True        True         True           True   \n",
       "58       True              True        True         True           True   \n",
       "62       True              True        True         True           True   \n",
       "68       True              True        True         True           True   \n",
       "149      True              True        True         True           True   \n",
       "166      True              True        True         True           True   \n",
       "171      True              True        True         True           True   \n",
       "180      True              True        True         True           True   \n",
       "311      True              True        True         True           True   \n",
       "\n",
       "     Total Households  Average Household Size  \n",
       "0                True                    True  \n",
       "58               True                    True  \n",
       "62               True                    True  \n",
       "68               True                    True  \n",
       "149              True                    True  \n",
       "166              True                    True  \n",
       "171              True                    True  \n",
       "180              True                    True  \n",
       "311              True                    True  "
      ]
     },
     "execution_count": 92,
     "metadata": {},
     "output_type": "execute_result"
    }
   ],
   "source": [
    "data[(data[\"Median Age\"]>50)&(data[\"Total Population\"]<30000)] ==data[(data[\"Median Age\"]>50)]"
   ]
  },
  {
   "cell_type": "code",
   "execution_count": 103,
   "metadata": {
    "collapsed": false
   },
   "outputs": [
    {
     "data": {
      "text/plain": [
       "Total Males      0.324841\n",
       "Total Females    0.675159\n",
       "dtype: float64"
      ]
     },
     "execution_count": 103,
     "metadata": {},
     "output_type": "execute_result"
    }
   ],
   "source": [
    "subset_data = data[(data[\"Median Age\"]>70)&(data[\"Total Population\"]<30000)].mean()[population_of_interest]\n",
    "subset_data/sum(subset_data)"
   ]
  },
  {
   "cell_type": "code",
   "execution_count": 110,
   "metadata": {
    "collapsed": false
   },
   "outputs": [
    {
     "data": {
      "text/plain": [
       "Total Males     NaN\n",
       "Total Females   NaN\n",
       "dtype: float64"
      ]
     },
     "execution_count": 110,
     "metadata": {},
     "output_type": "execute_result"
    }
   ],
   "source": [
    "subset_data = data[(data[\"Median Age\"]>50)&(data[\"Total Population\"]>30000)].mean()[population_of_interest]\n",
    "subset_data/sum(subset_data)"
   ]
  },
  {
   "cell_type": "code",
   "execution_count": 109,
   "metadata": {
    "collapsed": false
   },
   "outputs": [
    {
     "data": {
      "text/plain": [
       "Total Males      0.494454\n",
       "Total Females    0.505546\n",
       "dtype: float64"
      ]
     },
     "execution_count": 109,
     "metadata": {},
     "output_type": "execute_result"
    }
   ],
   "source": [
    "subset_data = data[(data[\"Median Age\"]<50)&(data[\"Total Population\"]<30000)].mean()[population_of_interest]\n",
    "subset_data/sum(subset_data)"
   ]
  },
  {
   "cell_type": "code",
   "execution_count": 113,
   "metadata": {
    "collapsed": false
   },
   "outputs": [
    {
     "data": {
      "text/plain": [
       "Total Males      0.492847\n",
       "Total Females    0.507153\n",
       "dtype: float64"
      ]
     },
     "execution_count": 113,
     "metadata": {},
     "output_type": "execute_result"
    }
   ],
   "source": [
    "subset_data = data[(data[\"Median Age\"]<50)&(data[\"Total Population\"]>30000)].mean()[population_of_interest]\n",
    "subset_data/sum(subset_data)"
   ]
  },
  {
   "cell_type": "code",
   "execution_count": null,
   "metadata": {
    "collapsed": true
   },
   "outputs": [],
   "source": [
    "4"
   ]
  }
 ],
 "metadata": {
  "kernelspec": {
   "display_name": "Python 2",
   "language": "python",
   "name": "python2"
  },
  "language_info": {
   "codemirror_mode": {
    "name": "ipython",
    "version": 2
   },
   "file_extension": ".py",
   "mimetype": "text/x-python",
   "name": "python",
   "nbconvert_exporter": "python",
   "pygments_lexer": "ipython2",
   "version": "2.7.10"
  }
 },
 "nbformat": 4,
 "nbformat_minor": 0
}
