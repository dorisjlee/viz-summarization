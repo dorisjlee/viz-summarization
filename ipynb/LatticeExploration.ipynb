{
 "cells": [
  {
   "cell_type": "code",
   "execution_count": 1,
   "metadata": {
    "collapsed": false
   },
   "outputs": [
    {
     "name": "stdout",
     "output_type": "stream",
     "text": [
      "Populating the interactive namespace from numpy and matplotlib\n"
     ]
    }
   ],
   "source": [
    "%pylab inline\n",
    "import pandas as pd \n",
    "data = pd.read_csv(\"turn_cheetah_query_log_for_uiuc_v1.csv\")"
   ]
  },
  {
   "cell_type": "code",
   "execution_count": 2,
   "metadata": {
    "collapsed": false
   },
   "outputs": [
    {
     "data": {
      "text/html": [
       "<div>\n",
       "<table border=\"1\" class=\"dataframe\">\n",
       "  <thead>\n",
       "    <tr style=\"text-align: right;\">\n",
       "      <th></th>\n",
       "      <th>JOB_ID</th>\n",
       "      <th>USER_COMPANY_ID</th>\n",
       "      <th>BENEFICIARY_COMPANY_ID</th>\n",
       "      <th>WINDOW_START_TIME</th>\n",
       "      <th>WINDOW_END_TIME</th>\n",
       "      <th>SUBMISSION_TIME</th>\n",
       "      <th>START_TIME</th>\n",
       "      <th>FINISH_TIME</th>\n",
       "      <th>IS_SUCCESSFUL</th>\n",
       "      <th>IS_MULTI_QUERY</th>\n",
       "      <th>...</th>\n",
       "      <th>HDFS_BYTES_WRITTEN</th>\n",
       "      <th>TOTAL_LAUNCHED_MAPS</th>\n",
       "      <th>TOTAL_LAUNCHED_REDUCES</th>\n",
       "      <th>MAP_INPUT_RECORDS</th>\n",
       "      <th>MAP_OUTPUT_RECORDS</th>\n",
       "      <th>REDUCE_INPUT_RECORDS</th>\n",
       "      <th>REDUCE_INPUT_GROUPS</th>\n",
       "      <th>REDUCE_OUTPUT_RECORDS</th>\n",
       "      <th>SLOTS_MILLIS_MAPS</th>\n",
       "      <th>SLOTS_MILLIS_REDUCES</th>\n",
       "    </tr>\n",
       "  </thead>\n",
       "  <tbody>\n",
       "    <tr>\n",
       "      <th>0</th>\n",
       "      <td>job-3432142755</td>\n",
       "      <td>company-2342552567</td>\n",
       "      <td>company-1554488253</td>\n",
       "      <td>1998_01_15 05:00:00</td>\n",
       "      <td>1998_04_04 04:59:59</td>\n",
       "      <td>1998_04_04 04:55:39</td>\n",
       "      <td>1998_04_04 07:19:20</td>\n",
       "      <td>1998_04_04 07:20:42</td>\n",
       "      <td>1</td>\n",
       "      <td>0</td>\n",
       "      <td>...</td>\n",
       "      <td>587309</td>\n",
       "      <td>1621</td>\n",
       "      <td>32</td>\n",
       "      <td>68201013</td>\n",
       "      <td>11281</td>\n",
       "      <td>8649</td>\n",
       "      <td>4367</td>\n",
       "      <td>4367</td>\n",
       "      <td>15713603</td>\n",
       "      <td>646243</td>\n",
       "    </tr>\n",
       "    <tr>\n",
       "      <th>1</th>\n",
       "      <td>job-3698996308</td>\n",
       "      <td>company-2342552567</td>\n",
       "      <td>company-1554488253</td>\n",
       "      <td>1998_03_27 05:00:00</td>\n",
       "      <td>1998_04_04 04:59:59</td>\n",
       "      <td>1998_04_04 04:56:16</td>\n",
       "      <td>1998_04_04 07:22:21</td>\n",
       "      <td>1998_04_04 07:24:51</td>\n",
       "      <td>1</td>\n",
       "      <td>0</td>\n",
       "      <td>...</td>\n",
       "      <td>25056</td>\n",
       "      <td>3960</td>\n",
       "      <td>9</td>\n",
       "      <td>883757542</td>\n",
       "      <td>198710</td>\n",
       "      <td>198710</td>\n",
       "      <td>457</td>\n",
       "      <td>457</td>\n",
       "      <td>48298333</td>\n",
       "      <td>190295</td>\n",
       "    </tr>\n",
       "    <tr>\n",
       "      <th>2</th>\n",
       "      <td>job-280950780</td>\n",
       "      <td>company-2342552567</td>\n",
       "      <td>company-1662668658</td>\n",
       "      <td>1998_02_08 05:00:00</td>\n",
       "      <td>1998_04_04 04:59:59</td>\n",
       "      <td>1998_04_04 05:41:10</td>\n",
       "      <td>1998_04_04 07:43:57</td>\n",
       "      <td>1998_04_04 07:45:11</td>\n",
       "      <td>1</td>\n",
       "      <td>0</td>\n",
       "      <td>...</td>\n",
       "      <td>11073633</td>\n",
       "      <td>1453</td>\n",
       "      <td>31</td>\n",
       "      <td>11809839</td>\n",
       "      <td>135028</td>\n",
       "      <td>79339</td>\n",
       "      <td>34138</td>\n",
       "      <td>34138</td>\n",
       "      <td>13158307</td>\n",
       "      <td>559258</td>\n",
       "    </tr>\n",
       "    <tr>\n",
       "      <th>3</th>\n",
       "      <td>job-909565294</td>\n",
       "      <td>company-2342552567</td>\n",
       "      <td>company-186432602</td>\n",
       "      <td>1997_10_07 04:00:00</td>\n",
       "      <td>1998_04_03 04:59:59</td>\n",
       "      <td>1998_04_04 05:41:20</td>\n",
       "      <td>1998_04_04 18:35:29</td>\n",
       "      <td>1998_04_04 18:58:45</td>\n",
       "      <td>1</td>\n",
       "      <td>0</td>\n",
       "      <td>...</td>\n",
       "      <td>997</td>\n",
       "      <td>18956</td>\n",
       "      <td>10</td>\n",
       "      <td>11634594931</td>\n",
       "      <td>8280</td>\n",
       "      <td>8280</td>\n",
       "      <td>2</td>\n",
       "      <td>2</td>\n",
       "      <td>239394231</td>\n",
       "      <td>1062991</td>\n",
       "    </tr>\n",
       "    <tr>\n",
       "      <th>4</th>\n",
       "      <td>job-246208440</td>\n",
       "      <td>company-2342552567</td>\n",
       "      <td>company-186432602</td>\n",
       "      <td>1998_03_01 05:00:00</td>\n",
       "      <td>1998_04_01 04:59:59</td>\n",
       "      <td>1998_04_04 05:41:26</td>\n",
       "      <td>1998_04_04 18:36:05</td>\n",
       "      <td>1998_04_04 18:46:50</td>\n",
       "      <td>1</td>\n",
       "      <td>0</td>\n",
       "      <td>...</td>\n",
       "      <td>997</td>\n",
       "      <td>4147</td>\n",
       "      <td>10</td>\n",
       "      <td>6980591912</td>\n",
       "      <td>8280</td>\n",
       "      <td>8280</td>\n",
       "      <td>2</td>\n",
       "      <td>2</td>\n",
       "      <td>107177437</td>\n",
       "      <td>292714</td>\n",
       "    </tr>\n",
       "  </tbody>\n",
       "</table>\n",
       "<p>5 rows × 56 columns</p>\n",
       "</div>"
      ],
      "text/plain": [
       "           JOB_ID     USER_COMPANY_ID BENEFICIARY_COMPANY_ID  \\\n",
       "0  job-3432142755  company-2342552567     company-1554488253   \n",
       "1  job-3698996308  company-2342552567     company-1554488253   \n",
       "2   job-280950780  company-2342552567     company-1662668658   \n",
       "3   job-909565294  company-2342552567      company-186432602   \n",
       "4   job-246208440  company-2342552567      company-186432602   \n",
       "\n",
       "     WINDOW_START_TIME      WINDOW_END_TIME      SUBMISSION_TIME  \\\n",
       "0  1998_01_15 05:00:00  1998_04_04 04:59:59  1998_04_04 04:55:39   \n",
       "1  1998_03_27 05:00:00  1998_04_04 04:59:59  1998_04_04 04:56:16   \n",
       "2  1998_02_08 05:00:00  1998_04_04 04:59:59  1998_04_04 05:41:10   \n",
       "3  1997_10_07 04:00:00  1998_04_03 04:59:59  1998_04_04 05:41:20   \n",
       "4  1998_03_01 05:00:00  1998_04_01 04:59:59  1998_04_04 05:41:26   \n",
       "\n",
       "            START_TIME          FINISH_TIME  IS_SUCCESSFUL  IS_MULTI_QUERY  \\\n",
       "0  1998_04_04 07:19:20  1998_04_04 07:20:42              1               0   \n",
       "1  1998_04_04 07:22:21  1998_04_04 07:24:51              1               0   \n",
       "2  1998_04_04 07:43:57  1998_04_04 07:45:11              1               0   \n",
       "3  1998_04_04 18:35:29  1998_04_04 18:58:45              1               0   \n",
       "4  1998_04_04 18:36:05  1998_04_04 18:46:50              1               0   \n",
       "\n",
       "           ...           HDFS_BYTES_WRITTEN  TOTAL_LAUNCHED_MAPS  \\\n",
       "0          ...                       587309                 1621   \n",
       "1          ...                        25056                 3960   \n",
       "2          ...                     11073633                 1453   \n",
       "3          ...                          997                18956   \n",
       "4          ...                          997                 4147   \n",
       "\n",
       "   TOTAL_LAUNCHED_REDUCES  MAP_INPUT_RECORDS  MAP_OUTPUT_RECORDS  \\\n",
       "0                      32           68201013               11281   \n",
       "1                       9          883757542              198710   \n",
       "2                      31           11809839              135028   \n",
       "3                      10        11634594931                8280   \n",
       "4                      10         6980591912                8280   \n",
       "\n",
       "   REDUCE_INPUT_RECORDS  REDUCE_INPUT_GROUPS  REDUCE_OUTPUT_RECORDS  \\\n",
       "0                  8649                 4367                   4367   \n",
       "1                198710                  457                    457   \n",
       "2                 79339                34138                  34138   \n",
       "3                  8280                    2                      2   \n",
       "4                  8280                    2                      2   \n",
       "\n",
       "   SLOTS_MILLIS_MAPS  SLOTS_MILLIS_REDUCES  \n",
       "0           15713603                646243  \n",
       "1           48298333                190295  \n",
       "2           13158307                559258  \n",
       "3          239394231               1062991  \n",
       "4          107177437                292714  \n",
       "\n",
       "[5 rows x 56 columns]"
      ]
     },
     "execution_count": 2,
     "metadata": {},
     "output_type": "execute_result"
    }
   ],
   "source": [
    "data.head()"
   ]
  },
  {
   "cell_type": "code",
   "execution_count": 3,
   "metadata": {
    "collapsed": false
   },
   "outputs": [
    {
     "data": {
      "text/html": [
       "<div>\n",
       "<table border=\"1\" class=\"dataframe\">\n",
       "  <thead>\n",
       "    <tr style=\"text-align: right;\">\n",
       "      <th></th>\n",
       "      <th>HAS_LIST_MAX_RANGE_FN</th>\n",
       "      <th>HAS_LIST_MIN_RANGE_FN</th>\n",
       "      <th>HAS_WHERE_CLAUSE</th>\n",
       "      <th>HAS_HAVING_CLAUSE</th>\n",
       "      <th>HAS_ORDER_BY_CLAUSE</th>\n",
       "      <th>HDFS_BYTES_READ</th>\n",
       "      <th>HDFS_BYTES_WRITTEN</th>\n",
       "      <th>TOTAL_LAUNCHED_MAPS</th>\n",
       "      <th>TOTAL_LAUNCHED_REDUCES</th>\n",
       "      <th>MAP_INPUT_RECORDS</th>\n",
       "      <th>MAP_OUTPUT_RECORDS</th>\n",
       "      <th>REDUCE_INPUT_RECORDS</th>\n",
       "      <th>REDUCE_INPUT_GROUPS</th>\n",
       "      <th>REDUCE_OUTPUT_RECORDS</th>\n",
       "      <th>SLOTS_MILLIS_MAPS</th>\n",
       "      <th>SLOTS_MILLIS_REDUCES</th>\n",
       "    </tr>\n",
       "  </thead>\n",
       "  <tbody>\n",
       "    <tr>\n",
       "      <th>0</th>\n",
       "      <td>0</td>\n",
       "      <td>0</td>\n",
       "      <td>1</td>\n",
       "      <td>0</td>\n",
       "      <td>0</td>\n",
       "      <td>2.270191e+11</td>\n",
       "      <td>587309</td>\n",
       "      <td>1621</td>\n",
       "      <td>32</td>\n",
       "      <td>68201013</td>\n",
       "      <td>11281</td>\n",
       "      <td>8649</td>\n",
       "      <td>4367</td>\n",
       "      <td>4367</td>\n",
       "      <td>15713603</td>\n",
       "      <td>646243</td>\n",
       "    </tr>\n",
       "    <tr>\n",
       "      <th>1</th>\n",
       "      <td>0</td>\n",
       "      <td>0</td>\n",
       "      <td>1</td>\n",
       "      <td>0</td>\n",
       "      <td>0</td>\n",
       "      <td>1.243766e+12</td>\n",
       "      <td>25056</td>\n",
       "      <td>3960</td>\n",
       "      <td>9</td>\n",
       "      <td>883757542</td>\n",
       "      <td>198710</td>\n",
       "      <td>198710</td>\n",
       "      <td>457</td>\n",
       "      <td>457</td>\n",
       "      <td>48298333</td>\n",
       "      <td>190295</td>\n",
       "    </tr>\n",
       "    <tr>\n",
       "      <th>2</th>\n",
       "      <td>0</td>\n",
       "      <td>0</td>\n",
       "      <td>1</td>\n",
       "      <td>0</td>\n",
       "      <td>0</td>\n",
       "      <td>1.834767e+11</td>\n",
       "      <td>11073633</td>\n",
       "      <td>1453</td>\n",
       "      <td>31</td>\n",
       "      <td>11809839</td>\n",
       "      <td>135028</td>\n",
       "      <td>79339</td>\n",
       "      <td>34138</td>\n",
       "      <td>34138</td>\n",
       "      <td>13158307</td>\n",
       "      <td>559258</td>\n",
       "    </tr>\n",
       "    <tr>\n",
       "      <th>3</th>\n",
       "      <td>0</td>\n",
       "      <td>0</td>\n",
       "      <td>1</td>\n",
       "      <td>0</td>\n",
       "      <td>0</td>\n",
       "      <td>1.762003e+12</td>\n",
       "      <td>997</td>\n",
       "      <td>18956</td>\n",
       "      <td>10</td>\n",
       "      <td>11634594931</td>\n",
       "      <td>8280</td>\n",
       "      <td>8280</td>\n",
       "      <td>2</td>\n",
       "      <td>2</td>\n",
       "      <td>239394231</td>\n",
       "      <td>1062991</td>\n",
       "    </tr>\n",
       "    <tr>\n",
       "      <th>4</th>\n",
       "      <td>0</td>\n",
       "      <td>0</td>\n",
       "      <td>1</td>\n",
       "      <td>0</td>\n",
       "      <td>0</td>\n",
       "      <td>9.366595e+11</td>\n",
       "      <td>997</td>\n",
       "      <td>4147</td>\n",
       "      <td>10</td>\n",
       "      <td>6980591912</td>\n",
       "      <td>8280</td>\n",
       "      <td>8280</td>\n",
       "      <td>2</td>\n",
       "      <td>2</td>\n",
       "      <td>107177437</td>\n",
       "      <td>292714</td>\n",
       "    </tr>\n",
       "  </tbody>\n",
       "</table>\n",
       "</div>"
      ],
      "text/plain": [
       "   HAS_LIST_MAX_RANGE_FN  HAS_LIST_MIN_RANGE_FN  HAS_WHERE_CLAUSE  \\\n",
       "0                      0                      0                 1   \n",
       "1                      0                      0                 1   \n",
       "2                      0                      0                 1   \n",
       "3                      0                      0                 1   \n",
       "4                      0                      0                 1   \n",
       "\n",
       "   HAS_HAVING_CLAUSE  HAS_ORDER_BY_CLAUSE  HDFS_BYTES_READ  \\\n",
       "0                  0                    0     2.270191e+11   \n",
       "1                  0                    0     1.243766e+12   \n",
       "2                  0                    0     1.834767e+11   \n",
       "3                  0                    0     1.762003e+12   \n",
       "4                  0                    0     9.366595e+11   \n",
       "\n",
       "   HDFS_BYTES_WRITTEN  TOTAL_LAUNCHED_MAPS  TOTAL_LAUNCHED_REDUCES  \\\n",
       "0              587309                 1621                      32   \n",
       "1               25056                 3960                       9   \n",
       "2            11073633                 1453                      31   \n",
       "3                 997                18956                      10   \n",
       "4                 997                 4147                      10   \n",
       "\n",
       "   MAP_INPUT_RECORDS  MAP_OUTPUT_RECORDS  REDUCE_INPUT_RECORDS  \\\n",
       "0           68201013               11281                  8649   \n",
       "1          883757542              198710                198710   \n",
       "2           11809839              135028                 79339   \n",
       "3        11634594931                8280                  8280   \n",
       "4         6980591912                8280                  8280   \n",
       "\n",
       "   REDUCE_INPUT_GROUPS  REDUCE_OUTPUT_RECORDS  SLOTS_MILLIS_MAPS  \\\n",
       "0                 4367                   4367           15713603   \n",
       "1                  457                    457           48298333   \n",
       "2                34138                  34138           13158307   \n",
       "3                    2                      2          239394231   \n",
       "4                    2                      2          107177437   \n",
       "\n",
       "   SLOTS_MILLIS_REDUCES  \n",
       "0                646243  \n",
       "1                190295  \n",
       "2                559258  \n",
       "3               1062991  \n",
       "4                292714  "
      ]
     },
     "execution_count": 3,
     "metadata": {},
     "output_type": "execute_result"
    }
   ],
   "source": [
    "data[data.keys()[40:]].head()"
   ]
  },
  {
   "cell_type": "code",
   "execution_count": 147,
   "metadata": {
    "collapsed": false
   },
   "outputs": [],
   "source": [
    "dimensions=[] #dimensions of interest = COUNT\n",
    "subpopulations_attrs=['IS_SUCCESSFUL','IS_MULTI_QUERY','IS_PROFILE_QUERY']#,'IS_EVENT_QUERY']\n",
    "\n",
    "groupings = []\n",
    "initial_subpopulation = ['IS_SUCCESSFUL']"
   ]
  },
  {
   "cell_type": "code",
   "execution_count": 148,
   "metadata": {
    "collapsed": false
   },
   "outputs": [],
   "source": [
    "subpopulations={}\n",
    "for attr in subpopulations_attrs:\n",
    "    subpopulations[attr]=list(set(data[attr]))"
   ]
  },
  {
   "cell_type": "code",
   "execution_count": 183,
   "metadata": {
    "collapsed": true
   },
   "outputs": [],
   "source": [
    "def bar(data,constraints):\n",
    "    '''\n",
    "    Given data subpopulation and constraint on subpopulation (e.g. C=c1),\n",
    "    visualize barchart of all potential data attributes\n",
    "    '''\n",
    "    bool_constraints=1\n",
    "    for constraint in constraints.iteritems():\n",
    "        constraint_attr = constraint[0]\n",
    "        constraint_val = constraint[1]\n",
    "        bool_constraints=(bool_constraints)&(data[constraint_attr]==constraint_val)\n",
    "    return data[bool_constraints].sum()[0]"
   ]
  },
  {
   "cell_type": "code",
   "execution_count": 184,
   "metadata": {
    "collapsed": false
   },
   "outputs": [
    {
     "data": {
      "text/plain": [
       "JOB_ID                            job-3221914619job-1663558432job-1339868872job-...\n",
       "USER_COMPANY_ID                   company-3082026826company-2342552567company-23...\n",
       "BENEFICIARY_COMPANY_ID            company-3082026826company-1554488253company-15...\n",
       "WINDOW_START_TIME                 1997_04_30 16:00:001998_05_08 05:00:001998_05_...\n",
       "WINDOW_END_TIME                   1998_04_07 15:59:591998_05_15 04:59:591998_05_...\n",
       "SUBMISSION_TIME                   1998_04_08 12:47:081998_05_16 05:36:551998_05_...\n",
       "START_TIME                        1998_04_08 12:49:081998_05_16 06:00:481998_05_...\n",
       "FINISH_TIME                       1998_04_08 12:49:511998_05_16 06:02:031998_05_...\n",
       "IS_SUCCESSFUL                                                                     0\n",
       "IS_MULTI_QUERY                                                                    0\n",
       "IS_PROFILE_QUERY                                                                281\n",
       "IS_EVENT_QUERY                                                                  112\n",
       "HAS_IMPRESSIONS_TBL                                                              96\n",
       "HAS_CLICKS_TBL                                                                   74\n",
       "HAS_ACTIONS_TBL                                                                  63\n",
       "HAS_RTBIDS_TBL                                                                   16\n",
       "HAS_ENGAGEMENT_EVNETS_TBL                                                         2\n",
       "HAS_VIEWABILITY_TBL                                                               2\n",
       "HAS_PROF_IMPRESSIONS_TBL                                                        124\n",
       "HAS_PROF_CLICKS_TBL                                                              68\n",
       "HAS_PROF_ACTIONS_TBL                                                             49\n",
       "HAS_PROF_RTBIDS_TBL                                                               2\n",
       "HAS_PROF_ENGAGEMENT_EVENTS_TBL                                                   11\n",
       "HAS_PROF_DATA_TBL                                                               201\n",
       "HAS_PROF_PROVIDER_USER_IDS_TBL                                                   16\n",
       "HAS_PROF_CONTAINER_TAGS_TBL                                                       0\n",
       "HAS_PROF_SEGMENTS_TBL                                                            33\n",
       "HAS_PROF_VIEWABILITY_TBL                                                          0\n",
       "HAS_DISTINCT                                                                    218\n",
       "HAS_COUNT_DISTINCT                                                              165\n",
       "HAS_SUM_DISTINCT                                                                123\n",
       "HAS_EST_DISTINCT                                                                 12\n",
       "HAS_LIST_FN                                                                     170\n",
       "HAS_CORR_LIST_FN                                                                 43\n",
       "HAS_LIST_HAS_FN                                                                 138\n",
       "HAS_LIST_COUNT_FN                                                                38\n",
       "HAS_LIST_SUM_FN                                                                   3\n",
       "HAS_LIST_MIN_FN                                                                  23\n",
       "HAS_LIST_MAX_FN                                                                   1\n",
       "HAS_LIST_SUM_RANGE_FN                                                             2\n",
       "HAS_LIST_MAX_RANGE_FN                                                             0\n",
       "HAS_LIST_MIN_RANGE_FN                                                             0\n",
       "HAS_WHERE_CLAUSE                                                                349\n",
       "HAS_HAVING_CLAUSE                                                                29\n",
       "HAS_ORDER_BY_CLAUSE                                                              32\n",
       "HDFS_BYTES_READ                                                        1.282916e+15\n",
       "HDFS_BYTES_WRITTEN                                                           747134\n",
       "TOTAL_LAUNCHED_MAPS                                                         4913478\n",
       "TOTAL_LAUNCHED_REDUCES                                                         2437\n",
       "MAP_INPUT_RECORDS                                                      2.054516e+12\n",
       "MAP_OUTPUT_RECORDS                                                     1.523043e+12\n",
       "REDUCE_INPUT_RECORDS                                                          99336\n",
       "REDUCE_INPUT_GROUPS                                                           46114\n",
       "REDUCE_OUTPUT_RECORDS                                                         46114\n",
       "SLOTS_MILLIS_MAPS                                                      6.037566e+11\n",
       "SLOTS_MILLIS_REDUCES                                                   2.263461e+10\n",
       "dtype: object"
      ]
     },
     "execution_count": 184,
     "metadata": {},
     "output_type": "execute_result"
    }
   ],
   "source": [
    "data[bool_constraints].sum()"
   ]
  },
  {
   "cell_type": "code",
   "execution_count": 129,
   "metadata": {
    "collapsed": true
   },
   "outputs": [],
   "source": [
    "import itertools"
   ]
  },
  {
   "cell_type": "code",
   "execution_count": 133,
   "metadata": {
    "collapsed": false
   },
   "outputs": [
    {
     "name": "stdout",
     "output_type": "stream",
     "text": [
      "[('IS_SUCCESSFUL', 'IS_MULTI_QUERY'), ('IS_SUCCESSFUL', 'IS_PROFILE_QUERY'), ('IS_MULTI_QUERY', 'IS_SUCCESSFUL'), ('IS_MULTI_QUERY', 'IS_PROFILE_QUERY'), ('IS_PROFILE_QUERY', 'IS_SUCCESSFUL'), ('IS_PROFILE_QUERY', 'IS_MULTI_QUERY')]\n"
     ]
    }
   ],
   "source": [
    "print list(itertools.permutations(subpopulations_attrs, 2))"
   ]
  },
  {
   "cell_type": "code",
   "execution_count": 135,
   "metadata": {
    "collapsed": true
   },
   "outputs": [],
   "source": [
    "attr_combos=list(itertools.permutations(subpopulations_attrs, 2))"
   ]
  },
  {
   "cell_type": "code",
   "execution_count": 136,
   "metadata": {
    "collapsed": false
   },
   "outputs": [
    {
     "data": {
      "text/plain": [
       "[[('a', 1), ('b', 2)],\n",
       " [('a', 1), ('c', 2)],\n",
       " [('b', 1), ('a', 2)],\n",
       " [('b', 1), ('c', 2)],\n",
       " [('c', 1), ('a', 2)],\n",
       " [('c', 1), ('b', 2)]]"
      ]
     },
     "execution_count": 136,
     "metadata": {},
     "output_type": "execute_result"
    }
   ],
   "source": [
    "list1=subpopulations[attr]\n",
    "list2=[1,2]\n",
    "[zip(x,list2) for x in itertools.permutations(list1,len(list2))]"
   ]
  },
  {
   "cell_type": "code",
   "execution_count": 139,
   "metadata": {
    "collapsed": false
   },
   "outputs": [],
   "source": [
    "attr_combo=attr_combos[0]"
   ]
  },
  {
   "cell_type": "code",
   "execution_count": 141,
   "metadata": {
    "collapsed": false
   },
   "outputs": [],
   "source": [
    "attr = attr_combo[0]"
   ]
  },
  {
   "cell_type": "code",
   "execution_count": null,
   "metadata": {
    "collapsed": true
   },
   "outputs": [],
   "source": [
    "constraint_lst=[]\n",
    "for attr_combo in attr_combos:\n",
    "    for attr in attr_combo:\n",
    "            "
   ]
  },
  {
   "cell_type": "code",
   "execution_count": 156,
   "metadata": {
    "collapsed": false
   },
   "outputs": [
    {
     "data": {
      "text/plain": [
       "[0, 1]"
      ]
     },
     "execution_count": 156,
     "metadata": {},
     "output_type": "execute_result"
    }
   ],
   "source": [
    "subpopulations[attr]"
   ]
  },
  {
   "cell_type": "code",
   "execution_count": 170,
   "metadata": {
    "collapsed": true
   },
   "outputs": [],
   "source": [
    "constraints_lst=[{'IS_SUCCESSFUL':1,'IS_MULTI_QUERY':1,'IS_PROFILE_QUERY':1},{'IS_SUCCESSFUL':1,'IS_MULTI_QUERY':1},{'IS_SUCCESSFUL':0,'IS_MULTI_QUERY':0}]"
   ]
  },
  {
   "cell_type": "code",
   "execution_count": 177,
   "metadata": {
    "collapsed": false
   },
   "outputs": [],
   "source": [
    "measures=[]\n",
    "#Filter tuples s.t satisfy all constraints\n",
    "for constraints in constraints_lst:\n",
    "    measures.append(bar(data,constraints))"
   ]
  },
  {
   "cell_type": "code",
   "execution_count": 172,
   "metadata": {
    "collapsed": false
   },
   "outputs": [
    {
     "data": {
      "text/plain": [
       "[1927, 3941, 393]"
      ]
     },
     "execution_count": 172,
     "metadata": {},
     "output_type": "execute_result"
    }
   ],
   "source": [
    "measures"
   ]
  },
  {
   "cell_type": "code",
   "execution_count": 77,
   "metadata": {
    "collapsed": false
   },
   "outputs": [
    {
     "data": {
      "text/plain": [
       "[[0, 1], [0, 1], [0, 1], [0, 1]]"
      ]
     },
     "execution_count": 77,
     "metadata": {},
     "output_type": "execute_result"
    }
   ],
   "source": [
    "subpopulations"
   ]
  },
  {
   "cell_type": "code",
   "execution_count": 84,
   "metadata": {
    "collapsed": true
   },
   "outputs": [],
   "source": [
    "import networkx as nx\n",
    "G=nx.Graph()\n",
    "G.add_node('a2')\n",
    "G.add_node('A',val=\"a1\")"
   ]
  },
  {
   "cell_type": "code",
   "execution_count": 86,
   "metadata": {
    "collapsed": true
   },
   "outputs": [],
   "source": [
    "G.add_node('A',val=\"a1\")"
   ]
  },
  {
   "cell_type": "code",
   "execution_count": 87,
   "metadata": {
    "collapsed": false,
    "scrolled": true
   },
   "outputs": [],
   "source": [
    "# G.add_node('V1',viz=plt.plot([1,2,3],[1,2,3]))"
   ]
  },
  {
   "cell_type": "code",
   "execution_count": 88,
   "metadata": {
    "collapsed": true
   },
   "outputs": [],
   "source": [
    "pos=nx.spring_layout(G) "
   ]
  },
  {
   "cell_type": "code",
   "execution_count": 89,
   "metadata": {
    "collapsed": false
   },
   "outputs": [
    {
     "data": {
      "image/png": "[encoded data removed]",
      "text/plain": [
       "<matplotlib.figure.Figure at 0x1179047d0>"
      ]
     },
     "metadata": {},
     "output_type": "display_data"
    }
   ],
   "source": [
    "nx.draw_networkx_nodes(G,pos,alpha=0.4,node_size=1000,node_color='b')\n",
    "nx.draw_networkx_labels(G,pos,font_size=15)\n",
    "nx.draw_networkx_edge_labels(G,pos)\n",
    "a = plt.axis('off')"
   ]
  },
  {
   "cell_type": "code",
   "execution_count": null,
   "metadata": {
    "collapsed": true
   },
   "outputs": [],
   "source": []
  },
  {
   "cell_type": "code",
   "execution_count": null,
   "metadata": {
    "collapsed": true
   },
   "outputs": [],
   "source": []
  }
 ],
 "metadata": {
  "kernelspec": {
   "display_name": "Python 2",
   "language": "python",
   "name": "python2"
  },
  "language_info": {
   "codemirror_mode": {
    "name": "ipython",
    "version": 2
   },
   "file_extension": ".py",
   "mimetype": "text/x-python",
   "name": "python",
   "nbconvert_exporter": "python",
   "pygments_lexer": "ipython2",
   "version": "2.7.10"
  }
 },
 "nbformat": 4,
 "nbformat_minor": 0
}
