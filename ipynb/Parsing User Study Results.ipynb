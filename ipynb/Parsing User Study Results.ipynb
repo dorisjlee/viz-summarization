{
 "cells": [
  {
   "cell_type": "code",
   "execution_count": 1,
   "metadata": {
    "collapsed": false
   },
   "outputs": [
    {
     "name": "stdout",
     "output_type": "stream",
     "text": [
      "Populating the interactive namespace from numpy and matplotlib\n"
     ]
    }
   ],
   "source": [
    "%pylab inline \n",
    "import pandas as pd \n",
    "import json"
   ]
  },
  {
   "cell_type": "code",
   "execution_count": 2,
   "metadata": {
    "collapsed": false
   },
   "outputs": [],
   "source": [
    "df_data = []\n",
    "with open('../system/user_study_2018_03_09.log') as f:\n",
    "    for line in f:\n",
    "        lsp = line.split(',')\n",
    "        date = lsp[0]\n",
    "        user = lsp[1][1:-1]\n",
    "        task = lsp[2][1:-1]\n",
    "        dataset_name = lsp[3][1:-1]\n",
    "        clicks = json.loads(\",\".join(lsp[4:]))\n",
    "        if dataset_name!=\"default\":\n",
    "            dataset = json.loads(open(\"../system/static/generated_dashboards/\"+dataset_name).read().replace(\"\\\\\",\"\"))\n",
    "            for nodeID in dataset.keys():\n",
    "                df_data.append([date,dataset_name,user,task,nodeID,clicks[nodeID],dataset[nodeID][-1][\"filter\"],dataset[nodeID][-1][\"populationSize\"]])"
   ]
  },
  {
   "cell_type": "code",
   "execution_count": 3,
   "metadata": {
    "collapsed": false
   },
   "outputs": [],
   "source": [
    "df = pd.DataFrame(df_data,columns=[\"date\",\"dataset_name\",\"user\",\"task\",\"nodeID\",\"clicks\",\"visualization\",\"populationSize\"])\n",
    "df[\"date\"] = pd.to_datetime(df[\"date\"],format=\"%Y-%m-%d-%H-%M-%S\")"
   ]
  },
  {
   "cell_type": "code",
   "execution_count": 4,
   "metadata": {
    "collapsed": false
   },
   "outputs": [],
   "source": [
    "df.loc[df[\"clicks\"]==0,\"interested\"]=\"unselected\"\n",
    "df.loc[df[\"clicks\"]==1,\"interested\"]=\"unselected\"\n",
    "df.loc[df[\"clicks\"]==2,\"interested\"]=\"interested\"\n",
    "df.loc[df[\"clicks\"]==3,\"interested\"]=\"not interested\""
   ]
  },
  {
   "cell_type": "code",
   "execution_count": 5,
   "metadata": {
    "collapsed": false
   },
   "outputs": [],
   "source": [
    "#select the best task, user (since all node are logged on the latest output, so we will just pick the latest one)\n",
    "df = df.loc[df.groupby([\"user\",\"task\",\"nodeID\"])[\"date\"].idxmax()]"
   ]
  },
  {
   "cell_type": "code",
   "execution_count": 6,
   "metadata": {
    "collapsed": true
   },
   "outputs": [],
   "source": [
    "df = df[[\"user\",\"visualization\",\"interested\",\"task\"]]"
   ]
  },
  {
   "cell_type": "code",
   "execution_count": 7,
   "metadata": {
    "collapsed": true
   },
   "outputs": [],
   "source": [
    "def cleanFilterVal(x):\n",
    "    if x==\"#\":\n",
    "        return \"overall\"\n",
    "    else:\n",
    "        return x.replace(\"$\",\"=\").replace(\"#\",\", \")[1:-2]"
   ]
  },
  {
   "cell_type": "code",
   "execution_count": 8,
   "metadata": {
    "collapsed": false
   },
   "outputs": [],
   "source": [
    "df[\"visualization\"]= df[\"visualization\"].apply(cleanFilterVal)"
   ]
  },
  {
   "cell_type": "code",
   "execution_count": 9,
   "metadata": {
    "collapsed": false
   },
   "outputs": [],
   "source": [
    "df.to_csv(\"user_click_data.csv\",index=None)"
   ]
  },
  {
   "cell_type": "code",
   "execution_count": 10,
   "metadata": {
    "collapsed": false
   },
   "outputs": [
    {
     "data": {
      "text/html": [
       "<div>\n",
       "<table border=\"1\" class=\"dataframe\">\n",
       "  <thead>\n",
       "    <tr style=\"text-align: right;\">\n",
       "      <th></th>\n",
       "      <th>user</th>\n",
       "      <th>visualization</th>\n",
       "      <th>interested</th>\n",
       "      <th>task</th>\n",
       "    </tr>\n",
       "  </thead>\n",
       "  <tbody>\n",
       "    <tr>\n",
       "      <th>477</th>\n",
       "      <td>1</td>\n",
       "      <td>overall</td>\n",
       "      <td>unselected</td>\n",
       "      <td>A1</td>\n",
       "    </tr>\n",
       "    <tr>\n",
       "      <th>474</th>\n",
       "      <td>1</td>\n",
       "      <td>search_conducted=f, duration=30+ min, stop_ti...</td>\n",
       "      <td>unselected</td>\n",
       "      <td>A1</td>\n",
       "    </tr>\n",
       "    <tr>\n",
       "      <th>471</th>\n",
       "      <td>1</td>\n",
       "      <td>search_conducted=t, duration=30+ min, stop_ti...</td>\n",
       "      <td>unselected</td>\n",
       "      <td>A1</td>\n",
       "    </tr>\n",
       "    <tr>\n",
       "      <th>470</th>\n",
       "      <td>1</td>\n",
       "      <td>duration=30+ min</td>\n",
       "      <td>not interested</td>\n",
       "      <td>A1</td>\n",
       "    </tr>\n",
       "    <tr>\n",
       "      <th>479</th>\n",
       "      <td>1</td>\n",
       "      <td>search_conducted=f, duration=30+ min</td>\n",
       "      <td>interested</td>\n",
       "      <td>A1</td>\n",
       "    </tr>\n",
       "    <tr>\n",
       "      <th>473</th>\n",
       "      <td>1</td>\n",
       "      <td>search_conducted=t, duration=30+ min</td>\n",
       "      <td>interested</td>\n",
       "      <td>A1</td>\n",
       "    </tr>\n",
       "    <tr>\n",
       "      <th>476</th>\n",
       "      <td>1</td>\n",
       "      <td>duration=30+ min, stop_time=Late Evening</td>\n",
       "      <td>not interested</td>\n",
       "      <td>A1</td>\n",
       "    </tr>\n",
       "    <tr>\n",
       "      <th>475</th>\n",
       "      <td>1</td>\n",
       "      <td>duration=30+ min, stop_time=Morning</td>\n",
       "      <td>not interested</td>\n",
       "      <td>A1</td>\n",
       "    </tr>\n",
       "    <tr>\n",
       "      <th>478</th>\n",
       "      <td>1</td>\n",
       "      <td>search_conducted=t, contraband_found=f, durat...</td>\n",
       "      <td>unselected</td>\n",
       "      <td>A1</td>\n",
       "    </tr>\n",
       "    <tr>\n",
       "      <th>472</th>\n",
       "      <td>1</td>\n",
       "      <td>driver_race=White, duration=30+ min, stop_tim...</td>\n",
       "      <td>unselected</td>\n",
       "      <td>A1</td>\n",
       "    </tr>\n",
       "    <tr>\n",
       "      <th>202</th>\n",
       "      <td>1</td>\n",
       "      <td>overall</td>\n",
       "      <td>unselected</td>\n",
       "      <td>T1</td>\n",
       "    </tr>\n",
       "    <tr>\n",
       "      <th>201</th>\n",
       "      <td>1</td>\n",
       "      <td>gender=female</td>\n",
       "      <td>unselected</td>\n",
       "      <td>T1</td>\n",
       "    </tr>\n",
       "    <tr>\n",
       "      <th>200</th>\n",
       "      <td>1</td>\n",
       "      <td>gender=male, pc_class=3</td>\n",
       "      <td>unselected</td>\n",
       "      <td>T1</td>\n",
       "    </tr>\n",
       "    <tr>\n",
       "      <th>204</th>\n",
       "      <td>1</td>\n",
       "      <td>gender=male</td>\n",
       "      <td>unselected</td>\n",
       "      <td>T1</td>\n",
       "    </tr>\n",
       "    <tr>\n",
       "      <th>203</th>\n",
       "      <td>1</td>\n",
       "      <td>pc_class=1</td>\n",
       "      <td>unselected</td>\n",
       "      <td>T1</td>\n",
       "    </tr>\n",
       "    <tr>\n",
       "      <th>205</th>\n",
       "      <td>1</td>\n",
       "      <td>pc_class=3</td>\n",
       "      <td>unselected</td>\n",
       "      <td>T1</td>\n",
       "    </tr>\n",
       "    <tr>\n",
       "      <th>207</th>\n",
       "      <td>1</td>\n",
       "      <td>gender=female, pc_class=1</td>\n",
       "      <td>unselected</td>\n",
       "      <td>T1</td>\n",
       "    </tr>\n",
       "    <tr>\n",
       "      <th>206</th>\n",
       "      <td>1</td>\n",
       "      <td>gender=female, pc_class=3</td>\n",
       "      <td>unselected</td>\n",
       "      <td>T1</td>\n",
       "    </tr>\n",
       "    <tr>\n",
       "      <th>209</th>\n",
       "      <td>1</td>\n",
       "      <td>gender=female, pc_class=2</td>\n",
       "      <td>unselected</td>\n",
       "      <td>T1</td>\n",
       "    </tr>\n",
       "    <tr>\n",
       "      <th>208</th>\n",
       "      <td>1</td>\n",
       "      <td>gender=male, pc_class=1</td>\n",
       "      <td>unselected</td>\n",
       "      <td>T1</td>\n",
       "    </tr>\n",
       "  </tbody>\n",
       "</table>\n",
       "</div>"
      ],
      "text/plain": [
       "    user                                      visualization      interested  \\\n",
       "477    1                                            overall      unselected   \n",
       "474    1   search_conducted=f, duration=30+ min, stop_ti...      unselected   \n",
       "471    1   search_conducted=t, duration=30+ min, stop_ti...      unselected   \n",
       "470    1                                   duration=30+ min  not interested   \n",
       "479    1               search_conducted=f, duration=30+ min      interested   \n",
       "473    1               search_conducted=t, duration=30+ min      interested   \n",
       "476    1           duration=30+ min, stop_time=Late Evening  not interested   \n",
       "475    1                duration=30+ min, stop_time=Morning  not interested   \n",
       "478    1   search_conducted=t, contraband_found=f, durat...      unselected   \n",
       "472    1   driver_race=White, duration=30+ min, stop_tim...      unselected   \n",
       "202    1                                            overall      unselected   \n",
       "201    1                                      gender=female      unselected   \n",
       "200    1                            gender=male, pc_class=3      unselected   \n",
       "204    1                                        gender=male      unselected   \n",
       "203    1                                         pc_class=1      unselected   \n",
       "205    1                                         pc_class=3      unselected   \n",
       "207    1                          gender=female, pc_class=1      unselected   \n",
       "206    1                          gender=female, pc_class=3      unselected   \n",
       "209    1                          gender=female, pc_class=2      unselected   \n",
       "208    1                            gender=male, pc_class=1      unselected   \n",
       "\n",
       "    task  \n",
       "477   A1  \n",
       "474   A1  \n",
       "471   A1  \n",
       "470   A1  \n",
       "479   A1  \n",
       "473   A1  \n",
       "476   A1  \n",
       "475   A1  \n",
       "478   A1  \n",
       "472   A1  \n",
       "202   T1  \n",
       "201   T1  \n",
       "200   T1  \n",
       "204   T1  \n",
       "203   T1  \n",
       "205   T1  \n",
       "207   T1  \n",
       "206   T1  \n",
       "209   T1  \n",
       "208   T1  "
      ]
     },
     "execution_count": 10,
     "metadata": {},
     "output_type": "execute_result"
    }
   ],
   "source": [
    "df "
   ]
  },
  {
   "cell_type": "code",
   "execution_count": null,
   "metadata": {
    "collapsed": true
   },
   "outputs": [],
   "source": []
  }
 ],
 "metadata": {
  "kernelspec": {
   "display_name": "Python 2",
   "language": "python",
   "name": "python2"
  },
  "language_info": {
   "codemirror_mode": {
    "name": "ipython",
    "version": 2
   },
   "file_extension": ".py",
   "mimetype": "text/x-python",
   "name": "python",
   "nbconvert_exporter": "python",
   "pygments_lexer": "ipython2",
   "version": "2.7.10"
  }
 },
 "nbformat": 4,
 "nbformat_minor": 0
}
