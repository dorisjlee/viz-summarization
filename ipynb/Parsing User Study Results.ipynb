{
 "cells": [
  {
   "cell_type": "code",
   "execution_count": 1,
   "metadata": {
    "collapsed": false
   },
   "outputs": [
    {
     "name": "stdout",
     "output_type": "stream",
     "text": [
      "Populating the interactive namespace from numpy and matplotlib\n"
     ]
    }
   ],
   "source": [
    "%pylab inline \n",
    "import pandas as pd \n",
    "import json"
   ]
  },
  {
   "cell_type": "code",
   "execution_count": 2,
   "metadata": {
    "collapsed": false
   },
   "outputs": [],
   "source": [
    "df_data = []\n",
    "with open('../system/user_study_2017_12_08.log') as f:\n",
    "    for line in f:\n",
    "        lsp = line.split(',')\n",
    "        date = lsp[0]\n",
    "        dataset_name = lsp[1][1:-1]\n",
    "        clicks = json.loads(\",\".join(lsp[2:]))\n",
    "        if dataset_name!=\"default\":\n",
    "            dataset = json.loads(open(\"../system/static/generated_dashboards/\"+dataset_name).read().replace(\"\\\\\",\"\"))\n",
    "            for nodeID in dataset.keys():\n",
    "                df_data.append([dataset_name,nodeID,clicks[nodeID],dataset[nodeID][-1][\"filter\"],dataset[nodeID][-1][\"populationSize\"]])"
   ]
  },
  {
   "cell_type": "code",
   "execution_count": 3,
   "metadata": {
    "collapsed": false
   },
   "outputs": [],
   "source": [
    "df = pd.DataFrame(df_data,columns=[\"dataset_name\",\"nodeID\",\"clicks\",\"filters\",\"populationSize\"])"
   ]
  },
  {
   "cell_type": "code",
   "execution_count": 4,
   "metadata": {
    "collapsed": false
   },
   "outputs": [],
   "source": [
    "df.to_csv(\"user_click_data.csv\",index=None)"
   ]
  },
  {
   "cell_type": "code",
   "execution_count": null,
   "metadata": {
    "collapsed": true
   },
   "outputs": [],
   "source": []
  }
 ],
 "metadata": {
  "kernelspec": {
   "display_name": "Python 2",
   "language": "python",
   "name": "python2"
  },
  "language_info": {
   "codemirror_mode": {
    "name": "ipython",
    "version": 2
   },
   "file_extension": ".py",
   "mimetype": "text/x-python",
   "name": "python",
   "nbconvert_exporter": "python",
   "pygments_lexer": "ipython2",
   "version": "2.7.10"
  }
 },
 "nbformat": 4,
 "nbformat_minor": 0
}
