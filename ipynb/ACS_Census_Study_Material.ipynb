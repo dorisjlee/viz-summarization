{
 "cells": [
  {
   "cell_type": "code",
   "execution_count": 2,
   "metadata": {
    "collapsed": false
   },
   "outputs": [
    {
     "name": "stdout",
     "output_type": "stream",
     "text": [
      "Populating the interactive namespace from numpy and matplotlib\n"
     ]
    }
   ],
   "source": [
    "%pylab inline\n",
    "from viz_toolkit import * "
   ]
  },
  {
   "cell_type": "code",
   "execution_count": 3,
   "metadata": {
    "collapsed": false
   },
   "outputs": [],
   "source": [
    "data =pd.read_csv(\"../data/census.csv\")"
   ]
  },
  {
   "cell_type": "code",
   "execution_count": 4,
   "metadata": {
    "collapsed": false
   },
   "outputs": [],
   "source": [
    "# [k for k in data.keys()]"
   ]
  },
  {
   "cell_type": "code",
   "execution_count": 5,
   "metadata": {
    "collapsed": false
   },
   "outputs": [
    {
     "data": {
      "text/plain": [
       "[<matplotlib.text.Text at 0x1045bb910>,\n",
       " <matplotlib.text.Text at 0x1045c3890>,\n",
       " <matplotlib.text.Text at 0x104597190>,\n",
       " <matplotlib.text.Text at 0x10ad42d10>,\n",
       " <matplotlib.text.Text at 0x10462cf50>,\n",
       " <matplotlib.text.Text at 0x104640690>,\n",
       " <matplotlib.text.Text at 0x104640d90>,\n",
       " <matplotlib.text.Text at 0x10464c4d0>]"
      ]
     },
     "execution_count": 5,
     "metadata": {},
     "output_type": "execute_result"
    },
    {
     "data": {
      "image/png": "[encoded data removed]",
      "text/plain": [
       "<matplotlib.figure.Figure at 0x10ad21790>"
      ]
     },
     "metadata": {},
     "output_type": "display_data"
    }
   ],
   "source": [
    "fig, ax = plt.subplots()\n",
    "subpopulation_key = ['White alone', 'Black or African American alone', 'American Indian and Alaska Native alone', 'Asian alone', 'Native Hawaiian and Other Pacific Islander alone', 'Some other race alone', 'Two or more races:']\n",
    "subpopulation_name = ['White', 'Black', 'Native', 'Asian', 'Pacific Islander', 'Other (Single Race)', 'Other (1+ race)']\n",
    "ind = np.arange(len(subpopulation_key))\n",
    "width = 0.3\n",
    "vals = [data[sp].sum() for sp in subpopulation_key]\n",
    "ratios = np.array(vals)/float(sum(vals))\n",
    "colors = ['b','r','g','g','g']\n",
    "barlist = ax.bar(ind, ratios, width)\n",
    "ax.set_xticklabels(['']+subpopulation_name, rotation='vertical')\n",
    "#, rotation=70)"
   ]
  },
  {
   "cell_type": "code",
   "execution_count": 7,
   "metadata": {
    "collapsed": false
   },
   "outputs": [],
   "source": [
    "# condition=(data[\"state_abbrev\"]=='NY')\n",
    "# subset_data = data[condition]\n",
    "# fig, ax = plt.subplots()\n",
    "# bar_keys= ['White alone', 'Black or African American alone', 'Asian alone','Others']\n",
    "# bar_names = ['White', 'Black',   'Asian', 'Others']\n",
    "# ind = np.arange(len(bar_keys))\n",
    "# width = 0.3\n",
    "# vals = [subset_data[bar].sum() for bar in bar_keys]\n",
    "# ratios = np.array(vals)/float(sum(vals))\n",
    "# barlist = ax.bar(ind, ratios, width)\n",
    "# ax.set_xticks(ind)\n",
    "# ax.set_xticklabels(bar_names, rotation='vertical')\n",
    "# #, rotation=70)"
   ]
  },
  {
   "cell_type": "code",
   "execution_count": 8,
   "metadata": {
    "collapsed": true
   },
   "outputs": [],
   "source": [
    "def multibar_subpopulation_viz(subpopulation_name,condition,bar_keys,bar_names):\n",
    "    if type(condition) is not str:\n",
    "        subset_data=data[condition]\n",
    "    elif condition == \"overall\": \n",
    "        subset_data = data\n",
    "    fig, ax = plt.subplots()\n",
    "    ind = np.arange(len(bar_keys))\n",
    "    width = 0.3\n",
    "    vals = [subset_data[bar].sum() for bar in bar_keys]\n",
    "    ratios = np.array(vals)/float(sum(vals))*100\n",
    "    barlist = ax.bar(ind, ratios, width)\n",
    "    ax.set_xticks(ind)\n",
    "    ax.set_xticklabels(bar_names, rotation='vertical')\n",
    "    ax.set_title(subpopulation_name)"
   ]
  },
  {
   "cell_type": "code",
   "execution_count": 9,
   "metadata": {
    "collapsed": true
   },
   "outputs": [],
   "source": [
    "def subpopulation_viz(data,condition,subpopulation_name):\n",
    "    if condition is not None: \n",
    "        subset_data = data[condition].mean()[population_of_interest]\n",
    "        result =  subset_data/sum(subset_data)*100\n",
    "        single_bar_chart(result[0],result[1],width=0.1,subpopulation_name=subpopulation_name)\n",
    "    else:\n",
    "        single_bar_chart(0,0,width=0.1,subpopulation_name=subpopulation_name)"
   ]
  },
  {
   "cell_type": "code",
   "execution_count": 11,
   "metadata": {
    "collapsed": false
   },
   "outputs": [],
   "source": [
    "A= int(data[(data[\"NAME\"]=='California')& (data[\"state_abbrev\"]=='CA')][\"Total population\"])\n",
    "B = int(data[(data[\"NAME\"]=='Hawaii')& (data[\"state_abbrev\"]=='HI')][\"Total population\"])\n",
    "C = int(data[(data[\"NAME\"]=='Illinois')& (data[\"state_abbrev\"]=='IL')][\"Total population\"])"
   ]
  },
  {
   "cell_type": "code",
   "execution_count": 16,
   "metadata": {
    "collapsed": false
   },
   "outputs": [
    {
     "data": {
      "text/plain": [
       "<matplotlib.text.Text at 0x1099a7590>"
      ]
     },
     "execution_count": 16,
     "metadata": {},
     "output_type": "execute_result"
    },
    {
     "data": {
      "image/png": "[encoded data removed]",
      "text/plain": [
       "<matplotlib.figure.Figure at 0x1050e9b10>"
      ]
     },
     "metadata": {},
     "output_type": "display_data"
    }
   ],
   "source": [
    "TOTAL_POPULATION = 303965272. #https://factfinder.census.gov/faces/tableservices/jsf/pages/productview.xhtml?pid=ACS_10_5YR_B01003&prodType=table\n",
    "vals = [A,B,C]\n",
    "bar_names = ['California','Hawaii','Illinois']\n",
    "ind = np.arange(len(vals))\n",
    "width = 0.3\n",
    "ratios = np.array(vals)/float(sum(vals))*100 #/TOTAL_POPULATION*100\n",
    "fig, ax = plt.subplots()\n",
    "barlist = ax.bar(ind, ratios, width)\n",
    "ax.set_xticks(ind)\n",
    "ax.set_xticklabels(bar_names, rotation='vertical')\n",
    "ax.set_title(\"Population [Overall]\")"
   ]
  },
  {
   "cell_type": "code",
   "execution_count": 17,
   "metadata": {
    "collapsed": true
   },
   "outputs": [],
   "source": [
    "data[\"Others\"] = data[\"American Indian and Alaska Native alone\"]+data[\"Native Hawaiian and Other Pacific Islander alone\"]+data[\"Some other race alone\"]+data[\"Two or more races:\"]\n",
    "bar_keys= ['White alone', 'Black or African American alone', 'Asian alone','Others']\n",
    "bar_names = ['White', 'Black',   'Asian', 'Others']"
   ]
  },
  {
   "cell_type": "code",
   "execution_count": 18,
   "metadata": {
    "collapsed": false
   },
   "outputs": [
    {
     "data": {
      "image/png": "[encoded data removed]",
      "text/plain": [
       "<matplotlib.figure.Figure at 0x1097f9e10>"
      ]
     },
     "metadata": {},
     "output_type": "display_data"
    }
   ],
   "source": [
    "subpopulation_name=\"RACE [Overall]\"\n",
    "condition=\"overall\"\n",
    "multibar_subpopulation_viz(subpopulation_name,condition,bar_keys,bar_names)"
   ]
  },
  {
   "cell_type": "code",
   "execution_count": 19,
   "metadata": {
    "collapsed": false
   },
   "outputs": [
    {
     "data": {
      "image/png": "[encoded data removed]",
      "text/plain": [
       "<matplotlib.figure.Figure at 0x1098ecd50>"
      ]
     },
     "metadata": {},
     "output_type": "display_data"
    }
   ],
   "source": [
    "subpopulation_name=\"RACE [STATE = California]\"\n",
    "condition=(data[\"state_abbrev\"]=='CA')\n",
    "multibar_subpopulation_viz(subpopulation_name,condition,bar_keys,bar_names)"
   ]
  },
  {
   "cell_type": "code",
   "execution_count": 20,
   "metadata": {
    "collapsed": false
   },
   "outputs": [
    {
     "data": {
      "image/png": "[encoded data removed]",
      "text/plain": [
       "<matplotlib.figure.Figure at 0x10a3b0350>"
      ]
     },
     "metadata": {},
     "output_type": "display_data"
    }
   ],
   "source": [
    "subpopulation_name=\"RACE [STATE = Illinois]\"\n",
    "condition=(data[\"state_abbrev\"]=='IL')\n",
    "multibar_subpopulation_viz(subpopulation_name,condition,bar_keys,bar_names)"
   ]
  },
  {
   "cell_type": "code",
   "execution_count": 21,
   "metadata": {
    "collapsed": false
   },
   "outputs": [
    {
     "data": {
      "image/png": "[encoded data removed]",
      "text/plain": [
       "<matplotlib.figure.Figure at 0x10a3f3390>"
      ]
     },
     "metadata": {},
     "output_type": "display_data"
    }
   ],
   "source": [
    "subpopulation_name=\"RACE [STATE = Hawaii]\"\n",
    "condition=(data[\"state_abbrev\"]=='HI')\n",
    "multibar_subpopulation_viz(subpopulation_name,condition,bar_keys,bar_names)"
   ]
  },
  {
   "cell_type": "markdown",
   "metadata": {},
   "source": [
    "---------------"
   ]
  },
  {
   "cell_type": "code",
   "execution_count": 22,
   "metadata": {
    "collapsed": false
   },
   "outputs": [
    {
     "data": {
      "image/png": "[encoded data removed]",
      "text/plain": [
       "<matplotlib.figure.Figure at 0x10a848510>"
      ]
     },
     "metadata": {},
     "output_type": "display_data"
    }
   ],
   "source": [
    "subpopulation_name=\"RACE [STATE = Hawaii]\"\n",
    "condition=(data[\"state_abbrev\"]=='HI')\n",
    "multibar_subpopulation_viz(subpopulation_name,condition,bar_keys,bar_names)"
   ]
  },
  {
   "cell_type": "code",
   "execution_count": null,
   "metadata": {
    "collapsed": true
   },
   "outputs": [],
   "source": [
    "subpopulation_name=\"RACE [STATE = Hawaii]\"\n",
    "condition=(data[\"Male:\"]==)\n",
    "multibar_subpopulation_viz(subpopulation_name,condition,bar_keys,bar_names)"
   ]
  },
  {
   "cell_type": "code",
   "execution_count": null,
   "metadata": {
    "collapsed": true
   },
   "outputs": [],
   "source": [
    "subpopulation_name=\"RACE [STATE = Hawaii]\"\n",
    "condition=(data[\"state_abbrev\"]=='HI')\n",
    "multibar_subpopulation_viz(subpopulation_name,condition,bar_keys,bar_names)"
   ]
  },
  {
   "cell_type": "markdown",
   "metadata": {},
   "source": [
    "Which state has more immigrants what race? "
   ]
  },
  {
   "cell_type": "markdown",
   "metadata": {
    "collapsed": true
   },
   "source": [
    "'Born outside the United States','Naturalized U.S. citizen'"
   ]
  },
  {
   "cell_type": "markdown",
   "metadata": {
    "collapsed": true
   },
   "source": [
    "'Born in other state in the United States','Born in state of residence'"
   ]
  },
  {
   "cell_type": "code",
   "execution_count": 158,
   "metadata": {
    "collapsed": false
   },
   "outputs": [
    {
     "data": {
      "text/plain": [
       "Index([u'Unnamed: 0', u'NAME', u'Total population', u'state_abbrev',\n",
       "       u'state_name', u'Total population.1', u'Male:', u'Under 5 years',\n",
       "       u'5 to 9 years', u'10 to 14 years', u'15 to 17 years',\n",
       "       u'18 and 19 years', u'20 years', u'21 years', u'22 to 24 years',\n",
       "       u'25 to 29 years', u'30 to 34 years', u'35 to 39 years',\n",
       "       u'40 to 44 years', u'45 to 49 years', u'50 to 54 years',\n",
       "       u'55 to 59 years', u'60 and 61 years', u'62 to 64 years',\n",
       "       u'65 and 66 years', u'67 to 69 years', u'70 to 74 years',\n",
       "       u'75 to 79 years', u'80 to 84 years', u'85 years and over', u'Female:',\n",
       "       u'Under 5 years.1', u'5 to 9 years.1', u'10 to 14 years.1',\n",
       "       u'15 to 17 years.1', u'18 and 19 years.1', u'20 years.1', u'21 years.1',\n",
       "       u'22 to 24 years.1', u'25 to 29 years.1', u'30 to 34 years.1',\n",
       "       u'35 to 39 years.1', u'40 to 44 years.1', u'45 to 49 years.1',\n",
       "       u'50 to 54 years.1', u'55 to 59 years.1', u'60 and 61 years.1',\n",
       "       u'62 to 64 years.1', u'65 and 66 years.1', u'67 to 69 years.1',\n",
       "       u'70 to 74 years.1', u'75 to 79 years.1', u'80 to 84 years.1',\n",
       "       u'85 years and over.1', u'Total population.2', u'White alone',\n",
       "       u'Black or African American alone',\n",
       "       u'American Indian and Alaska Native alone', u'Asian alone',\n",
       "       u'Native Hawaiian and Other Pacific Islander alone',\n",
       "       u'Some other race alone', u'Two or more races:',\n",
       "       u'Two races including Some other race',\n",
       "       u'Two races excluding Some other race, and three or more races',\n",
       "       u'People who are American Indian or Alaska Native alone or in combination with one or more other races',\n",
       "       u'Total population.3', u'Native:', u'Born in state of residence',\n",
       "       u'Born in other state in the United States:', u'Northeast', u'Midwest',\n",
       "       u'South', u'West', u'Born outside the United States:', u'Puerto Rico',\n",
       "       u'U.S. Island Areas', u'Born abroad of American parent(s)',\n",
       "       u'Foreign born:', u'Naturalized U.S. citizen', u'Not a U.S. citizen',\n",
       "       u'Others'],\n",
       "      dtype='object')"
      ]
     },
     "execution_count": 158,
     "metadata": {},
     "output_type": "execute_result"
    }
   ],
   "source": [
    "data.keys()"
   ]
  },
  {
   "cell_type": "markdown",
   "metadata": {},
   "source": [
    "--------------------------------------------------------------------------------------------------------"
   ]
  }
 ],
 "metadata": {
  "kernelspec": {
   "display_name": "Python 2",
   "language": "python",
   "name": "python2"
  },
  "language_info": {
   "codemirror_mode": {
    "name": "ipython",
    "version": 2
   },
   "file_extension": ".py",
   "mimetype": "text/x-python",
   "name": "python",
   "nbconvert_exporter": "python",
   "pygments_lexer": "ipython2",
   "version": "2.7.10"
  }
 },
 "nbformat": 4,
 "nbformat_minor": 0
}
