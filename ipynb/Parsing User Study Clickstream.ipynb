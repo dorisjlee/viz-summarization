{
 "cells": [
  {
   "cell_type": "code",
   "execution_count": 1,
   "metadata": {
    "collapsed": false
   },
   "outputs": [
    {
     "name": "stdout",
     "output_type": "stream",
     "text": [
      "Populating the interactive namespace from numpy and matplotlib\n"
     ]
    }
   ],
   "source": [
    "%pylab inline \n",
    "import pandas as pd \n",
    "import json"
   ]
  },
  {
   "cell_type": "code",
   "execution_count": 2,
   "metadata": {
    "collapsed": true
   },
   "outputs": [],
   "source": [
    "# csv files for answer responses\n",
    "gdrive_path = \"/Users/dorislee/Google Drive/Turn/user_study/evaluation_study/transcription_and_analysis/\"\n",
    "# user study logs\n",
    "box_path = \"/Users/dorislee/Box/viz-summarization-user-study-material/\" "
   ]
  },
  {
   "cell_type": "code",
   "execution_count": 3,
   "metadata": {
    "collapsed": false
   },
   "outputs": [],
   "source": [
    "import glob"
   ]
  },
  {
   "cell_type": "code",
   "execution_count": 4,
   "metadata": {
    "collapsed": false
   },
   "outputs": [],
   "source": [
    "df_data = []\n",
    "for filename in glob.glob(\"study_logs/*log\"):\n",
    "    line_num=0\n",
    "    with open(filename) as f:\n",
    "        for line in f:\n",
    "            lsp = line.split(',')\n",
    "            date = lsp[0]\n",
    "            user = lsp[1][1:-1]\n",
    "            task = lsp[2][1:-1]\n",
    "            dataset_name = lsp[3][1:-1]\n",
    "            clicks = json.loads(\",\".join(lsp[4:]))\n",
    "            if dataset_name!=\"default\":\n",
    "                dataset = json.loads(open(\"../system/static/generated_dashboards/\"+dataset_name).read().replace(\"\\\\\",\"\"))\n",
    "                for nodeID in dataset.keys():\n",
    "                    df_data.append([line_num,date,dataset_name,user,task,nodeID,clicks[nodeID],dataset[nodeID][-1][\"filter\"],dataset[nodeID][-1][\"populationSize\"]])\n",
    "            line_num +=1"
   ]
  },
  {
   "cell_type": "code",
   "execution_count": 5,
   "metadata": {
    "collapsed": false
   },
   "outputs": [],
   "source": [
    "# df[df[\"visualization\"].str.contains(\"duration=30\\+ min\")&~df[\"visualization\"].str.contains(\",\")]#&(df[\"interested\"]=\"interested\")]"
   ]
  },
  {
   "cell_type": "code",
   "execution_count": 6,
   "metadata": {
    "collapsed": false
   },
   "outputs": [],
   "source": [
    "df = pd.DataFrame(df_data,columns=[\"line_num\",\"date\",\"dataset_name\",\"user\",\"task\",\"nodeID\",\"clicks\",\"visualization\",\"populationSize\"])\n",
    "df[\"date\"] = pd.to_datetime(df[\"date\"],format=\"%Y-%m-%d-%H-%M-%S\")"
   ]
  },
  {
   "cell_type": "code",
   "execution_count": 7,
   "metadata": {
    "collapsed": false
   },
   "outputs": [],
   "source": [
    "df.loc[df[\"clicks\"]==0,\"interested\"]=\"unselected\"\n",
    "df.loc[df[\"clicks\"]==1,\"interested\"]=\"unselected\"\n",
    "df.loc[df[\"clicks\"]==2,\"interested\"]=\"interested\"\n",
    "df.loc[df[\"clicks\"]==3,\"interested\"]=\"not interested\""
   ]
  },
  {
   "cell_type": "code",
   "execution_count": 8,
   "metadata": {
    "collapsed": false
   },
   "outputs": [],
   "source": [
    "#select the latest recorded rating (since all node are logged on the latest output, so we will just pick the latest one)\n",
    "#df = df.loc[df.groupby([\"user\",\"task\",\"nodeID\"])[[\"date\"]].idxmax()]\n",
    "#select the latest logged output based on line numbering\n",
    "df = df.loc[df.groupby([\"user\",\"task\",\"nodeID\"])[\"line_num\"].idxmax()]"
   ]
  },
  {
   "cell_type": "code",
   "execution_count": 9,
   "metadata": {
    "collapsed": true
   },
   "outputs": [],
   "source": [
    "df = df[[\"user\",\"visualization\",\"interested\",\"task\"]]"
   ]
  },
  {
   "cell_type": "code",
   "execution_count": 10,
   "metadata": {
    "collapsed": true
   },
   "outputs": [],
   "source": [
    "def cleanFilterVal(x):\n",
    "    if x==\"#\":\n",
    "        return \"overall\"\n",
    "    else:\n",
    "        return x.replace(\"$\",\"=\").replace(\"#\",\", \")[1:-2]"
   ]
  },
  {
   "cell_type": "code",
   "execution_count": 11,
   "metadata": {
    "collapsed": false
   },
   "outputs": [],
   "source": [
    "df[\"visualization\"]= df[\"visualization\"].apply(cleanFilterVal)"
   ]
  },
  {
   "cell_type": "code",
   "execution_count": 12,
   "metadata": {
    "collapsed": false
   },
   "outputs": [],
   "source": [
    "df[\"user\"] = df[\"user\"].astype(\"int\")"
   ]
  },
  {
   "cell_type": "code",
   "execution_count": 13,
   "metadata": {
    "collapsed": false
   },
   "outputs": [],
   "source": [
    "df = df[~df[\"task\"].str.contains(\"T\")] #ignore the titanic tutorial tasks"
   ]
  },
  {
   "cell_type": "code",
   "execution_count": 16,
   "metadata": {
    "collapsed": false
   },
   "outputs": [],
   "source": [
    "#make sure each user only does the task that they are assigned\n",
    "user_task =  pd.read_csv(gdrive_path+\"UserTaskAssignment.csv\")"
   ]
  },
  {
   "cell_type": "code",
   "execution_count": 17,
   "metadata": {
    "collapsed": false
   },
   "outputs": [],
   "source": [
    "i =0 \n",
    "df_data=[]\n",
    "for row in df.iterrows():\n",
    "    selected_user = user_task[user_task[\"User\"]==row[1][\"user\"]]\n",
    "    if row[1][\"task\"] in selected_user[\"Task1\"].values[0] or row[1][\"task\"] in selected_user[\"Task2\"].values[0]: \n",
    "        #print \"pass\"\n",
    "        df_data.append(row[1][[\"user\",\"visualization\",\"interested\",\"task\"]])\n",
    "    else:\n",
    "        pass\n",
    "        #print row[1]\n",
    "    i +=1"
   ]
  },
  {
   "cell_type": "code",
   "execution_count": 18,
   "metadata": {
    "collapsed": false
   },
   "outputs": [],
   "source": [
    "df_data =pd.DataFrame(df_data)"
   ]
  },
  {
   "cell_type": "code",
   "execution_count": 35,
   "metadata": {},
   "outputs": [],
   "source": [
    "assert (df_data.groupby(\"task\").count() == 60).sum().sum()==18"
   ]
  },
  {
   "cell_type": "markdown",
   "metadata": {},
   "source": [
    "- Had to manually clean up user_log_03_22.log because the second trial of user 11 was recorded as user 1, user 12 was also recorded as user 1\n",
    "- Had to manually clean up user_log_03_18.log because user 8 was not recorded\n",
    "- Had to manually clean up user_log_03_18.log because user  18 was recorded as user 1 for the second trial and there were A1 stuff mixed in there"
   ]
  },
  {
   "cell_type": "markdown",
   "metadata": {},
   "source": [
    "cross checking that the results are same as what we expect"
   ]
  },
  {
   "cell_type": "code",
   "execution_count": 47,
   "metadata": {
    "collapsed": false
   },
   "outputs": [],
   "source": [
    "df.to_csv(\"user_click_data.csv\",index=None)"
   ]
  }
 ],
 "metadata": {
  "kernelspec": {
   "display_name": "Python 3",
   "language": "python",
   "name": "python3"
  },
  "language_info": {
   "codemirror_mode": {
    "name": "ipython",
    "version": 3
   },
   "file_extension": ".py",
   "mimetype": "text/x-python",
   "name": "python",
   "nbconvert_exporter": "python",
   "pygments_lexer": "ipython3",
   "version": "3.7.0"
  }
 },
 "nbformat": 4,
 "nbformat_minor": 2
}
