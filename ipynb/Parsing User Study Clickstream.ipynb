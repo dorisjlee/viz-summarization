{
 "cells": [
  {
   "cell_type": "code",
   "execution_count": 1,
   "metadata": {
    "collapsed": false
   },
   "outputs": [
    {
     "name": "stdout",
     "output_type": "stream",
     "text": [
      "Populating the interactive namespace from numpy and matplotlib\n"
     ]
    }
   ],
   "source": [
    "%pylab inline \n",
    "import pandas as pd \n",
    "import json"
   ]
  },
  {
   "cell_type": "code",
   "execution_count": 2,
   "metadata": {
    "collapsed": true
   },
   "outputs": [],
   "source": [
    "# csv files for answer responses\n",
    "gdrive_path = \"/Users/dorislee/Google Drive/Turn/VAST/user_study/evaluation_study/transcription_and_analysis/\"\n",
    "# user study logs\n",
    "box_path = \"/Users/dorislee/Box/viz-summarization-user-study-material/\" "
   ]
  },
  {
   "cell_type": "code",
   "execution_count": 3,
   "metadata": {
    "collapsed": false
   },
   "outputs": [],
   "source": [
    "import glob"
   ]
  },
  {
   "cell_type": "code",
   "execution_count": 4,
   "metadata": {
    "collapsed": false
   },
   "outputs": [],
   "source": [
    "df_data = []\n",
    "for filename in glob.glob(box_path+\"*log\"):\n",
    "    line_num=0\n",
    "    with open(filename) as f:\n",
    "        for line in f:\n",
    "            lsp = line.split(',')\n",
    "            date = lsp[0]\n",
    "            user = lsp[1][1:-1]\n",
    "            task = lsp[2][1:-1]\n",
    "            dataset_name = lsp[3][1:-1]\n",
    "            clicks = json.loads(\",\".join(lsp[4:]))\n",
    "            if dataset_name!=\"default\":\n",
    "                dataset = json.loads(open(\"../system/static/generated_dashboards/\"+dataset_name).read().replace(\"\\\\\",\"\"))\n",
    "                for nodeID in dataset.keys():\n",
    "                    df_data.append([line_num,date,dataset_name,user,task,nodeID,clicks[nodeID],dataset[nodeID][-1][\"filter\"],dataset[nodeID][-1][\"populationSize\"]])\n",
    "            line_num +=1"
   ]
  },
  {
   "cell_type": "code",
   "execution_count": null,
   "metadata": {
    "collapsed": true
   },
   "outputs": [],
   "source": [
    "1,13,4,8"
   ]
  },
  {
   "cell_type": "code",
   "execution_count": 66,
   "metadata": {
    "collapsed": false
   },
   "outputs": [
    {
     "data": {
      "text/html": [
       "<div>\n",
       "<table border=\"1\" class=\"dataframe\">\n",
       "  <thead>\n",
       "    <tr style=\"text-align: right;\">\n",
       "      <th></th>\n",
       "      <th>user</th>\n",
       "      <th>visualization</th>\n",
       "      <th>interested</th>\n",
       "      <th>task</th>\n",
       "    </tr>\n",
       "  </thead>\n",
       "  <tbody>\n",
       "    <tr>\n",
       "      <th>372</th>\n",
       "      <td>1</td>\n",
       "      <td>duration=30+ min</td>\n",
       "      <td>interested</td>\n",
       "      <td>A1</td>\n",
       "    </tr>\n",
       "    <tr>\n",
       "      <th>4480</th>\n",
       "      <td>10</td>\n",
       "      <td>duration=30+ min</td>\n",
       "      <td>not interested</td>\n",
       "      <td>A2</td>\n",
       "    </tr>\n",
       "    <tr>\n",
       "      <th>5852</th>\n",
       "      <td>12</td>\n",
       "      <td>duration=30+ min</td>\n",
       "      <td>unselected</td>\n",
       "      <td>A1</td>\n",
       "    </tr>\n",
       "    <tr>\n",
       "      <th>6522</th>\n",
       "      <td>13</td>\n",
       "      <td>duration=30+ min</td>\n",
       "      <td>interested</td>\n",
       "      <td>A1</td>\n",
       "    </tr>\n",
       "    <tr>\n",
       "      <th>7032</th>\n",
       "      <td>14</td>\n",
       "      <td>duration=30+ min</td>\n",
       "      <td>not interested</td>\n",
       "      <td>A1</td>\n",
       "    </tr>\n",
       "    <tr>\n",
       "      <th>7660</th>\n",
       "      <td>15</td>\n",
       "      <td>duration=30+ min</td>\n",
       "      <td>not interested</td>\n",
       "      <td>A2</td>\n",
       "    </tr>\n",
       "    <tr>\n",
       "      <th>8440</th>\n",
       "      <td>16</td>\n",
       "      <td>duration=30+ min</td>\n",
       "      <td>not interested</td>\n",
       "      <td>A2</td>\n",
       "    </tr>\n",
       "    <tr>\n",
       "      <th>742</th>\n",
       "      <td>2</td>\n",
       "      <td>duration=30+ min</td>\n",
       "      <td>unselected</td>\n",
       "      <td>A1</td>\n",
       "    </tr>\n",
       "    <tr>\n",
       "      <th>940</th>\n",
       "      <td>3</td>\n",
       "      <td>duration=30+ min</td>\n",
       "      <td>unselected</td>\n",
       "      <td>A2</td>\n",
       "    </tr>\n",
       "    <tr>\n",
       "      <th>1620</th>\n",
       "      <td>4</td>\n",
       "      <td>duration=30+ min</td>\n",
       "      <td>interested</td>\n",
       "      <td>A2</td>\n",
       "    </tr>\n",
       "    <tr>\n",
       "      <th>3282</th>\n",
       "      <td>7</td>\n",
       "      <td>duration=30+ min</td>\n",
       "      <td>unselected</td>\n",
       "      <td>A1</td>\n",
       "    </tr>\n",
       "    <tr>\n",
       "      <th>3492</th>\n",
       "      <td>8</td>\n",
       "      <td>duration=30+ min</td>\n",
       "      <td>interested</td>\n",
       "      <td>A1</td>\n",
       "    </tr>\n",
       "    <tr>\n",
       "      <th>3830</th>\n",
       "      <td>9</td>\n",
       "      <td>duration=30+ min</td>\n",
       "      <td>not interested</td>\n",
       "      <td>A2</td>\n",
       "    </tr>\n",
       "  </tbody>\n",
       "</table>\n",
       "</div>"
      ],
      "text/plain": [
       "      user      visualization      interested task\n",
       "372      1   duration=30+ min      interested   A1\n",
       "4480    10   duration=30+ min  not interested   A2\n",
       "5852    12   duration=30+ min      unselected   A1\n",
       "6522    13   duration=30+ min      interested   A1\n",
       "7032    14   duration=30+ min  not interested   A1\n",
       "7660    15   duration=30+ min  not interested   A2\n",
       "8440    16   duration=30+ min  not interested   A2\n",
       "742      2   duration=30+ min      unselected   A1\n",
       "940      3   duration=30+ min      unselected   A2\n",
       "1620     4   duration=30+ min      interested   A2\n",
       "3282     7   duration=30+ min      unselected   A1\n",
       "3492     8   duration=30+ min      interested   A1\n",
       "3830     9   duration=30+ min  not interested   A2"
      ]
     },
     "execution_count": 66,
     "metadata": {},
     "output_type": "execute_result"
    }
   ],
   "source": [
    "df[df[\"visualization\"].str.contains(\"duration=30\\+ min\")&~df[\"visualization\"].str.contains(\",\")]#&(df[\"interested\"]=\"interested\")]"
   ]
  },
  {
   "cell_type": "code",
   "execution_count": 5,
   "metadata": {
    "collapsed": false
   },
   "outputs": [],
   "source": [
    "df = pd.DataFrame(df_data,columns=[\"line_num\",\"date\",\"dataset_name\",\"user\",\"task\",\"nodeID\",\"clicks\",\"visualization\",\"populationSize\"])\n",
    "df[\"date\"] = pd.to_datetime(df[\"date\"],format=\"%Y-%m-%d-%H-%M-%S\")"
   ]
  },
  {
   "cell_type": "code",
   "execution_count": 6,
   "metadata": {
    "collapsed": false
   },
   "outputs": [],
   "source": [
    "df.loc[df[\"clicks\"]==0,\"interested\"]=\"unselected\"\n",
    "df.loc[df[\"clicks\"]==1,\"interested\"]=\"unselected\"\n",
    "df.loc[df[\"clicks\"]==2,\"interested\"]=\"interested\"\n",
    "df.loc[df[\"clicks\"]==3,\"interested\"]=\"not interested\""
   ]
  },
  {
   "cell_type": "code",
   "execution_count": 7,
   "metadata": {
    "collapsed": false
   },
   "outputs": [],
   "source": [
    "#select the best task, user (since all node are logged on the latest output, so we will just pick the latest one)\n",
    "#df = df.loc[df.groupby([\"user\",\"task\",\"nodeID\"])[[\"date\"]].idxmax()]\n",
    "#select the latest logged output based on line numbering\n",
    "df = df.loc[df.groupby([\"user\",\"task\",\"nodeID\"])[\"line_num\"].idxmax()]"
   ]
  },
  {
   "cell_type": "code",
   "execution_count": 8,
   "metadata": {
    "collapsed": true
   },
   "outputs": [],
   "source": [
    "df = df[[\"user\",\"visualization\",\"interested\",\"task\"]]"
   ]
  },
  {
   "cell_type": "code",
   "execution_count": 9,
   "metadata": {
    "collapsed": true
   },
   "outputs": [],
   "source": [
    "def cleanFilterVal(x):\n",
    "    if x==\"#\":\n",
    "        return \"overall\"\n",
    "    else:\n",
    "        return x.replace(\"$\",\"=\").replace(\"#\",\", \")[1:-2]"
   ]
  },
  {
   "cell_type": "code",
   "execution_count": 10,
   "metadata": {
    "collapsed": false
   },
   "outputs": [],
   "source": [
    "df[\"visualization\"]= df[\"visualization\"].apply(cleanFilterVal)"
   ]
  },
  {
   "cell_type": "code",
   "execution_count": 11,
   "metadata": {
    "collapsed": false
   },
   "outputs": [],
   "source": [
    "df[\"user\"] = df[\"user\"].astype(\"int\")"
   ]
  },
  {
   "cell_type": "code",
   "execution_count": 12,
   "metadata": {
    "collapsed": false
   },
   "outputs": [],
   "source": [
    "df = df[~df[\"task\"].str.contains(\"T\")] #ignore the titanic tutorial tasks"
   ]
  },
  {
   "cell_type": "code",
   "execution_count": 13,
   "metadata": {
    "collapsed": false
   },
   "outputs": [],
   "source": [
    "#make sure each user only does the task that they are assigned\n",
    "user_task =  pd.read_csv(gdrive_path+\"UserTaskAssignment.csv\")"
   ]
  },
  {
   "cell_type": "code",
   "execution_count": 14,
   "metadata": {
    "collapsed": false
   },
   "outputs": [
    {
     "data": {
      "text/html": [
       "<div>\n",
       "<table border=\"1\" class=\"dataframe\">\n",
       "  <thead>\n",
       "    <tr style=\"text-align: right;\">\n",
       "      <th></th>\n",
       "      <th>user</th>\n",
       "      <th>visualization</th>\n",
       "      <th>interested</th>\n",
       "      <th>task</th>\n",
       "    </tr>\n",
       "  </thead>\n",
       "  <tbody>\n",
       "    <tr>\n",
       "      <th>376</th>\n",
       "      <td>1</td>\n",
       "      <td>overall</td>\n",
       "      <td>unselected</td>\n",
       "      <td>A1</td>\n",
       "    </tr>\n",
       "    <tr>\n",
       "      <th>378</th>\n",
       "      <td>1</td>\n",
       "      <td>driver_race=Other, duration=30+ min</td>\n",
       "      <td>interested</td>\n",
       "      <td>A1</td>\n",
       "    </tr>\n",
       "    <tr>\n",
       "      <th>370</th>\n",
       "      <td>1</td>\n",
       "      <td>contraband_found=t</td>\n",
       "      <td>interested</td>\n",
       "      <td>A1</td>\n",
       "    </tr>\n",
       "    <tr>\n",
       "      <th>372</th>\n",
       "      <td>1</td>\n",
       "      <td>duration=30+ min</td>\n",
       "      <td>interested</td>\n",
       "      <td>A1</td>\n",
       "    </tr>\n",
       "    <tr>\n",
       "      <th>373</th>\n",
       "      <td>1</td>\n",
       "      <td>contraband_found=t, driver_age=60 and over</td>\n",
       "      <td>unselected</td>\n",
       "      <td>A1</td>\n",
       "    </tr>\n",
       "  </tbody>\n",
       "</table>\n",
       "</div>"
      ],
      "text/plain": [
       "     user                                visualization  interested task\n",
       "376     1                                      overall  unselected   A1\n",
       "378     1          driver_race=Other, duration=30+ min  interested   A1\n",
       "370     1                           contraband_found=t  interested   A1\n",
       "372     1                             duration=30+ min  interested   A1\n",
       "373     1   contraband_found=t, driver_age=60 and over  unselected   A1"
      ]
     },
     "execution_count": 14,
     "metadata": {},
     "output_type": "execute_result"
    }
   ],
   "source": [
    "df.head()"
   ]
  },
  {
   "cell_type": "code",
   "execution_count": 15,
   "metadata": {
    "collapsed": false
   },
   "outputs": [],
   "source": [
    "i =0 \n",
    "df_data=[]\n",
    "for row in df.iterrows():\n",
    "    selected_user = user_task[user_task[\"User\"]==row[1][\"user\"]]\n",
    "    if row[1][\"task\"] in selected_user[\"Task1\"].values[0] or row[1][\"task\"] in selected_user[\"Task2\"].values[0]: \n",
    "        #print \"pass\"\n",
    "        df_data.append(row[1][[\"user\",\"visualization\",\"interested\",\"task\"]])\n",
    "    else:\n",
    "        pass\n",
    "        #print row[1]\n",
    "    i +=1"
   ]
  },
  {
   "cell_type": "code",
   "execution_count": 16,
   "metadata": {
    "collapsed": false
   },
   "outputs": [],
   "source": [
    "df_data =pd.DataFrame(df_data)"
   ]
  },
  {
   "cell_type": "markdown",
   "metadata": {},
   "source": [
    "- Had to manually clean up user_log_03_22.log because the second trial of user 11 was recorded as user 1, user 12 was also recorded as user 1\n",
    "- Had to manually clean up user_log_03_18.log because user 8 was not recorded\n",
    "- Had to manually clean up user_log_03_18.log because user  18 was recorded as user 1 for the second trial and there were A1 stuff mixed in there"
   ]
  },
  {
   "cell_type": "markdown",
   "metadata": {},
   "source": [
    "cross checking that the results are same as what we expect"
   ]
  },
  {
   "cell_type": "code",
   "execution_count": 17,
   "metadata": {
    "collapsed": false
   },
   "outputs": [
    {
     "data": {
      "text/html": [
       "<div>\n",
       "<table border=\"1\" class=\"dataframe\">\n",
       "  <thead>\n",
       "    <tr style=\"text-align: right;\">\n",
       "      <th></th>\n",
       "      <th>user</th>\n",
       "      <th>task</th>\n",
       "    </tr>\n",
       "  </thead>\n",
       "  <tbody>\n",
       "    <tr>\n",
       "      <th>0</th>\n",
       "      <td>1</td>\n",
       "      <td>A1B2</td>\n",
       "    </tr>\n",
       "    <tr>\n",
       "      <th>1</th>\n",
       "      <td>2</td>\n",
       "      <td>A1B3</td>\n",
       "    </tr>\n",
       "    <tr>\n",
       "      <th>2</th>\n",
       "      <td>3</td>\n",
       "      <td>A2B1</td>\n",
       "    </tr>\n",
       "    <tr>\n",
       "      <th>3</th>\n",
       "      <td>4</td>\n",
       "      <td>A2B3</td>\n",
       "    </tr>\n",
       "    <tr>\n",
       "      <th>4</th>\n",
       "      <td>5</td>\n",
       "      <td>A3B1</td>\n",
       "    </tr>\n",
       "    <tr>\n",
       "      <th>5</th>\n",
       "      <td>6</td>\n",
       "      <td>A3B2</td>\n",
       "    </tr>\n",
       "    <tr>\n",
       "      <th>6</th>\n",
       "      <td>7</td>\n",
       "      <td>A1B2</td>\n",
       "    </tr>\n",
       "    <tr>\n",
       "      <th>7</th>\n",
       "      <td>8</td>\n",
       "      <td>A1B3</td>\n",
       "    </tr>\n",
       "    <tr>\n",
       "      <th>8</th>\n",
       "      <td>9</td>\n",
       "      <td>A2B1</td>\n",
       "    </tr>\n",
       "    <tr>\n",
       "      <th>9</th>\n",
       "      <td>10</td>\n",
       "      <td>A2B3</td>\n",
       "    </tr>\n",
       "    <tr>\n",
       "      <th>10</th>\n",
       "      <td>11</td>\n",
       "      <td>A3B1</td>\n",
       "    </tr>\n",
       "    <tr>\n",
       "      <th>11</th>\n",
       "      <td>12</td>\n",
       "      <td>A3B2</td>\n",
       "    </tr>\n",
       "    <tr>\n",
       "      <th>12</th>\n",
       "      <td>13</td>\n",
       "      <td>A1B2</td>\n",
       "    </tr>\n",
       "    <tr>\n",
       "      <th>13</th>\n",
       "      <td>14</td>\n",
       "      <td>A1B3</td>\n",
       "    </tr>\n",
       "    <tr>\n",
       "      <th>14</th>\n",
       "      <td>15</td>\n",
       "      <td>A2B1</td>\n",
       "    </tr>\n",
       "    <tr>\n",
       "      <th>15</th>\n",
       "      <td>16</td>\n",
       "      <td>A2B3</td>\n",
       "    </tr>\n",
       "    <tr>\n",
       "      <th>16</th>\n",
       "      <td>17</td>\n",
       "      <td>A3B1</td>\n",
       "    </tr>\n",
       "    <tr>\n",
       "      <th>17</th>\n",
       "      <td>18</td>\n",
       "      <td>A3B2</td>\n",
       "    </tr>\n",
       "  </tbody>\n",
       "</table>\n",
       "</div>"
      ],
      "text/plain": [
       "    user  task\n",
       "0      1  A1B2\n",
       "1      2  A1B3\n",
       "2      3  A2B1\n",
       "3      4  A2B3\n",
       "4      5  A3B1\n",
       "5      6  A3B2\n",
       "6      7  A1B2\n",
       "7      8  A1B3\n",
       "8      9  A2B1\n",
       "9     10  A2B3\n",
       "10    11  A3B1\n",
       "11    12  A3B2\n",
       "12    13  A1B2\n",
       "13    14  A1B3\n",
       "14    15  A2B1\n",
       "15    16  A2B3\n",
       "16    17  A3B1\n",
       "17    18  A3B2"
      ]
     },
     "execution_count": 17,
     "metadata": {},
     "output_type": "execute_result"
    }
   ],
   "source": [
    "df_data.groupby([\"user\",\"task\"],as_index=False).sum()[[\"user\",\"task\"]].groupby(\"user\",as_index=False).sum()"
   ]
  },
  {
   "cell_type": "code",
   "execution_count": 18,
   "metadata": {
    "collapsed": false
   },
   "outputs": [
    {
     "data": {
      "text/html": [
       "<div>\n",
       "<table border=\"1\" class=\"dataframe\">\n",
       "  <thead>\n",
       "    <tr style=\"text-align: right;\">\n",
       "      <th></th>\n",
       "      <th>User</th>\n",
       "      <th>Task1</th>\n",
       "      <th>Task2</th>\n",
       "    </tr>\n",
       "  </thead>\n",
       "  <tbody>\n",
       "    <tr>\n",
       "      <th>0</th>\n",
       "      <td>1</td>\n",
       "      <td>A1</td>\n",
       "      <td>B2</td>\n",
       "    </tr>\n",
       "    <tr>\n",
       "      <th>1</th>\n",
       "      <td>2</td>\n",
       "      <td>A1</td>\n",
       "      <td>B3</td>\n",
       "    </tr>\n",
       "    <tr>\n",
       "      <th>2</th>\n",
       "      <td>3</td>\n",
       "      <td>A2</td>\n",
       "      <td>B1</td>\n",
       "    </tr>\n",
       "    <tr>\n",
       "      <th>3</th>\n",
       "      <td>4</td>\n",
       "      <td>A2</td>\n",
       "      <td>B3</td>\n",
       "    </tr>\n",
       "    <tr>\n",
       "      <th>4</th>\n",
       "      <td>5</td>\n",
       "      <td>A3</td>\n",
       "      <td>B1</td>\n",
       "    </tr>\n",
       "    <tr>\n",
       "      <th>5</th>\n",
       "      <td>6</td>\n",
       "      <td>A3</td>\n",
       "      <td>B2</td>\n",
       "    </tr>\n",
       "    <tr>\n",
       "      <th>6</th>\n",
       "      <td>7</td>\n",
       "      <td>A1</td>\n",
       "      <td>B2</td>\n",
       "    </tr>\n",
       "    <tr>\n",
       "      <th>7</th>\n",
       "      <td>8</td>\n",
       "      <td>A1</td>\n",
       "      <td>B3</td>\n",
       "    </tr>\n",
       "    <tr>\n",
       "      <th>8</th>\n",
       "      <td>9</td>\n",
       "      <td>A2</td>\n",
       "      <td>B1</td>\n",
       "    </tr>\n",
       "    <tr>\n",
       "      <th>9</th>\n",
       "      <td>10</td>\n",
       "      <td>A2</td>\n",
       "      <td>B3</td>\n",
       "    </tr>\n",
       "    <tr>\n",
       "      <th>10</th>\n",
       "      <td>11</td>\n",
       "      <td>A3</td>\n",
       "      <td>B1</td>\n",
       "    </tr>\n",
       "    <tr>\n",
       "      <th>11</th>\n",
       "      <td>12</td>\n",
       "      <td>A3</td>\n",
       "      <td>B2</td>\n",
       "    </tr>\n",
       "    <tr>\n",
       "      <th>12</th>\n",
       "      <td>13</td>\n",
       "      <td>A1</td>\n",
       "      <td>B2</td>\n",
       "    </tr>\n",
       "    <tr>\n",
       "      <th>13</th>\n",
       "      <td>14</td>\n",
       "      <td>A1</td>\n",
       "      <td>B3</td>\n",
       "    </tr>\n",
       "    <tr>\n",
       "      <th>14</th>\n",
       "      <td>15</td>\n",
       "      <td>A2</td>\n",
       "      <td>B1</td>\n",
       "    </tr>\n",
       "    <tr>\n",
       "      <th>15</th>\n",
       "      <td>16</td>\n",
       "      <td>A2</td>\n",
       "      <td>B3</td>\n",
       "    </tr>\n",
       "    <tr>\n",
       "      <th>16</th>\n",
       "      <td>17</td>\n",
       "      <td>A3</td>\n",
       "      <td>B1</td>\n",
       "    </tr>\n",
       "    <tr>\n",
       "      <th>17</th>\n",
       "      <td>18</td>\n",
       "      <td>A3</td>\n",
       "      <td>B2</td>\n",
       "    </tr>\n",
       "  </tbody>\n",
       "</table>\n",
       "</div>"
      ],
      "text/plain": [
       "    User Task1 Task2\n",
       "0      1    A1    B2\n",
       "1      2    A1    B3\n",
       "2      3    A2    B1\n",
       "3      4    A2    B3\n",
       "4      5    A3    B1\n",
       "5      6    A3    B2\n",
       "6      7    A1    B2\n",
       "7      8    A1    B3\n",
       "8      9    A2    B1\n",
       "9     10    A2    B3\n",
       "10    11    A3    B1\n",
       "11    12    A3    B2\n",
       "12    13    A1    B2\n",
       "13    14    A1    B3\n",
       "14    15    A2    B1\n",
       "15    16    A2    B3\n",
       "16    17    A3    B1\n",
       "17    18    A3    B2"
      ]
     },
     "execution_count": 18,
     "metadata": {},
     "output_type": "execute_result"
    }
   ],
   "source": [
    "user_task"
   ]
  },
  {
   "cell_type": "code",
   "execution_count": 19,
   "metadata": {
    "collapsed": false
   },
   "outputs": [],
   "source": [
    "df.to_csv(\"user_click_data.csv\",index=None)"
   ]
  },
  {
   "cell_type": "code",
   "execution_count": 67,
   "metadata": {
    "collapsed": false
   },
   "outputs": [],
   "source": [
    "#cross check with screen shot \n",
    "# df[df[\"user\"]==9]"
   ]
  },
  {
   "cell_type": "code",
   "execution_count": null,
   "metadata": {
    "collapsed": true
   },
   "outputs": [],
   "source": []
  }
 ],
 "metadata": {
  "kernelspec": {
   "display_name": "Python 2",
   "language": "python",
   "name": "python2"
  },
  "language_info": {
   "codemirror_mode": {
    "name": "ipython",
    "version": 2
   },
   "file_extension": ".py",
   "mimetype": "text/x-python",
   "name": "python",
   "nbconvert_exporter": "python",
   "pygments_lexer": "ipython2",
   "version": "2.7.10"
  }
 },
 "nbformat": 4,
 "nbformat_minor": 0
}
