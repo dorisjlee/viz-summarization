{
 "cells": [
  {
   "cell_type": "code",
   "execution_count": 1,
   "metadata": {
    "collapsed": false
   },
   "outputs": [
    {
     "name": "stdout",
     "output_type": "stream",
     "text": [
      "/Users/dorislee/Desktop/Research/viz-sum/system\n"
     ]
    }
   ],
   "source": [
    "cd ../system/"
   ]
  },
  {
   "cell_type": "code",
   "execution_count": 5,
   "metadata": {
    "collapsed": true
   },
   "outputs": [],
   "source": [
    "from lattice import Lattice\n",
    "from node import vizNode\n",
    "import networkx as nx\n",
    "from vizObj import vizObj\n",
    "from collections import OrderedDict\n",
    "import json"
   ]
  },
  {
   "cell_type": "code",
   "execution_count": 6,
   "metadata": {
    "collapsed": false
   },
   "outputs": [],
   "source": [
    "# set up the tree example\n",
    "G = Lattice()\n",
    "v1 = vizObj(x=[\"Clinton\", \"Trump\", \"Others\"],y=\"% of vote\",filters=[\"All\"],\\\n",
    "            agg_func=\"SUM\",tablename=\"election\")\n",
    "v1.setData([48, 46, 6])\n",
    "root = vizNode(viz=v1, parents=None)\n",
    "\n",
    "v2 = vizObj(x=[\"Clinton\", \"Trump\", \"Others\"],y=\"% of vote\",filters=[\"Race = White\"],\\\n",
    "            agg_func=\"SUM\",tablename=\"election\")\n",
    "v2.setData([31, 62, 7])\n",
    "W = vizNode(viz=v2,parents=[root])\n",
    "\n",
    "v3 = vizObj(x=[\"Clinton\", \"Trump\", \"Others\"],y=\"% of vote\",filters=[\"Gender = F\"],\\\n",
    "            agg_func=\"SUM\",tablename=\"election\")\n",
    "v3.setData([21, 70, 9])\n",
    "F = vizNode(viz=v3,parents=[root])\n",
    "# set up the tree example\n",
    "for nodes in G.getNodes():\n",
    "    for child in nodes.get_child():\n",
    "        G.addEdge(nodes, child)\n",
    "G.addMultiNodes([root,W,F])\n",
    "root.set_children([W,F])   "
   ]
  },
  {
   "cell_type": "code",
   "execution_count": 7,
   "metadata": {
    "collapsed": true
   },
   "outputs": [],
   "source": [
    "nodeDic = G.generateNodeDic()\n",
    "ret = G.generateJson(root, nodeDic)\n",
    "ret2 = G.generateNodeDicJsonFile()"
   ]
  },
  {
   "cell_type": "code",
   "execution_count": 17,
   "metadata": {
    "collapsed": false
   },
   "outputs": [
    {
     "data": {
      "text/plain": [
       "{1: [{'xAxis': 'Clinton', 'yAxis': 48},\n",
       "  {'xAxis': 'Trump', 'yAxis': 46},\n",
       "  {'xAxis': 'Others', 'yAxis': 6},\n",
       "  {'childrenIndex': [2, 3], 'filter': 'All', 'yName': '% of vote'}],\n",
       " 2: [{'xAxis': 'Clinton', 'yAxis': 31},\n",
       "  {'xAxis': 'Trump', 'yAxis': 62},\n",
       "  {'xAxis': 'Others', 'yAxis': 7},\n",
       "  {'childrenIndex': [], 'filter': 'Race = White', 'yName': '% of vote'}],\n",
       " 3: [{'xAxis': 'Clinton', 'yAxis': 21},\n",
       "  {'xAxis': 'Trump', 'yAxis': 70},\n",
       "  {'xAxis': 'Others', 'yAxis': 9},\n",
       "  {'childrenIndex': [], 'filter': 'Gender = F', 'yName': '% of vote'}]}"
      ]
     },
     "execution_count": 17,
     "metadata": {},
     "output_type": "execute_result"
    }
   ],
   "source": [
    "nodeDic"
   ]
  },
  {
   "cell_type": "code",
   "execution_count": 8,
   "metadata": {
    "collapsed": false
   },
   "outputs": [
    {
     "data": {
      "text/plain": [
       "<networkx.classes.digraph.DiGraph at 0x10a1b7d50>"
      ]
     },
     "execution_count": 8,
     "metadata": {},
     "output_type": "execute_result"
    }
   ],
   "source": [
    "G.graph"
   ]
  },
  {
   "cell_type": "code",
   "execution_count": 9,
   "metadata": {
    "collapsed": true
   },
   "outputs": [],
   "source": [
    "import networkx as nx"
   ]
  },
  {
   "cell_type": "code",
   "execution_count": 11,
   "metadata": {
    "collapsed": false
   },
   "outputs": [],
   "source": [
    "nx.write_edgelist(G.graph,\"test.edgelist\")"
   ]
  },
  {
   "cell_type": "code",
   "execution_count": 12,
   "metadata": {
    "collapsed": false
   },
   "outputs": [
    {
     "name": "stdout",
     "output_type": "stream",
     "text": [
      "<vizNode (X: ['Clinton', 'Trump', 'Others'], Y: % of vote, filters: ['All'], data: [48, 46, 6])> <vizNode (X: ['Clinton', 'Trump', 'Others'], Y: % of vote, filters: ['Race = White'], data: [31, 62, 7])> {}\r\n",
      "<vizNode (X: ['Clinton', 'Trump', 'Others'], Y: % of vote, filters: ['All'], data: [48, 46, 6])> <vizNode (X: ['Clinton', 'Trump', 'Others'], Y: % of vote, filters: ['Gender = F'], data: [21, 70, 9])> {}\r\n"
     ]
    }
   ],
   "source": [
    "cat test.edgelist"
   ]
  },
  {
   "cell_type": "code",
   "execution_count": 14,
   "metadata": {
    "collapsed": false
   },
   "outputs": [
    {
     "data": {
      "text/plain": [
       "[(<vizNode (X: ['Clinton', 'Trump', 'Others'], Y: % of vote, filters: ['All'], data: [48, 46, 6])>,\n",
       "  <vizNode (X: ['Clinton', 'Trump', 'Others'], Y: % of vote, filters: ['Race = White'], data: [31, 62, 7])>),\n",
       " (<vizNode (X: ['Clinton', 'Trump', 'Others'], Y: % of vote, filters: ['All'], data: [48, 46, 6])>,\n",
       "  <vizNode (X: ['Clinton', 'Trump', 'Others'], Y: % of vote, filters: ['Gender = F'], data: [21, 70, 9])>)]"
      ]
     },
     "execution_count": 14,
     "metadata": {},
     "output_type": "execute_result"
    }
   ],
   "source": [
    "G.graph.edges()"
   ]
  },
  {
   "cell_type": "code",
   "execution_count": 15,
   "metadata": {
    "collapsed": false
   },
   "outputs": [
    {
     "data": {
      "text/plain": [
       "[<vizNode (X: ['Clinton', 'Trump', 'Others'], Y: % of vote, filters: ['Race = White'], data: [31, 62, 7])>,\n",
       " <vizNode (X: ['Clinton', 'Trump', 'Others'], Y: % of vote, filters: ['All'], data: [48, 46, 6])>,\n",
       " <vizNode (X: ['Clinton', 'Trump', 'Others'], Y: % of vote, filters: ['Gender = F'], data: [21, 70, 9])>]"
      ]
     },
     "execution_count": 15,
     "metadata": {},
     "output_type": "execute_result"
    }
   ],
   "source": [
    "G.graph.nodes()"
   ]
  },
  {
   "cell_type": "code",
   "execution_count": 16,
   "metadata": {
    "collapsed": true
   },
   "outputs": [],
   "source": [
    "G.graph.node_dict_factory?"
   ]
  },
  {
   "cell_type": "code",
   "execution_count": null,
   "metadata": {
    "collapsed": true
   },
   "outputs": [],
   "source": [
    "[{id:1, label: ----},{id:1, label: ----},{id:1, label: ----}...]\n",
    "[1 to 2, 2to3 ]"
   ]
  },
  {
   "cell_type": "markdown",
   "metadata": {},
   "source": [
    "-----------------------------------------------------------------------------"
   ]
  },
  {
   "cell_type": "code",
   "execution_count": 28,
   "metadata": {
    "collapsed": false
   },
   "outputs": [
    {
     "name": "stdout",
     "output_type": "stream",
     "text": [
      "Populating the interactive namespace from numpy and matplotlib\n"
     ]
    }
   ],
   "source": [
    "%pylab inline"
   ]
  },
  {
   "cell_type": "code",
   "execution_count": 18,
   "metadata": {
    "collapsed": true
   },
   "outputs": [],
   "source": [
    "import json"
   ]
  },
  {
   "cell_type": "code",
   "execution_count": 53,
   "metadata": {
    "collapsed": true
   },
   "outputs": [],
   "source": [
    "j = json.loads('{\"one\" : \"1\", \"two\" : \"2\", \"three\" : \"3\"}')"
   ]
  },
  {
   "cell_type": "code",
   "execution_count": 68,
   "metadata": {
    "collapsed": false
   },
   "outputs": [],
   "source": [
    "nodeDicStr=\"{\\\"1\\\": [{ \\\"xAxis\\\": \\\"0\\\", \\\"yAxis\\\":46.0},{ \\\"xAxis\\\": \\\"1\\\", \\\"yAxis\\\":64.0},{\\\"childrenIndex\\\":[1, 2, 3, 4, 5], \\\"filter\\\":\\\"#\\\",\\\"yName\\\":\\\"COUNT(id)\\\"}],\\\"2\\\": [{ \\\"xAxis\\\": \\\"0\\\", \\\"yAxis\\\":83.31374853113984},{ \\\"xAxis\\\": \\\"1\\\", \\\"yAxis\\\":16.686251468860164},{\\\"childrenIndex\\\":[6, 7, 8], \\\"filter\\\":\\\"#sexcode$0#\\\",\\\"yName\\\":\\\"COUNT(id)\\\"}],\\\"3\\\": [{ \\\"xAxis\\\": \\\"0\\\", \\\"yAxis\\\":67.0391061452514},{ \\\"xAxis\\\": \\\"1\\\", \\\"yAxis\\\":32.960893854748605},{\\\"childrenIndex\\\":[], \\\"filter\\\":\\\"#sexcode$0#pc_class$1#\\\",\\\"yName\\\":\\\"COUNT(id)\\\"}]}\""
   ]
  },
  {
   "cell_type": "code",
   "execution_count": 69,
   "metadata": {
    "collapsed": false
   },
   "outputs": [],
   "source": [
    "nodeDic=json.loads(nodeDicStr)"
   ]
  },
  {
   "cell_type": "code",
   "execution_count": 74,
   "metadata": {
    "collapsed": false
   },
   "outputs": [
    {
     "data": {
      "text/plain": [
       "[{u'xAxis': u'0', u'yAxis': 46.0},\n",
       " {u'xAxis': u'1', u'yAxis': 64.0},\n",
       " {u'childrenIndex': [1, 2, 3, 4, 5], u'filter': u'#', u'yName': u'COUNT(id)'}]"
      ]
     },
     "execution_count": 74,
     "metadata": {},
     "output_type": "execute_result"
    }
   ],
   "source": [
    "nodeDic[\"1\"]"
   ]
  },
  {
   "cell_type": "code",
   "execution_count": 118,
   "metadata": {
    "collapsed": false
   },
   "outputs": [],
   "source": [
    "def bar_chart(yVals,xAttrs,xtitle=\"\",ytitle=\"\",title=\"\", N=1,width=0.1):\n",
    "    ind = np.arange(N)  # the x locations for the groups\n",
    "\n",
    "    fig, ax = plt.subplots()\n",
    "    rects1 = ax.bar(ind, yVals[0], width, color='r',  ecolor= \"black\")\n",
    "    rects2 = ax.bar(ind + width, yVals[1], width, color='b', ecolor= \"black\")\n",
    "\n",
    "    # add some text for labels, title and axes ticks\n",
    "    ax.set_ylabel(ytitle,fontsize=14)\n",
    "    ax.set_title(title,fontsize=16)\n",
    "    ax.set_xticks(ind + width)\n",
    "    ax.set_xticklabels(xtitle,fontsize=14)\n",
    "\n",
    "    ax.legend((rects1[0], rects2[0]), xAttrs)\n",
    "    ax.set_ylim((0,100))\n",
    "\n",
    "    autolabel(rects1, ax)\n",
    "    autolabel(rects2, ax)"
   ]
  },
  {
   "cell_type": "code",
   "execution_count": 121,
   "metadata": {
    "collapsed": false
   },
   "outputs": [
    {
     "data": {
      "image/png": "[encoded data removed]",
      "text/plain": [
       "<matplotlib.figure.Figure at 0x10aabfdd0>"
      ]
     },
     "metadata": {},
     "output_type": "display_data"
    }
   ],
   "source": [
    "bar_chart((46,64),(\"0\",\"1\"),\"x\",\"y\")"
   ]
  },
  {
   "cell_type": "code",
   "execution_count": 122,
   "metadata": {
    "collapsed": false
   },
   "outputs": [
    {
     "data": {
      "text/plain": [
       "[{u'xAxis': u'0', u'yAxis': 46.0},\n",
       " {u'xAxis': u'1', u'yAxis': 64.0},\n",
       " {u'childrenIndex': [1, 2, 3, 4, 5], u'filter': u'#', u'yName': u'COUNT(id)'}]"
      ]
     },
     "execution_count": 122,
     "metadata": {},
     "output_type": "execute_result"
    }
   ],
   "source": [
    "[{u'xAxis': u'0', u'yAxis': 46.0},\n",
    " {u'xAxis': u'1', u'yAxis': 64.0},\n",
    " {u'childrenIndex': [1, 2, 3, 4, 5], u'filter': u'#', u'yName': u'COUNT(id)'}]"
   ]
  },
  {
   "cell_type": "code",
   "execution_count": 123,
   "metadata": {
    "collapsed": false
   },
   "outputs": [
    {
     "data": {
      "text/plain": [
       "u'sexcode=0;'"
      ]
     },
     "execution_count": 123,
     "metadata": {},
     "output_type": "execute_result"
    }
   ],
   "source": [
    "filterName"
   ]
  },
  {
   "cell_type": "code",
   "execution_count": 124,
   "metadata": {
    "collapsed": false
   },
   "outputs": [],
   "source": [
    "def autolabel(rects, ax):\n",
    "    # Get y-axis height to calculate label position from.\n",
    "    (y_bottom, y_top) = ax.get_ylim()\n",
    "    y_height = y_top - y_bottom\n",
    "\n",
    "    for rect in rects:\n",
    "        height = rect.get_height()\n",
    "        label_position = height + (y_height * 0.01)\n",
    "\n",
    "        ax.text(rect.get_x() + rect.get_width()/2., label_position,\n",
    "                '%d' % int(height),\n",
    "                ha='center', va='bottom',fontsize=14)"
   ]
  },
  {
   "cell_type": "code",
   "execution_count": 125,
   "metadata": {
    "collapsed": true
   },
   "outputs": [],
   "source": [
    "import re"
   ]
  },
  {
   "cell_type": "code",
   "execution_count": 126,
   "metadata": {
    "collapsed": false
   },
   "outputs": [
    {
     "data": {
      "image/png": "[encoded data removed]",
      "text/plain": [
       "<matplotlib.figure.Figure at 0x10acd2050>"
      ]
     },
     "metadata": {},
     "output_type": "display_data"
    },
    {
     "data": {
      "image/png": "[encoded data removed]",
      "text/plain": [
       "<matplotlib.figure.Figure at 0x10aabfc10>"
      ]
     },
     "metadata": {},
     "output_type": "display_data"
    },
    {
     "data": {
      "image/png": "[encoded data removed]",
      "text/plain": [
       "<matplotlib.figure.Figure at 0x10aa86e10>"
      ]
     },
     "metadata": {},
     "output_type": "display_data"
    }
   ],
   "source": [
    "for node in nodeDic.values():\n",
    "    xAttrs = []\n",
    "    yVals =[]\n",
    "    filterName=\"\"\n",
    "    for i,bar in enumerate(node): \n",
    "        if i<2:\n",
    "            xAttrs.append(bar[\"xAxis\"])\n",
    "            yVals.append(bar[\"yAxis\"])\n",
    "        if i==2:\n",
    "            filterName=bar['filter']\n",
    "            if filterName==\"#\":\n",
    "                filterName=\"Root\"\n",
    "            else:\n",
    "                filterName=filterName.replace(\"0#\",\"0;\").replace(\"1#\",\"1;\").replace(\"$\",\"=\").replace(\"#\",\"\")\n",
    "    bar_chart(yVals,xAttrs,\"survived\",'COUNT(id)',filterName)"
   ]
  },
  {
   "cell_type": "code",
   "execution_count": 91,
   "metadata": {
    "collapsed": false
   },
   "outputs": [
    {
     "data": {
      "text/plain": [
       "[{u'xAxis': u'0', u'yAxis': 46.0},\n",
       " {u'xAxis': u'1', u'yAxis': 64.0},\n",
       " {u'childrenIndex': [1, 2, 3, 4, 5], u'filter': u'#', u'yName': u'COUNT(id)'}]"
      ]
     },
     "execution_count": 91,
     "metadata": {},
     "output_type": "execute_result"
    }
   ],
   "source": []
  },
  {
   "cell_type": "code",
   "execution_count": 88,
   "metadata": {
    "collapsed": false
   },
   "outputs": [
    {
     "data": {
      "text/plain": [
       "u'0'"
      ]
     },
     "execution_count": 88,
     "metadata": {},
     "output_type": "execute_result"
    }
   ],
   "source": [
    "bar[\"xAxis\"]"
   ]
  },
  {
   "cell_type": "code",
   "execution_count": 85,
   "metadata": {
    "collapsed": false
   },
   "outputs": [
    {
     "name": "stdout",
     "output_type": "stream",
     "text": [
      "{u'xAxis': u'0', u'yAxis': 83.31374853113984}\n",
      "{u'xAxis': u'1', u'yAxis': 16.686251468860164}\n",
      "{u'filter': u'#sexcode$0#', u'childrenIndex': [6, 7, 8], u'yName': u'COUNT(id)'}\n"
     ]
    }
   ],
   "source": [
    "for i in node:\n",
    "    print i"
   ]
  },
  {
   "cell_type": "code",
   "execution_count": null,
   "metadata": {
    "collapsed": true
   },
   "outputs": [],
   "source": [
    "node[]"
   ]
  }
 ],
 "metadata": {
  "kernelspec": {
   "display_name": "Python 2",
   "language": "python",
   "name": "python2"
  },
  "language_info": {
   "codemirror_mode": {
    "name": "ipython",
    "version": 2
   },
   "file_extension": ".py",
   "mimetype": "text/x-python",
   "name": "python",
   "nbconvert_exporter": "python",
   "pygments_lexer": "ipython2",
   "version": "2.7.10"
  }
 },
 "nbformat": 4,
 "nbformat_minor": 0
}
