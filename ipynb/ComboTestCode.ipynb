{
 "cells": [
  {
   "cell_type": "code",
   "execution_count": 4,
   "metadata": {
    "collapsed": false
   },
   "outputs": [
    {
     "name": "stdout",
     "output_type": "stream",
     "text": [
      "Populating the interactive namespace from numpy and matplotlib\n"
     ]
    }
   ],
   "source": [
    "%pylab inline\n",
    "dimensionAttributes = ['A', 'B','C']\n",
    "metlst = [[0, 0, 0], [0, 0, 1], [0, 1, 0], [0, 1, 1], [1, 0, 0], [1, 0, 1], [1, 1, 0], [1, 1, 1]]\n",
    "mslst=[87452833, 22547153597, 102380438, 88234929, 54450559161, 332963595605, 10595924171, 71691403454]\n"
   ]
  },
  {
   "cell_type": "code",
   "execution_count": 6,
   "metadata": {
    "collapsed": true
   },
   "outputs": [],
   "source": [
    "constraint =[0,1]\n",
    "csatisfied =[]\n",
    "for i in np.arange(len(mslst)):\n",
    "    metric = metlst[i]\n",
    "    if metric[:len(constraint)]==constraint:\n",
    "        csatisfied.append(mslst[i])"
   ]
  },
  {
   "cell_type": "code",
   "execution_count": 7,
   "metadata": {
    "collapsed": false
   },
   "outputs": [
    {
     "data": {
      "text/plain": [
       "[102380438, 88234929]"
      ]
     },
     "execution_count": 7,
     "metadata": {},
     "output_type": "execute_result"
    }
   ],
   "source": [
    "csatisfied"
   ]
  },
  {
   "cell_type": "code",
   "execution_count": 15,
   "metadata": {
    "collapsed": false
   },
   "outputs": [
    {
     "name": "stdout",
     "output_type": "stream",
     "text": [
      "[('A',), ('B',), ('C',)]\n",
      "[('A', 'B'), ('A', 'C'), ('B', 'A'), ('B', 'C'), ('C', 'A'), ('C', 'B')]\n",
      "[('A', 'B', 'C'), ('A', 'C', 'B'), ('B', 'A', 'C'), ('B', 'C', 'A'), ('C', 'A', 'B'), ('C', 'B', 'A')]\n"
     ]
    }
   ],
   "source": [
    "import itertools\n",
    "\n",
    "print list(itertools.permutations(dimensionAttributes, 1))\n",
    "print list(itertools.permutations(dimensionAttributes, 2))\n",
    "print list(itertools.permutations(dimensionAttributes, 3))"
   ]
  },
  {
   "cell_type": "code",
   "execution_count": 36,
   "metadata": {
    "collapsed": false
   },
   "outputs": [
    {
     "data": {
      "text/plain": [
       "[(0, 1), (0, 2), (0, 3), (1, 2), (1, 3), (2, 3)]"
      ]
     },
     "execution_count": 36,
     "metadata": {},
     "output_type": "execute_result"
    }
   ],
   "source": [
    "list(itertools.combinations([0,1,2,3], 2))"
   ]
  },
  {
   "cell_type": "code",
   "execution_count": 37,
   "metadata": {
    "collapsed": true
   },
   "outputs": [],
   "source": [
    "dim2Constraints = list(itertools.combinations([0,1,2,3], 2))\n",
    "dim2Results = []\n",
    "for constraint in dim2Constraints:\n",
    "    csatisfied =[]\n",
    "    for i in np.arange(len(mslst)):\n",
    "        metric = metlst[i]\n",
    "        if metric[:len(constraint)]==constraint:\n",
    "            csatisfied.append(mslst[i])\n",
    "    dim2Results.append(csatisfied)"
   ]
  },
  {
   "cell_type": "code",
   "execution_count": 38,
   "metadata": {
    "collapsed": false
   },
   "outputs": [
    {
     "data": {
      "text/plain": [
       "[(0, 1), (0, 2), (0, 3), (1, 2), (1, 3), (2, 3)]"
      ]
     },
     "execution_count": 38,
     "metadata": {},
     "output_type": "execute_result"
    }
   ],
   "source": [
    "dim2Constraints"
   ]
  },
  {
   "cell_type": "code",
   "execution_count": 39,
   "metadata": {
    "collapsed": false
   },
   "outputs": [
    {
     "data": {
      "text/plain": [
       "[[], [], [], [], [], []]"
      ]
     },
     "execution_count": 39,
     "metadata": {},
     "output_type": "execute_result"
    }
   ],
   "source": [
    "dim2Results"
   ]
  },
  {
   "cell_type": "code",
   "execution_count": 40,
   "metadata": {
    "collapsed": false
   },
   "outputs": [
    {
     "data": {
      "text/plain": [
       "427290387585"
      ]
     },
     "execution_count": 40,
     "metadata": {},
     "output_type": "execute_result"
    }
   ],
   "source": [
    "355510749202+71779638383"
   ]
  },
  {
   "cell_type": "code",
   "execution_count": 42,
   "metadata": {
    "collapsed": false
   },
   "outputs": [
    {
     "data": {
      "text/plain": [
       "427290387585"
      ]
     },
     "execution_count": 42,
     "metadata": {},
     "output_type": "execute_result"
    }
   ],
   "source": [
    "427290387585"
   ]
  },
  {
   "cell_type": "code",
   "execution_count": 80,
   "metadata": {
    "collapsed": false
   },
   "outputs": [],
   "source": [
    "dim2Constraints = list(itertools.permutations([0,1,2], 2))\n",
    "dim2Results = []\n",
    "for constraint in dim2Constraints:\n",
    "    csatisfied =[]\n",
    "    for i in np.arange(len(mslst)):\n",
    "        metric = np.array(metlst[i])\n",
    "        if list(metric[np.array(constraint)]) ==list(constraint):\n",
    "            csatisfied.append(mslst[i])\n",
    "    dim2Results.append(csatisfied)"
   ]
  },
  {
   "cell_type": "code",
   "execution_count": 83,
   "metadata": {
    "collapsed": false
   },
   "outputs": [
    {
     "data": {
      "text/plain": [
       "[[0, 0, 0],\n",
       " [0, 0, 1],\n",
       " [0, 1, 0],\n",
       " [0, 1, 1],\n",
       " [1, 0, 0],\n",
       " [1, 0, 1],\n",
       " [1, 1, 0],\n",
       " [1, 1, 1]]"
      ]
     },
     "execution_count": 83,
     "metadata": {},
     "output_type": "execute_result"
    }
   ],
   "source": [
    "metlst"
   ]
  },
  {
   "cell_type": "code",
   "execution_count": 84,
   "metadata": {
    "collapsed": false
   },
   "outputs": [
    {
     "data": {
      "text/plain": [
       "[]"
      ]
     },
     "execution_count": 84,
     "metadata": {},
     "output_type": "execute_result"
    }
   ],
   "source": [
    "csatisfied"
   ]
  },
  {
   "cell_type": "code",
   "execution_count": 81,
   "metadata": {
    "collapsed": false
   },
   "outputs": [
    {
     "data": {
      "text/plain": [
       "[(0, 1), (0, 2), (1, 0), (1, 2), (2, 0), (2, 1)]"
      ]
     },
     "execution_count": 81,
     "metadata": {},
     "output_type": "execute_result"
    }
   ],
   "source": [
    "dim2Constraints"
   ]
  },
  {
   "cell_type": "code",
   "execution_count": 82,
   "metadata": {
    "collapsed": false
   },
   "outputs": [
    {
     "data": {
      "text/plain": [
       "[[102380438, 88234929], [], [102380438, 88234929], [], [], []]"
      ]
     },
     "execution_count": 82,
     "metadata": {},
     "output_type": "execute_result"
    }
   ],
   "source": [
    "dim2Results"
   ]
  },
  {
   "cell_type": "code",
   "execution_count": 127,
   "metadata": {
    "collapsed": false
   },
   "outputs": [
    {
     "data": {
      "text/plain": [
       "array([[0, 0],\n",
       "       [0, 0],\n",
       "       [0, 1],\n",
       "       [0, 1],\n",
       "       [1, 0],\n",
       "       [1, 0],\n",
       "       [1, 1],\n",
       "       [1, 1]])"
      ]
     },
     "execution_count": 127,
     "metadata": {},
     "output_type": "execute_result"
    }
   ],
   "source": [
    "np.array(metlst)[:,:2]"
   ]
  },
  {
   "cell_type": "code",
   "execution_count": 123,
   "metadata": {
    "collapsed": false
   },
   "outputs": [
    {
     "data": {
      "text/plain": [
       "array([0])"
      ]
     },
     "execution_count": 123,
     "metadata": {},
     "output_type": "execute_result"
    }
   ],
   "source": [
    "unique(np.array(metlst)[:,:2][0])"
   ]
  },
  {
   "cell_type": "code",
   "execution_count": 128,
   "metadata": {
    "collapsed": false
   },
   "outputs": [],
   "source": [
    "constraint = (0,1)\n",
    "csatisfied =[]\n",
    "prev = [0,0]\n",
    "for i in np.arange(len(mslst)):\n",
    "    metric = np.array(metlst[i])\n",
    "    if prev == list(metric[np.array(constraint)]):\n",
    "        csatisfied.append(mslst[i])\n",
    "    prev = list(metric[np.array(constraint)])\n",
    "dim2Results.append(csatisfied)"
   ]
  },
  {
   "cell_type": "markdown",
   "metadata": {},
   "source": [
    "------------------------------------------------------------------------------"
   ]
  },
  {
   "cell_type": "markdown",
   "metadata": {},
   "source": [
    "# Working Code: "
   ]
  },
  {
   "cell_type": "markdown",
   "metadata": {},
   "source": [
    "### AB = {$(a_1,b_1),(a_1,b_2) $...}"
   ]
  },
  {
   "cell_type": "code",
   "execution_count": 275,
   "metadata": {
    "collapsed": false
   },
   "outputs": [
    {
     "data": {
      "text/plain": [
       "[[0, 0, 0, 1],\n",
       " [0, 0, 1, 0],\n",
       " [0, 1, 0, 1],\n",
       " [0, 1, 1, 0],\n",
       " [1, 0, 0, 1],\n",
       " [1, 0, 1, 0],\n",
       " [1, 1, 0, 1],\n",
       " [1, 1, 1, 0]]"
      ]
     },
     "execution_count": 275,
     "metadata": {},
     "output_type": "execute_result"
    }
   ],
   "source": [
    "metlst"
   ]
  },
  {
   "cell_type": "code",
   "execution_count": 276,
   "metadata": {
    "collapsed": false
   },
   "outputs": [
    {
     "data": {
      "text/plain": [
       "[87452833,\n",
       " 22547153597,\n",
       " 102380438,\n",
       " 88234929,\n",
       " 54450559161,\n",
       " 332963595605,\n",
       " 10595924171,\n",
       " 71691403454]"
      ]
     },
     "execution_count": 276,
     "metadata": {},
     "output_type": "execute_result"
    }
   ],
   "source": [
    "mslst"
   ]
  },
  {
   "cell_type": "code",
   "execution_count": 270,
   "metadata": {
    "collapsed": false
   },
   "outputs": [],
   "source": [
    "ij=np.array([0,1]) #vary the 0th and 1st position\n",
    "unique = []\n",
    "measure = []\n",
    "for i in np.arange(len(metlst)):\n",
    "    metric = metlst[i]\n",
    "    mij = list(np.array(metric)[ij])\n",
    "    if mij not in unique:\n",
    "        unique.append(list(mij))\n",
    "        measure.append([mslst[i]])\n",
    "    else : \n",
    "        measure[unique.index(mij)].append(mslst[i])"
   ]
  },
  {
   "cell_type": "code",
   "execution_count": 274,
   "metadata": {
    "collapsed": false
   },
   "outputs": [
    {
     "data": {
      "text/plain": [
       "[1, 1]"
      ]
     },
     "execution_count": 274,
     "metadata": {},
     "output_type": "execute_result"
    }
   ],
   "source": [
    "mij"
   ]
  },
  {
   "cell_type": "code",
   "execution_count": 186,
   "metadata": {
    "collapsed": false
   },
   "outputs": [
    {
     "data": {
      "text/plain": [
       "[[0, 0], [0, 1], [1, 0], [1, 1]]"
      ]
     },
     "execution_count": 186,
     "metadata": {},
     "output_type": "execute_result"
    }
   ],
   "source": [
    "unique"
   ]
  },
  {
   "cell_type": "code",
   "execution_count": 185,
   "metadata": {
    "collapsed": false,
    "scrolled": false
   },
   "outputs": [
    {
     "data": {
      "text/plain": [
       "[[87452833, 22547153597],\n",
       " [102380438, 88234929],\n",
       " [54450559161, 332963595605],\n",
       " [10595924171, 71691403454]]"
      ]
     },
     "execution_count": 185,
     "metadata": {},
     "output_type": "execute_result"
    }
   ],
   "source": [
    "measure"
   ]
  },
  {
   "cell_type": "markdown",
   "metadata": {},
   "source": [
    "### Now we want AB, BC, BA ..etc "
   ]
  },
  {
   "cell_type": "code",
   "execution_count": 202,
   "metadata": {
    "collapsed": true
   },
   "outputs": [],
   "source": [
    "DIM =2 \n",
    "dim2Constraints = [list(x) for x in list(itertools.permutations([0,1,2], DIM))] "
   ]
  },
  {
   "cell_type": "code",
   "execution_count": 203,
   "metadata": {
    "collapsed": false
   },
   "outputs": [
    {
     "data": {
      "text/plain": [
       "[[0, 1], [0, 2], [1, 0], [1, 2], [2, 0], [2, 1]]"
      ]
     },
     "execution_count": 203,
     "metadata": {},
     "output_type": "execute_result"
    }
   ],
   "source": [
    "dim2Constraints"
   ]
  },
  {
   "cell_type": "code",
   "execution_count": 204,
   "metadata": {
    "collapsed": false
   },
   "outputs": [],
   "source": [
    "dim2met = []\n",
    "dim2ms = []\n",
    "\n",
    "for ij in dim2Constraints:\n",
    "    unique = []\n",
    "    measure = []\n",
    "    for i in np.arange(len(metlst)):\n",
    "        metric = metlst[i]\n",
    "        mij = list(np.array(metric)[ij])\n",
    "        if mij not in unique:\n",
    "            unique.append(list(mij))\n",
    "            measure.append([mslst[i]])\n",
    "        else : \n",
    "            measure[unique.index(mij)].append(mslst[i])\n",
    "    dim2met.append(unique)\n",
    "    dim2ms.append(measure)"
   ]
  },
  {
   "cell_type": "code",
   "execution_count": 206,
   "metadata": {
    "collapsed": false
   },
   "outputs": [
    {
     "data": {
      "text/plain": [
       "[[[0, 0], [0, 1], [1, 0], [1, 1]],\n",
       " [[0, 0], [0, 1], [1, 0], [1, 1]],\n",
       " [[0, 0], [1, 0], [0, 1], [1, 1]],\n",
       " [[0, 0], [0, 1], [1, 0], [1, 1]],\n",
       " [[0, 0], [1, 0], [0, 1], [1, 1]],\n",
       " [[0, 0], [1, 0], [0, 1], [1, 1]]]"
      ]
     },
     "execution_count": 206,
     "metadata": {},
     "output_type": "execute_result"
    }
   ],
   "source": [
    "dim2met"
   ]
  },
  {
   "cell_type": "code",
   "execution_count": 207,
   "metadata": {
    "collapsed": false
   },
   "outputs": [
    {
     "data": {
      "text/plain": [
       "[[[87452833, 22547153597],\n",
       "  [102380438, 88234929],\n",
       "  [54450559161, 332963595605],\n",
       "  [10595924171, 71691403454]],\n",
       " [[87452833, 102380438],\n",
       "  [22547153597, 88234929],\n",
       "  [54450559161, 10595924171],\n",
       "  [332963595605, 71691403454]],\n",
       " [[87452833, 22547153597],\n",
       "  [102380438, 88234929],\n",
       "  [54450559161, 332963595605],\n",
       "  [10595924171, 71691403454]],\n",
       " [[87452833, 54450559161],\n",
       "  [22547153597, 332963595605],\n",
       "  [102380438, 10595924171],\n",
       "  [88234929, 71691403454]],\n",
       " [[87452833, 102380438],\n",
       "  [22547153597, 88234929],\n",
       "  [54450559161, 10595924171],\n",
       "  [332963595605, 71691403454]],\n",
       " [[87452833, 54450559161],\n",
       "  [22547153597, 332963595605],\n",
       "  [102380438, 10595924171],\n",
       "  [88234929, 71691403454]]]"
      ]
     },
     "execution_count": 207,
     "metadata": {},
     "output_type": "execute_result"
    }
   ],
   "source": [
    "dim2ms"
   ]
  },
  {
   "cell_type": "markdown",
   "metadata": {},
   "source": [
    "### Now we want to generalize to nC3 "
   ]
  },
  {
   "cell_type": "code",
   "execution_count": 222,
   "metadata": {
    "collapsed": true
   },
   "outputs": [],
   "source": [
    "DIM = 3\n",
    "dimConstraints = [list(x) for x in list(itertools.permutations(np.arange(len(dimensionAttributes)), DIM))] \n",
    "met = []\n",
    "ms = []\n",
    "\n",
    "for ij in dimConstraints:\n",
    "    unique = []\n",
    "    measure = []\n",
    "    for i in np.arange(len(metlst)):\n",
    "        metric = metlst[i]\n",
    "        mij = list(np.array(metric)[ij])\n",
    "        if mij not in unique:\n",
    "            unique.append(list(mij))\n",
    "            measure.append([mslst[i]])\n",
    "        else : \n",
    "            measure[unique.index(mij)].append(mslst[i])\n",
    "    met.append(unique)\n",
    "    ms.append(measure)"
   ]
  },
  {
   "cell_type": "code",
   "execution_count": 223,
   "metadata": {
    "collapsed": false
   },
   "outputs": [
    {
     "data": {
      "text/plain": [
       "[[0, 1, 2], [0, 2, 1], [1, 0, 2], [1, 2, 0], [2, 0, 1], [2, 1, 0]]"
      ]
     },
     "execution_count": 223,
     "metadata": {},
     "output_type": "execute_result"
    }
   ],
   "source": [
    "dimConstraints"
   ]
  },
  {
   "cell_type": "code",
   "execution_count": 224,
   "metadata": {
    "collapsed": false
   },
   "outputs": [
    {
     "data": {
      "text/plain": [
       "[[[0, 0, 0],\n",
       "  [0, 0, 1],\n",
       "  [0, 1, 0],\n",
       "  [0, 1, 1],\n",
       "  [1, 0, 0],\n",
       "  [1, 0, 1],\n",
       "  [1, 1, 0],\n",
       "  [1, 1, 1]],\n",
       " [[0, 0, 0],\n",
       "  [0, 1, 0],\n",
       "  [0, 0, 1],\n",
       "  [0, 1, 1],\n",
       "  [1, 0, 0],\n",
       "  [1, 1, 0],\n",
       "  [1, 0, 1],\n",
       "  [1, 1, 1]],\n",
       " [[0, 0, 0],\n",
       "  [0, 0, 1],\n",
       "  [1, 0, 0],\n",
       "  [1, 0, 1],\n",
       "  [0, 1, 0],\n",
       "  [0, 1, 1],\n",
       "  [1, 1, 0],\n",
       "  [1, 1, 1]],\n",
       " [[0, 0, 0],\n",
       "  [0, 1, 0],\n",
       "  [1, 0, 0],\n",
       "  [1, 1, 0],\n",
       "  [0, 0, 1],\n",
       "  [0, 1, 1],\n",
       "  [1, 0, 1],\n",
       "  [1, 1, 1]],\n",
       " [[0, 0, 0],\n",
       "  [1, 0, 0],\n",
       "  [0, 0, 1],\n",
       "  [1, 0, 1],\n",
       "  [0, 1, 0],\n",
       "  [1, 1, 0],\n",
       "  [0, 1, 1],\n",
       "  [1, 1, 1]],\n",
       " [[0, 0, 0],\n",
       "  [1, 0, 0],\n",
       "  [0, 1, 0],\n",
       "  [1, 1, 0],\n",
       "  [0, 0, 1],\n",
       "  [1, 0, 1],\n",
       "  [0, 1, 1],\n",
       "  [1, 1, 1]]]"
      ]
     },
     "execution_count": 224,
     "metadata": {},
     "output_type": "execute_result"
    }
   ],
   "source": [
    "met"
   ]
  },
  {
   "cell_type": "code",
   "execution_count": 216,
   "metadata": {
    "collapsed": false
   },
   "outputs": [
    {
     "data": {
      "text/plain": [
       "[[[87452833],\n",
       "  [22547153597],\n",
       "  [102380438],\n",
       "  [88234929],\n",
       "  [54450559161],\n",
       "  [332963595605],\n",
       "  [10595924171],\n",
       "  [71691403454]],\n",
       " [[87452833],\n",
       "  [22547153597],\n",
       "  [102380438],\n",
       "  [88234929],\n",
       "  [54450559161],\n",
       "  [332963595605],\n",
       "  [10595924171],\n",
       "  [71691403454]],\n",
       " [[87452833],\n",
       "  [22547153597],\n",
       "  [102380438],\n",
       "  [88234929],\n",
       "  [54450559161],\n",
       "  [332963595605],\n",
       "  [10595924171],\n",
       "  [71691403454]],\n",
       " [[87452833],\n",
       "  [22547153597],\n",
       "  [102380438],\n",
       "  [88234929],\n",
       "  [54450559161],\n",
       "  [332963595605],\n",
       "  [10595924171],\n",
       "  [71691403454]],\n",
       " [[87452833],\n",
       "  [22547153597],\n",
       "  [102380438],\n",
       "  [88234929],\n",
       "  [54450559161],\n",
       "  [332963595605],\n",
       "  [10595924171],\n",
       "  [71691403454]],\n",
       " [[87452833],\n",
       "  [22547153597],\n",
       "  [102380438],\n",
       "  [88234929],\n",
       "  [54450559161],\n",
       "  [332963595605],\n",
       "  [10595924171],\n",
       "  [71691403454]]]"
      ]
     },
     "execution_count": 216,
     "metadata": {},
     "output_type": "execute_result"
    }
   ],
   "source": [
    "ms"
   ]
  },
  {
   "cell_type": "markdown",
   "metadata": {},
   "source": [
    "# Testing with another dataset "
   ]
  },
  {
   "cell_type": "markdown",
   "metadata": {},
   "source": [
    "[is_successful, is_multi_query, is_profile_query, is_event_query]"
   ]
  },
  {
   "cell_type": "code",
   "execution_count": 1,
   "metadata": {
    "collapsed": true
   },
   "outputs": [],
   "source": [
    "dimensionAttributes = ['A', 'B','C','D']\n",
    "metlst = [[0, 0, 0, 1], [0, 0, 1, 0], [0, 1, 0, 1], [0, 1, 1, 0], [1, 0, 0, 1], [1, 0, 1, 0], [1, 1, 0, 1], [1, 1, 1, 0]]\n",
    "mslst = [87452833, 22547153597, 102380438, 88234929, 54450559161, 332963595605, 10595924171, 71691403454]"
   ]
  },
  {
   "cell_type": "code",
   "execution_count": null,
   "metadata": {
    "collapsed": true
   },
   "outputs": [],
   "source": [
    "DIM = 3\n",
    "dimConstraints = [list(x) for x in list(itertools.permutations(np.arange(len(dimensionAttributes)), DIM))] \n",
    "met = []\n",
    "ms = []\n",
    "\n",
    "for ij in dimConstraints:\n",
    "    unique = []\n",
    "    measure = []\n",
    "    for i in np.arange(len(metlst)):\n",
    "        metric = metlst[i]\n",
    "        mij = list(np.array(metric)[ij])\n",
    "        if mij not in unique:\n",
    "            unique.append(list(mij))\n",
    "            measure.append([mslst[i]])\n",
    "        else : \n",
    "            measure[unique.index(mij)].append(mslst[i])\n",
    "    met.append(unique)\n",
    "    ms.append(measure)"
   ]
  },
  {
   "cell_type": "code",
   "execution_count": null,
   "metadata": {
    "collapsed": true
   },
   "outputs": [],
   "source": [
    "mapval = dict(zip(np.arange(len(dimensionAttributes)),dimensionAttributes))\n",
    "mapped = [[mapval[j] for j in i] for i in dimConstraints]\n",
    "mapped"
   ]
  },
  {
   "cell_type": "code",
   "execution_count": 247,
   "metadata": {
    "collapsed": false
   },
   "outputs": [
    {
     "data": {
      "text/plain": [
       "[[[0, 0, 0],\n",
       "  [0, 0, 1],\n",
       "  [0, 1, 0],\n",
       "  [0, 1, 1],\n",
       "  [1, 0, 0],\n",
       "  [1, 0, 1],\n",
       "  [1, 1, 0],\n",
       "  [1, 1, 1]],\n",
       " [[0, 0, 1],\n",
       "  [0, 0, 0],\n",
       "  [0, 1, 1],\n",
       "  [0, 1, 0],\n",
       "  [1, 0, 1],\n",
       "  [1, 0, 0],\n",
       "  [1, 1, 1],\n",
       "  [1, 1, 0]],\n",
       " [[0, 0, 0],\n",
       "  [0, 1, 0],\n",
       "  [0, 0, 1],\n",
       "  [0, 1, 1],\n",
       "  [1, 0, 0],\n",
       "  [1, 1, 0],\n",
       "  [1, 0, 1],\n",
       "  [1, 1, 1]],\n",
       " [[0, 0, 1], [0, 1, 0], [1, 0, 1], [1, 1, 0]],\n",
       " [[0, 1, 0],\n",
       "  [0, 0, 0],\n",
       "  [0, 1, 1],\n",
       "  [0, 0, 1],\n",
       "  [1, 1, 0],\n",
       "  [1, 0, 0],\n",
       "  [1, 1, 1],\n",
       "  [1, 0, 1]],\n",
       " [[0, 1, 0], [0, 0, 1], [1, 1, 0], [1, 0, 1]],\n",
       " [[0, 0, 0],\n",
       "  [0, 0, 1],\n",
       "  [1, 0, 0],\n",
       "  [1, 0, 1],\n",
       "  [0, 1, 0],\n",
       "  [0, 1, 1],\n",
       "  [1, 1, 0],\n",
       "  [1, 1, 1]],\n",
       " [[0, 0, 1],\n",
       "  [0, 0, 0],\n",
       "  [1, 0, 1],\n",
       "  [1, 0, 0],\n",
       "  [0, 1, 1],\n",
       "  [0, 1, 0],\n",
       "  [1, 1, 1],\n",
       "  [1, 1, 0]],\n",
       " [[0, 0, 0],\n",
       "  [0, 1, 0],\n",
       "  [1, 0, 0],\n",
       "  [1, 1, 0],\n",
       "  [0, 0, 1],\n",
       "  [0, 1, 1],\n",
       "  [1, 0, 1],\n",
       "  [1, 1, 1]],\n",
       " [[0, 0, 1], [0, 1, 0], [1, 0, 1], [1, 1, 0]],\n",
       " [[0, 1, 0],\n",
       "  [0, 0, 0],\n",
       "  [1, 1, 0],\n",
       "  [1, 0, 0],\n",
       "  [0, 1, 1],\n",
       "  [0, 0, 1],\n",
       "  [1, 1, 1],\n",
       "  [1, 0, 1]],\n",
       " [[0, 1, 0], [0, 0, 1], [1, 1, 0], [1, 0, 1]],\n",
       " [[0, 0, 0],\n",
       "  [1, 0, 0],\n",
       "  [0, 0, 1],\n",
       "  [1, 0, 1],\n",
       "  [0, 1, 0],\n",
       "  [1, 1, 0],\n",
       "  [0, 1, 1],\n",
       "  [1, 1, 1]],\n",
       " [[0, 0, 1], [1, 0, 0], [0, 1, 1], [1, 1, 0]],\n",
       " [[0, 0, 0],\n",
       "  [1, 0, 0],\n",
       "  [0, 1, 0],\n",
       "  [1, 1, 0],\n",
       "  [0, 0, 1],\n",
       "  [1, 0, 1],\n",
       "  [0, 1, 1],\n",
       "  [1, 1, 1]],\n",
       " [[0, 0, 1], [1, 0, 0], [0, 1, 1], [1, 1, 0]],\n",
       " [[0, 1, 0], [1, 0, 0], [0, 1, 1], [1, 0, 1]],\n",
       " [[0, 1, 0], [1, 0, 0], [0, 1, 1], [1, 0, 1]],\n",
       " [[1, 0, 0],\n",
       "  [0, 0, 0],\n",
       "  [1, 0, 1],\n",
       "  [0, 0, 1],\n",
       "  [1, 1, 0],\n",
       "  [0, 1, 0],\n",
       "  [1, 1, 1],\n",
       "  [0, 1, 1]],\n",
       " [[1, 0, 0], [0, 0, 1], [1, 1, 0], [0, 1, 1]],\n",
       " [[1, 0, 0],\n",
       "  [0, 0, 0],\n",
       "  [1, 1, 0],\n",
       "  [0, 1, 0],\n",
       "  [1, 0, 1],\n",
       "  [0, 0, 1],\n",
       "  [1, 1, 1],\n",
       "  [0, 1, 1]],\n",
       " [[1, 0, 0], [0, 0, 1], [1, 1, 0], [0, 1, 1]],\n",
       " [[1, 0, 0], [0, 1, 0], [1, 0, 1], [0, 1, 1]],\n",
       " [[1, 0, 0], [0, 1, 0], [1, 0, 1], [0, 1, 1]]]"
      ]
     },
     "execution_count": 247,
     "metadata": {},
     "output_type": "execute_result"
    }
   ],
   "source": [
    "met"
   ]
  },
  {
   "cell_type": "code",
   "execution_count": null,
   "metadata": {
    "collapsed": true
   },
   "outputs": [],
   "source": []
  }
 ],
 "metadata": {
  "kernelspec": {
   "display_name": "Python 2",
   "language": "python",
   "name": "python2"
  },
  "language_info": {
   "codemirror_mode": {
    "name": "ipython",
    "version": 2
   },
   "file_extension": ".py",
   "mimetype": "text/x-python",
   "name": "python",
   "nbconvert_exporter": "python",
   "pygments_lexer": "ipython2",
   "version": "2.7.10"
  }
 },
 "nbformat": 4,
 "nbformat_minor": 0
}
