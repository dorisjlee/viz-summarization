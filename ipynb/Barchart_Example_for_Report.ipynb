{
 "cells": [
  {
   "cell_type": "code",
   "execution_count": 1,
   "metadata": {
    "collapsed": false
   },
   "outputs": [
    {
     "name": "stdout",
     "output_type": "stream",
     "text": [
      "Populating the interactive namespace from numpy and matplotlib\n"
     ]
    }
   ],
   "source": [
    "%pylab inline"
   ]
  },
  {
   "cell_type": "code",
   "execution_count": 131,
   "metadata": {
    "collapsed": true
   },
   "outputs": [],
   "source": [
    "def autolabel(rects,type=False):\n",
    "    for rect in rects:\n",
    "        height = rect.get_height()\n",
    "        if type==\"low\":\n",
    "            ax.text(rect.get_x() + rect.get_width()/2., 0.05*height,\n",
    "                '%d' % int(height),\n",
    "                ha='center', va='bottom',color=\"white\",fontsize=11)\n",
    "        elif type==\"high\":\n",
    "            ax.text(rect.get_x() + rect.get_width()/2., 1.05*height,\n",
    "                '%d' % int(height),\n",
    "                ha='center', va='bottom',color=\"black\",fontsize=12)\n",
    "        elif type==\"high2\":\n",
    "            ax.text(rect.get_x() + rect.get_width()/2., 1.05*height,\n",
    "                '%d' % int(height),\n",
    "                ha='center', va='bottom',color=\"black\",fontsize=8)\n",
    "        elif type==\"high_belowbar\":\n",
    "            ax.text(rect.get_x() + rect.get_width()/2., 0.75*height,\n",
    "                '%d' % int(height),\n",
    "                ha='center', va='top',color=\"white\",fontsize=11)\n",
    "        else:\n",
    "            ax.text(rect.get_x() + rect.get_width()/2., 0.35*height,\n",
    "                '%d' % int(height),\n",
    "                ha='center', va='bottom',color=\"white\",fontsize=15)"
   ]
  },
  {
   "cell_type": "code",
   "execution_count": 120,
   "metadata": {
    "collapsed": false
   },
   "outputs": [
    {
     "data": {
      "image/png": "[encoded data removed]",
      "text/plain": [
       "<matplotlib.figure.Figure at 0x109c91c90>"
      ]
     },
     "metadata": {},
     "output_type": "display_data"
    }
   ],
   "source": [
    "# import seaborn\n",
    "width = 1      \n",
    "groupgap=1\n",
    "y1=[20,80]\n",
    "y2=[60,30,10]\n",
    "x1 = np.arange(len(y1))\n",
    "x2 = np.arange(len(y2))+groupgap+len(y1)\n",
    "ind = np.concatenate((x1,x2))\n",
    "fig, ax = plt.subplots()\n",
    "rects1 = ax.bar(x1, y1, width, color='r',  edgecolor= \"black\",label=\"Gender\")\n",
    "rects2 = ax.bar(x2, y2, width, color='b',  edgecolor= \"black\",label=\"State\")\n",
    "# ax.set_ylabel('Population',fontsize=14)\n",
    "ax.set_xticks(ind+width/2.)\n",
    "ax.set_xticklabels(('Male', 'Female','NY', 'IL','CA'),fontsize=14)\n",
    "ax.legend()\n",
    "# ax.yaxis.set_visible(False)\n",
    "ax.spines['right'].set_visible(False)\n",
    "ax.spines['top'].set_visible(False)\n",
    "ax.spines['left'].set_visible(False)\n",
    "ax.xaxis.set_ticks_position('bottom')\n",
    "ax.yaxis.set_ticks_position('left')\n",
    "ax.yaxis.set_visible(False)\n",
    "ax.set_xlim(np.array(ax.get_xlim())+[-0.01,0.01])\n",
    "\n",
    "autolabel(rects1)\n",
    "autolabel(rects2)\n",
    "fig.savefig(\"../report/plots/ExpectationExample.pdf\")"
   ]
  },
  {
   "cell_type": "code",
   "execution_count": 25,
   "metadata": {
    "collapsed": false
   },
   "outputs": [
    {
     "data": {
      "image/png": "[encoded data removed]",
      "text/plain": [
       "<matplotlib.figure.Figure at 0x1098cf950>"
      ]
     },
     "metadata": {},
     "output_type": "display_data"
    }
   ],
   "source": [
    "# import seaborn\n",
    "width = 1      \n",
    "y1=[20*0.6,20*0.3,20*0.1,80*0.6,80*0.3,80*0.1]\n",
    "x1 = np.arange(len(y1))\n",
    "fig, ax = plt.subplots()\n",
    "rects1 = ax.bar(x1, y1, width, color='r',  edgecolor= \"black\")\n",
    "ax.set_ylabel('Population',fontsize=14)\n",
    "ax.set_xticks(x1+width/2.)\n",
    "ax.set_xticklabels(('M,NY', 'M,IL','M,CA', 'F,NY', 'F,IL','F,CA'),fontsize=14)\n",
    "\n",
    "ax.spines['right'].set_visible(False)\n",
    "ax.spines['top'].set_visible(False)\n",
    "ax.spines['left'].set_visible(False)\n",
    "ax.yaxis.set_visible(False)\n",
    "ax.xaxis.set_ticks_position('bottom')\n",
    "# ax.yaxis.set_ticks_position('left')\n",
    "ax.set_xlim(np.array(ax.get_xlim())+[-0.01,0.01])\n",
    "autolabel(rects1,type=\"high\")\n",
    "fig.savefig(\"../report/plots/RatioExample.pdf\")"
   ]
  },
  {
   "cell_type": "code",
   "execution_count": 22,
   "metadata": {
    "collapsed": false
   },
   "outputs": [
    {
     "data": {
      "image/png": "[encoded data removed]",
      "text/plain": [
       "<matplotlib.figure.Figure at 0x1098cf550>"
      ]
     },
     "metadata": {},
     "output_type": "display_data"
    }
   ],
   "source": [
    "# import seaborn\n",
    "width = 1      \n",
    "groupgap=1\n",
    "y1=[50,50]\n",
    "y2=[60,30,10]\n",
    "x1 = np.arange(len(y1))\n",
    "x2 = np.arange(len(y2))+groupgap+len(y1)\n",
    "ind = np.concatenate((x1,x2))\n",
    "fig, ax = plt.subplots()\n",
    "rects1 = ax.bar(x1, y1, width, color='gray',  edgecolor= \"black\",label=\"Unseen\")\n",
    "rects2 = ax.bar(x2, y2, width, color='b',  edgecolor= \"black\",label=\"Seen\")\n",
    "ax.set_ylabel('Population',fontsize=14)\n",
    "ax.set_xticks(ind+width/2.)\n",
    "ax.set_xticklabels(('Male', 'Female','NY', 'IL','CA'),fontsize=14)\n",
    "ax.legend()\n",
    "# ax.yaxis.set_visible(False)\n",
    "ax.spines['right'].set_visible(False)\n",
    "ax.spines['top'].set_visible(False)\n",
    "ax.spines['left'].set_visible(False)\n",
    "ax.xaxis.set_ticks_position('bottom')\n",
    "ax.yaxis.set_ticks_position('left')\n",
    "ax.yaxis.set_visible(False)\n",
    "ax.set_xlim(np.array(ax.get_xlim())+[-0.01,0.01])\n",
    "autolabel(rects1)\n",
    "autolabel(rects2)\n",
    "fig.savefig(\"../report/plots/ExpectationExample2.pdf\")"
   ]
  },
  {
   "cell_type": "code",
   "execution_count": 26,
   "metadata": {
    "collapsed": false
   },
   "outputs": [
    {
     "data": {
      "image/png": "[encoded data removed]",
      "text/plain": [
       "<matplotlib.figure.Figure at 0x109956b50>"
      ]
     },
     "metadata": {},
     "output_type": "display_data"
    }
   ],
   "source": [
    "# import seaborn\n",
    "width = 1      \n",
    "y1=[50*0.6,50*0.3,50*0.1,50*0.6,50*0.3,50*0.1]\n",
    "x1 = np.arange(len(y1))\n",
    "fig, ax = plt.subplots()\n",
    "rects1 = ax.bar(x1, y1, width, color='r',  edgecolor= \"black\")\n",
    "ax.set_ylabel('Population',fontsize=14)\n",
    "ax.set_xticks(x1+width/2.)\n",
    "ax.set_xticklabels(('M,NY', 'M,IL','M,CA', 'F,NY', 'F,IL','F,CA'),fontsize=14)\n",
    "\n",
    "ax.spines['right'].set_visible(False)\n",
    "ax.spines['top'].set_visible(False)\n",
    "ax.spines['left'].set_visible(False)\n",
    "ax.yaxis.set_visible(False)\n",
    "ax.xaxis.set_ticks_position('bottom')\n",
    "# ax.yaxis.set_ticks_position('left')\n",
    "ax.set_xlim(np.array(ax.get_xlim())+[-0.01,0.01])\n",
    "autolabel(rects1,type=\"high\")\n",
    "fig.savefig(\"../report/plots/BayesianExample.pdf\")"
   ]
  },
  {
   "cell_type": "code",
   "execution_count": 69,
   "metadata": {
    "collapsed": false
   },
   "outputs": [
    {
     "data": {
      "image/png": "[encoded data removed]",
      "text/plain": [
       "<matplotlib.figure.Figure at 0x109fbba50>"
      ]
     },
     "metadata": {},
     "output_type": "display_data"
    }
   ],
   "source": [
    "# import seaborn\n",
    "width = 1      \n",
    "\n",
    "y1=[60,30,10,20,20,10]\n",
    "y2=[40,10,0,0,0,0]\n",
    "y3=[40,12,12,12,12,12]\n",
    "x1 = np.arange(len(y1))\n",
    "fig, ax = plt.subplots()\n",
    "\n",
    "rects1 = ax.bar(x1, y1, width, color='r',  edgecolor= \"black\",label=\"Overlap region\")\n",
    "rects2 = ax.bar(x1, y2, width, color='b',  edgecolor= \"black\",label=\"Forbidden region\")\n",
    "# rects3 = ax.bar(x1, y3, width, color='b',  edgecolor= \"black\",  hatch='//')\n",
    "ax.set_ylabel('Population',fontsize=14)\n",
    "ax.set_xticks(x1+width/2.)\n",
    "ax.set_xticklabels(('M,NY', 'M,IL','M,CA', 'F,NY', 'F,IL','F,CA'),fontsize=14)\n",
    "\n",
    "ax.spines['right'].set_visible(False)\n",
    "ax.spines['top'].set_visible(False)\n",
    "ax.spines['left'].set_visible(False)\n",
    "ax.yaxis.set_visible(False)\n",
    "ax.xaxis.set_ticks_position('bottom')\n",
    "# ax.yaxis.set_ticks_position('left')\n",
    "ax.set_xlim(np.array(ax.get_xlim())+[-0.01,0.01])\n",
    "ax.legend()\n",
    "autolabel(rects1,type=\"high\")\n",
    "autolabel(rects2,type=\"high\")\n",
    "fig.savefig(\"../report/plots/CoverageExample.pdf\")"
   ]
  },
  {
   "cell_type": "markdown",
   "metadata": {},
   "source": [
    "### Constrained max entropy solution "
   ]
  },
  {
   "cell_type": "markdown",
   "metadata": {},
   "source": [
    "Uniformity across delta bins"
   ]
  },
  {
   "cell_type": "code",
   "execution_count": 71,
   "metadata": {
    "collapsed": false
   },
   "outputs": [
    {
     "data": {
      "text/plain": [
       "8"
      ]
     },
     "execution_count": 71,
     "metadata": {},
     "output_type": "execute_result"
    }
   ],
   "source": [
    "(100-40-10)/6"
   ]
  },
  {
   "cell_type": "code",
   "execution_count": 72,
   "metadata": {
    "collapsed": false
   },
   "outputs": [
    {
     "data": {
      "image/png": "[encoded data removed]",
      "text/plain": [
       "<matplotlib.figure.Figure at 0x109c5bf10>"
      ]
     },
     "metadata": {},
     "output_type": "display_data"
    }
   ],
   "source": [
    "# import seaborn\n",
    "width = 1      \n",
    "y2=[48,18,8,8,8,8]\n",
    "x1 = np.arange(len(y1))\n",
    "fig, ax = plt.subplots()\n",
    "rects1 = ax.bar(x1, y2, width, color='r',  edgecolor= \"black\",label=\"Overlap region\")\n",
    "ax.set_ylabel('Population',fontsize=14)\n",
    "ax.set_xticks(x1+width/2.)\n",
    "ax.set_xticklabels(('M,NY', 'M,IL','M,CA', 'F,NY', 'F,IL','F,CA'),fontsize=14)\n",
    "\n",
    "ax.spines['right'].set_visible(False)\n",
    "ax.spines['top'].set_visible(False)\n",
    "ax.spines['left'].set_visible(False)\n",
    "ax.yaxis.set_visible(False)\n",
    "ax.xaxis.set_ticks_position('bottom')\n",
    "# ax.yaxis.set_ticks_position('left')\n",
    "ax.set_xlim(np.array(ax.get_xlim())+[-0.01,0.01])\n",
    "autolabel(rects1,type=\"high\")\n",
    "fig.savefig(\"../report/plots/ExpectationExample3.pdf\")"
   ]
  },
  {
   "cell_type": "markdown",
   "metadata": {},
   "source": [
    "Uniformity across bars "
   ]
  },
  {
   "cell_type": "code",
   "execution_count": 53,
   "metadata": {
    "collapsed": false
   },
   "outputs": [
    {
     "data": {
      "text/plain": [
       "100"
      ]
     },
     "execution_count": 53,
     "metadata": {},
     "output_type": "execute_result"
    }
   ],
   "source": [
    "40+12*5"
   ]
  },
  {
   "cell_type": "code",
   "execution_count": 70,
   "metadata": {
    "collapsed": false
   },
   "outputs": [
    {
     "data": {
      "image/png": "[encoded data removed]",
      "text/plain": [
       "<matplotlib.figure.Figure at 0x109c4a650>"
      ]
     },
     "metadata": {},
     "output_type": "display_data"
    }
   ],
   "source": [
    "# import seaborn\n",
    "width = 1      \n",
    "y2=[40,12,12,12,12,12]\n",
    "x1 = np.arange(len(y1))\n",
    "fig, ax = plt.subplots()\n",
    "rects1 = ax.bar(x1, y2, width, color='r',  edgecolor= \"black\",label=\"Overlap region\")\n",
    "ax.set_ylabel('Population',fontsize=14)\n",
    "ax.set_xticks(x1+width/2.)\n",
    "ax.set_xticklabels(('M,NY', 'M,IL','M,CA', 'F,NY', 'F,IL','F,CA'),fontsize=14)\n",
    "\n",
    "ax.spines['right'].set_visible(False)\n",
    "ax.spines['top'].set_visible(False)\n",
    "ax.spines['left'].set_visible(False)\n",
    "ax.yaxis.set_visible(False)\n",
    "ax.xaxis.set_ticks_position('bottom')\n",
    "# ax.yaxis.set_ticks_position('left')\n",
    "ax.set_xlim(np.array(ax.get_xlim())+[-0.01,0.01])\n",
    "autolabel(rects1,type=\"high\")\n",
    "fig.savefig(\"../report/plots/ExpectationExample3.pdf\")"
   ]
  },
  {
   "cell_type": "markdown",
   "metadata": {},
   "source": [
    "Bayesian model "
   ]
  },
  {
   "cell_type": "markdown",
   "metadata": {},
   "source": [
    "spread as if bayesian "
   ]
  },
  {
   "cell_type": "markdown",
   "metadata": {},
   "source": [
    "total utility = 50 \n"
   ]
  },
  {
   "cell_type": "code",
   "execution_count": 77,
   "metadata": {
    "collapsed": false
   },
   "outputs": [
    {
     "data": {
      "text/plain": [
       "array([  6.,   3.,   1.,  24.,  12.,  40.])"
      ]
     },
     "execution_count": 77,
     "metadata": {},
     "output_type": "execute_result"
    }
   ],
   "source": [
    "np.array([0.12,0.06,0.02,0.48,0.24,0.8])*50"
   ]
  },
  {
   "cell_type": "code",
   "execution_count": 78,
   "metadata": {
    "collapsed": false
   },
   "outputs": [
    {
     "data": {
      "image/png": "[encoded data removed]",
      "text/plain": [
       "<matplotlib.figure.Figure at 0x109e8fcd0>"
      ]
     },
     "metadata": {},
     "output_type": "display_data"
    }
   ],
   "source": [
    "# import seaborn\n",
    "width = 1      \n",
    "y2=np.array([40,10,0,0,0,0])+np.array([0.12,0.06,0.02,0.48,0.24,0.8])*50\n",
    "x1 = np.arange(len(y1))\n",
    "fig, ax = plt.subplots()\n",
    "rects1 = ax.bar(x1, y2, width, color='r',  edgecolor= \"black\",label=\"Overlap region\")\n",
    "ax.set_ylabel('Population',fontsize=14)\n",
    "ax.set_xticks(x1+width/2.)\n",
    "ax.set_xticklabels(('M,NY', 'M,IL','M,CA', 'F,NY', 'F,IL','F,CA'),fontsize=14)\n",
    "\n",
    "ax.spines['right'].set_visible(False)\n",
    "ax.spines['top'].set_visible(False)\n",
    "ax.spines['left'].set_visible(False)\n",
    "ax.yaxis.set_visible(False)\n",
    "ax.xaxis.set_ticks_position('bottom')\n",
    "# ax.yaxis.set_ticks_position('left')\n",
    "ax.set_xlim(np.array(ax.get_xlim())+[-0.01,0.01])\n",
    "autolabel(rects1,type=\"high\")\n",
    "fig.savefig(\"../report/plots/ExpectationExample3.pdf\")"
   ]
  },
  {
   "cell_type": "code",
   "execution_count": 133,
   "metadata": {
    "collapsed": false
   },
   "outputs": [
    {
     "data": {
      "image/png": "[encoded data removed]",
      "text/plain": [
       "<matplotlib.figure.Figure at 0x109e543d0>"
      ]
     },
     "metadata": {},
     "output_type": "display_data"
    }
   ],
   "source": [
    "# import seaborn\n",
    "width = 1      \n",
    "y1=[40,12,12,12,12,12]\n",
    "y2=[48,18,8,8,8,8]\n",
    "y3=[50,13,1,20,12,4]\n",
    "x1 = np.arange(len(y1))\n",
    "fig, ax = plt.subplots()\n",
    "rects1 = ax.bar(x1, y1, width, color='r',edgecolor= \"black\",label=\"Delta\")\n",
    "rects2 = ax.bar(x1, y2, width, color='g',edgecolor= \"black\",label=\"Full\")#,hatch='//',fill=False)\n",
    "rects3 = ax.bar(x1, y3, width, color='b',edgecolor= \"black\",label=\"Bayesian\",hatch='//',fill=False)\n",
    "ax.set_ylabel('Population',fontsize=14)\n",
    "ax.set_xticks(x1+width/2.)\n",
    "ax.set_xticklabels(('M,NY', 'M,IL','M,CA', 'F,NY', 'F,IL','F,CA'),fontsize=14)\n",
    "\n",
    "ax.spines['right'].set_visible(False)\n",
    "ax.spines['top'].set_visible(False)\n",
    "ax.spines['left'].set_visible(False)\n",
    "ax.yaxis.set_visible(False)\n",
    "ax.xaxis.set_ticks_position('bottom')\n",
    "# ax.yaxis.set_ticks_position('left')\n",
    "ax.set_xlim(np.array(ax.get_xlim())+[-0.01,0.01])\n",
    "autolabel(rects1,type=\"high2\")\n",
    "autolabel(rects2,type=\"high2\")\n",
    "autolabel(rects3,type=\"high2\")\n",
    "ax.legend()\n",
    "fig.savefig(\"../report/plots/ExpectationExample3.pdf\")"
   ]
  },
  {
   "cell_type": "code",
   "execution_count": null,
   "metadata": {
    "collapsed": true
   },
   "outputs": [],
   "source": []
  }
 ],
 "metadata": {
  "kernelspec": {
   "display_name": "Python 2",
   "language": "python",
   "name": "python2"
  },
  "language_info": {
   "codemirror_mode": {
    "name": "ipython",
    "version": 2
   },
   "file_extension": ".py",
   "mimetype": "text/x-python",
   "name": "python",
   "nbconvert_exporter": "python",
   "pygments_lexer": "ipython2",
   "version": "2.7.10"
  }
 },
 "nbformat": 4,
 "nbformat_minor": 0
}
