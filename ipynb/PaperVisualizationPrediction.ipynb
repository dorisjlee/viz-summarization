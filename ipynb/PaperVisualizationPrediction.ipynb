{
 "cells": [
  {
   "cell_type": "code",
   "execution_count": 1,
   "metadata": {},
   "outputs": [
    {
     "name": "stdout",
     "output_type": "stream",
     "text": [
      "Populating the interactive namespace from numpy and matplotlib\n"
     ]
    }
   ],
   "source": [
    "%pylab inline"
   ]
  },
  {
   "cell_type": "code",
   "execution_count": 2,
   "metadata": {},
   "outputs": [],
   "source": [
    "import pandas as pd"
   ]
  },
  {
   "cell_type": "code",
   "execution_count": 25,
   "metadata": {},
   "outputs": [],
   "source": [
    "# csv files for answer responses\n",
    "gdrive_path = \"/Users/dorislee/Google Drive/Turn/user_study/evaluation_study/transcription_and_analysis/\"\n",
    "user_task =  pd.read_csv(gdrive_path+\"UserTaskAssignment.csv\")"
   ]
  },
  {
   "cell_type": "code",
   "execution_count": 26,
   "metadata": {},
   "outputs": [],
   "source": [
    "prediction_ground_truth = {\n",
    "    'Police1': [55.1,4.2,40.7], #ticket,warn,arrest\n",
    "    'Police2': [53.43,12.02,34.55], #ticket,warn,arrest\n",
    "    'Autism1': [17.3,82.7], #NO,YES   \n",
    "    'Autism2': [41,59] #NO,YES   \n",
    "}"
   ]
  },
  {
   "cell_type": "code",
   "execution_count": 27,
   "metadata": {},
   "outputs": [],
   "source": [
    "def euclidean_dist(x,y):\n",
    "    x = np.array(x)\n",
    "    y = np.array(y)\n",
    "    return np.sqrt(np.sum(((x-y)**2)))"
   ]
  },
  {
   "cell_type": "code",
   "execution_count": 28,
   "metadata": {},
   "outputs": [],
   "source": [
    "def compute_prediction_distances(filename,gt_task_key,aggregate=True):\n",
    "    prediction = pd.read_csv(gdrive_path+filename)\n",
    "    if \"Police\" in filename: \n",
    "        attributes = [\"ticket\",\"warn\",\"arrest\"]\n",
    "        task_name = \"Task1\"\n",
    "    else: \n",
    "        attributes = [\"NO\",\"YES\"]\n",
    "        task_name = \"Task2\"\n",
    "    prediction = prediction.merge(user_task).drop(\"Note\",axis=1)\n",
    "    \n",
    "    #Computing Euclidean Distance\n",
    "    dist_data = []\n",
    "    for row in prediction.iterrows():\n",
    "        user_prediction  = row[1][attributes].values\n",
    "        gt_prediction = prediction_ground_truth[gt_task_key]\n",
    "        dist_data.append([row[1][task_name],euclidean_dist(user_prediction,gt_prediction)])\n",
    "    dist_result = pd.DataFrame(dist_data,columns=[\"Task\",\"Distance\"])\n",
    "    dist_result.groupby(\"Task\",as_index=False)\n",
    "    if aggregate:\n",
    "        #mean and standard deviation\n",
    "        distance_aggregate_result = dist_result.groupby(\"Task\",as_index=False)[\"Distance\"].mean()\n",
    "        distance_aggregate_result[\"SD\"] = dist_result.groupby(\"Task\",as_index=False)[\"Distance\"].apply(lambda x: x.std())\n",
    "        return distance_aggregate_result\n",
    "    else: \n",
    "        return dist_result"
   ]
  },
  {
   "cell_type": "code",
   "execution_count": 29,
   "metadata": {},
   "outputs": [],
   "source": [
    "def compute_prediction_aggregate_stats(filename,gt_task_key,aggregate=True):\n",
    "    prediction = pd.read_csv(gdrive_path+filename)\n",
    "    if \"Police\" in filename: \n",
    "        attributes = [\"ticket\",\"warn\",\"arrest\"]\n",
    "        task_name = \"Task1\"\n",
    "    else: \n",
    "        attributes = [\"NO\",\"YES\"]\n",
    "        task_name = \"Task2\"\n",
    "    prediction = prediction.merge(user_task).drop(\"Note\",axis=1)\n",
    "    if aggregate:\n",
    "        prediction_groupby=prediction.groupby(task_name)\n",
    "        result = prediction_groupby.mean().reset_index()\n",
    "        std_result = prediction_groupby.apply(lambda x: x.std()).reset_index()\n",
    "        return result,std_result\n",
    "    else:\n",
    "        all_task = [\"Task1\",\"Task2\"]\n",
    "        all_task.remove(task_name)\n",
    "        not_task_name = all_task[0]\n",
    "        prediction = prediction.drop(not_task_name,axis=1).rename(columns={task_name:\"Algorithm\"})\n",
    "        prediction = pd.melt(prediction,id_vars=['Algorithm',\"User\",\"Surprisingness\"], value_vars=attributes)\n",
    "        return attributes,prediction"
   ]
  },
  {
   "cell_type": "code",
   "execution_count": 31,
   "metadata": {},
   "outputs": [],
   "source": [
    "import altair as alt"
   ]
  },
  {
   "cell_type": "code",
   "execution_count": 93,
   "metadata": {},
   "outputs": [],
   "source": [
    "df = compute_prediction_distances(\"Prediction1(Autism).csv\",\"Autism1\",aggregate=False)\n",
    "df[\"Type\"] = \"Shallow\"\n",
    "df[\"Dataset\"] = \"Autism\"\n",
    "df2 = compute_prediction_distances(\"Prediction1(Police).csv\",\"Police1\",aggregate=False)\n",
    "df2[\"Type\"] = \"Shallow\"\n",
    "df2[\"Dataset\"] = \"Police\"\n",
    "df3 = compute_prediction_distances(\"Prediction2(Police).csv\",\"Police2\",aggregate=False)\n",
    "df3[\"Type\"] = \"Deep\"\n",
    "df3[\"Dataset\"] = \"Police\"\n",
    "df4 = compute_prediction_distances(\"Prediction2(Autism).csv\",\"Autism2\",aggregate=False)\n",
    "df4[\"Type\"] = \"Deep\"\n",
    "df4[\"Dataset\"] = \"Autism\""
   ]
  },
  {
   "cell_type": "code",
   "execution_count": 94,
   "metadata": {},
   "outputs": [],
   "source": [
    "df= pd.concat([df,df2,df3,df4])"
   ]
  },
  {
   "cell_type": "code",
   "execution_count": 95,
   "metadata": {},
   "outputs": [],
   "source": [
    "df[\"Condition\"] = df[\"Task\"].apply(lambda x: {1:\"Storyboard\", 2:'Cluster', 3:'BFS'}[int(x[1])])"
   ]
  },
  {
   "cell_type": "code",
   "execution_count": 166,
   "metadata": {},
   "outputs": [],
   "source": [
    "shallow_df = df[df[\"Type\"]==\"Shallow\"]\n",
    "points = alt.Chart(df).mark_point(filled=True).encode(\n",
    "    alt.X(\n",
    "        'mean(Distance)',\n",
    "        scale=alt.Scale(zero=False),\n",
    "        axis=alt.Axis(title='Distance')\n",
    "    ),\n",
    "    alt.Y('Condition'),\n",
    "    alt.Row('Dataset'),\n",
    "    alt.Column(\"Type\")\n",
    ")\n",
    "\n",
    "error_bars = alt.Chart(df).mark_rule().encode(\n",
    "    alt.X('ci0(Distance)'),\n",
    "    alt.X2(\"ci1(Distance)\"),\n",
    "    alt.Y('Condition'),\n",
    "    alt.Row('Dataset'),\n",
    "    alt.Column(\"Type\")\n",
    ")\n",
    "# error_bars = alt.Chart(df).mark_rule().encode(\n",
    "#     x = 'ci0(Distance)',\n",
    "#     x2 = 'ci1(Distance)',\n",
    "#     y= 'Task',\n",
    "#     column = \"Type\"\n",
    "# )\n",
    "# error_ticks= alt.Chart(shallow_df).mark_tick().encode(\n",
    "#     x='ci0(Distance)',\n",
    "#     y='Task'\n",
    "# )\n",
    "# error_ticks2= alt.Chart(shallow_df).mark_tick().encode(\n",
    "#     x='ci1(Distance)',\n",
    "#     y='Task'\n",
    "# )\n",
    "# points + error_bars+error_ticks+error_ticks2"
   ]
  },
  {
   "cell_type": "code",
   "execution_count": 167,
   "metadata": {},
   "outputs": [
    {
     "data": {
      "application/vnd.vegalite.v2+json": {
       "$schema": "https://vega.github.io/schema/vega-lite/v2.6.0.json",
       "config": {
        "view": {
         "height": 300,
         "width": 400
        }
       },
       "data": {
        "name": "data-427b73d529a522ea363d890c36599576"
       },
       "datasets": {
        "data-427b73d529a522ea363d890c36599576": [
         {
          "Condition": "Cluster",
          "Dataset": "Autism",
          "Distance": 60.38691911333116,
          "Task": "B2",
          "Type": "Shallow"
         },
         {
          "Condition": "BFS",
          "Dataset": "Autism",
          "Distance": 47.65899705197331,
          "Task": "B3",
          "Type": "Shallow"
         },
         {
          "Condition": "Storyboard",
          "Dataset": "Autism",
          "Distance": 3.8183766184073584,
          "Task": "B1",
          "Type": "Shallow"
         },
         {
          "Condition": "BFS",
          "Dataset": "Autism",
          "Distance": 43.41635636485402,
          "Task": "B3",
          "Type": "Shallow"
         },
         {
          "Condition": "Storyboard",
          "Dataset": "Autism",
          "Distance": 3.8183766184073584,
          "Task": "B1",
          "Type": "Shallow"
         },
         {
          "Condition": "Cluster",
          "Dataset": "Autism",
          "Distance": 3.252691193458117,
          "Task": "B2",
          "Type": "Shallow"
         },
         {
          "Condition": "Cluster",
          "Dataset": "Autism",
          "Distance": 3.252691193458117,
          "Task": "B2",
          "Type": "Shallow"
         },
         {
          "Condition": "BFS",
          "Dataset": "Autism",
          "Distance": 46.24478348960021,
          "Task": "B3",
          "Type": "Shallow"
         },
         {
          "Condition": "Storyboard",
          "Dataset": "Autism",
          "Distance": 25.031580054003783,
          "Task": "B1",
          "Type": "Shallow"
         },
         {
          "Condition": "BFS",
          "Dataset": "Autism",
          "Distance": 46.24478348960021,
          "Task": "B3",
          "Type": "Shallow"
         },
         {
          "Condition": "Storyboard",
          "Dataset": "Autism",
          "Distance": 3.8183766184073584,
          "Task": "B1",
          "Type": "Shallow"
         },
         {
          "Condition": "Cluster",
          "Dataset": "Autism",
          "Distance": 3.8183766184073584,
          "Task": "B2",
          "Type": "Shallow"
         },
         {
          "Condition": "Cluster",
          "Dataset": "Autism",
          "Distance": 3.8183766184073584,
          "Task": "B2",
          "Type": "Shallow"
         },
         {
          "Condition": "BFS",
          "Dataset": "Autism",
          "Distance": 48.931789258109085,
          "Task": "B3",
          "Type": "Shallow"
         },
         {
          "Condition": "Storyboard",
          "Dataset": "Autism",
          "Distance": 3.252691193458117,
          "Task": "B1",
          "Type": "Shallow"
         },
         {
          "Condition": "BFS",
          "Dataset": "Autism",
          "Distance": 60.38691911333116,
          "Task": "B3",
          "Type": "Shallow"
         },
         {
          "Condition": "Storyboard",
          "Dataset": "Autism",
          "Distance": 10.889444430272833,
          "Task": "B1",
          "Type": "Shallow"
         },
         {
          "Condition": "Cluster",
          "Dataset": "Autism",
          "Distance": 32.10264786586926,
          "Task": "B2",
          "Type": "Shallow"
         },
         {
          "Condition": "Storyboard",
          "Dataset": "Police",
          "Distance": 13.120213412898437,
          "Task": "A1",
          "Type": "Shallow"
         },
         {
          "Condition": "Storyboard",
          "Dataset": "Police",
          "Distance": 6.491532946846993,
          "Task": "A1",
          "Type": "Shallow"
         },
         {
          "Condition": "Cluster",
          "Dataset": "Police",
          "Distance": 58.492221705112215,
          "Task": "A2",
          "Type": "Shallow"
         },
         {
          "Condition": "Cluster",
          "Dataset": "Police",
          "Distance": 21.86641260015003,
          "Task": "A2",
          "Type": "Shallow"
         },
         {
          "Condition": "BFS",
          "Dataset": "Police",
          "Distance": 60.10108152105085,
          "Task": "A3",
          "Type": "Shallow"
         },
         {
          "Condition": "BFS",
          "Dataset": "Police",
          "Distance": 36.41620518395622,
          "Task": "A3",
          "Type": "Shallow"
         },
         {
          "Condition": "Storyboard",
          "Dataset": "Police",
          "Distance": 10.979070998950686,
          "Task": "A1",
          "Type": "Shallow"
         },
         {
          "Condition": "Storyboard",
          "Dataset": "Police",
          "Distance": 6.792643079096679,
          "Task": "A1",
          "Type": "Shallow"
         },
         {
          "Condition": "Cluster",
          "Dataset": "Police",
          "Distance": 18.65851012272952,
          "Task": "A2",
          "Type": "Shallow"
         },
         {
          "Condition": "Cluster",
          "Dataset": "Police",
          "Distance": 52.85962542432551,
          "Task": "A2",
          "Type": "Shallow"
         },
         {
          "Condition": "BFS",
          "Dataset": "Police",
          "Distance": 71.77422935845428,
          "Task": "A3",
          "Type": "Shallow"
         },
         {
          "Condition": "BFS",
          "Dataset": "Police",
          "Distance": 81.05640011744909,
          "Task": "A3",
          "Type": "Shallow"
         },
         {
          "Condition": "Storyboard",
          "Dataset": "Police",
          "Distance": 19.751961927869345,
          "Task": "A1",
          "Type": "Shallow"
         },
         {
          "Condition": "Storyboard",
          "Dataset": "Police",
          "Distance": 0.9899494936611699,
          "Task": "A1",
          "Type": "Shallow"
         },
         {
          "Condition": "Cluster",
          "Dataset": "Police",
          "Distance": 42.013569236616874,
          "Task": "A2",
          "Type": "Shallow"
         },
         {
          "Condition": "Cluster",
          "Dataset": "Police",
          "Distance": 31.51095047757208,
          "Task": "A2",
          "Type": "Shallow"
         },
         {
          "Condition": "BFS",
          "Dataset": "Police",
          "Distance": 11.664475984801035,
          "Task": "A3",
          "Type": "Shallow"
         },
         {
          "Condition": "BFS",
          "Dataset": "Police",
          "Distance": 12.055704044144417,
          "Task": "A3",
          "Type": "Shallow"
         },
         {
          "Condition": "Storyboard",
          "Dataset": "Police",
          "Distance": 4.5659391147933635,
          "Task": "A1",
          "Type": "Deep"
         },
         {
          "Condition": "Storyboard",
          "Dataset": "Police",
          "Distance": 9.80549845749822,
          "Task": "A1",
          "Type": "Deep"
         },
         {
          "Condition": "Cluster",
          "Dataset": "Police",
          "Distance": 4.5659391147933635,
          "Task": "A2",
          "Type": "Deep"
         },
         {
          "Condition": "Cluster",
          "Dataset": "Police",
          "Distance": 10.73432811125131,
          "Task": "A2",
          "Type": "Deep"
         },
         {
          "Condition": "BFS",
          "Dataset": "Police",
          "Distance": 16.54532562387335,
          "Task": "A3",
          "Type": "Deep"
         },
         {
          "Condition": "BFS",
          "Dataset": "Police",
          "Distance": 96.43416303364695,
          "Task": "A3",
          "Type": "Deep"
         },
         {
          "Condition": "Storyboard",
          "Dataset": "Police",
          "Distance": 13.095793217671089,
          "Task": "A1",
          "Type": "Deep"
         },
         {
          "Condition": "Storyboard",
          "Dataset": "Police",
          "Distance": 6.7489110232688665,
          "Task": "A1",
          "Type": "Deep"
         },
         {
          "Condition": "Cluster",
          "Dataset": "Police",
          "Distance": 13.577473991873454,
          "Task": "A2",
          "Type": "Deep"
         },
         {
          "Condition": "Cluster",
          "Dataset": "Police",
          "Distance": 8.243045553677353,
          "Task": "A2",
          "Type": "Deep"
         },
         {
          "Condition": "BFS",
          "Dataset": "Police",
          "Distance": 19.305123672227538,
          "Task": "A3",
          "Type": "Deep"
         },
         {
          "Condition": "BFS",
          "Dataset": "Police",
          "Distance": 10.521777416387406,
          "Task": "A3",
          "Type": "Deep"
         },
         {
          "Condition": "Storyboard",
          "Dataset": "Police",
          "Distance": 15.87916244642645,
          "Task": "A1",
          "Type": "Deep"
         },
         {
          "Condition": "Storyboard",
          "Dataset": "Police",
          "Distance": 10.73432811125131,
          "Task": "A1",
          "Type": "Deep"
         },
         {
          "Condition": "Cluster",
          "Dataset": "Police",
          "Distance": 13.577473991873454,
          "Task": "A2",
          "Type": "Deep"
         },
         {
          "Condition": "Cluster",
          "Dataset": "Police",
          "Distance": 18.9485566732667,
          "Task": "A2",
          "Type": "Deep"
         },
         {
          "Condition": "BFS",
          "Dataset": "Police",
          "Distance": 10.73432811125131,
          "Task": "A3",
          "Type": "Deep"
         },
         {
          "Condition": "BFS",
          "Dataset": "Police",
          "Distance": 71.28778156177958,
          "Task": "A3",
          "Type": "Deep"
         },
         {
          "Condition": "Cluster",
          "Dataset": "Autism",
          "Distance": 12.727922061357855,
          "Task": "B2",
          "Type": "Deep"
         },
         {
          "Condition": "BFS",
          "Dataset": "Autism",
          "Distance": 19.79898987322333,
          "Task": "B3",
          "Type": "Deep"
         },
         {
          "Condition": "Storyboard",
          "Dataset": "Autism",
          "Distance": 12.727922061357855,
          "Task": "B1",
          "Type": "Deep"
         },
         {
          "Condition": "BFS",
          "Dataset": "Autism",
          "Distance": 1.4142135623730951,
          "Task": "B3",
          "Type": "Deep"
         },
         {
          "Condition": "Storyboard",
          "Dataset": "Autism",
          "Distance": 15.556349186104045,
          "Task": "B1",
          "Type": "Deep"
         },
         {
          "Condition": "Cluster",
          "Dataset": "Autism",
          "Distance": 15.556349186104045,
          "Task": "B2",
          "Type": "Deep"
         },
         {
          "Condition": "Cluster",
          "Dataset": "Autism",
          "Distance": 36.76955262170047,
          "Task": "B2",
          "Type": "Deep"
         },
         {
          "Condition": "BFS",
          "Dataset": "Autism",
          "Distance": 22.627416997969522,
          "Task": "B3",
          "Type": "Deep"
         },
         {
          "Condition": "Storyboard",
          "Dataset": "Autism",
          "Distance": 29.698484809834994,
          "Task": "B1",
          "Type": "Deep"
         },
         {
          "Condition": "BFS",
          "Dataset": "Autism",
          "Distance": 12.727922061357855,
          "Task": "B3",
          "Type": "Deep"
         },
         {
          "Condition": "Storyboard",
          "Dataset": "Autism",
          "Distance": 43.840620433565945,
          "Task": "B1",
          "Type": "Deep"
         },
         {
          "Condition": "Cluster",
          "Dataset": "Autism",
          "Distance": 1.4142135623730951,
          "Task": "B2",
          "Type": "Deep"
         },
         {
          "Condition": "Cluster",
          "Dataset": "Autism",
          "Distance": 29.698484809834994,
          "Task": "B2",
          "Type": "Deep"
         },
         {
          "Condition": "BFS",
          "Dataset": "Autism",
          "Distance": 29.698484809834994,
          "Task": "B3",
          "Type": "Deep"
         },
         {
          "Condition": "Storyboard",
          "Dataset": "Autism",
          "Distance": 43.840620433565945,
          "Task": "B1",
          "Type": "Deep"
         },
         {
          "Condition": "BFS",
          "Dataset": "Autism",
          "Distance": 12.727922061357855,
          "Task": "B3",
          "Type": "Deep"
         },
         {
          "Condition": "Storyboard",
          "Dataset": "Autism",
          "Distance": 12.020815280171307,
          "Task": "B1",
          "Type": "Deep"
         },
         {
          "Condition": "Cluster",
          "Dataset": "Autism",
          "Distance": 1.4142135623730951,
          "Task": "B2",
          "Type": "Deep"
         }
        ]
       },
       "encoding": {
        "column": {
         "field": "Type",
         "type": "nominal"
        },
        "row": {
         "field": "Dataset",
         "type": "nominal"
        },
        "x": {
         "aggregate": "ci0",
         "field": "Distance",
         "type": "quantitative"
        },
        "x2": {
         "aggregate": "ci1",
         "field": "Distance",
         "type": "quantitative"
        },
        "y": {
         "field": "Condition",
         "type": "nominal"
        }
       },
       "mark": "rule"
      },
      "image/png": "[encoded data removed]",
      "text/plain": [
       "<VegaLite 2 object>\n",
       "\n",
       "If you see this message, it means the renderer has not been properly enabled\n",
       "for the frontend that you are using. For more information, see\n",
       "https://altair-viz.github.io/user_guide/troubleshooting.html\n"
      ]
     },
     "execution_count": 167,
     "metadata": {},
     "output_type": "execute_result"
    }
   ],
   "source": [
    "error_bars"
   ]
  },
  {
   "cell_type": "code",
   "execution_count": 168,
   "metadata": {},
   "outputs": [
    {
     "data": {
      "application/vnd.vegalite.v2+json": {
       "$schema": "https://vega.github.io/schema/vega-lite/v2.6.0.json",
       "config": {
        "view": {
         "height": 300,
         "width": 400
        }
       },
       "data": {
        "name": "data-427b73d529a522ea363d890c36599576"
       },
       "datasets": {
        "data-427b73d529a522ea363d890c36599576": [
         {
          "Condition": "Cluster",
          "Dataset": "Autism",
          "Distance": 60.38691911333116,
          "Task": "B2",
          "Type": "Shallow"
         },
         {
          "Condition": "BFS",
          "Dataset": "Autism",
          "Distance": 47.65899705197331,
          "Task": "B3",
          "Type": "Shallow"
         },
         {
          "Condition": "Storyboard",
          "Dataset": "Autism",
          "Distance": 3.8183766184073584,
          "Task": "B1",
          "Type": "Shallow"
         },
         {
          "Condition": "BFS",
          "Dataset": "Autism",
          "Distance": 43.41635636485402,
          "Task": "B3",
          "Type": "Shallow"
         },
         {
          "Condition": "Storyboard",
          "Dataset": "Autism",
          "Distance": 3.8183766184073584,
          "Task": "B1",
          "Type": "Shallow"
         },
         {
          "Condition": "Cluster",
          "Dataset": "Autism",
          "Distance": 3.252691193458117,
          "Task": "B2",
          "Type": "Shallow"
         },
         {
          "Condition": "Cluster",
          "Dataset": "Autism",
          "Distance": 3.252691193458117,
          "Task": "B2",
          "Type": "Shallow"
         },
         {
          "Condition": "BFS",
          "Dataset": "Autism",
          "Distance": 46.24478348960021,
          "Task": "B3",
          "Type": "Shallow"
         },
         {
          "Condition": "Storyboard",
          "Dataset": "Autism",
          "Distance": 25.031580054003783,
          "Task": "B1",
          "Type": "Shallow"
         },
         {
          "Condition": "BFS",
          "Dataset": "Autism",
          "Distance": 46.24478348960021,
          "Task": "B3",
          "Type": "Shallow"
         },
         {
          "Condition": "Storyboard",
          "Dataset": "Autism",
          "Distance": 3.8183766184073584,
          "Task": "B1",
          "Type": "Shallow"
         },
         {
          "Condition": "Cluster",
          "Dataset": "Autism",
          "Distance": 3.8183766184073584,
          "Task": "B2",
          "Type": "Shallow"
         },
         {
          "Condition": "Cluster",
          "Dataset": "Autism",
          "Distance": 3.8183766184073584,
          "Task": "B2",
          "Type": "Shallow"
         },
         {
          "Condition": "BFS",
          "Dataset": "Autism",
          "Distance": 48.931789258109085,
          "Task": "B3",
          "Type": "Shallow"
         },
         {
          "Condition": "Storyboard",
          "Dataset": "Autism",
          "Distance": 3.252691193458117,
          "Task": "B1",
          "Type": "Shallow"
         },
         {
          "Condition": "BFS",
          "Dataset": "Autism",
          "Distance": 60.38691911333116,
          "Task": "B3",
          "Type": "Shallow"
         },
         {
          "Condition": "Storyboard",
          "Dataset": "Autism",
          "Distance": 10.889444430272833,
          "Task": "B1",
          "Type": "Shallow"
         },
         {
          "Condition": "Cluster",
          "Dataset": "Autism",
          "Distance": 32.10264786586926,
          "Task": "B2",
          "Type": "Shallow"
         },
         {
          "Condition": "Storyboard",
          "Dataset": "Police",
          "Distance": 13.120213412898437,
          "Task": "A1",
          "Type": "Shallow"
         },
         {
          "Condition": "Storyboard",
          "Dataset": "Police",
          "Distance": 6.491532946846993,
          "Task": "A1",
          "Type": "Shallow"
         },
         {
          "Condition": "Cluster",
          "Dataset": "Police",
          "Distance": 58.492221705112215,
          "Task": "A2",
          "Type": "Shallow"
         },
         {
          "Condition": "Cluster",
          "Dataset": "Police",
          "Distance": 21.86641260015003,
          "Task": "A2",
          "Type": "Shallow"
         },
         {
          "Condition": "BFS",
          "Dataset": "Police",
          "Distance": 60.10108152105085,
          "Task": "A3",
          "Type": "Shallow"
         },
         {
          "Condition": "BFS",
          "Dataset": "Police",
          "Distance": 36.41620518395622,
          "Task": "A3",
          "Type": "Shallow"
         },
         {
          "Condition": "Storyboard",
          "Dataset": "Police",
          "Distance": 10.979070998950686,
          "Task": "A1",
          "Type": "Shallow"
         },
         {
          "Condition": "Storyboard",
          "Dataset": "Police",
          "Distance": 6.792643079096679,
          "Task": "A1",
          "Type": "Shallow"
         },
         {
          "Condition": "Cluster",
          "Dataset": "Police",
          "Distance": 18.65851012272952,
          "Task": "A2",
          "Type": "Shallow"
         },
         {
          "Condition": "Cluster",
          "Dataset": "Police",
          "Distance": 52.85962542432551,
          "Task": "A2",
          "Type": "Shallow"
         },
         {
          "Condition": "BFS",
          "Dataset": "Police",
          "Distance": 71.77422935845428,
          "Task": "A3",
          "Type": "Shallow"
         },
         {
          "Condition": "BFS",
          "Dataset": "Police",
          "Distance": 81.05640011744909,
          "Task": "A3",
          "Type": "Shallow"
         },
         {
          "Condition": "Storyboard",
          "Dataset": "Police",
          "Distance": 19.751961927869345,
          "Task": "A1",
          "Type": "Shallow"
         },
         {
          "Condition": "Storyboard",
          "Dataset": "Police",
          "Distance": 0.9899494936611699,
          "Task": "A1",
          "Type": "Shallow"
         },
         {
          "Condition": "Cluster",
          "Dataset": "Police",
          "Distance": 42.013569236616874,
          "Task": "A2",
          "Type": "Shallow"
         },
         {
          "Condition": "Cluster",
          "Dataset": "Police",
          "Distance": 31.51095047757208,
          "Task": "A2",
          "Type": "Shallow"
         },
         {
          "Condition": "BFS",
          "Dataset": "Police",
          "Distance": 11.664475984801035,
          "Task": "A3",
          "Type": "Shallow"
         },
         {
          "Condition": "BFS",
          "Dataset": "Police",
          "Distance": 12.055704044144417,
          "Task": "A3",
          "Type": "Shallow"
         },
         {
          "Condition": "Storyboard",
          "Dataset": "Police",
          "Distance": 4.5659391147933635,
          "Task": "A1",
          "Type": "Deep"
         },
         {
          "Condition": "Storyboard",
          "Dataset": "Police",
          "Distance": 9.80549845749822,
          "Task": "A1",
          "Type": "Deep"
         },
         {
          "Condition": "Cluster",
          "Dataset": "Police",
          "Distance": 4.5659391147933635,
          "Task": "A2",
          "Type": "Deep"
         },
         {
          "Condition": "Cluster",
          "Dataset": "Police",
          "Distance": 10.73432811125131,
          "Task": "A2",
          "Type": "Deep"
         },
         {
          "Condition": "BFS",
          "Dataset": "Police",
          "Distance": 16.54532562387335,
          "Task": "A3",
          "Type": "Deep"
         },
         {
          "Condition": "BFS",
          "Dataset": "Police",
          "Distance": 96.43416303364695,
          "Task": "A3",
          "Type": "Deep"
         },
         {
          "Condition": "Storyboard",
          "Dataset": "Police",
          "Distance": 13.095793217671089,
          "Task": "A1",
          "Type": "Deep"
         },
         {
          "Condition": "Storyboard",
          "Dataset": "Police",
          "Distance": 6.7489110232688665,
          "Task": "A1",
          "Type": "Deep"
         },
         {
          "Condition": "Cluster",
          "Dataset": "Police",
          "Distance": 13.577473991873454,
          "Task": "A2",
          "Type": "Deep"
         },
         {
          "Condition": "Cluster",
          "Dataset": "Police",
          "Distance": 8.243045553677353,
          "Task": "A2",
          "Type": "Deep"
         },
         {
          "Condition": "BFS",
          "Dataset": "Police",
          "Distance": 19.305123672227538,
          "Task": "A3",
          "Type": "Deep"
         },
         {
          "Condition": "BFS",
          "Dataset": "Police",
          "Distance": 10.521777416387406,
          "Task": "A3",
          "Type": "Deep"
         },
         {
          "Condition": "Storyboard",
          "Dataset": "Police",
          "Distance": 15.87916244642645,
          "Task": "A1",
          "Type": "Deep"
         },
         {
          "Condition": "Storyboard",
          "Dataset": "Police",
          "Distance": 10.73432811125131,
          "Task": "A1",
          "Type": "Deep"
         },
         {
          "Condition": "Cluster",
          "Dataset": "Police",
          "Distance": 13.577473991873454,
          "Task": "A2",
          "Type": "Deep"
         },
         {
          "Condition": "Cluster",
          "Dataset": "Police",
          "Distance": 18.9485566732667,
          "Task": "A2",
          "Type": "Deep"
         },
         {
          "Condition": "BFS",
          "Dataset": "Police",
          "Distance": 10.73432811125131,
          "Task": "A3",
          "Type": "Deep"
         },
         {
          "Condition": "BFS",
          "Dataset": "Police",
          "Distance": 71.28778156177958,
          "Task": "A3",
          "Type": "Deep"
         },
         {
          "Condition": "Cluster",
          "Dataset": "Autism",
          "Distance": 12.727922061357855,
          "Task": "B2",
          "Type": "Deep"
         },
         {
          "Condition": "BFS",
          "Dataset": "Autism",
          "Distance": 19.79898987322333,
          "Task": "B3",
          "Type": "Deep"
         },
         {
          "Condition": "Storyboard",
          "Dataset": "Autism",
          "Distance": 12.727922061357855,
          "Task": "B1",
          "Type": "Deep"
         },
         {
          "Condition": "BFS",
          "Dataset": "Autism",
          "Distance": 1.4142135623730951,
          "Task": "B3",
          "Type": "Deep"
         },
         {
          "Condition": "Storyboard",
          "Dataset": "Autism",
          "Distance": 15.556349186104045,
          "Task": "B1",
          "Type": "Deep"
         },
         {
          "Condition": "Cluster",
          "Dataset": "Autism",
          "Distance": 15.556349186104045,
          "Task": "B2",
          "Type": "Deep"
         },
         {
          "Condition": "Cluster",
          "Dataset": "Autism",
          "Distance": 36.76955262170047,
          "Task": "B2",
          "Type": "Deep"
         },
         {
          "Condition": "BFS",
          "Dataset": "Autism",
          "Distance": 22.627416997969522,
          "Task": "B3",
          "Type": "Deep"
         },
         {
          "Condition": "Storyboard",
          "Dataset": "Autism",
          "Distance": 29.698484809834994,
          "Task": "B1",
          "Type": "Deep"
         },
         {
          "Condition": "BFS",
          "Dataset": "Autism",
          "Distance": 12.727922061357855,
          "Task": "B3",
          "Type": "Deep"
         },
         {
          "Condition": "Storyboard",
          "Dataset": "Autism",
          "Distance": 43.840620433565945,
          "Task": "B1",
          "Type": "Deep"
         },
         {
          "Condition": "Cluster",
          "Dataset": "Autism",
          "Distance": 1.4142135623730951,
          "Task": "B2",
          "Type": "Deep"
         },
         {
          "Condition": "Cluster",
          "Dataset": "Autism",
          "Distance": 29.698484809834994,
          "Task": "B2",
          "Type": "Deep"
         },
         {
          "Condition": "BFS",
          "Dataset": "Autism",
          "Distance": 29.698484809834994,
          "Task": "B3",
          "Type": "Deep"
         },
         {
          "Condition": "Storyboard",
          "Dataset": "Autism",
          "Distance": 43.840620433565945,
          "Task": "B1",
          "Type": "Deep"
         },
         {
          "Condition": "BFS",
          "Dataset": "Autism",
          "Distance": 12.727922061357855,
          "Task": "B3",
          "Type": "Deep"
         },
         {
          "Condition": "Storyboard",
          "Dataset": "Autism",
          "Distance": 12.020815280171307,
          "Task": "B1",
          "Type": "Deep"
         },
         {
          "Condition": "Cluster",
          "Dataset": "Autism",
          "Distance": 1.4142135623730951,
          "Task": "B2",
          "Type": "Deep"
         }
        ]
       },
       "encoding": {
        "column": {
         "field": "Type",
         "type": "nominal"
        },
        "row": {
         "field": "Dataset",
         "type": "nominal"
        },
        "x": {
         "aggregate": "mean",
         "axis": {
          "title": "Distance"
         },
         "field": "Distance",
         "scale": {
          "zero": false
         },
         "type": "quantitative"
        },
        "y": {
         "field": "Condition",
         "type": "nominal"
        }
       },
       "mark": {
        "filled": true,
        "type": "point"
       }
      },
      "image/png": "[encoded data removed]",
      "text/plain": [
       "<VegaLite 2 object>\n",
       "\n",
       "If you see this message, it means the renderer has not been properly enabled\n",
       "for the frontend that you are using. For more information, see\n",
       "https://altair-viz.github.io/user_guide/troubleshooting.html\n"
      ]
     },
     "execution_count": 168,
     "metadata": {},
     "output_type": "execute_result"
    }
   ],
   "source": [
    "points"
   ]
  },
  {
   "cell_type": "code",
   "execution_count": 70,
   "metadata": {},
   "outputs": [
    {
     "data": {
      "application/vnd.vegalite.v2+json": {
       "$schema": "https://vega.github.io/schema/vega-lite/v2.6.0.json",
       "config": {
        "view": {
         "height": 300,
         "width": 400
        }
       },
       "datasets": {
        "data-6ac9501f9efa886bcf2dc8880f386cb6": [
         {
          "Distance": 60.38691911333116,
          "Task": "B2"
         },
         {
          "Distance": 47.65899705197331,
          "Task": "B3"
         },
         {
          "Distance": 3.8183766184073584,
          "Task": "B1"
         },
         {
          "Distance": 43.41635636485402,
          "Task": "B3"
         },
         {
          "Distance": 3.8183766184073584,
          "Task": "B1"
         },
         {
          "Distance": 3.252691193458117,
          "Task": "B2"
         },
         {
          "Distance": 3.252691193458117,
          "Task": "B2"
         },
         {
          "Distance": 46.24478348960021,
          "Task": "B3"
         },
         {
          "Distance": 25.031580054003783,
          "Task": "B1"
         },
         {
          "Distance": 46.24478348960021,
          "Task": "B3"
         },
         {
          "Distance": 3.8183766184073584,
          "Task": "B1"
         },
         {
          "Distance": 3.8183766184073584,
          "Task": "B2"
         },
         {
          "Distance": 3.8183766184073584,
          "Task": "B2"
         },
         {
          "Distance": 48.931789258109085,
          "Task": "B3"
         },
         {
          "Distance": 3.252691193458117,
          "Task": "B1"
         },
         {
          "Distance": 60.38691911333116,
          "Task": "B3"
         },
         {
          "Distance": 10.889444430272833,
          "Task": "B1"
         },
         {
          "Distance": 32.10264786586926,
          "Task": "B2"
         }
        ],
        "data-ccc62eafaaf26b94f5f2a28ab31a47b6": [
         {
          "Distance": 13.120213412898437,
          "Task": "A1"
         },
         {
          "Distance": 6.491532946846993,
          "Task": "A1"
         },
         {
          "Distance": 58.492221705112215,
          "Task": "A2"
         },
         {
          "Distance": 21.86641260015003,
          "Task": "A2"
         },
         {
          "Distance": 60.10108152105085,
          "Task": "A3"
         },
         {
          "Distance": 36.41620518395622,
          "Task": "A3"
         },
         {
          "Distance": 10.979070998950686,
          "Task": "A1"
         },
         {
          "Distance": 6.792643079096679,
          "Task": "A1"
         },
         {
          "Distance": 18.65851012272952,
          "Task": "A2"
         },
         {
          "Distance": 52.85962542432551,
          "Task": "A2"
         },
         {
          "Distance": 71.77422935845428,
          "Task": "A3"
         },
         {
          "Distance": 81.05640011744909,
          "Task": "A3"
         },
         {
          "Distance": 19.751961927869345,
          "Task": "A1"
         },
         {
          "Distance": 0.9899494936611699,
          "Task": "A1"
         },
         {
          "Distance": 42.013569236616874,
          "Task": "A2"
         },
         {
          "Distance": 31.51095047757208,
          "Task": "A2"
         },
         {
          "Distance": 11.664475984801035,
          "Task": "A3"
         },
         {
          "Distance": 12.055704044144417,
          "Task": "A3"
         }
        ]
       },
       "layer": [
        {
         "data": {
          "name": "data-ccc62eafaaf26b94f5f2a28ab31a47b6"
         },
         "encoding": {
          "color": {
           "value": "black"
          },
          "x": {
           "aggregate": "mean",
           "axis": {
            "title": "Distance"
           },
           "field": "Distance",
           "scale": {
            "zero": false
           },
           "type": "quantitative"
          },
          "y": {
           "field": "Task",
           "type": "nominal"
          }
         },
         "mark": {
          "filled": true,
          "type": "point"
         }
        },
        {
         "data": {
          "name": "data-ccc62eafaaf26b94f5f2a28ab31a47b6"
         },
         "encoding": {
          "x": {
           "aggregate": "ci0",
           "field": "Distance",
           "type": "quantitative"
          },
          "x2": {
           "aggregate": "ci1",
           "field": "Distance",
           "type": "quantitative"
          },
          "y": {
           "field": "Task",
           "type": "nominal"
          }
         },
         "mark": "rule"
        },
        {
         "data": {
          "name": "data-6ac9501f9efa886bcf2dc8880f386cb6"
         },
         "encoding": {
          "color": {
           "value": "black"
          },
          "x": {
           "aggregate": "mean",
           "axis": {
            "title": "Distance"
           },
           "field": "Distance",
           "scale": {
            "zero": false
           },
           "type": "quantitative"
          },
          "y": {
           "field": "Task",
           "type": "nominal"
          }
         },
         "mark": {
          "filled": true,
          "type": "point"
         }
        },
        {
         "data": {
          "name": "data-6ac9501f9efa886bcf2dc8880f386cb6"
         },
         "encoding": {
          "x": {
           "aggregate": "ci0",
           "field": "Distance",
           "type": "quantitative"
          },
          "x2": {
           "aggregate": "ci1",
           "field": "Distance",
           "type": "quantitative"
          },
          "y": {
           "field": "Task",
           "type": "nominal"
          }
         },
         "mark": "rule"
        }
       ]
      },
      "image/png": "[encoded data removed]",
      "text/plain": [
       "<VegaLite 2 object>\n",
       "\n",
       "If you see this message, it means the renderer has not been properly enabled\n",
       "for the frontend that you are using. For more information, see\n",
       "https://altair-viz.github.io/user_guide/troubleshooting.html\n"
      ]
     },
     "execution_count": 70,
     "metadata": {},
     "output_type": "execute_result"
    }
   ],
   "source": [
    "df2 = compute_prediction_distances(\"Prediction1(Police).csv\",\"Police1\",aggregate=False)\n",
    "\n",
    "points2 = alt.Chart(df2).mark_point(filled=True).encode(\n",
    "    alt.X(\n",
    "        'mean(Distance)',\n",
    "        scale=alt.Scale(zero=False),\n",
    "        axis=alt.Axis(title='Distance')\n",
    "    ),\n",
    "    y='Task',\n",
    "    color=alt.value('black')\n",
    ")\n",
    "\n",
    "error_bars2 = alt.Chart(df2).mark_rule().encode(\n",
    "    x='ci0(Distance)',\n",
    "    x2='ci1(Distance)',\n",
    "    y='Task'\n",
    ")\n",
    "\n",
    "points2 + error_bars2 + points + error_bars"
   ]
  },
  {
   "cell_type": "code",
   "execution_count": 46,
   "metadata": {},
   "outputs": [],
   "source": [
    "err = alt.Chart(df).mark_rule().encode(\n",
    "    alt.X(\"Task\"),\n",
    "    alt.Y(\"SD\",scale=alt.Scale(zero=False)),\n",
    "    alt.Y2(\"Distance\")\n",
    ")"
   ]
  },
  {
   "cell_type": "code",
   "execution_count": 47,
   "metadata": {},
   "outputs": [],
   "source": [
    "bar = alt.Chart(df).mark_bar().encode(\n",
    "    x = alt.X(\"Task\"),\n",
    "    y = alt.Y(\"Distance\")\n",
    ")"
   ]
  },
  {
   "cell_type": "code",
   "execution_count": 48,
   "metadata": {},
   "outputs": [
    {
     "data": {
      "application/vnd.vegalite.v2+json": {
       "$schema": "https://vega.github.io/schema/vega-lite/v2.6.0.json",
       "config": {
        "view": {
         "height": 300,
         "width": 400
        }
       },
       "datasets": {
        "data-dd5fd1702c283399782683234eeaa9cb": [
         {
          "Distance": 8.438140922159468,
          "SD": 8.628634499927166,
          "Task": "B1"
         },
         {
          "Distance": 17.771950433821896,
          "SD": 23.800952361897902,
          "Task": "B2"
         },
         {
          "Distance": 48.813938127911335,
          "SD": 5.960145412096364,
          "Task": "B3"
         }
        ]
       },
       "layer": [
        {
         "data": {
          "name": "data-dd5fd1702c283399782683234eeaa9cb"
         },
         "encoding": {
          "x": {
           "field": "Task",
           "type": "nominal"
          },
          "y": {
           "field": "Distance",
           "type": "quantitative"
          }
         },
         "mark": "bar"
        },
        {
         "data": {
          "name": "data-dd5fd1702c283399782683234eeaa9cb"
         },
         "encoding": {
          "x": {
           "field": "Task",
           "type": "nominal"
          },
          "y": {
           "field": "SD",
           "scale": {
            "zero": false
           },
           "type": "quantitative"
          },
          "y2": {
           "field": "Distance",
           "type": "quantitative"
          }
         },
         "mark": "rule"
        }
       ]
      },
      "image/png": "[encoded data removed]",
      "text/plain": [
       "<VegaLite 2 object>\n",
       "\n",
       "If you see this message, it means the renderer has not been properly enabled\n",
       "for the frontend that you are using. For more information, see\n",
       "https://altair-viz.github.io/user_guide/troubleshooting.html\n"
      ]
     },
     "execution_count": 48,
     "metadata": {},
     "output_type": "execute_result"
    }
   ],
   "source": [
    "bar + err"
   ]
  },
  {
   "cell_type": "code",
   "execution_count": null,
   "metadata": {},
   "outputs": [],
   "source": []
  }
 ],
 "metadata": {
  "kernelspec": {
   "display_name": "Python 3",
   "language": "python",
   "name": "python3"
  },
  "language_info": {
   "codemirror_mode": {
    "name": "ipython",
    "version": 3
   },
   "file_extension": ".py",
   "mimetype": "text/x-python",
   "name": "python",
   "nbconvert_exporter": "python",
   "pygments_lexer": "ipython3",
   "version": "3.7.0"
  }
 },
 "nbformat": 4,
 "nbformat_minor": 2
}
