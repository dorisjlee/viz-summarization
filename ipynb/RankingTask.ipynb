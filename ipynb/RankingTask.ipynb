{
 "cells": [
  {
   "cell_type": "code",
   "execution_count": 3,
   "metadata": {
    "collapsed": false
   },
   "outputs": [
    {
     "name": "stdout",
     "output_type": "stream",
     "text": [
      "Populating the interactive namespace from numpy and matplotlib\n"
     ]
    }
   ],
   "source": [
    "%pylab inline"
   ]
  },
  {
   "cell_type": "code",
   "execution_count": 4,
   "metadata": {
    "collapsed": true
   },
   "outputs": [],
   "source": [
    "import pandas as pd"
   ]
  },
  {
   "cell_type": "code",
   "execution_count": 5,
   "metadata": {
    "collapsed": false
   },
   "outputs": [],
   "source": [
    "# csv files for answer responses\n",
    "gdrive_path = \"/Users/dorislee/Google Drive/Turn/user_study/evaluation_study/transcription_and_analysis/\""
   ]
  },
  {
   "cell_type": "code",
   "execution_count": 6,
   "metadata": {
    "collapsed": false
   },
   "outputs": [],
   "source": [
    "user_task =  pd.read_csv(gdrive_path+\"UserTaskAssignment.csv\")"
   ]
  },
  {
   "cell_type": "code",
   "execution_count": 7,
   "metadata": {
    "collapsed": false
   },
   "outputs": [],
   "source": [
    "%load_ext autoreload\n",
    "%autoreload 2\n",
    "from paper_visualization import *"
   ]
  },
  {
   "cell_type": "code",
   "execution_count": 71,
   "metadata": {
    "collapsed": false
   },
   "outputs": [],
   "source": [
    "def dcg(r, k, method=0,debug=False):\n",
    "    # alternative formulation of DCG places stronger emphasis on retrieving relevant documents\n",
    "    r = np.asfarray(r)[:k]\n",
    "    val = 0\n",
    "    for i in range(1,len(r)+1):\n",
    "        val+= (r[i-1]) / np.log2(i+1)\n",
    "        if debug:\n",
    "            print (\"i=\",i,\":\",(r[i-1]) ,\"/\", np.log2(i+1))\n",
    "            print ((r[i-1]) / np.log2(i+1))\n",
    "    return val\n",
    "\n",
    "def ndcg(ground_truth_r,r, k,debug=False):\n",
    "    return dcg(r, k,debug=debug) / dcg(ground_truth_r,k,debug=debug)"
   ]
  },
  {
   "cell_type": "code",
   "execution_count": 82,
   "metadata": {},
   "outputs": [],
   "source": [
    "example_ratings = [3,2,3,0,1,2]\n",
    "ideal_ordering = [3,3,3,2,2,2,1,0]\n",
    "assert np.isclose(dcg(example_ratings,6),6.861,1e-2) #check DCG calculation (Based on Wikipedia example)\n",
    "assert np.isclose(ndcg(ideal_ordering,[3,2,3,0,1,2],6),0.785,1e-2) #check NDCG calculation (Based on Wikipedia example)\n",
    "assert np.isclose(ndcg([3,1,2],[3, 1, 2],3),1) #sanity check"
   ]
  },
  {
   "cell_type": "code",
   "execution_count": 83,
   "metadata": {},
   "outputs": [],
   "source": [
    "# ndcg([3.0, 1.0, 2.0],[3.0, 2.0, 1.0],3,debug=True)"
   ]
  },
  {
   "cell_type": "code",
   "execution_count": 84,
   "metadata": {
    "collapsed": true
   },
   "outputs": [],
   "source": [
    "def compute_ndcg_rankings(user_ranking_filename,gt_ranking_filename):\n",
    "    user_rank = pd.read_csv(gdrive_path+user_ranking_filename)\n",
    "    ground_truth_rank = pd.read_csv(gt_ranking_filename,index_col=0)\n",
    "    k = len(ground_truth_rank[\"attribute\"])\n",
    "    ground_truth_cramerV_rank = list(ground_truth_rank[\"cramerV\"].rank(ascending=False)) \n",
    "    #print ground_truth_cramerV_rank\n",
    "    if \"Police\" in user_ranking_filename: \n",
    "        task_name = \"Task1\"\n",
    "    else: \n",
    "        task_name = \"Task2\"\n",
    "    #highest cramer's V corresponds to most correlated, corresponds to rank 1\n",
    "    user_rank = user_rank.merge(user_task).drop(\"Note\",axis=1)\n",
    "    user_rankings=[]\n",
    "    #Putting user rankings into appropriate data structures\n",
    "    for row in user_rank.iterrows():\n",
    "        ranking = []\n",
    "        for attr in ground_truth_rank.attribute:\n",
    "            ranking.append(row[1][attr])\n",
    "        task = row[1][task_name]\n",
    "        user_rankings.append([task,ranking])\n",
    "    #Computing ndcg ranking\n",
    "    ndcg_data = []\n",
    "    for trial in user_rankings:\n",
    "        ndcg_d = []\n",
    "        #print (trial)\n",
    "        ndcg_d.append(trial[0])\n",
    "        #for k in k_lst:\n",
    "        ndcg_d.append(ndcg(ground_truth_cramerV_rank,trial[1],k))\n",
    "#             print trial[1]\n",
    "        ndcg_data.append(ndcg_d)\n",
    "#    print ndcg_data\n",
    "    NDCG_lst = [\"NDCG@\"+str(k)]\n",
    "    ndcg_result = pd.DataFrame(ndcg_data,columns=[\"Task\"]+NDCG_lst)\n",
    "    #print (ndcg_result)\n",
    "    return ndcg_result.groupby(\"Task\",as_index=False).mean()"
   ]
  },
  {
   "cell_type": "code",
   "execution_count": 85,
   "metadata": {
    "collapsed": false
   },
   "outputs": [],
   "source": [
    "ndcg_result=[[\"Police\"]+list(compute_ndcg_rankings(\"Ranking(Police).csv\",\"ct_police_ground_truth_correlation.csv\")[\"NDCG@7\"]),\n",
    "[\"Autism\"]+list(compute_ndcg_rankings(\"Ranking(Autism).csv\",\"autism_ground_truth_correlation.csv\")[\"NDCG@10\"])]"
   ]
  },
  {
   "cell_type": "code",
   "execution_count": 86,
   "metadata": {},
   "outputs": [],
   "source": [
    "import tabulate as T"
   ]
  },
  {
   "cell_type": "code",
   "execution_count": 87,
   "metadata": {},
   "outputs": [
    {
     "name": "stdout",
     "output_type": "stream",
     "text": [
      "\\begin{tabular}{lrrr}\n",
      "\\hline\n",
      " Dataset   &   system &   Cluster &   BFS \\\\\n",
      "\\hline\n",
      " Police    &     0.32 &      0.28 &  0.37 \\\\\n",
      " Autism    &     0.19 &      0.29 &  0.20 \\\\\n",
      "\\hline\n",
      "\\end{tabular}\n"
     ]
    }
   ],
   "source": [
    "print (T.tabulate(ndcg_result,headers=['Dataset','system','Cluster','BFS'],tablefmt='latex', floatfmt=\".2f\"))"
   ]
  },
  {
   "cell_type": "markdown",
   "metadata": {},
   "source": [
    "- NDCG@1 is 0 because if the first-ranked attribute is not retreived, then score would be 0.\n",
    "- This makes sense, our algo does better than kmeans (2) and level-wise BFS (3), except for NDCG@3 A2 for some reason did very well.\n",
    "- NDCG should be @10 because all users read through and ranked all 10 dashboards."
   ]
  },
  {
   "cell_type": "code",
   "execution_count": 92,
   "metadata": {
    "collapsed": true
   },
   "outputs": [],
   "source": [
    "# user_ranking_filename = \"Ranking(Police).csv\"\n",
    "# gt_ranking_filename = \"ct_police_ground_truth_correlation.csv\"\n",
    "def compute_ndcg_rankings_exclude_unranked(user_ranking_filename,gt_ranking_filename):\n",
    "    user_rank = pd.read_csv(gdrive_path+user_ranking_filename)\n",
    "    ground_truth_rank = pd.read_csv(gt_ranking_filename,index_col=0)\n",
    "\n",
    "    #print ground_truth_cramerV_rank\n",
    "    if \"Police\" in user_ranking_filename: \n",
    "        task_name = \"Task1\"\n",
    "    else: \n",
    "        task_name = \"Task2\"\n",
    "    #highest cramer's V corresponds to most correlated, corresponds to rank 1\n",
    "    user_rank = user_rank.merge(user_task).drop(\"Note\",axis=1)\n",
    "    user_rankings=[]\n",
    "    ndcg_data = []\n",
    "    #Putting user rankings into appropriate data structures\n",
    "    for row in user_rank.iterrows():\n",
    "        ranking = []\n",
    "        for attr in ground_truth_rank.attribute:\n",
    "            ranking.append(row[1][attr])\n",
    "        task = row[1][task_name]\n",
    "        #Recompute the ground truth rating after throwing away unrated instances\n",
    "        ranking = np.array(ranking)\n",
    "        unrated_idxs =  np.where(ranking==0)[0]\n",
    "        new_ranking = list(np.delete(ranking, unrated_idxs))\n",
    "        new_CramerV = np.delete(np.array(ground_truth_rank[\"cramerV\"]),unrated_idxs)\n",
    "        assert len(new_ranking) == len(new_CramerV)\n",
    "        k = len(new_ranking)\n",
    "        ground_truth_cramerV_rank = list(pd.Series(new_CramerV).rank(ascending=False)) \n",
    "        #Computing ndcg ranking\n",
    "        ndcg_d = []\n",
    "        ndcg_d.append(task)\n",
    "        ndcg_val=ndcg(ground_truth_cramerV_rank,new_ranking,k)\n",
    "        #print (ground_truth_cramerV_rank,new_ranking,ndcg_val)\n",
    "        ndcg_d.append(ndcg_val)\n",
    "        ndcg_d.append(k)\n",
    "        ndcg_data.append(ndcg_d)\n",
    "    #    print ndcg_data\n",
    "    NDCG_lst = [\"NDCG@k\"]\n",
    "    ndcg_result = pd.DataFrame(ndcg_data,columns=[\"Task\",\"NDCG@k\",\"k\"])\n",
    "    return ndcg_result"
   ]
  },
  {
   "cell_type": "code",
   "execution_count": 185,
   "metadata": {},
   "outputs": [
    {
     "data": {
      "text/html": [
       "<div>\n",
       "<style scoped>\n",
       "    .dataframe tbody tr th:only-of-type {\n",
       "        vertical-align: middle;\n",
       "    }\n",
       "\n",
       "    .dataframe tbody tr th {\n",
       "        vertical-align: top;\n",
       "    }\n",
       "\n",
       "    .dataframe thead th {\n",
       "        text-align: right;\n",
       "    }\n",
       "</style>\n",
       "<table border=\"1\" class=\"dataframe\">\n",
       "  <thead>\n",
       "    <tr style=\"text-align: right;\">\n",
       "      <th></th>\n",
       "      <th>Task</th>\n",
       "      <th>NDCG@k</th>\n",
       "      <th>k</th>\n",
       "    </tr>\n",
       "  </thead>\n",
       "  <tbody>\n",
       "    <tr>\n",
       "      <th>0</th>\n",
       "      <td>A1</td>\n",
       "      <td>0.800910</td>\n",
       "      <td>4.666667</td>\n",
       "    </tr>\n",
       "    <tr>\n",
       "      <th>1</th>\n",
       "      <td>A2</td>\n",
       "      <td>0.943029</td>\n",
       "      <td>3.666667</td>\n",
       "    </tr>\n",
       "    <tr>\n",
       "      <th>2</th>\n",
       "      <td>A3</td>\n",
       "      <td>0.911349</td>\n",
       "      <td>4.000000</td>\n",
       "    </tr>\n",
       "  </tbody>\n",
       "</table>\n",
       "</div>"
      ],
      "text/plain": [
       "  Task    NDCG@k         k\n",
       "0   A1  0.800910  4.666667\n",
       "1   A2  0.943029  3.666667\n",
       "2   A3  0.911349  4.000000"
      ]
     },
     "execution_count": 185,
     "metadata": {},
     "output_type": "execute_result"
    }
   ],
   "source": [
    "ndcg_result = compute_ndcg_rankings_exclude_unranked(\"Ranking(Police).csv\",\"ct_police_ground_truth_correlation.csv\")\n",
    "\n",
    "ndcg_result.groupby(\"Task\",as_index=False).mean()"
   ]
  },
  {
   "cell_type": "code",
   "execution_count": 96,
   "metadata": {},
   "outputs": [
    {
     "data": {
      "text/plain": [
       "<matplotlib.axes._subplots.AxesSubplot at 0x11ada0400>"
      ]
     },
     "execution_count": 96,
     "metadata": {},
     "output_type": "execute_result"
    },
    {
     "data": {
      "image/png": "[encoded data removed]",
      "text/plain": [
       "<Figure size 288x288 with 1 Axes>"
      ]
     },
     "metadata": {},
     "output_type": "display_data"
    }
   ],
   "source": [
    "ndcg_result.boxplot(\"NDCG@k\",by=\"Task\")"
   ]
  },
  {
   "cell_type": "code",
   "execution_count": 98,
   "metadata": {},
   "outputs": [],
   "source": [
    "ndcg_result = compute_ndcg_rankings_exclude_unranked(\"Ranking(Autism).csv\",\"autism_ground_truth_correlation.csv\")"
   ]
  },
  {
   "cell_type": "code",
   "execution_count": 99,
   "metadata": {},
   "outputs": [
    {
     "data": {
      "text/html": [
       "<div>\n",
       "<style scoped>\n",
       "    .dataframe tbody tr th:only-of-type {\n",
       "        vertical-align: middle;\n",
       "    }\n",
       "\n",
       "    .dataframe tbody tr th {\n",
       "        vertical-align: top;\n",
       "    }\n",
       "\n",
       "    .dataframe thead th {\n",
       "        text-align: right;\n",
       "    }\n",
       "</style>\n",
       "<table border=\"1\" class=\"dataframe\">\n",
       "  <thead>\n",
       "    <tr style=\"text-align: right;\">\n",
       "      <th></th>\n",
       "      <th>Task</th>\n",
       "      <th>NDCG@k</th>\n",
       "      <th>k</th>\n",
       "    </tr>\n",
       "  </thead>\n",
       "  <tbody>\n",
       "    <tr>\n",
       "      <th>0</th>\n",
       "      <td>B1</td>\n",
       "      <td>0.765871</td>\n",
       "      <td>4.833333</td>\n",
       "    </tr>\n",
       "    <tr>\n",
       "      <th>1</th>\n",
       "      <td>B2</td>\n",
       "      <td>0.550991</td>\n",
       "      <td>6.333333</td>\n",
       "    </tr>\n",
       "    <tr>\n",
       "      <th>2</th>\n",
       "      <td>B3</td>\n",
       "      <td>0.655138</td>\n",
       "      <td>4.333333</td>\n",
       "    </tr>\n",
       "  </tbody>\n",
       "</table>\n",
       "</div>"
      ],
      "text/plain": [
       "  Task    NDCG@k         k\n",
       "0   B1  0.765871  4.833333\n",
       "1   B2  0.550991  6.333333\n",
       "2   B3  0.655138  4.333333"
      ]
     },
     "execution_count": 99,
     "metadata": {},
     "output_type": "execute_result"
    }
   ],
   "source": [
    "ndcg_result.groupby(\"Task\",as_index=False).mean()"
   ]
  },
  {
   "cell_type": "code",
   "execution_count": 100,
   "metadata": {},
   "outputs": [
    {
     "data": {
      "text/plain": [
       "<matplotlib.axes._subplots.AxesSubplot at 0x11ae1e940>"
      ]
     },
     "execution_count": 100,
     "metadata": {},
     "output_type": "execute_result"
    },
    {
     "data": {
      "image/png": "[encoded data removed]",
      "text/plain": [
       "<Figure size 288x288 with 1 Axes>"
      ]
     },
     "metadata": {},
     "output_type": "display_data"
    }
   ],
   "source": [
    "ndcg_result.boxplot(\"NDCG@k\",by=\"Task\")"
   ]
  },
  {
   "cell_type": "markdown",
   "metadata": {},
   "source": [
    "# Dashboard attribute coverage"
   ]
  },
  {
   "cell_type": "code",
   "execution_count": 153,
   "metadata": {},
   "outputs": [],
   "source": [
    "import glob\n",
    "import json\n",
    "dashboards = glob.glob(\"generated_dashboards/*\")"
   ]
  },
  {
   "cell_type": "code",
   "execution_count": 155,
   "metadata": {},
   "outputs": [],
   "source": [
    "dashboard_filters_attributes_only = []\n",
    "univariate_only = []\n",
    "for  dashboard_name in dashboards:\n",
    "    dashboard = json.load(open(dashboard_name))\n",
    "    dashboard_filters = []\n",
    "    for id in dashboard.keys():\n",
    "        if not (dashboard[id][-1][\"filter\"]==\"#\"):\n",
    "            filters = dashboard[id][-1][\"filter\"].replace(\"$\",\"=\").split(\"#\")[1:-1]\n",
    "            dashboard_filters.append(filters)\n",
    "    dashboard_name = dashboard_name.split(\"/\")[1].split(\"_euclidean\")[0]\n",
    "    for dashbd in dashboard_filters:\n",
    "        score = 1/len(dashbd)\n",
    "        if (len(dashbd)==1):\n",
    "            vis = dashbd[0]\n",
    "            univariate_only.append([vis[:vis.index(\"=\")],dashboard_name])\n",
    "        for vis in dashbd:\n",
    "            dashboard_filters_attributes_only.append([vis[:vis.index(\"=\")],score,dashboard_name])"
   ]
  },
  {
   "cell_type": "code",
   "execution_count": 156,
   "metadata": {},
   "outputs": [],
   "source": [
    "univariate_df =  pd.DataFrame(univariate_only,columns=[\"attribute\",\"filename\"])\n",
    "univariate_df[\"Dataset\"] = univariate_df[\"filename\"].apply(lambda x: \"autism\" in x).apply(lambda x: {True:\"Autism\",False:\"Police\"}[x])\n",
    "univariate_df[\"Condition\"] = univariate_df[\"filename\"].apply(lambda x: {\"picking\":\"Storyboard\",\"kmeans\":\"KMeans\",\"levelwiseBFS\":\"BFS\"}[x.split(\"_\")[-1]])"
   ]
  },
  {
   "cell_type": "code",
   "execution_count": 158,
   "metadata": {},
   "outputs": [
    {
     "data": {
      "text/html": [
       "<div>\n",
       "<style scoped>\n",
       "    .dataframe tbody tr th:only-of-type {\n",
       "        vertical-align: middle;\n",
       "    }\n",
       "\n",
       "    .dataframe tbody tr th {\n",
       "        vertical-align: top;\n",
       "    }\n",
       "\n",
       "    .dataframe thead th {\n",
       "        text-align: right;\n",
       "    }\n",
       "</style>\n",
       "<table border=\"1\" class=\"dataframe\">\n",
       "  <thead>\n",
       "    <tr style=\"text-align: right;\">\n",
       "      <th></th>\n",
       "      <th>Dataset</th>\n",
       "      <th>Condition</th>\n",
       "      <th># of Univariate Dashboards in</th>\n",
       "    </tr>\n",
       "  </thead>\n",
       "  <tbody>\n",
       "    <tr>\n",
       "      <th>0</th>\n",
       "      <td>Autism</td>\n",
       "      <td>BFS</td>\n",
       "      <td>9</td>\n",
       "    </tr>\n",
       "    <tr>\n",
       "      <th>1</th>\n",
       "      <td>Autism</td>\n",
       "      <td>KMeans</td>\n",
       "      <td>7</td>\n",
       "    </tr>\n",
       "    <tr>\n",
       "      <th>2</th>\n",
       "      <td>Autism</td>\n",
       "      <td>Storyboard</td>\n",
       "      <td>2</td>\n",
       "    </tr>\n",
       "    <tr>\n",
       "      <th>3</th>\n",
       "      <td>Police</td>\n",
       "      <td>BFS</td>\n",
       "      <td>9</td>\n",
       "    </tr>\n",
       "    <tr>\n",
       "      <th>4</th>\n",
       "      <td>Police</td>\n",
       "      <td>KMeans</td>\n",
       "      <td>3</td>\n",
       "    </tr>\n",
       "    <tr>\n",
       "      <th>5</th>\n",
       "      <td>Police</td>\n",
       "      <td>Storyboard</td>\n",
       "      <td>3</td>\n",
       "    </tr>\n",
       "  </tbody>\n",
       "</table>\n",
       "</div>"
      ],
      "text/plain": [
       "  Dataset   Condition  # of Univariate Dashboards in \n",
       "0  Autism         BFS                               9\n",
       "1  Autism      KMeans                               7\n",
       "2  Autism  Storyboard                               2\n",
       "3  Police         BFS                               9\n",
       "4  Police      KMeans                               3\n",
       "5  Police  Storyboard                               3"
      ]
     },
     "execution_count": 158,
     "metadata": {},
     "output_type": "execute_result"
    }
   ],
   "source": [
    "univariate_df.groupby([\"Dataset\",\"Condition\"],as_index=False).count()[[\"Dataset\",\"Condition\",\"attribute\"]].rename(columns={\"attribute\":\"# of Univariate Dashboards in \"})"
   ]
  },
  {
   "cell_type": "code",
   "execution_count": 159,
   "metadata": {},
   "outputs": [],
   "source": [
    "df = pd.DataFrame(dashboard_filters_attributes_only,columns=[\"attribute\",\"%mentioned\",\"filename\"])"
   ]
  },
  {
   "cell_type": "code",
   "execution_count": 160,
   "metadata": {},
   "outputs": [],
   "source": [
    "df[\"Dataset\"] = df[\"filename\"].apply(lambda x: \"autism\" in x).apply(lambda x: {True:\"Autism\",False:\"Police\"}[x])\n",
    "df[\"Condition\"] = df[\"filename\"].apply(lambda x: {\"picking\":\"Storyboard\",\"kmeans\":\"KMeans\",\"levelwiseBFS\":\"BFS\"}[x.split(\"_\")[-1]])"
   ]
  },
  {
   "cell_type": "code",
   "execution_count": 161,
   "metadata": {},
   "outputs": [],
   "source": [
    "# df.groupby([\"Dataset\",\"Condition\"],as_index=False).agg({\"filename\": pd.Series.nunique,\"attribute\":np.sum})"
   ]
  },
  {
   "cell_type": "code",
   "execution_count": 162,
   "metadata": {},
   "outputs": [
    {
     "data": {
      "text/html": [
       "<div>\n",
       "<style scoped>\n",
       "    .dataframe tbody tr th:only-of-type {\n",
       "        vertical-align: middle;\n",
       "    }\n",
       "\n",
       "    .dataframe tbody tr th {\n",
       "        vertical-align: top;\n",
       "    }\n",
       "\n",
       "    .dataframe thead th {\n",
       "        text-align: right;\n",
       "    }\n",
       "</style>\n",
       "<table border=\"1\" class=\"dataframe\">\n",
       "  <thead>\n",
       "    <tr style=\"text-align: right;\">\n",
       "      <th></th>\n",
       "      <th>Dataset</th>\n",
       "      <th>Condition</th>\n",
       "      <th>Number of Attributes Covered</th>\n",
       "    </tr>\n",
       "  </thead>\n",
       "  <tbody>\n",
       "    <tr>\n",
       "      <th>0</th>\n",
       "      <td>Autism</td>\n",
       "      <td>BFS</td>\n",
       "      <td>9</td>\n",
       "    </tr>\n",
       "    <tr>\n",
       "      <th>1</th>\n",
       "      <td>Autism</td>\n",
       "      <td>KMeans</td>\n",
       "      <td>12</td>\n",
       "    </tr>\n",
       "    <tr>\n",
       "      <th>2</th>\n",
       "      <td>Autism</td>\n",
       "      <td>Storyboard</td>\n",
       "      <td>19</td>\n",
       "    </tr>\n",
       "    <tr>\n",
       "      <th>3</th>\n",
       "      <td>Police</td>\n",
       "      <td>BFS</td>\n",
       "      <td>9</td>\n",
       "    </tr>\n",
       "    <tr>\n",
       "      <th>4</th>\n",
       "      <td>Police</td>\n",
       "      <td>KMeans</td>\n",
       "      <td>21</td>\n",
       "    </tr>\n",
       "    <tr>\n",
       "      <th>5</th>\n",
       "      <td>Police</td>\n",
       "      <td>Storyboard</td>\n",
       "      <td>16</td>\n",
       "    </tr>\n",
       "  </tbody>\n",
       "</table>\n",
       "</div>"
      ],
      "text/plain": [
       "  Dataset   Condition  Number of Attributes Covered\n",
       "0  Autism         BFS                             9\n",
       "1  Autism      KMeans                            12\n",
       "2  Autism  Storyboard                            19\n",
       "3  Police         BFS                             9\n",
       "4  Police      KMeans                            21\n",
       "5  Police  Storyboard                            16"
      ]
     },
     "execution_count": 162,
     "metadata": {},
     "output_type": "execute_result"
    }
   ],
   "source": [
    "df.groupby([\"Dataset\",\"Condition\"],as_index=False).count()[[\"Dataset\",\"Condition\",\"attribute\"]].rename(columns={\"attribute\":\"Number of Attributes Covered\"})"
   ]
  },
  {
   "cell_type": "code",
   "execution_count": 137,
   "metadata": {},
   "outputs": [],
   "source": [
    "# df.groupby([\"Dataset\",\"Condition\",\"attribute\"],as_index=False).sum()"
   ]
  },
  {
   "cell_type": "markdown",
   "metadata": {},
   "source": [
    "# Exclude if not in univariate"
   ]
  },
  {
   "cell_type": "code",
   "execution_count": 197,
   "metadata": {},
   "outputs": [],
   "source": [
    "user_ranking_filename = \"Ranking(Police).csv\"\n",
    "gt_ranking_filename = \"ct_police_ground_truth_correlation.csv\"\n",
    "def compute_ndcg_rankings_exclude_nonunivariate(user_ranking_filename,gt_ranking_filename):\n",
    "    user_rank = pd.read_csv(gdrive_path+user_ranking_filename)\n",
    "    ground_truth_rank = pd.read_csv(gt_ranking_filename,index_col=0)\n",
    "\n",
    "    #print ground_truth_cramerV_rank\n",
    "    if \"Police\" in user_ranking_filename: \n",
    "        task_name = \"Task1\"\n",
    "        dataset = \"Police\"\n",
    "    else: \n",
    "        dataset = \"Autism\"\n",
    "        task_name = \"Task2\"\n",
    "    #highest cramer's V corresponds to most correlated, corresponds to rank 1\n",
    "    user_rank = user_rank.merge(user_task).drop(\"Note\",axis=1)\n",
    "    user_rankings=[]\n",
    "    ndcg_data = []\n",
    "    #Putting user rankings into appropriate data structures\n",
    "    for row in user_rank.iterrows():\n",
    "        ranking = []\n",
    "        for attr in ground_truth_rank.attribute:\n",
    "            ranking.append(row[1][attr])\n",
    "        task = row[1][task_name]\n",
    "        #Find the idxs corresponding to attributes that are not shown as univariates in the dashboards to exclude\n",
    "        attribute_order = list(user_rank.columns)[1:-2]\n",
    "        condition = {\"1\":\"Storyboard\",\"2\":\"KMeans\",\"3\":\"BFS\"}[task[1]]\n",
    "        univariate_coverage= list(univariate_df[(univariate_df[\"Dataset\"]==dataset)&(univariate_df[\"Condition\"]==condition)][\"attribute\"])\n",
    "        univariate_coverage = [camelCaseToUnderscore(i) for i in univariate_coverage]\n",
    "        exclude_idxs= []\n",
    "        for univar in univariate_coverage:\n",
    "            exclude_idxs.append(attribute_order.index(univar))\n",
    "        exclude_idxs = np.array(exclude_idxs)\n",
    "        #Recompute the ground truth rating after throwing away excluded instances\n",
    "        ranking = np.array(ranking)\n",
    "        new_ranking = list(np.delete(ranking, exclude_idxs))\n",
    "        new_CramerV = np.delete(np.array(ground_truth_rank[\"cramerV\"]),exclude_idxs)\n",
    "        assert len(new_ranking) == len(new_CramerV)\n",
    "        k = len(new_ranking)\n",
    "        ground_truth_cramerV_rank = list(pd.Series(new_CramerV).rank(ascending=False)) \n",
    "        #Computing ndcg ranking\n",
    "        ndcg_d = []\n",
    "        ndcg_d.append(task)\n",
    "        ndcg_val=ndcg(ground_truth_cramerV_rank,new_ranking,k)\n",
    "        #print (ground_truth_cramerV_rank,new_ranking,ndcg_val)\n",
    "        ndcg_d.append(ndcg_val)\n",
    "        ndcg_d.append(k)\n",
    "        ndcg_data.append(ndcg_d)\n",
    "    #    print ndcg_data\n",
    "    NDCG_lst = [\"NDCG@k\"]\n",
    "    ndcg_result = pd.DataFrame(ndcg_data,columns=[\"Task\",\"NDCG@k\",\"k\"])\n",
    "    return ndcg_result"
   ]
  },
  {
   "cell_type": "code",
   "execution_count": 198,
   "metadata": {},
   "outputs": [],
   "source": [
    "import re"
   ]
  },
  {
   "cell_type": "code",
   "execution_count": 199,
   "metadata": {},
   "outputs": [],
   "source": [
    "def camelCaseToUnderscore(name):\n",
    "    s1 = re.sub('(.)([A-Z][a-z]+)', r'\\1_\\2', name)\n",
    "    return re.sub('([a-z0-9])([A-Z])', r'\\1_\\2', s1).lower()"
   ]
  },
  {
   "cell_type": "code",
   "execution_count": 200,
   "metadata": {},
   "outputs": [
    {
     "data": {
      "text/html": [
       "<div>\n",
       "<style scoped>\n",
       "    .dataframe tbody tr th:only-of-type {\n",
       "        vertical-align: middle;\n",
       "    }\n",
       "\n",
       "    .dataframe tbody tr th {\n",
       "        vertical-align: top;\n",
       "    }\n",
       "\n",
       "    .dataframe thead th {\n",
       "        text-align: right;\n",
       "    }\n",
       "</style>\n",
       "<table border=\"1\" class=\"dataframe\">\n",
       "  <thead>\n",
       "    <tr style=\"text-align: right;\">\n",
       "      <th></th>\n",
       "      <th>Task</th>\n",
       "      <th>NDCG@k</th>\n",
       "      <th>k</th>\n",
       "    </tr>\n",
       "  </thead>\n",
       "  <tbody>\n",
       "    <tr>\n",
       "      <th>0</th>\n",
       "      <td>A1</td>\n",
       "      <td>0.421912</td>\n",
       "      <td>4</td>\n",
       "    </tr>\n",
       "    <tr>\n",
       "      <th>1</th>\n",
       "      <td>A2</td>\n",
       "      <td>0.442083</td>\n",
       "      <td>4</td>\n",
       "    </tr>\n",
       "    <tr>\n",
       "      <th>2</th>\n",
       "      <td>A3</td>\n",
       "      <td>0.621848</td>\n",
       "      <td>4</td>\n",
       "    </tr>\n",
       "  </tbody>\n",
       "</table>\n",
       "</div>"
      ],
      "text/plain": [
       "  Task    NDCG@k  k\n",
       "0   A1  0.421912  4\n",
       "1   A2  0.442083  4\n",
       "2   A3  0.621848  4"
      ]
     },
     "execution_count": 200,
     "metadata": {},
     "output_type": "execute_result"
    }
   ],
   "source": [
    "ndcg_result = compute_ndcg_rankings_exclude_nonunivariate(\"Ranking(Police).csv\",\"ct_police_ground_truth_correlation.csv\")\n",
    "ndcg_result.groupby(\"Task\",as_index=False).mean()"
   ]
  },
  {
   "cell_type": "code",
   "execution_count": 202,
   "metadata": {},
   "outputs": [
    {
     "data": {
      "text/html": [
       "<div>\n",
       "<style scoped>\n",
       "    .dataframe tbody tr th:only-of-type {\n",
       "        vertical-align: middle;\n",
       "    }\n",
       "\n",
       "    .dataframe tbody tr th {\n",
       "        vertical-align: top;\n",
       "    }\n",
       "\n",
       "    .dataframe thead th {\n",
       "        text-align: right;\n",
       "    }\n",
       "</style>\n",
       "<table border=\"1\" class=\"dataframe\">\n",
       "  <thead>\n",
       "    <tr style=\"text-align: right;\">\n",
       "      <th></th>\n",
       "      <th>Task</th>\n",
       "      <th>NDCG@k</th>\n",
       "      <th>k</th>\n",
       "    </tr>\n",
       "  </thead>\n",
       "  <tbody>\n",
       "    <tr>\n",
       "      <th>0</th>\n",
       "      <td>B1</td>\n",
       "      <td>0.199252</td>\n",
       "      <td>8</td>\n",
       "    </tr>\n",
       "    <tr>\n",
       "      <th>1</th>\n",
       "      <td>B2</td>\n",
       "      <td>0.184723</td>\n",
       "      <td>4</td>\n",
       "    </tr>\n",
       "    <tr>\n",
       "      <th>2</th>\n",
       "      <td>B3</td>\n",
       "      <td>0.000000</td>\n",
       "      <td>5</td>\n",
       "    </tr>\n",
       "  </tbody>\n",
       "</table>\n",
       "</div>"
      ],
      "text/plain": [
       "  Task    NDCG@k  k\n",
       "0   B1  0.199252  8\n",
       "1   B2  0.184723  4\n",
       "2   B3  0.000000  5"
      ]
     },
     "execution_count": 202,
     "metadata": {},
     "output_type": "execute_result"
    }
   ],
   "source": [
    "ndcg_result = compute_ndcg_rankings_exclude_nonunivariate(\"Ranking(Autism).csv\",\"autism_ground_truth_correlation.csv\")\n",
    "ndcg_result.groupby(\"Task\",as_index=False).mean()"
   ]
  }
 ],
 "metadata": {
  "kernelspec": {
   "display_name": "Python 3",
   "language": "python",
   "name": "python3"
  },
  "language_info": {
   "codemirror_mode": {
    "name": "ipython",
    "version": 3
   },
   "file_extension": ".py",
   "mimetype": "text/x-python",
   "name": "python",
   "nbconvert_exporter": "python",
   "pygments_lexer": "ipython3",
   "version": "3.7.0"
  }
 },
 "nbformat": 4,
 "nbformat_minor": 2
}
