{
 "cells": [
  {
   "cell_type": "code",
   "execution_count": 1,
   "metadata": {
    "collapsed": false
   },
   "outputs": [
    {
     "name": "stdout",
     "output_type": "stream",
     "text": [
      "Populating the interactive namespace from numpy and matplotlib\n"
     ]
    }
   ],
   "source": [
    "%pylab inline"
   ]
  },
  {
   "cell_type": "code",
   "execution_count": 2,
   "metadata": {
    "collapsed": true
   },
   "outputs": [],
   "source": [
    "import pandas as pd"
   ]
  },
  {
   "cell_type": "code",
   "execution_count": 3,
   "metadata": {
    "collapsed": false
   },
   "outputs": [],
   "source": [
    "# csv files for answer responses\n",
    "gdrive_path = \"/Users/dorislee/Google Drive/Turn/VAST/user_study/evaluation_study/transcription_and_analysis/\"\n",
    "# user study logs\n",
    "box_path = \"/Users/dorislee/Box/viz-summarization-user-study-material/\" "
   ]
  },
  {
   "cell_type": "code",
   "execution_count": 4,
   "metadata": {
    "collapsed": false
   },
   "outputs": [],
   "source": [
    "user_task =  pd.read_csv(gdrive_path+\"UserTaskAssignment.csv\")"
   ]
  },
  {
   "cell_type": "markdown",
   "metadata": {},
   "source": [
    "# Interested Retrieval"
   ]
  },
  {
   "cell_type": "code",
   "execution_count": 144,
   "metadata": {
    "collapsed": true
   },
   "outputs": [],
   "source": [
    "retreival = pd.read_csv(\"user_click_data.csv\")"
   ]
  },
  {
   "cell_type": "code",
   "execution_count": 114,
   "metadata": {
    "collapsed": true
   },
   "outputs": [],
   "source": [
    "from tabulate import tabulate"
   ]
  },
  {
   "cell_type": "code",
   "execution_count": 204,
   "metadata": {
    "collapsed": true
   },
   "outputs": [],
   "source": [
    "import tabulate as T\n",
    "del(T.LATEX_ESCAPE_RULES[u'\\\\'])"
   ]
  },
  {
   "cell_type": "markdown",
   "metadata": {},
   "source": [
    "Equal weighting for interested + uninterested, 0 for no selection"
   ]
  },
  {
   "cell_type": "code",
   "execution_count": 151,
   "metadata": {
    "collapsed": true
   },
   "outputs": [],
   "source": [
    "def getDataset(x):\n",
    "    if 'A' in x:\n",
    "        return \"Police\"\n",
    "    else:\n",
    "        return \"Autism\""
   ]
  },
  {
   "cell_type": "code",
   "execution_count": 153,
   "metadata": {
    "collapsed": false
   },
   "outputs": [],
   "source": [
    "retreival[\"dataset\"]=retreival[\"task\"].apply(getDataset)"
   ]
  },
  {
   "cell_type": "code",
   "execution_count": 170,
   "metadata": {
    "collapsed": false
   },
   "outputs": [],
   "source": [
    "retreival.loc[retreival[\"interested\"]==\"unselected\",\"retreival score\"]=0\n",
    "retreival.loc[retreival[\"interested\"]==\"interested\",\"retreival score\"]=1\n",
    "retreival.loc[retreival[\"interested\"]==\"not interested\",\"retreival score\"]=-1\n",
    "# retreival score, the higher the better, kind of like a relevance score\n",
    "relevance = retreival.groupby([\"dataset\",\"visualization\"]).sum()[\"retreival score\"].reset_index().rename(columns={\"retreival score\":\"relevance score\"})\n",
    "retreival = retreival.merge(relevance)\n",
    "retreival[\"result score\"]=retreival[\"retreival score\"]*retreival[\"relevance score\"]"
   ]
  },
  {
   "cell_type": "code",
   "execution_count": 181,
   "metadata": {
    "collapsed": false
   },
   "outputs": [],
   "source": [
    "avrg_result = retreival.groupby([\"dataset\",\"task\"]).sum()[\"result score\"]"
   ]
  },
  {
   "cell_type": "code",
   "execution_count": 192,
   "metadata": {
    "collapsed": false
   },
   "outputs": [],
   "source": [
    "avrg_score_result = [[\"Police\"]+list(avrg_result[\"Police\"]),[\"Autism\"]+list(avrg_result[\"Autism\"])]"
   ]
  },
  {
   "cell_type": "code",
   "execution_count": 212,
   "metadata": {
    "collapsed": false
   },
   "outputs": [
    {
     "name": "stdout",
     "output_type": "stream",
     "text": [
      "\\begin{tabular}{lrrr}\n",
      "\\hline\n",
      " Dataset   &   \\system &   Cluster &   BFS \\\\\n",
      "\\hline\n",
      " Police    &        49 &        20 &    48 \\\\\n",
      " Autism    &       169 &       101 &    46 \\\\\n",
      "\\hline\n",
      "\\end{tabular}\n"
     ]
    }
   ],
   "source": [
    "print T.tabulate(avrg_score_result,headers=['Dataset','\\system','Cluster','BFS'],tablefmt='latex')"
   ]
  },
  {
   "cell_type": "markdown",
   "metadata": {},
   "source": [
    "#### P@k, R@k: say that we only care about top-k retreival"
   ]
  },
  {
   "cell_type": "code",
   "execution_count": 24,
   "metadata": {
    "collapsed": false
   },
   "outputs": [],
   "source": [
    "def compute_average_PR_at_k_over_all_data(k):\n",
    "    retreival[\"dataset\"]=retreival[\"task\"].apply(lambda x:x[0])#.groupby[\"ideal retreival score\"]\n",
    "    dedup_retreival=retreival[[\"dataset\",\"visualization\",\"ideal retreival score\"]].drop_duplicates()\n",
    "    \n",
    "    # get top-k for dataset A and dataset B\n",
    "    dedup_retreivalA=dedup_retreival[dedup_retreival[\"dataset\"]=='A']\n",
    "    topk_A = dedup_retreivalA.loc[dedup_retreivalA[\"ideal retreival score\"].nlargest(k,\"ideal retreival score\").index]\n",
    "    dedup_retreivalB=dedup_retreival[dedup_retreival[\"dataset\"]=='B']\n",
    "    topk_B = dedup_retreivalB.loc[dedup_retreivalB[\"ideal retreival score\"].nlargest(k,\"ideal retreival score\").index]\n",
    "    topk_A_lst =list(topk_A[\"visualization\"])\n",
    "    topk_B_lst =list(topk_B[\"visualization\"])\n",
    "    def compute_PR_at_k(user_id):\n",
    "        selected_user = retreival[retreival[\"user\"]==user_id]\n",
    "        relevant = (selected_user[\"visualization\"].isin(topk_A_lst)|selected_user[\"visualization\"].isin(topk_B_lst))\n",
    "        retreived = (selected_user[\"interested\"]==\"interested\")\n",
    "        Nrelevant_and_retreived = float(len(selected_user[(relevant)&(retreived)]))\n",
    "        Nrelevant = len(selected_user[relevant])\n",
    "        Nretreived = len(selected_user[retreived])\n",
    "        if Nrelevant !=0 and Nretreived!=0:\n",
    "            precision  = Nrelevant_and_retreived/Nrelevant\n",
    "            recall = Nrelevant_and_retreived/Nretreived\n",
    "            return precision,recall\n",
    "        else:\n",
    "            return 0,0\n",
    "    # compute PR\n",
    "    retreival[\"P@\"+str(k)],retreival[\"R@\"+str(k)] = zip(*retreival[\"user\"].apply(compute_PR_at_k))\n",
    "    return retreival.groupby(\"task\",as_index=False)[[\"P@\"+str(k),\"R@\"+str(k)]].mean()"
   ]
  },
  {
   "cell_type": "code",
   "execution_count": 98,
   "metadata": {
    "collapsed": false
   },
   "outputs": [
    {
     "data": {
      "text/html": [
       "<div>\n",
       "<table border=\"1\" class=\"dataframe\">\n",
       "  <thead>\n",
       "    <tr style=\"text-align: right;\">\n",
       "      <th></th>\n",
       "      <th>task</th>\n",
       "      <th>P@5</th>\n",
       "      <th>R@5</th>\n",
       "    </tr>\n",
       "  </thead>\n",
       "  <tbody>\n",
       "    <tr>\n",
       "      <th>0</th>\n",
       "      <td>A1</td>\n",
       "      <td>0.564935</td>\n",
       "      <td>0.489286</td>\n",
       "    </tr>\n",
       "    <tr>\n",
       "      <th>1</th>\n",
       "      <td>A2</td>\n",
       "      <td>0.933333</td>\n",
       "      <td>0.833333</td>\n",
       "    </tr>\n",
       "    <tr>\n",
       "      <th>2</th>\n",
       "      <td>A3</td>\n",
       "      <td>0.702338</td>\n",
       "      <td>0.925000</td>\n",
       "    </tr>\n",
       "    <tr>\n",
       "      <th>3</th>\n",
       "      <td>B1</td>\n",
       "      <td>0.844527</td>\n",
       "      <td>0.946429</td>\n",
       "    </tr>\n",
       "    <tr>\n",
       "      <th>4</th>\n",
       "      <td>B2</td>\n",
       "      <td>0.430909</td>\n",
       "      <td>0.618333</td>\n",
       "    </tr>\n",
       "    <tr>\n",
       "      <th>5</th>\n",
       "      <td>B3</td>\n",
       "      <td>0.833333</td>\n",
       "      <td>0.555556</td>\n",
       "    </tr>\n",
       "  </tbody>\n",
       "</table>\n",
       "</div>"
      ],
      "text/plain": [
       "  task       P@5       R@5\n",
       "0   A1  0.564935  0.489286\n",
       "1   A2  0.933333  0.833333\n",
       "2   A3  0.702338  0.925000\n",
       "3   B1  0.844527  0.946429\n",
       "4   B2  0.430909  0.618333\n",
       "5   B3  0.833333  0.555556"
      ]
     },
     "execution_count": 98,
     "metadata": {},
     "output_type": "execute_result"
    }
   ],
   "source": [
    "compute_average_PR_at_k_over_all_data(5)"
   ]
  },
  {
   "cell_type": "markdown",
   "metadata": {},
   "source": [
    "# Ranking"
   ]
  },
  {
   "cell_type": "code",
   "execution_count": 199,
   "metadata": {
    "collapsed": false
   },
   "outputs": [],
   "source": [
    "def dcg(r, k, method=0):\n",
    "    # alternative formulation of DCG places stronger emphasis on retrieving relevant documents\n",
    "    r = np.asfarray(r)[:k]\n",
    "    val = 0\n",
    "    for i in range(1,len(r)):\n",
    "        val+= (2**r[i]-1) / np.log2(i+1)\n",
    "    return val\n",
    "\n",
    "def ndcg(dcg_ground_truth,r, k):\n",
    "    return dcg(r, k) / sum(dcg_ground_truth)"
   ]
  },
  {
   "cell_type": "code",
   "execution_count": 200,
   "metadata": {
    "collapsed": true
   },
   "outputs": [],
   "source": [
    "def compute_ndcg_rankings(user_ranking_filename,gt_ranking_filename,k_lst = [1,2,3,5,7]):\n",
    "    user_rank = pd.read_csv(gdrive_path+user_ranking_filename)\n",
    "    ground_truth_rank = pd.read_csv(gt_ranking_filename,index_col=0)\n",
    "    ground_truth_cramerV_rank = list(ground_truth_rank[\"cramerV\"].rank(ascending=False)) \n",
    "    #print ground_truth_cramerV_rank\n",
    "    if \"Police\" in user_ranking_filename: \n",
    "        task_name = \"Task1\"\n",
    "    else: \n",
    "        task_name = \"Task2\"\n",
    "    #highest cramer's V corresponds to most correlated, corresponds to rank 1\n",
    "    user_rank = user_rank.merge(user_task).drop(\"Note\",axis=1)\n",
    "    user_rankings=[]\n",
    "    #Putting user rankings into appropriate data structures\n",
    "    for row in user_rank.iterrows():\n",
    "        ranking = []\n",
    "        for attr in ground_truth_rank.attribute:\n",
    "            ranking.append(row[1][attr])\n",
    "        task = row[1][task_name]\n",
    "        user_rankings.append([task,ranking])\n",
    "    #Computing ndcg ranking\n",
    "    ndcg_data = []\n",
    "    for trial in user_rankings:\n",
    "        ndcg_d = []\n",
    "        #print trial\n",
    "        ndcg_d.append(trial[0])\n",
    "        for k in k_lst:\n",
    "            ndcg_d.append(ndcg(ground_truth_cramerV_rank,trial[1],k))\n",
    "#             print trial[1]\n",
    "        ndcg_data.append(ndcg_d)\n",
    "#    print ndcg_data\n",
    "    NDCG_lst = [\"NDCG@\"+str(k) for k in k_lst]\n",
    "    ndcg_result = pd.DataFrame(ndcg_data,columns=[\"Task\"]+NDCG_lst)\n",
    "    return ndcg_result.groupby(\"Task\",as_index=False).mean()"
   ]
  },
  {
   "cell_type": "code",
   "execution_count": 201,
   "metadata": {
    "collapsed": false
   },
   "outputs": [],
   "source": [
    "ndcg_result=[[\"Police\"]+list(compute_ndcg_rankings(\"Ranking(Police).csv\",\"ct_police_ground_truth_correlation.csv\",k_lst=[10])[\"NDCG@10\"]),\n",
    "[\"Autism\"]+list(compute_ndcg_rankings(\"Ranking(Autism).csv\",\"autism_ground_truth_correlation.csv\",k_lst=[10])[\"NDCG@10\"])]"
   ]
  },
  {
   "cell_type": "code",
   "execution_count": 210,
   "metadata": {
    "collapsed": false
   },
   "outputs": [
    {
     "name": "stdout",
     "output_type": "stream",
     "text": [
      "\\begin{tabular}{lrrr}\n",
      "\\hline\n",
      " Dataset   &   \\system &   Cluster &   BFS \\\\\n",
      "\\hline\n",
      " Police    &      0.63 &      0.45 &  0.84 \\\\\n",
      " Autism    &      0.50 &      0.30 &  0.24 \\\\\n",
      "\\hline\n",
      "\\end{tabular}\n"
     ]
    }
   ],
   "source": [
    "print T.tabulate(ndcg_result,headers=['Dataset','\\system','Cluster','BFS'],tablefmt='latex', floatfmt=\".2f\")"
   ]
  },
  {
   "cell_type": "markdown",
   "metadata": {},
   "source": [
    "- NDCG@1 is 0 because if the first-ranked attribute is not retreived, then score would be 0.\n",
    "- This makes sense, our algo does better than kmeans (2) and level-wise BFS (3), except for NDCG@3 A2 for some reason did very well.\n",
    "- NDCG should be @10 because all users read through and ranked all 10 dashboards."
   ]
  },
  {
   "cell_type": "markdown",
   "metadata": {},
   "source": [
    "# Prediction"
   ]
  },
  {
   "cell_type": "code",
   "execution_count": 56,
   "metadata": {
    "collapsed": true
   },
   "outputs": [],
   "source": [
    "prediction_ground_truth = {\n",
    "    'Police1': [55.1,4.2,40.7], #ticket,warn,arrest\n",
    "    'Police2': [53.43,12.02,34.55], #ticket,warn,arrest\n",
    "    'Autism1': [17.3,82.7], #NO,YES   \n",
    "    'Autism2': [41,59] #NO,YES   \n",
    "}"
   ]
  },
  {
   "cell_type": "code",
   "execution_count": 57,
   "metadata": {
    "collapsed": false
   },
   "outputs": [],
   "source": [
    "def euclidean_dist(x,y):\n",
    "    x = np.array(x)\n",
    "    y = np.array(y)\n",
    "    return np.sqrt(np.sum(((x-y)**2)))"
   ]
  },
  {
   "cell_type": "code",
   "execution_count": 58,
   "metadata": {
    "collapsed": true
   },
   "outputs": [],
   "source": [
    "def compute_prediction_distances(filename,gt_task_key):\n",
    "    prediction = pd.read_csv(gdrive_path+filename)\n",
    "    if \"Police\" in filename: \n",
    "        attributes = [\"ticket\",\"warn\",\"arrest\"]\n",
    "        task_name = \"Task1\"\n",
    "    else: \n",
    "        attributes = [\"NO\",\"YES\"]\n",
    "        task_name = \"Task2\"\n",
    "    prediction = prediction.merge(user_task).drop(\"Note\",axis=1)\n",
    "    \n",
    "    #Computing Euclidean Distance\n",
    "    dist_data = []\n",
    "    for row in prediction.iterrows():\n",
    "        user_prediction  = row[1][attributes].values\n",
    "        gt_prediction = prediction_ground_truth[gt_task_key]\n",
    "        dist_data.append([row[1][task_name],euclidean_dist(user_prediction,gt_prediction)])\n",
    "    dist_result = pd.DataFrame(dist_data,columns=[\"Task\",\"Distance\"])\n",
    "    dist_result.groupby(\"Task\",as_index=False)\n",
    "    #mean and standard deviation\n",
    "    distance_aggregate_result = dist_result.groupby(\"Task\",as_index=False)[\"Distance\"].mean()\n",
    "    distance_aggregate_result[\"SD\"] = dist_result.groupby(\"Task\",as_index=False)[\"Distance\"].apply(lambda x: x.std())\n",
    "    return distance_aggregate_result"
   ]
  },
  {
   "cell_type": "code",
   "execution_count": 83,
   "metadata": {
    "collapsed": true
   },
   "outputs": [],
   "source": [
    "prediction = pd.read_csv(gdrive_path+\"Prediction1(Police).csv\")"
   ]
  },
  {
   "cell_type": "code",
   "execution_count": 59,
   "metadata": {
    "collapsed": false
   },
   "outputs": [
    {
     "data": {
      "text/html": [
       "<div>\n",
       "<table border=\"1\" class=\"dataframe\">\n",
       "  <thead>\n",
       "    <tr style=\"text-align: right;\">\n",
       "      <th></th>\n",
       "      <th>Task</th>\n",
       "      <th>Distance</th>\n",
       "      <th>SD</th>\n",
       "    </tr>\n",
       "  </thead>\n",
       "  <tbody>\n",
       "    <tr>\n",
       "      <th>0</th>\n",
       "      <td>A1</td>\n",
       "      <td>9.687562</td>\n",
       "      <td>6.465089</td>\n",
       "    </tr>\n",
       "    <tr>\n",
       "      <th>1</th>\n",
       "      <td>A2</td>\n",
       "      <td>37.566882</td>\n",
       "      <td>16.323091</td>\n",
       "    </tr>\n",
       "    <tr>\n",
       "      <th>2</th>\n",
       "      <td>A3</td>\n",
       "      <td>52.202478</td>\n",
       "      <td>28.153713</td>\n",
       "    </tr>\n",
       "  </tbody>\n",
       "</table>\n",
       "</div>"
      ],
      "text/plain": [
       "  Task   Distance         SD\n",
       "0   A1   9.687562   6.465089\n",
       "1   A2  37.566882  16.323091\n",
       "2   A3  52.202478  28.153713"
      ]
     },
     "execution_count": 59,
     "metadata": {},
     "output_type": "execute_result"
    }
   ],
   "source": [
    "compute_prediction_distances(\"Prediction1(Police).csv\",\"Police1\")"
   ]
  },
  {
   "cell_type": "code",
   "execution_count": 60,
   "metadata": {
    "collapsed": false
   },
   "outputs": [
    {
     "data": {
      "text/html": [
       "<div>\n",
       "<table border=\"1\" class=\"dataframe\">\n",
       "  <thead>\n",
       "    <tr style=\"text-align: right;\">\n",
       "      <th></th>\n",
       "      <th>Task</th>\n",
       "      <th>Distance</th>\n",
       "      <th>SD</th>\n",
       "    </tr>\n",
       "  </thead>\n",
       "  <tbody>\n",
       "    <tr>\n",
       "      <th>0</th>\n",
       "      <td>A1</td>\n",
       "      <td>10.138272</td>\n",
       "      <td>4.116052</td>\n",
       "    </tr>\n",
       "    <tr>\n",
       "      <th>1</th>\n",
       "      <td>A2</td>\n",
       "      <td>11.607803</td>\n",
       "      <td>4.966252</td>\n",
       "    </tr>\n",
       "    <tr>\n",
       "      <th>2</th>\n",
       "      <td>A3</td>\n",
       "      <td>30.708144</td>\n",
       "      <td>36.935642</td>\n",
       "    </tr>\n",
       "  </tbody>\n",
       "</table>\n",
       "</div>"
      ],
      "text/plain": [
       "  Task   Distance         SD\n",
       "0   A1  10.138272   4.116052\n",
       "1   A2  11.607803   4.966252\n",
       "2   A3  30.708144  36.935642"
      ]
     },
     "execution_count": 60,
     "metadata": {},
     "output_type": "execute_result"
    }
   ],
   "source": [
    "compute_prediction_distances(\"Prediction2(Police).csv\",\"Police2\")"
   ]
  },
  {
   "cell_type": "code",
   "execution_count": 61,
   "metadata": {
    "collapsed": false
   },
   "outputs": [
    {
     "data": {
      "text/html": [
       "<div>\n",
       "<table border=\"1\" class=\"dataframe\">\n",
       "  <thead>\n",
       "    <tr style=\"text-align: right;\">\n",
       "      <th></th>\n",
       "      <th>Task</th>\n",
       "      <th>Distance</th>\n",
       "      <th>SD</th>\n",
       "    </tr>\n",
       "  </thead>\n",
       "  <tbody>\n",
       "    <tr>\n",
       "      <th>0</th>\n",
       "      <td>B1</td>\n",
       "      <td>8.438141</td>\n",
       "      <td>8.628634</td>\n",
       "    </tr>\n",
       "    <tr>\n",
       "      <th>1</th>\n",
       "      <td>B2</td>\n",
       "      <td>14.905811</td>\n",
       "      <td>25.426286</td>\n",
       "    </tr>\n",
       "    <tr>\n",
       "      <th>2</th>\n",
       "      <td>B3</td>\n",
       "      <td>48.813938</td>\n",
       "      <td>5.960145</td>\n",
       "    </tr>\n",
       "  </tbody>\n",
       "</table>\n",
       "</div>"
      ],
      "text/plain": [
       "  Task   Distance         SD\n",
       "0   B1   8.438141   8.628634\n",
       "1   B2  14.905811  25.426286\n",
       "2   B3  48.813938   5.960145"
      ]
     },
     "execution_count": 61,
     "metadata": {},
     "output_type": "execute_result"
    }
   ],
   "source": [
    "compute_prediction_distances(\"Prediction1(Autism).csv\",\"Autism1\")"
   ]
  },
  {
   "cell_type": "code",
   "execution_count": 62,
   "metadata": {
    "collapsed": false
   },
   "outputs": [
    {
     "data": {
      "text/html": [
       "<div>\n",
       "<table border=\"1\" class=\"dataframe\">\n",
       "  <thead>\n",
       "    <tr style=\"text-align: right;\">\n",
       "      <th></th>\n",
       "      <th>Task</th>\n",
       "      <th>Distance</th>\n",
       "      <th>SD</th>\n",
       "    </tr>\n",
       "  </thead>\n",
       "  <tbody>\n",
       "    <tr>\n",
       "      <th>0</th>\n",
       "      <td>B1</td>\n",
       "      <td>26.280802</td>\n",
       "      <td>15.036068</td>\n",
       "    </tr>\n",
       "    <tr>\n",
       "      <th>1</th>\n",
       "      <td>B2</td>\n",
       "      <td>19.233304</td>\n",
       "      <td>14.057027</td>\n",
       "    </tr>\n",
       "    <tr>\n",
       "      <th>2</th>\n",
       "      <td>B3</td>\n",
       "      <td>16.499158</td>\n",
       "      <td>9.784341</td>\n",
       "    </tr>\n",
       "  </tbody>\n",
       "</table>\n",
       "</div>"
      ],
      "text/plain": [
       "  Task   Distance         SD\n",
       "0   B1  26.280802  15.036068\n",
       "1   B2  19.233304  14.057027\n",
       "2   B3  16.499158   9.784341"
      ]
     },
     "execution_count": 62,
     "metadata": {},
     "output_type": "execute_result"
    }
   ],
   "source": [
    "compute_prediction_distances(\"Prediction2(Autism).csv\",\"Autism2\")"
   ]
  },
  {
   "cell_type": "code",
   "execution_count": 221,
   "metadata": {
    "collapsed": false
   },
   "outputs": [
    {
     "name": "stdout",
     "output_type": "stream",
     "text": [
      "The autoreload extension is already loaded. To reload it, use:\n",
      "  %reload_ext autoreload\n"
     ]
    }
   ],
   "source": [
    "%load_ext autoreload\n",
    "%autoreload 2\n",
    "from paper_visualization import *"
   ]
  },
  {
   "cell_type": "code",
   "execution_count": 224,
   "metadata": {
    "collapsed": false
   },
   "outputs": [
    {
     "data": {
      "image/png": "[encoded data removed]",
      "text/plain": [
       "<Figure size 400x400 with 1 Axes>"
      ]
     },
     "metadata": {},
     "output_type": "display_data"
    }
   ],
   "source": [
    "result = compute_prediction_distances(\"Prediction1(Autism).csv\",\"Autism1\")\n",
    "bar_chart(list(result[\"Distance\"].values),[\"Storyboard\",\"Cluster\",\"BFS\"],title=\"Autism1\",\n",
    "          yErrs=list(result[\"SD\"].values/2.), ytitle=\"Distance\", fixed_ylim=False, rotation=30,\n",
    "          autolabel_flag =False, filename=\"Autism1\")"
   ]
  },
  {
   "cell_type": "code",
   "execution_count": 227,
   "metadata": {
    "collapsed": false
   },
   "outputs": [
    {
     "data": {
      "image/png": "[encoded data removed]",
      "text/plain": [
       "<Figure size 400x400 with 1 Axes>"
      ]
     },
     "metadata": {},
     "output_type": "display_data"
    }
   ],
   "source": [
    "result = compute_prediction_distances(\"Prediction2(Autism).csv\",\"Autism2\")\n",
    "bar_chart(list(result[\"Distance\"].values),[\"Storyboard\",\"Cluster\",\"BFS\"],title=\"Autism2\",\n",
    "          yErrs=list(result[\"SD\"].values/2.), ytitle=\"Distance\",fixed_ylim=False, rotation=30,\n",
    "          autolabel_flag =False, filename=\"Autism2\")"
   ]
  },
  {
   "cell_type": "code",
   "execution_count": 230,
   "metadata": {
    "collapsed": false
   },
   "outputs": [
    {
     "data": {
      "image/png": "[encoded data removed]",
      "text/plain": [
       "<Figure size 400x400 with 1 Axes>"
      ]
     },
     "metadata": {},
     "output_type": "display_data"
    }
   ],
   "source": [
    "result = compute_prediction_distances(\"Prediction1(Police).csv\",\"Police1\")\n",
    "bar_chart(list(result[\"Distance\"].values),[\"Storyboard\",\"Cluster\",\"BFS\"],title=\"Police1\",\n",
    "          yErrs=list(result[\"SD\"].values/2.), ytitle=\"Distance\"\n",
    "          ,fixed_ylim=False , filename=\"Police1\",autolabel_flag=False, rotation=30)"
   ]
  },
  {
   "cell_type": "code",
   "execution_count": 235,
   "metadata": {
    "collapsed": false
   },
   "outputs": [
    {
     "data": {
      "image/png": "[encoded data removed]",
      "text/plain": [
       "<Figure size 400x400 with 1 Axes>"
      ]
     },
     "metadata": {},
     "output_type": "display_data"
    }
   ],
   "source": [
    "result = compute_prediction_distances(\"Prediction2(Police).csv\",\"Police2\")\n",
    "bar_chart(list(result[\"Distance\"].values),[\"Storyboard\",\"Cluster\",\"BFS\"],title=\"Police2\",\n",
    "          yErrs=list(result[\"SD\"].values/2.), ytitle=\"Distance\", rotation=30,fixed_ylim=False,\n",
    "          filename=\"Police2\",autolabel_flag=False)"
   ]
  },
  {
   "cell_type": "code",
   "execution_count": 68,
   "metadata": {
    "collapsed": false
   },
   "outputs": [],
   "source": [
    "def compute_prediction_aggregate_stats(title,filename,gt_task_key):\n",
    "    prediction = pd.read_csv(gdrive_path+filename)\n",
    "    if \"Police\" in filename: \n",
    "        attributes = [\"ticket\",\"warn\",\"arrest\"]\n",
    "        task_name = \"Task1\"\n",
    "    else: \n",
    "        attributes = [\"NO\",\"YES\"]\n",
    "        task_name = \"Task2\"\n",
    "    prediction = prediction.merge(user_task).drop(\"Note\",axis=1)\n",
    "    prediction_groupby=prediction.groupby(task_name)\n",
    "\n",
    "    result = prediction_groupby.mean().reset_index()\n",
    "    std_result = prediction_groupby.apply(lambda x: x.std()).reset_index()\n",
    "    return result,std_result"
   ]
  },
  {
   "cell_type": "code",
   "execution_count": 77,
   "metadata": {
    "collapsed": true
   },
   "outputs": [],
   "source": [
    "def plot_prediction_results(result,std_result,xtitle=\"\", ytitle=\"\", title=\"\", top_right_text=\"\", N=1, width=0.1,autolabel_flag =True,fixed_ylim=False):\n",
    "    task_name = \"\"\n",
    "    fig, ax = plt.subplots()\n",
    "    col = 0\n",
    "    x0_lst =[]\n",
    "    if \"Police\" in title: \n",
    "        attributes = [\"ticket\",\"warn\",\"arrest\"]\n",
    "        task_name = \"Task1\"\n",
    "    else: \n",
    "        attributes = [\"NO\",\"YES\"]\n",
    "        task_name = \"Task2\"\n",
    "    labels = result[task_name].values\n",
    "    for attr in attributes:\n",
    "        ind = np.arange(N)  # the x locations for the groups\n",
    "        x0= (col)*(ind + (2+0.5) * width + 0.1)\n",
    "        x0_lst.append(x0[0])\n",
    "        yVals = result[attr].values\n",
    "        xAttrs = attributes\n",
    "        yErrs = std_result[attr].values/2.\n",
    "\n",
    "        if len(yVals)==2:\n",
    "            colors = [\"#fc9272\",\"#9ecae1\"]\n",
    "            sns.set_palette(sns.color_palette(colors))\n",
    "        else:\n",
    "            colors = [\"#9ecae1\",\"#99e699\",\"#fc9272\"]\n",
    "            sns.set_palette(sns.color_palette(colors))\n",
    "\n",
    "        rects = []\n",
    "        error_kw=dict(lw=1, capsize=5, capthick=1)\n",
    "        for i in range(len(yVals)):\n",
    "            if col==0:\n",
    "                if yErrs==[]:\n",
    "                    rect = ax.bar(x0+ind + (i+0.5) * width, yVals[i], width,label=labels[i])\n",
    "                else:\n",
    "                    rect = ax.bar(x0+ind + (i+0.5) * width, yVals[i], width, ecolor=\"black\",yerr=yErrs[i],error_kw=error_kw,label=labels[i])\n",
    "            else:\n",
    "                if yErrs==[]:\n",
    "                    rect = ax.bar(x0+ind + (i+0.5) * width, yVals[i], width)\n",
    "                else:\n",
    "                    rect = ax.bar(x0+ind + (i+0.5) * width, yVals[i], width, ecolor=\"black\",yerr=yErrs[i],error_kw=error_kw)\n",
    "            rects.append(rect)\n",
    "\n",
    "        xtitle = xtitle.replace('\"', '')\n",
    "        ytitle = ytitle.replace('\"', '')\n",
    "\n",
    "        ax.set_xlabel(xtitle)\n",
    "        ax.set_ylabel(ytitle)\n",
    "        if title != \"\":\n",
    "            title = title.replace('\"','')\n",
    "            title = title.replace(\"#\", \",\\n\")\n",
    "            if title[0] == ',':\n",
    "                title = title[2:-2]\n",
    "            if title.count(',') < 3:\n",
    "                ax.set_title(title)\n",
    "            else:\n",
    "                ax.set_title(title)\n",
    "        xmin = -0.05\n",
    "        xmax = 0.25 + 0.1 * (len(yVals) - 2)\n",
    "        xtickpos = [np.abs(xmin - xmax) / (len(yVals) + 1.5) * (i + 0.7) for i in range(len(yVals))]\n",
    "        if \"Police\" in title: \n",
    "            xtickpos=[0.15,0.51,0.83]\n",
    "        else: \n",
    "            xtickpos=[0.14,0.48]\n",
    "        ax.set_xticks(xtickpos)\n",
    "        ax.set_xticklabels(xAttrs)\n",
    "\n",
    "        if fixed_ylim: ax.set_ylim((0, 100))\n",
    "        size = 0\n",
    "        for rect in rects:\n",
    "            size += 1\n",
    "        sns.despine(top=True, right=True)\n",
    "        col+=1\n",
    "    for col_i in range(len(attributes)):\n",
    "        if \"Police\" in title: \n",
    "            if col_i==0:\n",
    "                ax.axhline(prediction_ground_truth[gt_task_key][col_i],xtickpos[col_i]-1*width,xtickpos[col_i]+1.5*width, linestyle=\":\",linewidth=2, color='r',label=\"ground truth\")\n",
    "            else:\n",
    "                ax.axhline(prediction_ground_truth[gt_task_key][col_i],xtickpos[col_i]-1.5*width,xtickpos[col_i]+1.25*width, linestyle=\":\",linewidth=2, color='r')\n",
    "        else:\n",
    "            if col_i==0:\n",
    "                ax.axhline(prediction_ground_truth[gt_task_key][col_i],xtickpos[col_i]-0.8*width,xtickpos[col_i]+3.3*width, linestyle=\":\",linewidth=2, color='r',label=\"ground truth\")\n",
    "            else:\n",
    "                ax.axhline(prediction_ground_truth[gt_task_key][col_i],xtickpos[col_i]+0.5*width,xtickpos[col_i]+4.8*width, linestyle=\":\",linewidth=2, color='r')\n",
    "\n",
    "    plt.tight_layout()\n",
    "    plt.ylabel(ytitle)\n",
    "    lgd = plt.legend(numpoints=1, loc=\"center right\", bbox_to_anchor=(1.8, 0.5))\n",
    "    plt.savefig(\"{}.pdf\".format(title), bbox_extra_artists=(lgd,),bbox_inches='tight')\n",
    "    plt.show()"
   ]
  },
  {
   "cell_type": "code",
   "execution_count": 79,
   "metadata": {
    "collapsed": false
   },
   "outputs": [
    {
     "data": {
      "image/png": "[encoded data removed]",
      "text/plain": [
       "<Figure size 400x400 with 1 Axes>"
      ]
     },
     "metadata": {},
     "output_type": "display_data"
    },
    {
     "data": {
      "image/png": "[encoded data removed]",
      "text/plain": [
       "<Figure size 400x400 with 1 Axes>"
      ]
     },
     "metadata": {},
     "output_type": "display_data"
    }
   ],
   "source": [
    "title=\"Prediction 1 (Police)\"\n",
    "filename = \"Prediction1(Police).csv\"\n",
    "gt_task_key=\"Police1\"\n",
    "task_name = 'Task1'\n",
    "result,std_result = compute_prediction_aggregate_stats(title,filename,gt_task_key)\n",
    "#Surprisingness Plot\n",
    "bar_chart(list(result[\"Surprisingness\"].values),list(result[task_name].values),list(std_result[\"Surprisingness\"].values/2.),title=title, ytitle=\"Surprisingness\",fixed_ylim=False)\n",
    "plot_prediction_results(result,std_result,task_name,title=title,ytitle=\"% of police stop\")"
   ]
  },
  {
   "cell_type": "code",
   "execution_count": 80,
   "metadata": {
    "collapsed": false
   },
   "outputs": [
    {
     "data": {
      "image/png": "[encoded data removed]",
      "text/plain": [
       "<Figure size 400x400 with 1 Axes>"
      ]
     },
     "metadata": {},
     "output_type": "display_data"
    },
    {
     "data": {
      "image/png": "[encoded data removed]",
      "text/plain": [
       "<Figure size 400x400 with 1 Axes>"
      ]
     },
     "metadata": {},
     "output_type": "display_data"
    }
   ],
   "source": [
    "title=\"Prediction 2 (Police)\"\n",
    "filename = \"Prediction2(Police).csv\"\n",
    "gt_task_key=\"Police2\"\n",
    "task_name = \"Task1\"\n",
    "result,std_result = compute_prediction_aggregate_stats(title,filename,gt_task_key)\n",
    "#Surprisingness Plot\n",
    "bar_chart(list(result[\"Surprisingness\"].values),list(result[task_name].values),list(std_result[\"Surprisingness\"].values/2.),title=title, ytitle=\"Surprisingness\",fixed_ylim=False)\n",
    "plot_prediction_results(result,std_result,title=title,ytitle=\"% of police stop\")"
   ]
  },
  {
   "cell_type": "code",
   "execution_count": 81,
   "metadata": {
    "collapsed": false
   },
   "outputs": [
    {
     "data": {
      "image/png": "[encoded data removed]",
      "text/plain": [
       "<Figure size 400x400 with 1 Axes>"
      ]
     },
     "metadata": {},
     "output_type": "display_data"
    },
    {
     "data": {
      "image/png": "[encoded data removed]",
      "text/plain": [
       "<Figure size 400x400 with 1 Axes>"
      ]
     },
     "metadata": {},
     "output_type": "display_data"
    }
   ],
   "source": [
    "title=\"Prediction 1 (Autism)\"\n",
    "filename = \"Prediction1(Autism).csv\"\n",
    "gt_task_key=\"Autism1\"\n",
    "task_name = \"Task2\"\n",
    "result,std_result = compute_prediction_aggregate_stats(title,filename,gt_task_key)\n",
    "#Surprisingness Plot\n",
    "bar_chart(list(result[\"Surprisingness\"].values),list(result[task_name].values),list(std_result[\"Surprisingness\"].values/2.),title=title, ytitle=\"Surprisingness\",fixed_ylim=False)\n",
    "plot_prediction_results(result,std_result,title=title,ytitle=\"% of participants\")"
   ]
  },
  {
   "cell_type": "code",
   "execution_count": 82,
   "metadata": {
    "collapsed": false
   },
   "outputs": [
    {
     "data": {
      "image/png": "[encoded data removed]",
      "text/plain": [
       "<Figure size 400x400 with 1 Axes>"
      ]
     },
     "metadata": {},
     "output_type": "display_data"
    },
    {
     "data": {
      "image/png": "[encoded data removed]",
      "text/plain": [
       "<Figure size 400x400 with 1 Axes>"
      ]
     },
     "metadata": {},
     "output_type": "display_data"
    }
   ],
   "source": [
    "title=\"Prediction 2 (Autism)\"\n",
    "filename = \"Prediction2(Autism).csv\"\n",
    "gt_task_key=\"Autism2\"\n",
    "task_name = \"Task2\"\n",
    "result,std_result = compute_prediction_aggregate_stats(title,filename,gt_task_key)\n",
    "#Surprisingness Plot\n",
    "bar_chart(list(result[\"Surprisingness\"].values),list(result[task_name].values),list(std_result[\"Surprisingness\"].values/2.),title=title, ytitle=\"Surprisingness\",fixed_ylim=False)\n",
    "plot_prediction_results(result,std_result,title=title,ytitle=\"% of participants\")"
   ]
  },
  {
   "cell_type": "code",
   "execution_count": null,
   "metadata": {
    "collapsed": true
   },
   "outputs": [],
   "source": []
  },
  {
   "cell_type": "code",
   "execution_count": null,
   "metadata": {
    "collapsed": true
   },
   "outputs": [],
   "source": []
  }
 ],
 "metadata": {
  "kernelspec": {
   "display_name": "Python 2",
   "language": "python",
   "name": "python2"
  },
  "language_info": {
   "codemirror_mode": {
    "name": "ipython",
    "version": 2
   },
   "file_extension": ".py",
   "mimetype": "text/x-python",
   "name": "python",
   "nbconvert_exporter": "python",
   "pygments_lexer": "ipython2",
   "version": "2.7.10"
  }
 },
 "nbformat": 4,
 "nbformat_minor": 0
}
