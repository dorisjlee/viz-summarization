{
 "cells": [
  {
   "cell_type": "code",
   "execution_count": 1,
   "metadata": {
    "collapsed": false
   },
   "outputs": [
    {
     "name": "stdout",
     "output_type": "stream",
     "text": [
      "Populating the interactive namespace from numpy and matplotlib\n"
     ]
    }
   ],
   "source": [
    "%pylab inline"
   ]
  },
  {
   "cell_type": "code",
   "execution_count": 2,
   "metadata": {
    "collapsed": true
   },
   "outputs": [],
   "source": [
    "import pandas as pd"
   ]
  },
  {
   "cell_type": "code",
   "execution_count": 3,
   "metadata": {
    "collapsed": false
   },
   "outputs": [],
   "source": [
    "# csv files for answer responses\n",
    "gdrive_path = \"/Users/dorislee/Google Drive/Turn/VAST/user_study/evaluation_study/transcription_and_analysis/\"\n",
    "# user study logs\n",
    "box_path = \"/Users/dorislee/Box/viz-summarization-user-study-material/\" "
   ]
  },
  {
   "cell_type": "code",
   "execution_count": 4,
   "metadata": {
    "collapsed": false
   },
   "outputs": [],
   "source": [
    "user_task =  pd.read_csv(gdrive_path+\"UserTaskAssignment.csv\")"
   ]
  },
  {
   "cell_type": "markdown",
   "metadata": {},
   "source": [
    "# Ranking"
   ]
  },
  {
   "cell_type": "code",
   "execution_count": 5,
   "metadata": {
    "collapsed": false
   },
   "outputs": [],
   "source": [
    "def dcg(r, k, method=0):\n",
    "    # alternative formulation of DCG places stronger emphasis on retrieving relevant documents\n",
    "    r = np.asfarray(r)[:k]\n",
    "    val = 0\n",
    "    for i in range(1,len(r)):\n",
    "        val+= (2**r[i]-1) / np.log2(i+1)\n",
    "    return val\n",
    "\n",
    "def ndcg(dcg_ground_truth,r, k):\n",
    "    return dcg(r, k) / sum(dcg_ground_truth)\n"
   ]
  },
  {
   "cell_type": "code",
   "execution_count": 6,
   "metadata": {
    "collapsed": true
   },
   "outputs": [],
   "source": [
    "def compute_ndcg_rankings(user_ranking_filename,gt_ranking_filename):\n",
    "    user_rank = pd.read_csv(gdrive_path+user_ranking_filename)\n",
    "    ground_truth_rank = pd.read_csv(gt_ranking_filename,index_col=0)\n",
    "    ground_truth_cramerV_rank = list(ground_truth_rank[\"cramerV\"].rank(ascending=False)) \n",
    "    #highest cramer's V corresponds to most correlated, corresponds to rank 1\n",
    "    user_rank = user_rank.merge(user_task).drop(\"Note\",axis=1)\n",
    "    user_rankings=[]\n",
    "    #Putting user rankings into appropriate data structures\n",
    "    for row in user_rank.iterrows():\n",
    "        ranking = []\n",
    "        for attr in ground_truth_rank.attribute:\n",
    "            ranking.append(row[1][attr])\n",
    "        task = row[1][\"Task1\"]\n",
    "        user_rankings.append([task,ranking])\n",
    "    #Computing ndcg ranking\n",
    "    ndcg_data = []\n",
    "    for trial in user_rankings:\n",
    "        ndcg_d = []\n",
    "        ndcg_d.append(trial[0])\n",
    "        for k in [1,2,3,5,7]:\n",
    "            ndcg_d.append(ndcg(ground_truth_cramerV_rank,trial[1],k))\n",
    "        ndcg_data.append(ndcg_d)\n",
    "    ndcg_result = pd.DataFrame(ndcg_data,columns=[\"Task\",\"NDCG@1\",\"NDCG@2\",\"NDCG@3\",\"NDCG@5\",\"NDCG@7\"])\n",
    "    return ndcg_result.groupby(\"Task\",as_index=False).mean()"
   ]
  },
  {
   "cell_type": "code",
   "execution_count": 7,
   "metadata": {
    "collapsed": false
   },
   "outputs": [
    {
     "data": {
      "text/html": [
       "<div>\n",
       "<table border=\"1\" class=\"dataframe\">\n",
       "  <thead>\n",
       "    <tr style=\"text-align: right;\">\n",
       "      <th></th>\n",
       "      <th>Task</th>\n",
       "      <th>NDCG@1</th>\n",
       "      <th>NDCG@2</th>\n",
       "      <th>NDCG@3</th>\n",
       "      <th>NDCG@5</th>\n",
       "      <th>NDCG@7</th>\n",
       "    </tr>\n",
       "  </thead>\n",
       "  <tbody>\n",
       "    <tr>\n",
       "      <th>0</th>\n",
       "      <td>A1</td>\n",
       "      <td>0</td>\n",
       "      <td>0.351190</td>\n",
       "      <td>0.441323</td>\n",
       "      <td>0.511916</td>\n",
       "      <td>0.628532</td>\n",
       "    </tr>\n",
       "    <tr>\n",
       "      <th>1</th>\n",
       "      <td>A2</td>\n",
       "      <td>0</td>\n",
       "      <td>0.196429</td>\n",
       "      <td>0.249006</td>\n",
       "      <td>0.382285</td>\n",
       "      <td>0.453713</td>\n",
       "    </tr>\n",
       "    <tr>\n",
       "      <th>2</th>\n",
       "      <td>A3</td>\n",
       "      <td>0</td>\n",
       "      <td>0.121429</td>\n",
       "      <td>0.161988</td>\n",
       "      <td>0.412936</td>\n",
       "      <td>0.842741</td>\n",
       "    </tr>\n",
       "  </tbody>\n",
       "</table>\n",
       "</div>"
      ],
      "text/plain": [
       "  Task  NDCG@1    NDCG@2    NDCG@3    NDCG@5    NDCG@7\n",
       "0   A1       0  0.351190  0.441323  0.511916  0.628532\n",
       "1   A2       0  0.196429  0.249006  0.382285  0.453713\n",
       "2   A3       0  0.121429  0.161988  0.412936  0.842741"
      ]
     },
     "execution_count": 7,
     "metadata": {},
     "output_type": "execute_result"
    }
   ],
   "source": [
    "compute_ndcg_rankings(\"Ranking(Police).csv\",\"ct_police_ground_truth_correlation.csv\")"
   ]
  },
  {
   "cell_type": "code",
   "execution_count": 8,
   "metadata": {
    "collapsed": false
   },
   "outputs": [
    {
     "data": {
      "text/html": [
       "<div>\n",
       "<table border=\"1\" class=\"dataframe\">\n",
       "  <thead>\n",
       "    <tr style=\"text-align: right;\">\n",
       "      <th></th>\n",
       "      <th>Task</th>\n",
       "      <th>NDCG@1</th>\n",
       "      <th>NDCG@2</th>\n",
       "      <th>NDCG@3</th>\n",
       "      <th>NDCG@5</th>\n",
       "      <th>NDCG@7</th>\n",
       "    </tr>\n",
       "  </thead>\n",
       "  <tbody>\n",
       "    <tr>\n",
       "      <th>0</th>\n",
       "      <td>A1</td>\n",
       "      <td>0</td>\n",
       "      <td>0.133333</td>\n",
       "      <td>0.173483</td>\n",
       "      <td>1.525712</td>\n",
       "      <td>2.128862</td>\n",
       "    </tr>\n",
       "    <tr>\n",
       "      <th>1</th>\n",
       "      <td>A2</td>\n",
       "      <td>0</td>\n",
       "      <td>0.109091</td>\n",
       "      <td>0.258220</td>\n",
       "      <td>0.283347</td>\n",
       "      <td>0.452386</td>\n",
       "    </tr>\n",
       "    <tr>\n",
       "      <th>2</th>\n",
       "      <td>A3</td>\n",
       "      <td>0</td>\n",
       "      <td>0.021818</td>\n",
       "      <td>0.035584</td>\n",
       "      <td>0.055332</td>\n",
       "      <td>0.106782</td>\n",
       "    </tr>\n",
       "  </tbody>\n",
       "</table>\n",
       "</div>"
      ],
      "text/plain": [
       "  Task  NDCG@1    NDCG@2    NDCG@3    NDCG@5    NDCG@7\n",
       "0   A1       0  0.133333  0.173483  1.525712  2.128862\n",
       "1   A2       0  0.109091  0.258220  0.283347  0.452386\n",
       "2   A3       0  0.021818  0.035584  0.055332  0.106782"
      ]
     },
     "execution_count": 8,
     "metadata": {},
     "output_type": "execute_result"
    }
   ],
   "source": [
    "compute_ndcg_rankings(\"Ranking(Autism).csv\",\"autism_ground_truth_correlation.csv\")"
   ]
  },
  {
   "cell_type": "markdown",
   "metadata": {},
   "source": [
    "This makes sense, our algo does better than kmeans (2) and level-wise BFS (3), except for NDCG@3 A2 for some reason did very well."
   ]
  },
  {
   "cell_type": "markdown",
   "metadata": {},
   "source": [
    "# Prediction"
   ]
  },
  {
   "cell_type": "code",
   "execution_count": 9,
   "metadata": {
    "collapsed": true
   },
   "outputs": [],
   "source": [
    "prediction_ground_truth = {\n",
    "    'Police1': [55.1,4.2,40.7], #ticket,warn,arrest\n",
    "    'Police2': [53.43,12.02,34.55], #ticket,warn,arrest\n",
    "    'Autism1': [17.3,82.7], #NO,YES   \n",
    "    'Autism2': [41,59] #NO,YES   \n",
    "}"
   ]
  },
  {
   "cell_type": "code",
   "execution_count": 10,
   "metadata": {
    "collapsed": false
   },
   "outputs": [],
   "source": [
    "def euclidean_dist(x,y):\n",
    "    x = np.array(x)\n",
    "    y = np.array(y)\n",
    "    return np.sqrt(np.sum(((x-y)**2)))"
   ]
  },
  {
   "cell_type": "code",
   "execution_count": 11,
   "metadata": {
    "collapsed": true
   },
   "outputs": [],
   "source": [
    "def compute_prediction_distances(filename,gt_task_key):\n",
    "    prediction = pd.read_csv(gdrive_path+filename)\n",
    "    if \"Police\" in filename: \n",
    "        attributes = [\"ticket\",\"warn\",\"arrest\"]\n",
    "        task_name = \"Task1\"\n",
    "    else: \n",
    "        attributes = [\"NO\",\"YES\"]\n",
    "        task_name = \"Task2\"\n",
    "    prediction = prediction.merge(user_task).drop(\"Note\",axis=1)\n",
    "    \n",
    "    #Computing Euclidean Distance\n",
    "    dist_data = []\n",
    "    for row in prediction.iterrows():\n",
    "        user_prediction  = row[1][attributes].values\n",
    "        gt_prediction = prediction_ground_truth[gt_task_key]\n",
    "        dist_data.append([row[1][task_name],euclidean_dist(user_prediction,gt_prediction)])\n",
    "    dist_result = pd.DataFrame(dist_data,columns=[\"Task\",\"Distance\"])\n",
    "    dist_result.groupby(\"Task\",as_index=False)\n",
    "    #mean and standard deviation\n",
    "    distance_aggregate_result = dist_result.groupby(\"Task\",as_index=False)[\"Distance\"].mean()\n",
    "    distance_aggregate_result[\"SD\"] = dist_result.groupby(\"Task\",as_index=False)[\"Distance\"].apply(lambda x: x.std())\n",
    "    return distance_aggregate_result"
   ]
  },
  {
   "cell_type": "code",
   "execution_count": 12,
   "metadata": {
    "collapsed": false
   },
   "outputs": [
    {
     "data": {
      "text/html": [
       "<div>\n",
       "<table border=\"1\" class=\"dataframe\">\n",
       "  <thead>\n",
       "    <tr style=\"text-align: right;\">\n",
       "      <th></th>\n",
       "      <th>Task</th>\n",
       "      <th>Distance</th>\n",
       "      <th>SD</th>\n",
       "    </tr>\n",
       "  </thead>\n",
       "  <tbody>\n",
       "    <tr>\n",
       "      <th>0</th>\n",
       "      <td>A1</td>\n",
       "      <td>9.687562</td>\n",
       "      <td>6.465089</td>\n",
       "    </tr>\n",
       "    <tr>\n",
       "      <th>1</th>\n",
       "      <td>A2</td>\n",
       "      <td>37.566882</td>\n",
       "      <td>16.323091</td>\n",
       "    </tr>\n",
       "    <tr>\n",
       "      <th>2</th>\n",
       "      <td>A3</td>\n",
       "      <td>52.202478</td>\n",
       "      <td>28.153713</td>\n",
       "    </tr>\n",
       "  </tbody>\n",
       "</table>\n",
       "</div>"
      ],
      "text/plain": [
       "  Task   Distance         SD\n",
       "0   A1   9.687562   6.465089\n",
       "1   A2  37.566882  16.323091\n",
       "2   A3  52.202478  28.153713"
      ]
     },
     "execution_count": 12,
     "metadata": {},
     "output_type": "execute_result"
    }
   ],
   "source": [
    "compute_prediction_distances(\"Prediction1(Police).csv\",\"Police1\")"
   ]
  },
  {
   "cell_type": "code",
   "execution_count": 13,
   "metadata": {
    "collapsed": false
   },
   "outputs": [
    {
     "data": {
      "text/html": [
       "<div>\n",
       "<table border=\"1\" class=\"dataframe\">\n",
       "  <thead>\n",
       "    <tr style=\"text-align: right;\">\n",
       "      <th></th>\n",
       "      <th>Task</th>\n",
       "      <th>Distance</th>\n",
       "      <th>SD</th>\n",
       "    </tr>\n",
       "  </thead>\n",
       "  <tbody>\n",
       "    <tr>\n",
       "      <th>0</th>\n",
       "      <td>A1</td>\n",
       "      <td>10.138272</td>\n",
       "      <td>4.116052</td>\n",
       "    </tr>\n",
       "    <tr>\n",
       "      <th>1</th>\n",
       "      <td>A2</td>\n",
       "      <td>11.607803</td>\n",
       "      <td>4.966252</td>\n",
       "    </tr>\n",
       "    <tr>\n",
       "      <th>2</th>\n",
       "      <td>A3</td>\n",
       "      <td>30.708144</td>\n",
       "      <td>36.935642</td>\n",
       "    </tr>\n",
       "  </tbody>\n",
       "</table>\n",
       "</div>"
      ],
      "text/plain": [
       "  Task   Distance         SD\n",
       "0   A1  10.138272   4.116052\n",
       "1   A2  11.607803   4.966252\n",
       "2   A3  30.708144  36.935642"
      ]
     },
     "execution_count": 13,
     "metadata": {},
     "output_type": "execute_result"
    }
   ],
   "source": [
    "compute_prediction_distances(\"Prediction2(Police).csv\",\"Police2\")"
   ]
  },
  {
   "cell_type": "code",
   "execution_count": 14,
   "metadata": {
    "collapsed": false
   },
   "outputs": [
    {
     "data": {
      "text/html": [
       "<div>\n",
       "<table border=\"1\" class=\"dataframe\">\n",
       "  <thead>\n",
       "    <tr style=\"text-align: right;\">\n",
       "      <th></th>\n",
       "      <th>Task</th>\n",
       "      <th>Distance</th>\n",
       "      <th>SD</th>\n",
       "    </tr>\n",
       "  </thead>\n",
       "  <tbody>\n",
       "    <tr>\n",
       "      <th>0</th>\n",
       "      <td>B1</td>\n",
       "      <td>8.438141</td>\n",
       "      <td>8.628634</td>\n",
       "    </tr>\n",
       "    <tr>\n",
       "      <th>1</th>\n",
       "      <td>B2</td>\n",
       "      <td>14.905811</td>\n",
       "      <td>25.426286</td>\n",
       "    </tr>\n",
       "    <tr>\n",
       "      <th>2</th>\n",
       "      <td>B3</td>\n",
       "      <td>48.813938</td>\n",
       "      <td>5.960145</td>\n",
       "    </tr>\n",
       "  </tbody>\n",
       "</table>\n",
       "</div>"
      ],
      "text/plain": [
       "  Task   Distance         SD\n",
       "0   B1   8.438141   8.628634\n",
       "1   B2  14.905811  25.426286\n",
       "2   B3  48.813938   5.960145"
      ]
     },
     "execution_count": 14,
     "metadata": {},
     "output_type": "execute_result"
    }
   ],
   "source": [
    "compute_prediction_distances(\"Prediction1(Autism).csv\",\"Autism1\")"
   ]
  },
  {
   "cell_type": "code",
   "execution_count": 15,
   "metadata": {
    "collapsed": false
   },
   "outputs": [
    {
     "data": {
      "text/html": [
       "<div>\n",
       "<table border=\"1\" class=\"dataframe\">\n",
       "  <thead>\n",
       "    <tr style=\"text-align: right;\">\n",
       "      <th></th>\n",
       "      <th>Task</th>\n",
       "      <th>Distance</th>\n",
       "      <th>SD</th>\n",
       "    </tr>\n",
       "  </thead>\n",
       "  <tbody>\n",
       "    <tr>\n",
       "      <th>0</th>\n",
       "      <td>B1</td>\n",
       "      <td>26.280802</td>\n",
       "      <td>15.036068</td>\n",
       "    </tr>\n",
       "    <tr>\n",
       "      <th>1</th>\n",
       "      <td>B2</td>\n",
       "      <td>19.233304</td>\n",
       "      <td>14.057027</td>\n",
       "    </tr>\n",
       "    <tr>\n",
       "      <th>2</th>\n",
       "      <td>B3</td>\n",
       "      <td>16.499158</td>\n",
       "      <td>9.784341</td>\n",
       "    </tr>\n",
       "  </tbody>\n",
       "</table>\n",
       "</div>"
      ],
      "text/plain": [
       "  Task   Distance         SD\n",
       "0   B1  26.280802  15.036068\n",
       "1   B2  19.233304  14.057027\n",
       "2   B3  16.499158   9.784341"
      ]
     },
     "execution_count": 15,
     "metadata": {},
     "output_type": "execute_result"
    }
   ],
   "source": [
    "compute_prediction_distances(\"Prediction2(Autism).csv\",\"Autism2\")"
   ]
  },
  {
   "cell_type": "code",
   "execution_count": 19,
   "metadata": {
    "collapsed": false
   },
   "outputs": [
    {
     "name": "stdout",
     "output_type": "stream",
     "text": [
      "The autoreload extension is already loaded. To reload it, use:\n",
      "  %reload_ext autoreload\n"
     ]
    }
   ],
   "source": [
    "%load_ext autoreload\n",
    "%autoreload 2\n",
    "from paper_visualization import *"
   ]
  },
  {
   "cell_type": "code",
   "execution_count": 20,
   "metadata": {
    "collapsed": false
   },
   "outputs": [
    {
     "data": {
      "image/png": "[encoded data removed]",
      "text/plain": [
       "<Figure size 1200x600 with 1 Axes>"
      ]
     },
     "metadata": {},
     "output_type": "display_data"
    }
   ],
   "source": [
    "result = compute_prediction_distances(\"Prediction1(Autism).csv\",\"Autism1\")\n",
    "bar_chart(list(result[\"Distance\"].values),list(result[\"Task\"].values), ytitle=\"Distance\",fixed_ylim=False)"
   ]
  },
  {
   "cell_type": "code",
   "execution_count": 19,
   "metadata": {
    "collapsed": false
   },
   "outputs": [
    {
     "data": {
      "image/png": "[encoded data removed]",
      "text/plain": [
       "<Figure size 400x400 with 1 Axes>"
      ]
     },
     "metadata": {},
     "output_type": "display_data"
    }
   ],
   "source": [
    "result = compute_prediction_distances(\"Prediction2(Autism).csv\",\"Autism2\")\n",
    "bar_chart(list(result[\"Distance\"].values),list(result[\"Task\"].values), ytitle=\"Distance\",fixed_ylim=False)"
   ]
  },
  {
   "cell_type": "code",
   "execution_count": 22,
   "metadata": {
    "collapsed": false
   },
   "outputs": [
    {
     "data": {
      "image/png": "[encoded data removed]",
      "text/plain": [
       "<Figure size 400x400 with 1 Axes>"
      ]
     },
     "metadata": {},
     "output_type": "display_data"
    }
   ],
   "source": [
    "result = compute_prediction_distances(\"Prediction1(Police).csv\",\"Police1\")\n",
    "bar_chart(list(result[\"Distance\"].values),list(result[\"Task\"].values), ytitle=\"Distance\",fixed_ylim=False)"
   ]
  },
  {
   "cell_type": "code",
   "execution_count": 23,
   "metadata": {
    "collapsed": false
   },
   "outputs": [
    {
     "data": {
      "image/png": "[encoded data removed]",
      "text/plain": [
       "<Figure size 400x400 with 1 Axes>"
      ]
     },
     "metadata": {},
     "output_type": "display_data"
    }
   ],
   "source": [
    "result = compute_prediction_distances(\"Prediction2(Police).csv\",\"Police2\")\n",
    "bar_chart(list(result[\"Distance\"].values),list(result[\"Task\"].values), ytitle=\"Distance\",fixed_ylim=False)"
   ]
  },
  {
   "cell_type": "markdown",
   "metadata": {},
   "source": [
    "- cohen's kappa\n",
    "- P, R \n",
    "- significance testing "
   ]
  },
  {
   "cell_type": "code",
   "execution_count": 27,
   "metadata": {
    "collapsed": false
   },
   "outputs": [
    {
     "data": {
      "text/html": [
       "<div>\n",
       "<table border=\"1\" class=\"dataframe\">\n",
       "  <thead>\n",
       "    <tr style=\"text-align: right;\">\n",
       "      <th></th>\n",
       "      <th>Task1</th>\n",
       "      <th>ticket</th>\n",
       "      <th>warn</th>\n",
       "      <th>arrest</th>\n",
       "    </tr>\n",
       "  </thead>\n",
       "  <tbody>\n",
       "    <tr>\n",
       "      <th>0</th>\n",
       "      <td>A1</td>\n",
       "      <td>53.216667</td>\n",
       "      <td>8.416667</td>\n",
       "      <td>37.366667</td>\n",
       "    </tr>\n",
       "    <tr>\n",
       "      <th>1</th>\n",
       "      <td>A2</td>\n",
       "      <td>35.000000</td>\n",
       "      <td>8.500000</td>\n",
       "      <td>56.500000</td>\n",
       "    </tr>\n",
       "    <tr>\n",
       "      <th>2</th>\n",
       "      <td>A3</td>\n",
       "      <td>22.960000</td>\n",
       "      <td>10.420000</td>\n",
       "      <td>65.620000</td>\n",
       "    </tr>\n",
       "  </tbody>\n",
       "</table>\n",
       "</div>"
      ],
      "text/plain": [
       "  Task1     ticket       warn     arrest\n",
       "0    A1  53.216667   8.416667  37.366667\n",
       "1    A2  35.000000   8.500000  56.500000\n",
       "2    A3  22.960000  10.420000  65.620000"
      ]
     },
     "execution_count": 27,
     "metadata": {},
     "output_type": "execute_result"
    }
   ],
   "source": [
    "filename = \"Prediction1(Police).csv\"\n",
    "gt_task_key=\"Police1\"\n",
    "prediction = pd.read_csv(gdrive_path+filename)\n",
    "if \"Police\" in filename: \n",
    "    attributes = [\"ticket\",\"warn\",\"arrest\"]\n",
    "    task_name = \"Task1\"\n",
    "else: \n",
    "    attributes = [\"NO\",\"YES\"]\n",
    "    task_name = \"Task2\"\n",
    "prediction = prediction.merge(user_task).drop(\"Note\",axis=1)\n",
    "\n",
    "prediction.groupby(task_name,as_index=False)[attributes].mean()"
   ]
  },
  {
   "cell_type": "code",
   "execution_count": null,
   "metadata": {
    "collapsed": true
   },
   "outputs": [],
   "source": []
  }
 ],
 "metadata": {
  "kernelspec": {
   "display_name": "Python 2",
   "language": "python",
   "name": "python2"
  },
  "language_info": {
   "codemirror_mode": {
    "name": "ipython",
    "version": 2
   },
   "file_extension": ".py",
   "mimetype": "text/x-python",
   "name": "python",
   "nbconvert_exporter": "python",
   "pygments_lexer": "ipython2",
   "version": "2.7.10"
  }
 },
 "nbformat": 4,
 "nbformat_minor": 0
}
