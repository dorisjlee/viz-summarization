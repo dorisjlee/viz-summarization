{
 "cells": [
  {
   "cell_type": "code",
   "execution_count": 1,
   "metadata": {
    "collapsed": false
   },
   "outputs": [
    {
     "name": "stdout",
     "output_type": "stream",
     "text": [
      "Populating the interactive namespace from numpy and matplotlib\n"
     ]
    }
   ],
   "source": [
    "%pylab inline"
   ]
  },
  {
   "cell_type": "code",
   "execution_count": 2,
   "metadata": {
    "collapsed": true
   },
   "outputs": [],
   "source": [
    "import pandas as pd"
   ]
  },
  {
   "cell_type": "code",
   "execution_count": 3,
   "metadata": {
    "collapsed": false
   },
   "outputs": [],
   "source": [
    "# csv files for answer responses\n",
    "gdrive_path = \"/Users/dorislee/Google Drive/Turn/VAST/user_study/evaluation_study/transcription_and_analysis/\"\n",
    "# user study logs\n",
    "box_path = \"/Users/dorislee/Box/viz-summarization-user-study-material/\" "
   ]
  },
  {
   "cell_type": "code",
   "execution_count": 4,
   "metadata": {
    "collapsed": false
   },
   "outputs": [],
   "source": [
    "user_task =  pd.read_csv(gdrive_path+\"UserTaskAssignment.csv\")"
   ]
  },
  {
   "cell_type": "markdown",
   "metadata": {},
   "source": [
    "# Interested Retrieval"
   ]
  },
  {
   "cell_type": "code",
   "execution_count": 381,
   "metadata": {
    "collapsed": true
   },
   "outputs": [],
   "source": [
    "retreival = pd.read_csv(\"user_click_data.csv\")"
   ]
  },
  {
   "cell_type": "code",
   "execution_count": 382,
   "metadata": {
    "collapsed": true
   },
   "outputs": [],
   "source": [
    "retreival[\"retreival score\"]=0"
   ]
  },
  {
   "cell_type": "code",
   "execution_count": 383,
   "metadata": {
    "collapsed": false
   },
   "outputs": [],
   "source": [
    "retreival.loc[retreival[\"interested\"]==\"unselected\",\"retreival score\"]=0\n",
    "retreival.loc[retreival[\"interested\"]==\"interested\",\"retreival score\"]=1\n",
    "retreival.loc[retreival[\"interested\"]==\"not interested\",\"retreival score\"]=-1"
   ]
  },
  {
   "cell_type": "code",
   "execution_count": 393,
   "metadata": {
    "collapsed": false
   },
   "outputs": [],
   "source": [
    "# retreival score, the higher the better, kind of like a relevance score\n",
    "relevance = retreival.groupby(\"visualization\").sum()[\"retreival score\"].reset_index().rename(columns={\"retreival score\":\"ideal retreival score\"})"
   ]
  },
  {
   "cell_type": "code",
   "execution_count": 389,
   "metadata": {
    "collapsed": false
   },
   "outputs": [
    {
     "data": {
      "text/html": [
       "<div>\n",
       "<table border=\"1\" class=\"dataframe\">\n",
       "  <thead>\n",
       "    <tr style=\"text-align: right;\">\n",
       "      <th></th>\n",
       "      <th>user</th>\n",
       "      <th>visualization</th>\n",
       "      <th>interested</th>\n",
       "      <th>task</th>\n",
       "      <th>retreival score</th>\n",
       "    </tr>\n",
       "  </thead>\n",
       "  <tbody>\n",
       "    <tr>\n",
       "      <th>0</th>\n",
       "      <td>1</td>\n",
       "      <td>overall</td>\n",
       "      <td>unselected</td>\n",
       "      <td>A1</td>\n",
       "      <td>0</td>\n",
       "    </tr>\n",
       "    <tr>\n",
       "      <th>1</th>\n",
       "      <td>1</td>\n",
       "      <td>driver_race=Other, duration=30+ min</td>\n",
       "      <td>interested</td>\n",
       "      <td>A1</td>\n",
       "      <td>1</td>\n",
       "    </tr>\n",
       "    <tr>\n",
       "      <th>2</th>\n",
       "      <td>1</td>\n",
       "      <td>contraband_found=t</td>\n",
       "      <td>interested</td>\n",
       "      <td>A1</td>\n",
       "      <td>1</td>\n",
       "    </tr>\n",
       "    <tr>\n",
       "      <th>3</th>\n",
       "      <td>1</td>\n",
       "      <td>duration=30+ min</td>\n",
       "      <td>interested</td>\n",
       "      <td>A1</td>\n",
       "      <td>1</td>\n",
       "    </tr>\n",
       "    <tr>\n",
       "      <th>4</th>\n",
       "      <td>1</td>\n",
       "      <td>contraband_found=t, driver_age=60 and over</td>\n",
       "      <td>unselected</td>\n",
       "      <td>A1</td>\n",
       "      <td>0</td>\n",
       "    </tr>\n",
       "    <tr>\n",
       "      <th>5</th>\n",
       "      <td>1</td>\n",
       "      <td>driver_race=Asian, search_conducted=t</td>\n",
       "      <td>unselected</td>\n",
       "      <td>A1</td>\n",
       "      <td>0</td>\n",
       "    </tr>\n",
       "    <tr>\n",
       "      <th>6</th>\n",
       "      <td>1</td>\n",
       "      <td>driver_race=Asian, search_conducted=t, driver...</td>\n",
       "      <td>interested</td>\n",
       "      <td>A1</td>\n",
       "      <td>1</td>\n",
       "    </tr>\n",
       "    <tr>\n",
       "      <th>7</th>\n",
       "      <td>1</td>\n",
       "      <td>driver_race=Asian, contraband_found=t</td>\n",
       "      <td>unselected</td>\n",
       "      <td>A1</td>\n",
       "      <td>0</td>\n",
       "    </tr>\n",
       "    <tr>\n",
       "      <th>8</th>\n",
       "      <td>1</td>\n",
       "      <td>search_conducted=t</td>\n",
       "      <td>interested</td>\n",
       "      <td>A1</td>\n",
       "      <td>1</td>\n",
       "    </tr>\n",
       "    <tr>\n",
       "      <th>9</th>\n",
       "      <td>1</td>\n",
       "      <td>driver_race=Asian, duration=30+ min</td>\n",
       "      <td>interested</td>\n",
       "      <td>A1</td>\n",
       "      <td>1</td>\n",
       "    </tr>\n",
       "    <tr>\n",
       "      <th>10</th>\n",
       "      <td>1</td>\n",
       "      <td>a1_score=1</td>\n",
       "      <td>unselected</td>\n",
       "      <td>B2</td>\n",
       "      <td>0</td>\n",
       "    </tr>\n",
       "    <tr>\n",
       "      <th>11</th>\n",
       "      <td>1</td>\n",
       "      <td>a7_score=0</td>\n",
       "      <td>interested</td>\n",
       "      <td>B2</td>\n",
       "      <td>1</td>\n",
       "    </tr>\n",
       "    <tr>\n",
       "      <th>12</th>\n",
       "      <td>1</td>\n",
       "      <td>a2_score=1</td>\n",
       "      <td>unselected</td>\n",
       "      <td>B2</td>\n",
       "      <td>0</td>\n",
       "    </tr>\n",
       "    <tr>\n",
       "      <th>13</th>\n",
       "      <td>1</td>\n",
       "      <td>a1_score=1, a2_score=1, a6_score=1</td>\n",
       "      <td>interested</td>\n",
       "      <td>B2</td>\n",
       "      <td>1</td>\n",
       "    </tr>\n",
       "    <tr>\n",
       "      <th>14</th>\n",
       "      <td>1</td>\n",
       "      <td>a1_score=1, a9_score=1</td>\n",
       "      <td>unselected</td>\n",
       "      <td>B2</td>\n",
       "      <td>0</td>\n",
       "    </tr>\n",
       "    <tr>\n",
       "      <th>15</th>\n",
       "      <td>1</td>\n",
       "      <td>a5_score=0</td>\n",
       "      <td>interested</td>\n",
       "      <td>B2</td>\n",
       "      <td>1</td>\n",
       "    </tr>\n",
       "    <tr>\n",
       "      <th>16</th>\n",
       "      <td>1</td>\n",
       "      <td>a1_score=0</td>\n",
       "      <td>interested</td>\n",
       "      <td>B2</td>\n",
       "      <td>1</td>\n",
       "    </tr>\n",
       "    <tr>\n",
       "      <th>17</th>\n",
       "      <td>1</td>\n",
       "      <td>a3_score=1</td>\n",
       "      <td>unselected</td>\n",
       "      <td>B2</td>\n",
       "      <td>0</td>\n",
       "    </tr>\n",
       "    <tr>\n",
       "      <th>18</th>\n",
       "      <td>1</td>\n",
       "      <td>overall</td>\n",
       "      <td>interested</td>\n",
       "      <td>B2</td>\n",
       "      <td>1</td>\n",
       "    </tr>\n",
       "    <tr>\n",
       "      <th>19</th>\n",
       "      <td>1</td>\n",
       "      <td>a6_score=1</td>\n",
       "      <td>unselected</td>\n",
       "      <td>B2</td>\n",
       "      <td>0</td>\n",
       "    </tr>\n",
       "    <tr>\n",
       "      <th>20</th>\n",
       "      <td>10</td>\n",
       "      <td>search_conducted=t</td>\n",
       "      <td>unselected</td>\n",
       "      <td>A2</td>\n",
       "      <td>0</td>\n",
       "    </tr>\n",
       "    <tr>\n",
       "      <th>21</th>\n",
       "      <td>10</td>\n",
       "      <td>duration=30+ min</td>\n",
       "      <td>not interested</td>\n",
       "      <td>A2</td>\n",
       "      <td>-1</td>\n",
       "    </tr>\n",
       "    <tr>\n",
       "      <th>22</th>\n",
       "      <td>10</td>\n",
       "      <td>driver_gender=F, search_conducted=t, duration...</td>\n",
       "      <td>interested</td>\n",
       "      <td>A2</td>\n",
       "      <td>1</td>\n",
       "    </tr>\n",
       "    <tr>\n",
       "      <th>23</th>\n",
       "      <td>10</td>\n",
       "      <td>search_conducted=t, duration=1-15 min</td>\n",
       "      <td>unselected</td>\n",
       "      <td>A2</td>\n",
       "      <td>0</td>\n",
       "    </tr>\n",
       "    <tr>\n",
       "      <th>24</th>\n",
       "      <td>10</td>\n",
       "      <td>driver_race=Asian, search_conducted=t</td>\n",
       "      <td>interested</td>\n",
       "      <td>A2</td>\n",
       "      <td>1</td>\n",
       "    </tr>\n",
       "    <tr>\n",
       "      <th>25</th>\n",
       "      <td>10</td>\n",
       "      <td>driver_race=Other, stop_time=Afternoon, drive...</td>\n",
       "      <td>not interested</td>\n",
       "      <td>A2</td>\n",
       "      <td>-1</td>\n",
       "    </tr>\n",
       "    <tr>\n",
       "      <th>26</th>\n",
       "      <td>10</td>\n",
       "      <td>driver_race=White</td>\n",
       "      <td>interested</td>\n",
       "      <td>A2</td>\n",
       "      <td>1</td>\n",
       "    </tr>\n",
       "    <tr>\n",
       "      <th>27</th>\n",
       "      <td>10</td>\n",
       "      <td>driver_gender=F, search_conducted=t, contraba...</td>\n",
       "      <td>unselected</td>\n",
       "      <td>A2</td>\n",
       "      <td>0</td>\n",
       "    </tr>\n",
       "    <tr>\n",
       "      <th>28</th>\n",
       "      <td>10</td>\n",
       "      <td>driver_race=Other, duration=30+ min, stop_tim...</td>\n",
       "      <td>not interested</td>\n",
       "      <td>A2</td>\n",
       "      <td>-1</td>\n",
       "    </tr>\n",
       "    <tr>\n",
       "      <th>29</th>\n",
       "      <td>10</td>\n",
       "      <td>overall</td>\n",
       "      <td>interested</td>\n",
       "      <td>A2</td>\n",
       "      <td>1</td>\n",
       "    </tr>\n",
       "    <tr>\n",
       "      <th>...</th>\n",
       "      <td>...</td>\n",
       "      <td>...</td>\n",
       "      <td>...</td>\n",
       "      <td>...</td>\n",
       "      <td>...</td>\n",
       "    </tr>\n",
       "    <tr>\n",
       "      <th>330</th>\n",
       "      <td>8</td>\n",
       "      <td>overall</td>\n",
       "      <td>unselected</td>\n",
       "      <td>B3</td>\n",
       "      <td>0</td>\n",
       "    </tr>\n",
       "    <tr>\n",
       "      <th>331</th>\n",
       "      <td>8</td>\n",
       "      <td>a1_score=1</td>\n",
       "      <td>unselected</td>\n",
       "      <td>B3</td>\n",
       "      <td>0</td>\n",
       "    </tr>\n",
       "    <tr>\n",
       "      <th>332</th>\n",
       "      <td>8</td>\n",
       "      <td>a1_score=0</td>\n",
       "      <td>interested</td>\n",
       "      <td>B3</td>\n",
       "      <td>1</td>\n",
       "    </tr>\n",
       "    <tr>\n",
       "      <th>333</th>\n",
       "      <td>8</td>\n",
       "      <td>a2_score=1</td>\n",
       "      <td>unselected</td>\n",
       "      <td>B3</td>\n",
       "      <td>0</td>\n",
       "    </tr>\n",
       "    <tr>\n",
       "      <th>334</th>\n",
       "      <td>8</td>\n",
       "      <td>a2_score=0</td>\n",
       "      <td>interested</td>\n",
       "      <td>B3</td>\n",
       "      <td>1</td>\n",
       "    </tr>\n",
       "    <tr>\n",
       "      <th>335</th>\n",
       "      <td>8</td>\n",
       "      <td>a3_score=1</td>\n",
       "      <td>unselected</td>\n",
       "      <td>B3</td>\n",
       "      <td>0</td>\n",
       "    </tr>\n",
       "    <tr>\n",
       "      <th>336</th>\n",
       "      <td>8</td>\n",
       "      <td>a3_score=0</td>\n",
       "      <td>interested</td>\n",
       "      <td>B3</td>\n",
       "      <td>1</td>\n",
       "    </tr>\n",
       "    <tr>\n",
       "      <th>337</th>\n",
       "      <td>8</td>\n",
       "      <td>a4_score=1</td>\n",
       "      <td>unselected</td>\n",
       "      <td>B3</td>\n",
       "      <td>0</td>\n",
       "    </tr>\n",
       "    <tr>\n",
       "      <th>338</th>\n",
       "      <td>8</td>\n",
       "      <td>a4_score=0</td>\n",
       "      <td>interested</td>\n",
       "      <td>B3</td>\n",
       "      <td>1</td>\n",
       "    </tr>\n",
       "    <tr>\n",
       "      <th>339</th>\n",
       "      <td>8</td>\n",
       "      <td>a5_score=1</td>\n",
       "      <td>unselected</td>\n",
       "      <td>B3</td>\n",
       "      <td>0</td>\n",
       "    </tr>\n",
       "    <tr>\n",
       "      <th>340</th>\n",
       "      <td>9</td>\n",
       "      <td>search_conducted=t</td>\n",
       "      <td>unselected</td>\n",
       "      <td>A2</td>\n",
       "      <td>0</td>\n",
       "    </tr>\n",
       "    <tr>\n",
       "      <th>341</th>\n",
       "      <td>9</td>\n",
       "      <td>duration=30+ min</td>\n",
       "      <td>not interested</td>\n",
       "      <td>A2</td>\n",
       "      <td>-1</td>\n",
       "    </tr>\n",
       "    <tr>\n",
       "      <th>342</th>\n",
       "      <td>9</td>\n",
       "      <td>driver_gender=F, search_conducted=t, duration...</td>\n",
       "      <td>unselected</td>\n",
       "      <td>A2</td>\n",
       "      <td>0</td>\n",
       "    </tr>\n",
       "    <tr>\n",
       "      <th>343</th>\n",
       "      <td>9</td>\n",
       "      <td>search_conducted=t, duration=1-15 min</td>\n",
       "      <td>not interested</td>\n",
       "      <td>A2</td>\n",
       "      <td>-1</td>\n",
       "    </tr>\n",
       "    <tr>\n",
       "      <th>344</th>\n",
       "      <td>9</td>\n",
       "      <td>driver_race=Asian, search_conducted=t</td>\n",
       "      <td>unselected</td>\n",
       "      <td>A2</td>\n",
       "      <td>0</td>\n",
       "    </tr>\n",
       "    <tr>\n",
       "      <th>345</th>\n",
       "      <td>9</td>\n",
       "      <td>driver_race=Other, stop_time=Afternoon, drive...</td>\n",
       "      <td>unselected</td>\n",
       "      <td>A2</td>\n",
       "      <td>0</td>\n",
       "    </tr>\n",
       "    <tr>\n",
       "      <th>346</th>\n",
       "      <td>9</td>\n",
       "      <td>driver_race=White</td>\n",
       "      <td>unselected</td>\n",
       "      <td>A2</td>\n",
       "      <td>0</td>\n",
       "    </tr>\n",
       "    <tr>\n",
       "      <th>347</th>\n",
       "      <td>9</td>\n",
       "      <td>driver_gender=F, search_conducted=t, contraba...</td>\n",
       "      <td>unselected</td>\n",
       "      <td>A2</td>\n",
       "      <td>0</td>\n",
       "    </tr>\n",
       "    <tr>\n",
       "      <th>348</th>\n",
       "      <td>9</td>\n",
       "      <td>driver_race=Other, duration=30+ min, stop_tim...</td>\n",
       "      <td>interested</td>\n",
       "      <td>A2</td>\n",
       "      <td>1</td>\n",
       "    </tr>\n",
       "    <tr>\n",
       "      <th>349</th>\n",
       "      <td>9</td>\n",
       "      <td>overall</td>\n",
       "      <td>interested</td>\n",
       "      <td>A2</td>\n",
       "      <td>1</td>\n",
       "    </tr>\n",
       "    <tr>\n",
       "      <th>350</th>\n",
       "      <td>9</td>\n",
       "      <td>overall</td>\n",
       "      <td>interested</td>\n",
       "      <td>B1</td>\n",
       "      <td>1</td>\n",
       "    </tr>\n",
       "    <tr>\n",
       "      <th>351</th>\n",
       "      <td>9</td>\n",
       "      <td>a6_score=1, a7_score=1, a10_score=0</td>\n",
       "      <td>interested</td>\n",
       "      <td>B1</td>\n",
       "      <td>1</td>\n",
       "    </tr>\n",
       "    <tr>\n",
       "      <th>352</th>\n",
       "      <td>9</td>\n",
       "      <td>a6_score=1</td>\n",
       "      <td>interested</td>\n",
       "      <td>B1</td>\n",
       "      <td>1</td>\n",
       "    </tr>\n",
       "    <tr>\n",
       "      <th>353</th>\n",
       "      <td>9</td>\n",
       "      <td>a3_score=0, a9_score=1</td>\n",
       "      <td>interested</td>\n",
       "      <td>B1</td>\n",
       "      <td>1</td>\n",
       "    </tr>\n",
       "    <tr>\n",
       "      <th>354</th>\n",
       "      <td>9</td>\n",
       "      <td>a4_score=0, a6_score=1</td>\n",
       "      <td>unselected</td>\n",
       "      <td>B1</td>\n",
       "      <td>0</td>\n",
       "    </tr>\n",
       "    <tr>\n",
       "      <th>355</th>\n",
       "      <td>9</td>\n",
       "      <td>a9_score=1</td>\n",
       "      <td>interested</td>\n",
       "      <td>B1</td>\n",
       "      <td>1</td>\n",
       "    </tr>\n",
       "    <tr>\n",
       "      <th>356</th>\n",
       "      <td>9</td>\n",
       "      <td>a6_score=1, a9_score=0</td>\n",
       "      <td>unselected</td>\n",
       "      <td>B1</td>\n",
       "      <td>0</td>\n",
       "    </tr>\n",
       "    <tr>\n",
       "      <th>357</th>\n",
       "      <td>9</td>\n",
       "      <td>a6_score=1, a10_score=0</td>\n",
       "      <td>interested</td>\n",
       "      <td>B1</td>\n",
       "      <td>1</td>\n",
       "    </tr>\n",
       "    <tr>\n",
       "      <th>358</th>\n",
       "      <td>9</td>\n",
       "      <td>a9_score=1, a10_score=0</td>\n",
       "      <td>interested</td>\n",
       "      <td>B1</td>\n",
       "      <td>1</td>\n",
       "    </tr>\n",
       "    <tr>\n",
       "      <th>359</th>\n",
       "      <td>9</td>\n",
       "      <td>a2_score=1, a6_score=1, a7_score=1, a10_score=0</td>\n",
       "      <td>interested</td>\n",
       "      <td>B1</td>\n",
       "      <td>1</td>\n",
       "    </tr>\n",
       "  </tbody>\n",
       "</table>\n",
       "<p>360 rows × 5 columns</p>\n",
       "</div>"
      ],
      "text/plain": [
       "     user                                      visualization      interested  \\\n",
       "0       1                                            overall      unselected   \n",
       "1       1                driver_race=Other, duration=30+ min      interested   \n",
       "2       1                                 contraband_found=t      interested   \n",
       "3       1                                   duration=30+ min      interested   \n",
       "4       1         contraband_found=t, driver_age=60 and over      unselected   \n",
       "5       1              driver_race=Asian, search_conducted=t      unselected   \n",
       "6       1   driver_race=Asian, search_conducted=t, driver...      interested   \n",
       "7       1              driver_race=Asian, contraband_found=t      unselected   \n",
       "8       1                                 search_conducted=t      interested   \n",
       "9       1                driver_race=Asian, duration=30+ min      interested   \n",
       "10      1                                         a1_score=1      unselected   \n",
       "11      1                                         a7_score=0      interested   \n",
       "12      1                                         a2_score=1      unselected   \n",
       "13      1                 a1_score=1, a2_score=1, a6_score=1      interested   \n",
       "14      1                             a1_score=1, a9_score=1      unselected   \n",
       "15      1                                         a5_score=0      interested   \n",
       "16      1                                         a1_score=0      interested   \n",
       "17      1                                         a3_score=1      unselected   \n",
       "18      1                                            overall      interested   \n",
       "19      1                                         a6_score=1      unselected   \n",
       "20     10                                 search_conducted=t      unselected   \n",
       "21     10                                   duration=30+ min  not interested   \n",
       "22     10   driver_gender=F, search_conducted=t, duration...      interested   \n",
       "23     10              search_conducted=t, duration=1-15 min      unselected   \n",
       "24     10              driver_race=Asian, search_conducted=t      interested   \n",
       "25     10   driver_race=Other, stop_time=Afternoon, drive...  not interested   \n",
       "26     10                                  driver_race=White      interested   \n",
       "27     10   driver_gender=F, search_conducted=t, contraba...      unselected   \n",
       "28     10   driver_race=Other, duration=30+ min, stop_tim...  not interested   \n",
       "29     10                                            overall      interested   \n",
       "..    ...                                                ...             ...   \n",
       "330     8                                            overall      unselected   \n",
       "331     8                                         a1_score=1      unselected   \n",
       "332     8                                         a1_score=0      interested   \n",
       "333     8                                         a2_score=1      unselected   \n",
       "334     8                                         a2_score=0      interested   \n",
       "335     8                                         a3_score=1      unselected   \n",
       "336     8                                         a3_score=0      interested   \n",
       "337     8                                         a4_score=1      unselected   \n",
       "338     8                                         a4_score=0      interested   \n",
       "339     8                                         a5_score=1      unselected   \n",
       "340     9                                 search_conducted=t      unselected   \n",
       "341     9                                   duration=30+ min  not interested   \n",
       "342     9   driver_gender=F, search_conducted=t, duration...      unselected   \n",
       "343     9              search_conducted=t, duration=1-15 min  not interested   \n",
       "344     9              driver_race=Asian, search_conducted=t      unselected   \n",
       "345     9   driver_race=Other, stop_time=Afternoon, drive...      unselected   \n",
       "346     9                                  driver_race=White      unselected   \n",
       "347     9   driver_gender=F, search_conducted=t, contraba...      unselected   \n",
       "348     9   driver_race=Other, duration=30+ min, stop_tim...      interested   \n",
       "349     9                                            overall      interested   \n",
       "350     9                                            overall      interested   \n",
       "351     9                a6_score=1, a7_score=1, a10_score=0      interested   \n",
       "352     9                                         a6_score=1      interested   \n",
       "353     9                             a3_score=0, a9_score=1      interested   \n",
       "354     9                             a4_score=0, a6_score=1      unselected   \n",
       "355     9                                         a9_score=1      interested   \n",
       "356     9                             a6_score=1, a9_score=0      unselected   \n",
       "357     9                            a6_score=1, a10_score=0      interested   \n",
       "358     9                            a9_score=1, a10_score=0      interested   \n",
       "359     9    a2_score=1, a6_score=1, a7_score=1, a10_score=0      interested   \n",
       "\n",
       "    task  retreival score  \n",
       "0     A1                0  \n",
       "1     A1                1  \n",
       "2     A1                1  \n",
       "3     A1                1  \n",
       "4     A1                0  \n",
       "5     A1                0  \n",
       "6     A1                1  \n",
       "7     A1                0  \n",
       "8     A1                1  \n",
       "9     A1                1  \n",
       "10    B2                0  \n",
       "11    B2                1  \n",
       "12    B2                0  \n",
       "13    B2                1  \n",
       "14    B2                0  \n",
       "15    B2                1  \n",
       "16    B2                1  \n",
       "17    B2                0  \n",
       "18    B2                1  \n",
       "19    B2                0  \n",
       "20    A2                0  \n",
       "21    A2               -1  \n",
       "22    A2                1  \n",
       "23    A2                0  \n",
       "24    A2                1  \n",
       "25    A2               -1  \n",
       "26    A2                1  \n",
       "27    A2                0  \n",
       "28    A2               -1  \n",
       "29    A2                1  \n",
       "..   ...              ...  \n",
       "330   B3                0  \n",
       "331   B3                0  \n",
       "332   B3                1  \n",
       "333   B3                0  \n",
       "334   B3                1  \n",
       "335   B3                0  \n",
       "336   B3                1  \n",
       "337   B3                0  \n",
       "338   B3                1  \n",
       "339   B3                0  \n",
       "340   A2                0  \n",
       "341   A2               -1  \n",
       "342   A2                0  \n",
       "343   A2               -1  \n",
       "344   A2                0  \n",
       "345   A2                0  \n",
       "346   A2                0  \n",
       "347   A2                0  \n",
       "348   A2                1  \n",
       "349   A2                1  \n",
       "350   B1                1  \n",
       "351   B1                1  \n",
       "352   B1                1  \n",
       "353   B1                1  \n",
       "354   B1                0  \n",
       "355   B1                1  \n",
       "356   B1                0  \n",
       "357   B1                1  \n",
       "358   B1                1  \n",
       "359   B1                1  \n",
       "\n",
       "[360 rows x 5 columns]"
      ]
     },
     "execution_count": 389,
     "metadata": {},
     "output_type": "execute_result"
    }
   ],
   "source": [
    "retreival"
   ]
  },
  {
   "cell_type": "markdown",
   "metadata": {},
   "source": [
    "# Ranking"
   ]
  },
  {
   "cell_type": "code",
   "execution_count": 5,
   "metadata": {
    "collapsed": false
   },
   "outputs": [],
   "source": [
    "def dcg(r, k, method=0):\n",
    "    # alternative formulation of DCG places stronger emphasis on retrieving relevant documents\n",
    "    r = np.asfarray(r)[:k]\n",
    "    val = 0\n",
    "    for i in range(1,len(r)):\n",
    "        val+= (2**r[i]-1) / np.log2(i+1)\n",
    "    return val\n",
    "\n",
    "def ndcg(dcg_ground_truth,r, k):\n",
    "    return dcg(r, k) / sum(dcg_ground_truth)\n"
   ]
  },
  {
   "cell_type": "code",
   "execution_count": 6,
   "metadata": {
    "collapsed": true
   },
   "outputs": [],
   "source": [
    "def compute_ndcg_rankings(user_ranking_filename,gt_ranking_filename):\n",
    "    user_rank = pd.read_csv(gdrive_path+user_ranking_filename)\n",
    "    ground_truth_rank = pd.read_csv(gt_ranking_filename,index_col=0)\n",
    "    ground_truth_cramerV_rank = list(ground_truth_rank[\"cramerV\"].rank(ascending=False)) \n",
    "    #highest cramer's V corresponds to most correlated, corresponds to rank 1\n",
    "    user_rank = user_rank.merge(user_task).drop(\"Note\",axis=1)\n",
    "    user_rankings=[]\n",
    "    #Putting user rankings into appropriate data structures\n",
    "    for row in user_rank.iterrows():\n",
    "        ranking = []\n",
    "        for attr in ground_truth_rank.attribute:\n",
    "            ranking.append(row[1][attr])\n",
    "        task = row[1][\"Task1\"]\n",
    "        user_rankings.append([task,ranking])\n",
    "    #Computing ndcg ranking\n",
    "    ndcg_data = []\n",
    "    for trial in user_rankings:\n",
    "        ndcg_d = []\n",
    "        ndcg_d.append(trial[0])\n",
    "        for k in [1,2,3,5,7]:\n",
    "            ndcg_d.append(ndcg(ground_truth_cramerV_rank,trial[1],k))\n",
    "        ndcg_data.append(ndcg_d)\n",
    "    ndcg_result = pd.DataFrame(ndcg_data,columns=[\"Task\",\"NDCG@1\",\"NDCG@2\",\"NDCG@3\",\"NDCG@5\",\"NDCG@7\"])\n",
    "    return ndcg_result.groupby(\"Task\",as_index=False).mean()"
   ]
  },
  {
   "cell_type": "code",
   "execution_count": 7,
   "metadata": {
    "collapsed": false
   },
   "outputs": [
    {
     "data": {
      "text/html": [
       "<div>\n",
       "<table border=\"1\" class=\"dataframe\">\n",
       "  <thead>\n",
       "    <tr style=\"text-align: right;\">\n",
       "      <th></th>\n",
       "      <th>Task</th>\n",
       "      <th>NDCG@1</th>\n",
       "      <th>NDCG@2</th>\n",
       "      <th>NDCG@3</th>\n",
       "      <th>NDCG@5</th>\n",
       "      <th>NDCG@7</th>\n",
       "    </tr>\n",
       "  </thead>\n",
       "  <tbody>\n",
       "    <tr>\n",
       "      <th>0</th>\n",
       "      <td>A1</td>\n",
       "      <td>0</td>\n",
       "      <td>0.351190</td>\n",
       "      <td>0.441323</td>\n",
       "      <td>0.511916</td>\n",
       "      <td>0.628532</td>\n",
       "    </tr>\n",
       "    <tr>\n",
       "      <th>1</th>\n",
       "      <td>A2</td>\n",
       "      <td>0</td>\n",
       "      <td>0.196429</td>\n",
       "      <td>0.249006</td>\n",
       "      <td>0.382285</td>\n",
       "      <td>0.453713</td>\n",
       "    </tr>\n",
       "    <tr>\n",
       "      <th>2</th>\n",
       "      <td>A3</td>\n",
       "      <td>0</td>\n",
       "      <td>0.121429</td>\n",
       "      <td>0.161988</td>\n",
       "      <td>0.412936</td>\n",
       "      <td>0.842741</td>\n",
       "    </tr>\n",
       "  </tbody>\n",
       "</table>\n",
       "</div>"
      ],
      "text/plain": [
       "  Task  NDCG@1    NDCG@2    NDCG@3    NDCG@5    NDCG@7\n",
       "0   A1       0  0.351190  0.441323  0.511916  0.628532\n",
       "1   A2       0  0.196429  0.249006  0.382285  0.453713\n",
       "2   A3       0  0.121429  0.161988  0.412936  0.842741"
      ]
     },
     "execution_count": 7,
     "metadata": {},
     "output_type": "execute_result"
    }
   ],
   "source": [
    "compute_ndcg_rankings(\"Ranking(Police).csv\",\"ct_police_ground_truth_correlation.csv\")"
   ]
  },
  {
   "cell_type": "code",
   "execution_count": 8,
   "metadata": {
    "collapsed": false
   },
   "outputs": [
    {
     "data": {
      "text/html": [
       "<div>\n",
       "<table border=\"1\" class=\"dataframe\">\n",
       "  <thead>\n",
       "    <tr style=\"text-align: right;\">\n",
       "      <th></th>\n",
       "      <th>Task</th>\n",
       "      <th>NDCG@1</th>\n",
       "      <th>NDCG@2</th>\n",
       "      <th>NDCG@3</th>\n",
       "      <th>NDCG@5</th>\n",
       "      <th>NDCG@7</th>\n",
       "    </tr>\n",
       "  </thead>\n",
       "  <tbody>\n",
       "    <tr>\n",
       "      <th>0</th>\n",
       "      <td>A1</td>\n",
       "      <td>0</td>\n",
       "      <td>0.133333</td>\n",
       "      <td>0.173483</td>\n",
       "      <td>1.525712</td>\n",
       "      <td>2.128862</td>\n",
       "    </tr>\n",
       "    <tr>\n",
       "      <th>1</th>\n",
       "      <td>A2</td>\n",
       "      <td>0</td>\n",
       "      <td>0.109091</td>\n",
       "      <td>0.258220</td>\n",
       "      <td>0.283347</td>\n",
       "      <td>0.452386</td>\n",
       "    </tr>\n",
       "    <tr>\n",
       "      <th>2</th>\n",
       "      <td>A3</td>\n",
       "      <td>0</td>\n",
       "      <td>0.021818</td>\n",
       "      <td>0.035584</td>\n",
       "      <td>0.055332</td>\n",
       "      <td>0.106782</td>\n",
       "    </tr>\n",
       "  </tbody>\n",
       "</table>\n",
       "</div>"
      ],
      "text/plain": [
       "  Task  NDCG@1    NDCG@2    NDCG@3    NDCG@5    NDCG@7\n",
       "0   A1       0  0.133333  0.173483  1.525712  2.128862\n",
       "1   A2       0  0.109091  0.258220  0.283347  0.452386\n",
       "2   A3       0  0.021818  0.035584  0.055332  0.106782"
      ]
     },
     "execution_count": 8,
     "metadata": {},
     "output_type": "execute_result"
    }
   ],
   "source": [
    "compute_ndcg_rankings(\"Ranking(Autism).csv\",\"autism_ground_truth_correlation.csv\")"
   ]
  },
  {
   "cell_type": "markdown",
   "metadata": {},
   "source": [
    "This makes sense, our algo does better than kmeans (2) and level-wise BFS (3), except for NDCG@3 A2 for some reason did very well."
   ]
  },
  {
   "cell_type": "markdown",
   "metadata": {},
   "source": [
    "# Prediction"
   ]
  },
  {
   "cell_type": "code",
   "execution_count": 9,
   "metadata": {
    "collapsed": true
   },
   "outputs": [],
   "source": [
    "prediction_ground_truth = {\n",
    "    'Police1': [55.1,4.2,40.7], #ticket,warn,arrest\n",
    "    'Police2': [53.43,12.02,34.55], #ticket,warn,arrest\n",
    "    'Autism1': [17.3,82.7], #NO,YES   \n",
    "    'Autism2': [41,59] #NO,YES   \n",
    "}"
   ]
  },
  {
   "cell_type": "code",
   "execution_count": 10,
   "metadata": {
    "collapsed": false
   },
   "outputs": [],
   "source": [
    "def euclidean_dist(x,y):\n",
    "    x = np.array(x)\n",
    "    y = np.array(y)\n",
    "    return np.sqrt(np.sum(((x-y)**2)))"
   ]
  },
  {
   "cell_type": "code",
   "execution_count": 11,
   "metadata": {
    "collapsed": true
   },
   "outputs": [],
   "source": [
    "def compute_prediction_distances(filename,gt_task_key):\n",
    "    prediction = pd.read_csv(gdrive_path+filename)\n",
    "    if \"Police\" in filename: \n",
    "        attributes = [\"ticket\",\"warn\",\"arrest\"]\n",
    "        task_name = \"Task1\"\n",
    "    else: \n",
    "        attributes = [\"NO\",\"YES\"]\n",
    "        task_name = \"Task2\"\n",
    "    prediction = prediction.merge(user_task).drop(\"Note\",axis=1)\n",
    "    \n",
    "    #Computing Euclidean Distance\n",
    "    dist_data = []\n",
    "    for row in prediction.iterrows():\n",
    "        user_prediction  = row[1][attributes].values\n",
    "        gt_prediction = prediction_ground_truth[gt_task_key]\n",
    "        dist_data.append([row[1][task_name],euclidean_dist(user_prediction,gt_prediction)])\n",
    "    dist_result = pd.DataFrame(dist_data,columns=[\"Task\",\"Distance\"])\n",
    "    dist_result.groupby(\"Task\",as_index=False)\n",
    "    #mean and standard deviation\n",
    "    distance_aggregate_result = dist_result.groupby(\"Task\",as_index=False)[\"Distance\"].mean()\n",
    "    distance_aggregate_result[\"SD\"] = dist_result.groupby(\"Task\",as_index=False)[\"Distance\"].apply(lambda x: x.std())\n",
    "    return distance_aggregate_result"
   ]
  },
  {
   "cell_type": "code",
   "execution_count": 12,
   "metadata": {
    "collapsed": false
   },
   "outputs": [
    {
     "data": {
      "text/html": [
       "<div>\n",
       "<table border=\"1\" class=\"dataframe\">\n",
       "  <thead>\n",
       "    <tr style=\"text-align: right;\">\n",
       "      <th></th>\n",
       "      <th>Task</th>\n",
       "      <th>Distance</th>\n",
       "      <th>SD</th>\n",
       "    </tr>\n",
       "  </thead>\n",
       "  <tbody>\n",
       "    <tr>\n",
       "      <th>0</th>\n",
       "      <td>A1</td>\n",
       "      <td>9.687562</td>\n",
       "      <td>6.465089</td>\n",
       "    </tr>\n",
       "    <tr>\n",
       "      <th>1</th>\n",
       "      <td>A2</td>\n",
       "      <td>37.566882</td>\n",
       "      <td>16.323091</td>\n",
       "    </tr>\n",
       "    <tr>\n",
       "      <th>2</th>\n",
       "      <td>A3</td>\n",
       "      <td>52.202478</td>\n",
       "      <td>28.153713</td>\n",
       "    </tr>\n",
       "  </tbody>\n",
       "</table>\n",
       "</div>"
      ],
      "text/plain": [
       "  Task   Distance         SD\n",
       "0   A1   9.687562   6.465089\n",
       "1   A2  37.566882  16.323091\n",
       "2   A3  52.202478  28.153713"
      ]
     },
     "execution_count": 12,
     "metadata": {},
     "output_type": "execute_result"
    }
   ],
   "source": [
    "compute_prediction_distances(\"Prediction1(Police).csv\",\"Police1\")"
   ]
  },
  {
   "cell_type": "code",
   "execution_count": 13,
   "metadata": {
    "collapsed": false
   },
   "outputs": [
    {
     "data": {
      "text/html": [
       "<div>\n",
       "<table border=\"1\" class=\"dataframe\">\n",
       "  <thead>\n",
       "    <tr style=\"text-align: right;\">\n",
       "      <th></th>\n",
       "      <th>Task</th>\n",
       "      <th>Distance</th>\n",
       "      <th>SD</th>\n",
       "    </tr>\n",
       "  </thead>\n",
       "  <tbody>\n",
       "    <tr>\n",
       "      <th>0</th>\n",
       "      <td>A1</td>\n",
       "      <td>10.138272</td>\n",
       "      <td>4.116052</td>\n",
       "    </tr>\n",
       "    <tr>\n",
       "      <th>1</th>\n",
       "      <td>A2</td>\n",
       "      <td>11.607803</td>\n",
       "      <td>4.966252</td>\n",
       "    </tr>\n",
       "    <tr>\n",
       "      <th>2</th>\n",
       "      <td>A3</td>\n",
       "      <td>30.708144</td>\n",
       "      <td>36.935642</td>\n",
       "    </tr>\n",
       "  </tbody>\n",
       "</table>\n",
       "</div>"
      ],
      "text/plain": [
       "  Task   Distance         SD\n",
       "0   A1  10.138272   4.116052\n",
       "1   A2  11.607803   4.966252\n",
       "2   A3  30.708144  36.935642"
      ]
     },
     "execution_count": 13,
     "metadata": {},
     "output_type": "execute_result"
    }
   ],
   "source": [
    "compute_prediction_distances(\"Prediction2(Police).csv\",\"Police2\")"
   ]
  },
  {
   "cell_type": "code",
   "execution_count": 14,
   "metadata": {
    "collapsed": false
   },
   "outputs": [
    {
     "data": {
      "text/html": [
       "<div>\n",
       "<table border=\"1\" class=\"dataframe\">\n",
       "  <thead>\n",
       "    <tr style=\"text-align: right;\">\n",
       "      <th></th>\n",
       "      <th>Task</th>\n",
       "      <th>Distance</th>\n",
       "      <th>SD</th>\n",
       "    </tr>\n",
       "  </thead>\n",
       "  <tbody>\n",
       "    <tr>\n",
       "      <th>0</th>\n",
       "      <td>B1</td>\n",
       "      <td>8.438141</td>\n",
       "      <td>8.628634</td>\n",
       "    </tr>\n",
       "    <tr>\n",
       "      <th>1</th>\n",
       "      <td>B2</td>\n",
       "      <td>14.905811</td>\n",
       "      <td>25.426286</td>\n",
       "    </tr>\n",
       "    <tr>\n",
       "      <th>2</th>\n",
       "      <td>B3</td>\n",
       "      <td>48.813938</td>\n",
       "      <td>5.960145</td>\n",
       "    </tr>\n",
       "  </tbody>\n",
       "</table>\n",
       "</div>"
      ],
      "text/plain": [
       "  Task   Distance         SD\n",
       "0   B1   8.438141   8.628634\n",
       "1   B2  14.905811  25.426286\n",
       "2   B3  48.813938   5.960145"
      ]
     },
     "execution_count": 14,
     "metadata": {},
     "output_type": "execute_result"
    }
   ],
   "source": [
    "compute_prediction_distances(\"Prediction1(Autism).csv\",\"Autism1\")"
   ]
  },
  {
   "cell_type": "code",
   "execution_count": 15,
   "metadata": {
    "collapsed": false
   },
   "outputs": [
    {
     "data": {
      "text/html": [
       "<div>\n",
       "<table border=\"1\" class=\"dataframe\">\n",
       "  <thead>\n",
       "    <tr style=\"text-align: right;\">\n",
       "      <th></th>\n",
       "      <th>Task</th>\n",
       "      <th>Distance</th>\n",
       "      <th>SD</th>\n",
       "    </tr>\n",
       "  </thead>\n",
       "  <tbody>\n",
       "    <tr>\n",
       "      <th>0</th>\n",
       "      <td>B1</td>\n",
       "      <td>26.280802</td>\n",
       "      <td>15.036068</td>\n",
       "    </tr>\n",
       "    <tr>\n",
       "      <th>1</th>\n",
       "      <td>B2</td>\n",
       "      <td>19.233304</td>\n",
       "      <td>14.057027</td>\n",
       "    </tr>\n",
       "    <tr>\n",
       "      <th>2</th>\n",
       "      <td>B3</td>\n",
       "      <td>16.499158</td>\n",
       "      <td>9.784341</td>\n",
       "    </tr>\n",
       "  </tbody>\n",
       "</table>\n",
       "</div>"
      ],
      "text/plain": [
       "  Task   Distance         SD\n",
       "0   B1  26.280802  15.036068\n",
       "1   B2  19.233304  14.057027\n",
       "2   B3  16.499158   9.784341"
      ]
     },
     "execution_count": 15,
     "metadata": {},
     "output_type": "execute_result"
    }
   ],
   "source": [
    "compute_prediction_distances(\"Prediction2(Autism).csv\",\"Autism2\")"
   ]
  },
  {
   "cell_type": "markdown",
   "metadata": {},
   "source": [
    "- cohen's kappa\n",
    "- P, R \n",
    "- significance testing "
   ]
  },
  {
   "cell_type": "code",
   "execution_count": 108,
   "metadata": {
    "collapsed": false
   },
   "outputs": [
    {
     "name": "stdout",
     "output_type": "stream",
     "text": [
      "The autoreload extension is already loaded. To reload it, use:\n",
      "  %reload_ext autoreload\n"
     ]
    }
   ],
   "source": [
    "%load_ext autoreload\n",
    "%autoreload 2\n",
    "from paper_visualization import *"
   ]
  },
  {
   "cell_type": "code",
   "execution_count": 352,
   "metadata": {
    "collapsed": false
   },
   "outputs": [
    {
     "data": {
      "image/png": "[encoded data removed]",
      "text/plain": [
       "<Figure size 400x400 with 1 Axes>"
      ]
     },
     "metadata": {},
     "output_type": "display_data"
    }
   ],
   "source": [
    "result = compute_prediction_distances(\"Prediction1(Autism).csv\",\"Autism1\")\n",
    "bar_chart(list(result[\"Distance\"].values),list(result[\"Task\"].values),title=\"Autism1\",yErrs=list(result[\"SD\"].values/2.), ytitle=\"Distance\",fixed_ylim=False)"
   ]
  },
  {
   "cell_type": "code",
   "execution_count": 353,
   "metadata": {
    "collapsed": false
   },
   "outputs": [
    {
     "data": {
      "image/png": "[encoded data removed]",
      "text/plain": [
       "<Figure size 400x400 with 1 Axes>"
      ]
     },
     "metadata": {},
     "output_type": "display_data"
    }
   ],
   "source": [
    "result = compute_prediction_distances(\"Prediction2(Autism).csv\",\"Autism2\")\n",
    "bar_chart(list(result[\"Distance\"].values),list(result[\"Task\"].values),yErrs=list(result[\"SD\"].values/2.),title=\"Autism2\", ytitle=\"Distance\",fixed_ylim=False)"
   ]
  },
  {
   "cell_type": "code",
   "execution_count": 355,
   "metadata": {
    "collapsed": false
   },
   "outputs": [
    {
     "data": {
      "image/png": "[encoded data removed]",
      "text/plain": [
       "<Figure size 400x400 with 1 Axes>"
      ]
     },
     "metadata": {},
     "output_type": "display_data"
    }
   ],
   "source": [
    "result = compute_prediction_distances(\"Prediction1(Police).csv\",\"Police1\")\n",
    "bar_chart(list(result[\"Distance\"].values),list(result[\"Task\"].values),yErrs=list(result[\"SD\"].values/2.),title=\"Police1\", ytitle=\"Distance\",fixed_ylim=False)"
   ]
  },
  {
   "cell_type": "code",
   "execution_count": 356,
   "metadata": {
    "collapsed": false
   },
   "outputs": [
    {
     "data": {
      "image/png": "[encoded data removed]",
      "text/plain": [
       "<Figure size 400x400 with 1 Axes>"
      ]
     },
     "metadata": {},
     "output_type": "display_data"
    }
   ],
   "source": [
    "result = compute_prediction_distances(\"Prediction2(Police).csv\",\"Police2\")\n",
    "bar_chart(list(result[\"Distance\"].values),list(result[\"Task\"].values),yErrs=list(result[\"SD\"].values/2.),title=\"Police2\", ytitle=\"Distance\",fixed_ylim=False)"
   ]
  },
  {
   "cell_type": "code",
   "execution_count": 248,
   "metadata": {
    "collapsed": false
   },
   "outputs": [],
   "source": [
    "def compute_prediction_aggregate_stats(title,filename,gt_task_key):\n",
    "    prediction = pd.read_csv(gdrive_path+filename)\n",
    "    if \"Police\" in filename: \n",
    "        attributes = [\"ticket\",\"warn\",\"arrest\"]\n",
    "        task_name = \"Task1\"\n",
    "    else: \n",
    "        attributes = [\"NO\",\"YES\"]\n",
    "        task_name = \"Task2\"\n",
    "    prediction = prediction.merge(user_task).drop(\"Note\",axis=1)\n",
    "    prediction_groupby=prediction.groupby(task_name)\n",
    "\n",
    "    result = prediction_groupby.mean().reset_index()\n",
    "    std_result = prediction_groupby.apply(lambda x: x.std()).reset_index()\n",
    "    return result,std_result"
   ]
  },
  {
   "cell_type": "code",
   "execution_count": 343,
   "metadata": {
    "collapsed": true
   },
   "outputs": [],
   "source": [
    "def plot_prediction_results(result,std_result,xtitle=\"\", ytitle=\"\", title=\"\", top_right_text=\"\", N=1, width=0.1,autolabel_flag =True,fixed_ylim=False):\n",
    "    task_name = \"\"\n",
    "    fig, ax = plt.subplots()\n",
    "    col = 0\n",
    "    x0_lst =[]\n",
    "    if \"Police\" in title: \n",
    "        attributes = [\"ticket\",\"warn\",\"arrest\"]\n",
    "        task_name = \"Task1\"\n",
    "    else: \n",
    "        print 'here'\n",
    "        attributes = [\"NO\",\"YES\"]\n",
    "        task_name = \"Task2\"\n",
    "    labels = result[task_name].values\n",
    "    for attr in attributes:\n",
    "        ind = np.arange(N)  # the x locations for the groups\n",
    "        x0= (col)*(ind + (2+0.5) * width + 0.1)\n",
    "        x0_lst.append(x0[0])\n",
    "        yVals = result[attr].values\n",
    "        xAttrs = attributes\n",
    "        yErrs = std_result[attr].values/2.\n",
    "\n",
    "        if len(yVals)==2:\n",
    "            colors = [\"#fc9272\",\"#9ecae1\"]\n",
    "            sns.set_palette(sns.color_palette(colors))\n",
    "        else:\n",
    "            colors = [\"#9ecae1\",\"#99e699\",\"#fc9272\"]\n",
    "            sns.set_palette(sns.color_palette(colors))\n",
    "\n",
    "        rects = []\n",
    "        error_kw=dict(lw=1, capsize=5, capthick=1)\n",
    "        for i in range(len(yVals)):\n",
    "            if col==0:\n",
    "                if yErrs==[]:\n",
    "                    rect = ax.bar(x0+ind + (i+0.5) * width, yVals[i], width,label=labels[i])\n",
    "                else:\n",
    "                    rect = ax.bar(x0+ind + (i+0.5) * width, yVals[i], width, ecolor=\"black\",yerr=yErrs[i],error_kw=error_kw,label=labels[i])\n",
    "            else:\n",
    "                if yErrs==[]:\n",
    "                    rect = ax.bar(x0+ind + (i+0.5) * width, yVals[i], width)\n",
    "                else:\n",
    "                    rect = ax.bar(x0+ind + (i+0.5) * width, yVals[i], width, ecolor=\"black\",yerr=yErrs[i],error_kw=error_kw)\n",
    "            rects.append(rect)\n",
    "\n",
    "        xtitle = xtitle.replace('\"', '')\n",
    "        ytitle = ytitle.replace('\"', '')\n",
    "\n",
    "        ax.set_xlabel(xtitle)\n",
    "        ax.set_ylabel(ytitle)\n",
    "        if title != \"\":\n",
    "            title = title.replace('\"','')\n",
    "            title = title.replace(\"#\", \",\\n\")\n",
    "            if title[0] == ',':\n",
    "                title = title[2:-2]\n",
    "            if title.count(',') < 3:\n",
    "                ax.set_title(title)\n",
    "            else:\n",
    "                ax.set_title(title)\n",
    "        xmin = -0.05\n",
    "        xmax = 0.25 + 0.1 * (len(yVals) - 2)\n",
    "        xtickpos = [np.abs(xmin - xmax) / (len(yVals) + 1.5) * (i + 0.7) for i in range(len(yVals))]\n",
    "        if \"Police\" in title: \n",
    "            xtickpos=[0.15,0.51,0.83]\n",
    "        else: \n",
    "            xtickpos=[0.14,0.48]\n",
    "        ax.set_xticks(xtickpos)\n",
    "        ax.set_xticklabels(xAttrs)\n",
    "\n",
    "        if fixed_ylim: ax.set_ylim((0, 100))\n",
    "        size = 0\n",
    "        for rect in rects:\n",
    "            size += 1\n",
    "        sns.despine(top=True, right=True)\n",
    "        col+=1\n",
    "    for col_i in range(len(attributes)):\n",
    "        if \"Police\" in title: \n",
    "            if col_i==0:\n",
    "                ax.axhline(prediction_ground_truth[gt_task_key][col_i],xtickpos[col_i]-1*width,xtickpos[col_i]+1.5*width, linestyle=\":\",linewidth=2, color='r',label=\"ground truth\")\n",
    "            else:\n",
    "                ax.axhline(prediction_ground_truth[gt_task_key][col_i],xtickpos[col_i]-1.5*width,xtickpos[col_i]+1.25*width, linestyle=\":\",linewidth=2, color='r')\n",
    "        else:\n",
    "            if col_i==0:\n",
    "                ax.axhline(prediction_ground_truth[gt_task_key][col_i],xtickpos[col_i]-0.8*width,xtickpos[col_i]+3.3*width, linestyle=\":\",linewidth=2, color='r',label=\"ground truth\")\n",
    "            else:\n",
    "                ax.axhline(prediction_ground_truth[gt_task_key][col_i],xtickpos[col_i]+0.5*width,xtickpos[col_i]+4.8*width, linestyle=\":\",linewidth=2, color='r')\n",
    "\n",
    "    plt.tight_layout()\n",
    "    plt.ylabel(\"% of police stop\")\n",
    "    lgd = plt.legend(numpoints=1, loc=\"center right\", bbox_to_anchor=(1.8, 0.5))\n",
    "    #plt.savefig(\"PR_obj{0}_{1}.pdf\".format(objid,postprocess), bbox_extra_artists=(lgd,),bbox_inches='tight')\n",
    "    plt.show()"
   ]
  },
  {
   "cell_type": "code",
   "execution_count": 301,
   "metadata": {
    "collapsed": false
   },
   "outputs": [
    {
     "data": {
      "image/png": "[encoded data removed]",
      "text/plain": [
       "<Figure size 400x400 with 1 Axes>"
      ]
     },
     "metadata": {},
     "output_type": "display_data"
    },
    {
     "data": {
      "image/png": "[encoded data removed]",
      "text/plain": [
       "<Figure size 400x400 with 1 Axes>"
      ]
     },
     "metadata": {},
     "output_type": "display_data"
    }
   ],
   "source": [
    "title=\"Prediction 1 (Police)\"\n",
    "filename = \"Prediction1(Police).csv\"\n",
    "gt_task_key=\"Police1\"\n",
    "task_name = 'Task1'\n",
    "result,std_result = compute_prediction_aggregate_stats(title,filename,gt_task_key)\n",
    "#Surprisingness Plot\n",
    "bar_chart(list(result[\"Surprisingness\"].values),list(result[task_name].values),list(std_result[\"Surprisingness\"].values/2.),title=title, ytitle=\"Surprisingness\",fixed_ylim=False)\n",
    "plot_prediction_results(result,std_result,task_name,title=title)"
   ]
  },
  {
   "cell_type": "code",
   "execution_count": 302,
   "metadata": {
    "collapsed": false
   },
   "outputs": [
    {
     "data": {
      "image/png": "[encoded data removed]",
      "text/plain": [
       "<Figure size 400x400 with 1 Axes>"
      ]
     },
     "metadata": {},
     "output_type": "display_data"
    },
    {
     "data": {
      "image/png": "[encoded data removed]",
      "text/plain": [
       "<Figure size 400x400 with 1 Axes>"
      ]
     },
     "metadata": {},
     "output_type": "display_data"
    }
   ],
   "source": [
    "title=\"Prediction 2 (Police)\"\n",
    "filename = \"Prediction2(Police).csv\"\n",
    "gt_task_key=\"Police2\"\n",
    "task_name = \"Task1\"\n",
    "result,std_result = compute_prediction_aggregate_stats(title,filename,gt_task_key)\n",
    "#Surprisingness Plot\n",
    "bar_chart(list(result[\"Surprisingness\"].values),list(result[task_name].values),list(std_result[\"Surprisingness\"].values/2.),title=title, ytitle=\"Surprisingness\",fixed_ylim=False)\n",
    "plot_prediction_results(result,std_result,title=title)"
   ]
  },
  {
   "cell_type": "code",
   "execution_count": 345,
   "metadata": {
    "collapsed": false
   },
   "outputs": [
    {
     "data": {
      "image/png": "[encoded data removed]",
      "text/plain": [
       "<Figure size 400x400 with 1 Axes>"
      ]
     },
     "metadata": {},
     "output_type": "display_data"
    },
    {
     "name": "stdout",
     "output_type": "stream",
     "text": [
      "here\n"
     ]
    },
    {
     "data": {
      "image/png": "[encoded data removed]",
      "text/plain": [
       "<Figure size 400x400 with 1 Axes>"
      ]
     },
     "metadata": {},
     "output_type": "display_data"
    }
   ],
   "source": [
    "title=\"Prediction 1 (Autism)\"\n",
    "filename = \"Prediction1(Autism).csv\"\n",
    "gt_task_key=\"Autism1\"\n",
    "task_name = \"Task2\"\n",
    "result,std_result = compute_prediction_aggregate_stats(title,filename,gt_task_key)\n",
    "#Surprisingness Plot\n",
    "bar_chart(list(result[\"Surprisingness\"].values),list(result[task_name].values),list(std_result[\"Surprisingness\"].values/2.),title=title, ytitle=\"Surprisingness\",fixed_ylim=False)\n",
    "plot_prediction_results(result,std_result,title=title)"
   ]
  },
  {
   "cell_type": "code",
   "execution_count": 344,
   "metadata": {
    "collapsed": false
   },
   "outputs": [
    {
     "data": {
      "image/png": "[encoded data removed]",
      "text/plain": [
       "<Figure size 400x400 with 1 Axes>"
      ]
     },
     "metadata": {},
     "output_type": "display_data"
    },
    {
     "name": "stdout",
     "output_type": "stream",
     "text": [
      "here\n"
     ]
    },
    {
     "data": {
      "image/png": "[encoded data removed]",
      "text/plain": [
       "<Figure size 400x400 with 1 Axes>"
      ]
     },
     "metadata": {},
     "output_type": "display_data"
    }
   ],
   "source": [
    "title=\"Prediction 2 (Autism)\"\n",
    "filename = \"Prediction2(Autism).csv\"\n",
    "gt_task_key=\"Autism2\"\n",
    "task_name = \"Task2\"\n",
    "result,std_result = compute_prediction_aggregate_stats(title,filename,gt_task_key)\n",
    "#Surprisingness Plot\n",
    "bar_chart(list(result[\"Surprisingness\"].values),list(result[task_name].values),list(std_result[\"Surprisingness\"].values/2.),title=title, ytitle=\"Surprisingness\",fixed_ylim=False)\n",
    "plot_prediction_results(result,std_result,title=title)"
   ]
  }
 ],
 "metadata": {
  "kernelspec": {
   "display_name": "Python 2",
   "language": "python",
   "name": "python2"
  },
  "language_info": {
   "codemirror_mode": {
    "name": "ipython",
    "version": 2
   },
   "file_extension": ".py",
   "mimetype": "text/x-python",
   "name": "python",
   "nbconvert_exporter": "python",
   "pygments_lexer": "ipython2",
   "version": "2.7.10"
  }
 },
 "nbformat": 4,
 "nbformat_minor": 0
}
