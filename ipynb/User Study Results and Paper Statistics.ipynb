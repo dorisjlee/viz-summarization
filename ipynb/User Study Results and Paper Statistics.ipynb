{
 "cells": [
  {
   "cell_type": "code",
   "execution_count": 1,
   "metadata": {
    "collapsed": false
   },
   "outputs": [
    {
     "name": "stdout",
     "output_type": "stream",
     "text": [
      "Populating the interactive namespace from numpy and matplotlib\n"
     ]
    }
   ],
   "source": [
    "%pylab inline"
   ]
  },
  {
   "cell_type": "code",
   "execution_count": 2,
   "metadata": {
    "collapsed": true
   },
   "outputs": [],
   "source": [
    "import pandas as pd"
   ]
  },
  {
   "cell_type": "code",
   "execution_count": 3,
   "metadata": {
    "collapsed": false
   },
   "outputs": [],
   "source": [
    "# csv files for answer responses\n",
    "gdrive_path = \"/Users/dorislee/Google Drive/Turn/user_study/evaluation_study/transcription_and_analysis/\""
   ]
  },
  {
   "cell_type": "code",
   "execution_count": 4,
   "metadata": {
    "collapsed": false
   },
   "outputs": [],
   "source": [
    "user_task =  pd.read_csv(gdrive_path+\"UserTaskAssignment.csv\")"
   ]
  },
  {
   "cell_type": "code",
   "execution_count": 5,
   "metadata": {
    "collapsed": false
   },
   "outputs": [],
   "source": [
    "%load_ext autoreload\n",
    "%autoreload 2\n",
    "from paper_visualization import *"
   ]
  },
  {
   "cell_type": "markdown",
   "metadata": {},
   "source": [
    "# Participant Demographics "
   ]
  },
  {
   "cell_type": "code",
   "execution_count": 6,
   "metadata": {
    "collapsed": false
   },
   "outputs": [],
   "source": [
    "info = pd.read_csv(gdrive_path+\"participant_information.csv\")"
   ]
  },
  {
   "cell_type": "code",
   "execution_count": 7,
   "metadata": {
    "collapsed": true
   },
   "outputs": [],
   "source": [
    "data = ['Excel', 'Tableau', 'programming', 'SQL']"
   ]
  },
  {
   "cell_type": "code",
   "execution_count": 8,
   "metadata": {
    "collapsed": false
   },
   "outputs": [],
   "source": [
    "counts = []\n",
    "for x in data:\n",
    "    counts.append(len(info[info[\"DataAnalysisTool\"].str.contains(x)]))"
   ]
  },
  {
   "cell_type": "code",
   "execution_count": 9,
   "metadata": {
    "collapsed": false
   },
   "outputs": [
    {
     "data": {
      "image/png": "[encoded data removed]",
      "text/plain": [
       "<Figure size 288x288 with 1 Axes>"
      ]
     },
     "metadata": {},
     "output_type": "display_data"
    }
   ],
   "source": [
    "bar_chart(counts,data,fixed_ylim=False,rotation=90)"
   ]
  },
  {
   "cell_type": "code",
   "execution_count": 10,
   "metadata": {
    "collapsed": false
   },
   "outputs": [
    {
     "data": {
      "image/png": "[encoded data removed]",
      "text/plain": [
       "<Figure size 288x288 with 1 Axes>"
      ]
     },
     "metadata": {},
     "output_type": "display_data"
    }
   ],
   "source": [
    "data = info[\"YearsExperience\"]\n",
    "ax = plt.hist(data,bins=10)\n",
    "a = plt.xticks(np.arange(1,data.max(),2))"
   ]
  },
  {
   "cell_type": "code",
   "execution_count": 11,
   "metadata": {
    "collapsed": false
   },
   "outputs": [
    {
     "data": {
      "text/plain": [
       "count    18.000000\n",
       "mean      5.611111\n",
       "std       3.775134\n",
       "min       1.000000\n",
       "25%       3.000000\n",
       "50%       4.500000\n",
       "75%       6.000000\n",
       "max      14.000000\n",
       "Name: YearsExperience, dtype: float64"
      ]
     },
     "execution_count": 11,
     "metadata": {},
     "output_type": "execute_result"
    }
   ],
   "source": [
    "data.describe()"
   ]
  },
  {
   "cell_type": "code",
   "execution_count": 12,
   "metadata": {
    "collapsed": false
   },
   "outputs": [
    {
     "data": {
      "image/png": "[encoded data removed]",
      "text/plain": [
       "<Figure size 288x288 with 1 Axes>"
      ]
     },
     "metadata": {},
     "output_type": "display_data"
    }
   ],
   "source": [
    "bar_chart(list(info.groupby(\"Position\").count().reset_index()[\"Gender\"]),list(info.groupby(\"Position\").count().reset_index()[\"Position\"]),fixed_ylim=False,rotation=90)"
   ]
  },
  {
   "cell_type": "code",
   "execution_count": 13,
   "metadata": {
    "collapsed": false
   },
   "outputs": [
    {
     "data": {
      "image/png": "[encoded data removed]",
      "text/plain": [
       "<Figure size 288x288 with 1 Axes>"
      ]
     },
     "metadata": {},
     "output_type": "display_data"
    }
   ],
   "source": [
    "bar_chart(list(info.groupby(\"Gender\").count().reset_index()[\"Position\"]),list(info.groupby(\"Gender\").count().reset_index()[\"Gender\"]),fixed_ylim=False)"
   ]
  },
  {
   "cell_type": "markdown",
   "metadata": {},
   "source": [
    "# Interested Retrieval"
   ]
  },
  {
   "cell_type": "markdown",
   "metadata": {},
   "source": [
    "user_click_data.csv generated by running Parsing User Study Clickstream.ipynb"
   ]
  },
  {
   "cell_type": "code",
   "execution_count": 14,
   "metadata": {
    "collapsed": true
   },
   "outputs": [],
   "source": [
    "retreival = pd.read_csv(gdrive_path+\"user_click_data.csv\")"
   ]
  },
  {
   "cell_type": "code",
   "execution_count": 15,
   "metadata": {
    "collapsed": true
   },
   "outputs": [],
   "source": [
    "from tabulate import tabulate"
   ]
  },
  {
   "cell_type": "code",
   "execution_count": 16,
   "metadata": {
    "collapsed": true
   },
   "outputs": [],
   "source": [
    "import tabulate as T\n",
    "del(T.LATEX_ESCAPE_RULES[u'\\\\'])"
   ]
  },
  {
   "cell_type": "markdown",
   "metadata": {},
   "source": [
    "Equal weighting for interested + uninterested, 0 for no selection"
   ]
  },
  {
   "cell_type": "code",
   "execution_count": 17,
   "metadata": {
    "collapsed": true
   },
   "outputs": [],
   "source": [
    "def getDataset(x):\n",
    "    if 'A' in x:\n",
    "        return \"Police\"\n",
    "    else:\n",
    "        return \"Autism\""
   ]
  },
  {
   "cell_type": "code",
   "execution_count": 18,
   "metadata": {
    "collapsed": false
   },
   "outputs": [],
   "source": [
    "retreival[\"dataset\"]=retreival[\"task\"].apply(getDataset)"
   ]
  },
  {
   "cell_type": "code",
   "execution_count": 19,
   "metadata": {
    "collapsed": false
   },
   "outputs": [],
   "source": [
    "retreival.loc[retreival[\"interested\"]==\"unselected\",\"retreival score\"]=0\n",
    "retreival.loc[retreival[\"interested\"]==\"interested\",\"retreival score\"]=1\n",
    "retreival.loc[retreival[\"interested\"]==\"not interested\",\"retreival score\"]=-1\n",
    "# retreival score, the higher the better, kind of like a relevance score\n",
    "relevance = retreival.groupby([\"dataset\",\"visualization\"]).sum()[\"retreival score\"].reset_index().rename(columns={\"retreival score\":\"relevance score\"})\n",
    "retreival = retreival.merge(relevance)\n",
    "retreival[\"result_score\"]=retreival[\"retreival score\"]*retreival[\"relevance score\"]"
   ]
  },
  {
   "cell_type": "code",
   "execution_count": 20,
   "metadata": {},
   "outputs": [
    {
     "data": {
      "text/plain": [
       "<matplotlib.axes._subplots.AxesSubplot at 0x116cf7b00>"
      ]
     },
     "execution_count": 20,
     "metadata": {},
     "output_type": "execute_result"
    },
    {
     "data": {
      "image/png": "[encoded data removed]",
      "text/plain": [
       "<Figure size 288x288 with 1 Axes>"
      ]
     },
     "metadata": {},
     "output_type": "display_data"
    }
   ],
   "source": [
    "retreival.boxplot(\"result_score\",by=\"task\")"
   ]
  },
  {
   "cell_type": "code",
   "execution_count": 21,
   "metadata": {},
   "outputs": [],
   "source": [
    "# import statsmodels.api as sm\n",
    "# from statsmodels.formula.api import ols\n",
    " \n",
    "# mod = ols('result_score ~ task',\n",
    "#                 data=retreival).fit()\n",
    "                \n",
    "# aov_table = sm.stats.anova_lm(mod, typ=2)\n",
    "# print (aov_table)\n",
    "\n",
    "# esq_sm = aov_table['sum_sq'][0]/(aov_table['sum_sq'][0]+aov_table['sum_sq'][1])\n",
    "\n",
    "# print (\"Effect size:\",esq_sm)"
   ]
  },
  {
   "cell_type": "code",
   "execution_count": 23,
   "metadata": {},
   "outputs": [],
   "source": [
    "retreival[\"algo\"] = retreival['task'].apply(lambda x: int(x[1]))"
   ]
  },
  {
   "cell_type": "code",
   "execution_count": 66,
   "metadata": {},
   "outputs": [],
   "source": [
    "sbd_ratings = retreival[retreival[\"algo\"]==1][\"result_score\"]\n",
    "clust_ratings = retreival[retreival[\"algo\"]==2][\"result_score\"]\n",
    "bfs_ratings = retreival[retreival[\"algo\"]==3][\"result_score\"]"
   ]
  },
  {
   "cell_type": "code",
   "execution_count": 67,
   "metadata": {},
   "outputs": [
    {
     "name": "stdout",
     "output_type": "stream",
     "text": [
      "2.2916666666666665\n",
      "1.9333333333333333\n",
      "1.775\n"
     ]
    }
   ],
   "source": [
    "print (sbd_ratings.mean())\n",
    "print (clust_ratings.mean())\n",
    "print (bfs_ratings.mean())"
   ]
  },
  {
   "cell_type": "code",
   "execution_count": 68,
   "metadata": {},
   "outputs": [],
   "source": [
    "import scipy"
   ]
  },
  {
   "cell_type": "code",
   "execution_count": 69,
   "metadata": {},
   "outputs": [
    {
     "name": "stdout",
     "output_type": "stream",
     "text": [
      "Ttest_indResult(statistic=0.8543172302781582, pvalue=0.39378833638892907)\n",
      "MannwhitneyuResult(statistic=6671.0, pvalue=0.15315317963021152)\n"
     ]
    }
   ],
   "source": [
    "print (scipy.stats.ttest_ind(sbd_ratings,clust_ratings))#,equal_var=True)\n",
    "print (scipy.stats.mannwhitneyu(sbd_ratings,clust_ratings))"
   ]
  },
  {
   "cell_type": "code",
   "execution_count": 70,
   "metadata": {},
   "outputs": [
    {
     "name": "stdout",
     "output_type": "stream",
     "text": [
      "Ttest_indResult(statistic=1.2603598599281318, pvalue=0.20877387160312855)\n",
      "MannwhitneyuResult(statistic=6579.0, pvalue=0.11356649886413389)\n"
     ]
    }
   ],
   "source": [
    "print (scipy.stats.ttest_ind(sbd_ratings,bfs_ratings))#,equal_var=True)\n",
    "print (scipy.stats.mannwhitneyu(sbd_ratings,bfs_ratings))"
   ]
  },
  {
   "cell_type": "code",
   "execution_count": 71,
   "metadata": {},
   "outputs": [
    {
     "name": "stdout",
     "output_type": "stream",
     "text": [
      "1.0333333333333334\n",
      "0.8666666666666667\n",
      "1.65\n"
     ]
    }
   ],
   "source": [
    "sbd_ratings = retreival[retreival[\"task\"]==\"A1\"][\"result_score\"]\n",
    "clust_ratings = retreival[retreival[\"task\"]==\"A2\"][\"result_score\"]\n",
    "bfs_ratings = retreival[retreival[\"task\"]==\"A3\"][\"result_score\"]\n",
    "\n",
    "print (sbd_ratings.mean())\n",
    "print (clust_ratings.mean())\n",
    "print (bfs_ratings.mean())"
   ]
  },
  {
   "cell_type": "code",
   "execution_count": 72,
   "metadata": {},
   "outputs": [
    {
     "name": "stdout",
     "output_type": "stream",
     "text": [
      "Ttest_indResult(statistic=0.38171690312609213, pvalue=0.7033578773435586)\n",
      "MannwhitneyuResult(statistic=1746.0, pvalue=0.3800442172842934)\n"
     ]
    }
   ],
   "source": [
    "print (scipy.stats.ttest_ind(sbd_ratings,clust_ratings))#,equal_var=True)\n",
    "print (scipy.stats.mannwhitneyu(sbd_ratings,clust_ratings))"
   ]
  },
  {
   "cell_type": "code",
   "execution_count": 73,
   "metadata": {},
   "outputs": [
    {
     "name": "stdout",
     "output_type": "stream",
     "text": [
      "Ttest_indResult(statistic=-1.3891657165816, pvalue=0.16739837193047458)\n",
      "MannwhitneyuResult(statistic=1552.0, pvalue=0.07497075696867785)\n"
     ]
    }
   ],
   "source": [
    "print (scipy.stats.ttest_ind(sbd_ratings,bfs_ratings))#,equal_var=True)\n",
    "print (scipy.stats.mannwhitneyu(sbd_ratings,bfs_ratings))"
   ]
  },
  {
   "cell_type": "code",
   "execution_count": 76,
   "metadata": {},
   "outputs": [
    {
     "name": "stdout",
     "output_type": "stream",
     "text": [
      "3.55\n",
      "3.0\n",
      "1.9\n"
     ]
    }
   ],
   "source": [
    "sbd_ratings = retreival[retreival[\"task\"]==\"B1\"][\"result_score\"]\n",
    "clust_ratings = retreival[retreival[\"task\"]==\"B2\"][\"result_score\"]\n",
    "bfs_ratings = retreival[retreival[\"task\"]==\"B3\"][\"result_score\"]\n",
    "\n",
    "print (sbd_ratings.mean())\n",
    "print (clust_ratings.mean())\n",
    "print (bfs_ratings.mean())"
   ]
  },
  {
   "cell_type": "code",
   "execution_count": 77,
   "metadata": {},
   "outputs": [
    {
     "name": "stdout",
     "output_type": "stream",
     "text": [
      "Ttest_indResult(statistic=0.8418866949507254, pvalue=0.4015543916431473)\n",
      "MannwhitneyuResult(statistic=1548.5, pvalue=0.0898703244930128)\n"
     ]
    }
   ],
   "source": [
    "print (scipy.stats.ttest_ind(sbd_ratings,clust_ratings))#,equal_var=True)\n",
    "print (scipy.stats.mannwhitneyu(sbd_ratings,clust_ratings))"
   ]
  },
  {
   "cell_type": "code",
   "execution_count": 78,
   "metadata": {},
   "outputs": [
    {
     "name": "stdout",
     "output_type": "stream",
     "text": [
      "Ttest_indResult(statistic=2.5261617387405035, pvalue=0.012856476707637126)\n",
      "MannwhitneyuResult(statistic=1294.5, pvalue=0.00349951471014413)\n"
     ]
    }
   ],
   "source": [
    "print (scipy.stats.ttest_ind(sbd_ratings,bfs_ratings))#,equal_var=True)\n",
    "print (scipy.stats.mannwhitneyu(sbd_ratings,bfs_ratings))"
   ]
  },
  {
   "cell_type": "code",
   "execution_count": 25,
   "metadata": {
    "collapsed": false
   },
   "outputs": [],
   "source": [
    "avrg_result = retreival.groupby([\"dataset\",\"task\"]).mean()[\"result_score\"]"
   ]
  },
  {
   "cell_type": "code",
   "execution_count": 26,
   "metadata": {
    "collapsed": false
   },
   "outputs": [],
   "source": [
    "avrg_score_result = [[\"Police\"]+list(avrg_result[\"Police\"]),[\"Autism\"]+list(avrg_result[\"Autism\"])]"
   ]
  },
  {
   "cell_type": "code",
   "execution_count": 28,
   "metadata": {},
   "outputs": [
    {
     "name": "stdout",
     "output_type": "stream",
     "text": [
      "\\begin{tabular}{lrrr}\n",
      "\\hline\n",
      " Dataset   &   \\system &   Cluster &   BFS \\\\\n",
      "\\hline\n",
      " Police    &      1.03 &      0.87 &  1.65 \\\\\n",
      " Autism    &      3.55 &      3.00 &  1.90 \\\\\n",
      "\\hline\n",
      "\\end{tabular}\n"
     ]
    }
   ],
   "source": [
    "print (T.tabulate(avrg_score_result,headers=['Dataset','\\system','Cluster','BFS'],tablefmt='latex',floatfmt=\".2f\"))"
   ]
  },
  {
   "cell_type": "markdown",
   "metadata": {},
   "source": [
    "#### P@k, R@k: say that we only care about top-k retreival"
   ]
  },
  {
   "cell_type": "code",
   "execution_count": 24,
   "metadata": {
    "collapsed": false
   },
   "outputs": [],
   "source": [
    "def compute_average_PR_at_k_over_all_data(k):\n",
    "    retreival[\"dataset\"]=retreival[\"task\"].apply(lambda x:x[0])#.groupby[\"ideal retreival score\"]\n",
    "    dedup_retreival=retreival[[\"dataset\",\"visualization\",\"ideal retreival score\"]].drop_duplicates()\n",
    "    \n",
    "    # get top-k for dataset A and dataset B\n",
    "    dedup_retreivalA=dedup_retreival[dedup_retreival[\"dataset\"]=='A']\n",
    "    topk_A = dedup_retreivalA.loc[dedup_retreivalA[\"ideal retreival score\"].nlargest(k,\"ideal retreival score\").index]\n",
    "    dedup_retreivalB=dedup_retreival[dedup_retreival[\"dataset\"]=='B']\n",
    "    topk_B = dedup_retreivalB.loc[dedup_retreivalB[\"ideal retreival score\"].nlargest(k,\"ideal retreival score\").index]\n",
    "    topk_A_lst =list(topk_A[\"visualization\"])\n",
    "    topk_B_lst =list(topk_B[\"visualization\"])\n",
    "    def compute_PR_at_k(user_id):\n",
    "        selected_user = retreival[retreival[\"user\"]==user_id]\n",
    "        relevant = (selected_user[\"visualization\"].isin(topk_A_lst)|selected_user[\"visualization\"].isin(topk_B_lst))\n",
    "        retreived = (selected_user[\"interested\"]==\"interested\")\n",
    "        Nrelevant_and_retreived = float(len(selected_user[(relevant)&(retreived)]))\n",
    "        Nrelevant = len(selected_user[relevant])\n",
    "        Nretreived = len(selected_user[retreived])\n",
    "        if Nrelevant !=0 and Nretreived!=0:\n",
    "            precision  = Nrelevant_and_retreived/Nrelevant\n",
    "            recall = Nrelevant_and_retreived/Nretreived\n",
    "            return precision,recall\n",
    "        else:\n",
    "            return 0,0\n",
    "    # compute PR\n",
    "    retreival[\"P@\"+str(k)],retreival[\"R@\"+str(k)] = zip(*retreival[\"user\"].apply(compute_PR_at_k))\n",
    "    return retreival.groupby(\"task\",as_index=False)[[\"P@\"+str(k),\"R@\"+str(k)]].mean()"
   ]
  },
  {
   "cell_type": "code",
   "execution_count": 25,
   "metadata": {
    "collapsed": false
   },
   "outputs": [],
   "source": [
    "# compute_average_PR_at_k_over_all_data(5)"
   ]
  },
  {
   "cell_type": "markdown",
   "metadata": {},
   "source": [
    "# Ranking"
   ]
  },
  {
   "cell_type": "code",
   "execution_count": 26,
   "metadata": {
    "collapsed": false
   },
   "outputs": [],
   "source": [
    "def dcg(r, k, method=0):\n",
    "    # alternative formulation of DCG places stronger emphasis on retrieving relevant documents\n",
    "    r = np.asfarray(r)[:k]\n",
    "    val = 0\n",
    "    for i in range(1,len(r)):\n",
    "        val+= (2**r[i]-1) / np.log2(i+1)\n",
    "    return val\n",
    "\n",
    "def ndcg(dcg_ground_truth,r, k):\n",
    "    return dcg(r, k) / sum(dcg_ground_truth)"
   ]
  },
  {
   "cell_type": "code",
   "execution_count": 27,
   "metadata": {
    "collapsed": true
   },
   "outputs": [],
   "source": [
    "def compute_ndcg_rankings(user_ranking_filename,gt_ranking_filename):#,k_lst = [1,2,3,5,7]):\n",
    "\n",
    "    user_rank = pd.read_csv(gdrive_path+user_ranking_filename)\n",
    "    ground_truth_rank = pd.read_csv(gt_ranking_filename,index_col=0)\n",
    "    k = len(ground_truth_rank[\"attribute\"])\n",
    "    ground_truth_cramerV_rank = list(ground_truth_rank[\"cramerV\"].rank(ascending=False)) \n",
    "    #print ground_truth_cramerV_rank\n",
    "    if \"Police\" in user_ranking_filename: \n",
    "        task_name = \"Task1\"\n",
    "    else: \n",
    "        task_name = \"Task2\"\n",
    "    #highest cramer's V corresponds to most correlated, corresponds to rank 1\n",
    "    user_rank = user_rank.merge(user_task).drop(\"Note\",axis=1)\n",
    "    user_rankings=[]\n",
    "    #Putting user rankings into appropriate data structures\n",
    "    for row in user_rank.iterrows():\n",
    "        ranking = []\n",
    "        for attr in ground_truth_rank.attribute:\n",
    "            ranking.append(row[1][attr])\n",
    "        task = row[1][task_name]\n",
    "        user_rankings.append([task,ranking])\n",
    "    #Computing ndcg ranking\n",
    "    ndcg_data = []\n",
    "    for trial in user_rankings:\n",
    "        ndcg_d = []\n",
    "        #print trial\n",
    "        ndcg_d.append(trial[0])\n",
    "        #for k in k_lst:\n",
    "        ndcg_d.append(ndcg(ground_truth_cramerV_rank,trial[1],k))\n",
    "#             print trial[1]\n",
    "        ndcg_data.append(ndcg_d)\n",
    "#    print ndcg_data\n",
    "    NDCG_lst = [\"NDCG@\"+str(k)]\n",
    "    ndcg_result = pd.DataFrame(ndcg_data,columns=[\"Task\"]+NDCG_lst)\n",
    "    return ndcg_result.groupby(\"Task\",as_index=False).mean()"
   ]
  },
  {
   "cell_type": "code",
   "execution_count": 28,
   "metadata": {
    "collapsed": true
   },
   "outputs": [],
   "source": [
    "ground_truth_rank = pd.read_csv(\"ct_police_ground_truth_correlation.csv\")"
   ]
  },
  {
   "cell_type": "code",
   "execution_count": 29,
   "metadata": {
    "collapsed": false
   },
   "outputs": [],
   "source": [
    "ndcg_result=[[\"Police\"]+list(compute_ndcg_rankings(\"Ranking(Police).csv\",\"ct_police_ground_truth_correlation.csv\")[\"NDCG@7\"]),\n",
    "[\"Autism\"]+list(compute_ndcg_rankings(\"Ranking(Autism).csv\",\"autism_ground_truth_correlation.csv\")[\"NDCG@10\"])]"
   ]
  },
  {
   "cell_type": "code",
   "execution_count": 31,
   "metadata": {
    "collapsed": false
   },
   "outputs": [
    {
     "name": "stdout",
     "output_type": "stream",
     "text": [
      "\\begin{tabular}{lrrr}\n",
      "\\hline\n",
      " Dataset   &   \\system &   Cluster &   BFS \\\\\n",
      "\\hline\n",
      " Police    &      0.63 &      0.45 &  0.84 \\\\\n",
      " Autism    &      0.50 &      0.35 &  0.24 \\\\\n",
      "\\hline\n",
      "\\end{tabular}\n"
     ]
    }
   ],
   "source": [
    "print (T.tabulate(ndcg_result,headers=['Dataset','\\system','Cluster','BFS'],tablefmt='latex', floatfmt=\".2f\"))"
   ]
  },
  {
   "cell_type": "markdown",
   "metadata": {},
   "source": [
    "- NDCG@1 is 0 because if the first-ranked attribute is not retreived, then score would be 0.\n",
    "- This makes sense, our algo does better than kmeans (2) and level-wise BFS (3), except for NDCG@3 A2 for some reason did very well.\n",
    "- NDCG should be @10 because all users read through and ranked all 10 dashboards."
   ]
  },
  {
   "cell_type": "markdown",
   "metadata": {},
   "source": [
    "# Prediction"
   ]
  },
  {
   "cell_type": "code",
   "execution_count": 32,
   "metadata": {
    "collapsed": true
   },
   "outputs": [],
   "source": [
    "prediction_ground_truth = {\n",
    "    'Police1': [55.1,4.2,40.7], #ticket,warn,arrest\n",
    "    'Police2': [53.43,12.02,34.55], #ticket,warn,arrest\n",
    "    'Autism1': [17.3,82.7], #NO,YES   \n",
    "    'Autism2': [41,59] #NO,YES   \n",
    "}"
   ]
  },
  {
   "cell_type": "code",
   "execution_count": 33,
   "metadata": {
    "collapsed": false
   },
   "outputs": [],
   "source": [
    "def euclidean_dist(x,y):\n",
    "    x = np.array(x)\n",
    "    y = np.array(y)\n",
    "    return np.sqrt(np.sum(((x-y)**2)))"
   ]
  },
  {
   "cell_type": "code",
   "execution_count": 34,
   "metadata": {
    "collapsed": true
   },
   "outputs": [],
   "source": [
    "def compute_prediction_distances(filename,gt_task_key,aggregate=True):\n",
    "    prediction = pd.read_csv(gdrive_path+filename)\n",
    "    if \"Police\" in filename: \n",
    "        attributes = [\"ticket\",\"warn\",\"arrest\"]\n",
    "        task_name = \"Task1\"\n",
    "    else: \n",
    "        attributes = [\"NO\",\"YES\"]\n",
    "        task_name = \"Task2\"\n",
    "    prediction = prediction.merge(user_task).drop(\"Note\",axis=1)\n",
    "    \n",
    "    #Computing Euclidean Distance\n",
    "    dist_data = []\n",
    "    for row in prediction.iterrows():\n",
    "        user_prediction  = row[1][attributes].values\n",
    "        gt_prediction = prediction_ground_truth[gt_task_key]\n",
    "        dist_data.append([row[1][task_name],euclidean_dist(user_prediction,gt_prediction)])\n",
    "    dist_result = pd.DataFrame(dist_data,columns=[\"Task\",\"Distance\"])\n",
    "    dist_result.groupby(\"Task\",as_index=False)\n",
    "    if aggregate:\n",
    "        #mean and standard deviation\n",
    "        distance_aggregate_result = dist_result.groupby(\"Task\",as_index=False)[\"Distance\"].mean()\n",
    "        distance_aggregate_result[\"SD\"] = dist_result.groupby(\"Task\",as_index=False)[\"Distance\"].apply(lambda x: x.std())\n",
    "        return distance_aggregate_result\n",
    "    else: \n",
    "        return dist_result"
   ]
  },
  {
   "cell_type": "code",
   "execution_count": 35,
   "metadata": {
    "collapsed": false
   },
   "outputs": [],
   "source": [
    "task_filename = {\"Police1\":\"Prediction1(Police).csv\",\n",
    " \"Police2\":\"Prediction2(Police).csv\",\n",
    " \"Autism1\":\"Prediction1(Autism).csv\",\n",
    " \"Autism2\":\"Prediction2(Autism).csv\"}\n",
    "df_all=[]\n",
    "for task in task_filename:\n",
    "    df = compute_prediction_distances(task_filename[task],task,False)\n",
    "    df = df.rename(columns={\"Task\":\"Algorithm\"})\n",
    "    df[\"Task\"]=task\n",
    "    df_all.append(df)\n",
    "df_all = pd.concat(df_all)\n",
    "df_all.to_csv(\"deviation.csv\")"
   ]
  },
  {
   "cell_type": "code",
   "execution_count": 36,
   "metadata": {
    "collapsed": false
   },
   "outputs": [
    {
     "data": {
      "text/html": [
       "<div>\n",
       "<style scoped>\n",
       "    .dataframe tbody tr th:only-of-type {\n",
       "        vertical-align: middle;\n",
       "    }\n",
       "\n",
       "    .dataframe tbody tr th {\n",
       "        vertical-align: top;\n",
       "    }\n",
       "\n",
       "    .dataframe thead th {\n",
       "        text-align: right;\n",
       "    }\n",
       "</style>\n",
       "<table border=\"1\" class=\"dataframe\">\n",
       "  <thead>\n",
       "    <tr style=\"text-align: right;\">\n",
       "      <th></th>\n",
       "      <th>Task</th>\n",
       "      <th>Distance</th>\n",
       "      <th>SD</th>\n",
       "    </tr>\n",
       "  </thead>\n",
       "  <tbody>\n",
       "    <tr>\n",
       "      <th>0</th>\n",
       "      <td>A1</td>\n",
       "      <td>9.687562</td>\n",
       "      <td>6.465089</td>\n",
       "    </tr>\n",
       "    <tr>\n",
       "      <th>1</th>\n",
       "      <td>A2</td>\n",
       "      <td>37.566882</td>\n",
       "      <td>16.323091</td>\n",
       "    </tr>\n",
       "    <tr>\n",
       "      <th>2</th>\n",
       "      <td>A3</td>\n",
       "      <td>45.511349</td>\n",
       "      <td>30.045507</td>\n",
       "    </tr>\n",
       "  </tbody>\n",
       "</table>\n",
       "</div>"
      ],
      "text/plain": [
       "  Task   Distance         SD\n",
       "0   A1   9.687562   6.465089\n",
       "1   A2  37.566882  16.323091\n",
       "2   A3  45.511349  30.045507"
      ]
     },
     "execution_count": 36,
     "metadata": {},
     "output_type": "execute_result"
    }
   ],
   "source": [
    "compute_prediction_distances(\"Prediction1(Police).csv\",\"Police1\")"
   ]
  },
  {
   "cell_type": "code",
   "execution_count": 37,
   "metadata": {
    "collapsed": false
   },
   "outputs": [
    {
     "data": {
      "text/html": [
       "<div>\n",
       "<style scoped>\n",
       "    .dataframe tbody tr th:only-of-type {\n",
       "        vertical-align: middle;\n",
       "    }\n",
       "\n",
       "    .dataframe tbody tr th {\n",
       "        vertical-align: top;\n",
       "    }\n",
       "\n",
       "    .dataframe thead th {\n",
       "        text-align: right;\n",
       "    }\n",
       "</style>\n",
       "<table border=\"1\" class=\"dataframe\">\n",
       "  <thead>\n",
       "    <tr style=\"text-align: right;\">\n",
       "      <th></th>\n",
       "      <th>Task</th>\n",
       "      <th>Distance</th>\n",
       "      <th>SD</th>\n",
       "    </tr>\n",
       "  </thead>\n",
       "  <tbody>\n",
       "    <tr>\n",
       "      <th>0</th>\n",
       "      <td>A1</td>\n",
       "      <td>10.138272</td>\n",
       "      <td>4.116052</td>\n",
       "    </tr>\n",
       "    <tr>\n",
       "      <th>1</th>\n",
       "      <td>A2</td>\n",
       "      <td>11.607803</td>\n",
       "      <td>4.966252</td>\n",
       "    </tr>\n",
       "    <tr>\n",
       "      <th>2</th>\n",
       "      <td>A3</td>\n",
       "      <td>37.471417</td>\n",
       "      <td>36.957333</td>\n",
       "    </tr>\n",
       "  </tbody>\n",
       "</table>\n",
       "</div>"
      ],
      "text/plain": [
       "  Task   Distance         SD\n",
       "0   A1  10.138272   4.116052\n",
       "1   A2  11.607803   4.966252\n",
       "2   A3  37.471417  36.957333"
      ]
     },
     "execution_count": 37,
     "metadata": {},
     "output_type": "execute_result"
    }
   ],
   "source": [
    "compute_prediction_distances(\"Prediction2(Police).csv\",\"Police2\")"
   ]
  },
  {
   "cell_type": "code",
   "execution_count": 38,
   "metadata": {
    "collapsed": false
   },
   "outputs": [
    {
     "data": {
      "text/html": [
       "<div>\n",
       "<style scoped>\n",
       "    .dataframe tbody tr th:only-of-type {\n",
       "        vertical-align: middle;\n",
       "    }\n",
       "\n",
       "    .dataframe tbody tr th {\n",
       "        vertical-align: top;\n",
       "    }\n",
       "\n",
       "    .dataframe thead th {\n",
       "        text-align: right;\n",
       "    }\n",
       "</style>\n",
       "<table border=\"1\" class=\"dataframe\">\n",
       "  <thead>\n",
       "    <tr style=\"text-align: right;\">\n",
       "      <th></th>\n",
       "      <th>Task</th>\n",
       "      <th>Distance</th>\n",
       "      <th>SD</th>\n",
       "    </tr>\n",
       "  </thead>\n",
       "  <tbody>\n",
       "    <tr>\n",
       "      <th>0</th>\n",
       "      <td>B1</td>\n",
       "      <td>8.438141</td>\n",
       "      <td>8.628634</td>\n",
       "    </tr>\n",
       "    <tr>\n",
       "      <th>1</th>\n",
       "      <td>B2</td>\n",
       "      <td>17.771950</td>\n",
       "      <td>23.800952</td>\n",
       "    </tr>\n",
       "    <tr>\n",
       "      <th>2</th>\n",
       "      <td>B3</td>\n",
       "      <td>48.813938</td>\n",
       "      <td>5.960145</td>\n",
       "    </tr>\n",
       "  </tbody>\n",
       "</table>\n",
       "</div>"
      ],
      "text/plain": [
       "  Task   Distance         SD\n",
       "0   B1   8.438141   8.628634\n",
       "1   B2  17.771950  23.800952\n",
       "2   B3  48.813938   5.960145"
      ]
     },
     "execution_count": 38,
     "metadata": {},
     "output_type": "execute_result"
    }
   ],
   "source": [
    "compute_prediction_distances(\"Prediction1(Autism).csv\",\"Autism1\")"
   ]
  },
  {
   "cell_type": "code",
   "execution_count": 39,
   "metadata": {
    "collapsed": false
   },
   "outputs": [
    {
     "data": {
      "text/html": [
       "<div>\n",
       "<style scoped>\n",
       "    .dataframe tbody tr th:only-of-type {\n",
       "        vertical-align: middle;\n",
       "    }\n",
       "\n",
       "    .dataframe tbody tr th {\n",
       "        vertical-align: top;\n",
       "    }\n",
       "\n",
       "    .dataframe thead th {\n",
       "        text-align: right;\n",
       "    }\n",
       "</style>\n",
       "<table border=\"1\" class=\"dataframe\">\n",
       "  <thead>\n",
       "    <tr style=\"text-align: right;\">\n",
       "      <th></th>\n",
       "      <th>Task</th>\n",
       "      <th>Distance</th>\n",
       "      <th>SD</th>\n",
       "    </tr>\n",
       "  </thead>\n",
       "  <tbody>\n",
       "    <tr>\n",
       "      <th>0</th>\n",
       "      <td>B1</td>\n",
       "      <td>26.280802</td>\n",
       "      <td>15.036068</td>\n",
       "    </tr>\n",
       "    <tr>\n",
       "      <th>1</th>\n",
       "      <td>B2</td>\n",
       "      <td>16.263456</td>\n",
       "      <td>14.525839</td>\n",
       "    </tr>\n",
       "    <tr>\n",
       "      <th>2</th>\n",
       "      <td>B3</td>\n",
       "      <td>16.499158</td>\n",
       "      <td>9.784341</td>\n",
       "    </tr>\n",
       "  </tbody>\n",
       "</table>\n",
       "</div>"
      ],
      "text/plain": [
       "  Task   Distance         SD\n",
       "0   B1  26.280802  15.036068\n",
       "1   B2  16.263456  14.525839\n",
       "2   B3  16.499158   9.784341"
      ]
     },
     "execution_count": 39,
     "metadata": {},
     "output_type": "execute_result"
    }
   ],
   "source": [
    "compute_prediction_distances(\"Prediction2(Autism).csv\",\"Autism2\")"
   ]
  },
  {
   "cell_type": "code",
   "execution_count": 40,
   "metadata": {
    "collapsed": false
   },
   "outputs": [
    {
     "name": "stderr",
     "output_type": "stream",
     "text": [
      "/Users/dorislee/.virtualenvs/py37env/lib/python3.7/site-packages/matplotlib/font_manager.py:1331: UserWarning: findfont: Font family ['serif'] not found. Falling back to DejaVu Sans\n",
      "  (prop.get_family(), self.defaultFamily[fontext]))\n"
     ]
    },
    {
     "data": {
      "image/png": "[encoded data removed]",
      "text/plain": [
       "<Figure size 288x288 with 1 Axes>"
      ]
     },
     "metadata": {},
     "output_type": "display_data"
    }
   ],
   "source": [
    "result = compute_prediction_distances(\"Prediction1(Autism).csv\",\"Autism1\")\n",
    "bar_chart(list(result[\"Distance\"].values),[\"Storyboard\",\"Cluster\",\"BFS\"],title=\"Autism (Shallow)\",\n",
    "          yErrs=list(result[\"SD\"].values/2.), ytitle=\"Deviation\", fixed_ylim=False, rotation=30,\n",
    "          autolabel_flag =False, filename=\"Autism1\")"
   ]
  },
  {
   "cell_type": "code",
   "execution_count": 41,
   "metadata": {
    "collapsed": false
   },
   "outputs": [
    {
     "name": "stderr",
     "output_type": "stream",
     "text": [
      "/Users/dorislee/.virtualenvs/py37env/lib/python3.7/site-packages/matplotlib/font_manager.py:1331: UserWarning: findfont: Font family ['serif'] not found. Falling back to DejaVu Sans\n",
      "  (prop.get_family(), self.defaultFamily[fontext]))\n"
     ]
    },
    {
     "data": {
      "image/png": "[encoded data removed]",
      "text/plain": [
       "<Figure size 288x288 with 1 Axes>"
      ]
     },
     "metadata": {},
     "output_type": "display_data"
    }
   ],
   "source": [
    "result = compute_prediction_distances(\"Prediction2(Autism).csv\",\"Autism2\")\n",
    "bar_chart(list(result[\"Distance\"].values),[\"Storyboard\",\"Cluster\",\"BFS\"],title=\"Autism (Deep)\",\n",
    "          yErrs=list(result[\"SD\"].values/2.),  ytitle=\"Deviation\",fixed_ylim=False, rotation=30,\n",
    "          autolabel_flag =False, filename=\"Autism2\")"
   ]
  },
  {
   "cell_type": "code",
   "execution_count": 42,
   "metadata": {
    "collapsed": false
   },
   "outputs": [
    {
     "name": "stderr",
     "output_type": "stream",
     "text": [
      "/Users/dorislee/.virtualenvs/py37env/lib/python3.7/site-packages/matplotlib/font_manager.py:1331: UserWarning: findfont: Font family ['serif'] not found. Falling back to DejaVu Sans\n",
      "  (prop.get_family(), self.defaultFamily[fontext]))\n"
     ]
    },
    {
     "data": {
      "image/png": "[encoded data removed]",
      "text/plain": [
       "<Figure size 288x288 with 1 Axes>"
      ]
     },
     "metadata": {},
     "output_type": "display_data"
    }
   ],
   "source": [
    "result = compute_prediction_distances(\"Prediction1(Police).csv\",\"Police1\")\n",
    "bar_chart(list(result[\"Distance\"].values),[\"Storyboard\",\"Cluster\",\"BFS\"],title=\"Police (Shallow)\",\n",
    "          yErrs=list(result[\"SD\"].values/2.), ytitle=\"Deviation\"\n",
    "          ,fixed_ylim=False , filename=\"Police1\",autolabel_flag=False, rotation=30)"
   ]
  },
  {
   "cell_type": "code",
   "execution_count": 43,
   "metadata": {
    "collapsed": false
   },
   "outputs": [
    {
     "name": "stderr",
     "output_type": "stream",
     "text": [
      "/Users/dorislee/.virtualenvs/py37env/lib/python3.7/site-packages/matplotlib/font_manager.py:1331: UserWarning: findfont: Font family ['serif'] not found. Falling back to DejaVu Sans\n",
      "  (prop.get_family(), self.defaultFamily[fontext]))\n"
     ]
    },
    {
     "data": {
      "image/png": "[encoded data removed]",
      "text/plain": [
       "<Figure size 288x288 with 1 Axes>"
      ]
     },
     "metadata": {},
     "output_type": "display_data"
    }
   ],
   "source": [
    "result = compute_prediction_distances(\"Prediction2(Police).csv\",\"Police2\")\n",
    "bar_chart(list(result[\"Distance\"].values),[\"Storyboard\",\"Cluster\",\"BFS\"],title=\"Police (Deep)\",\n",
    "          yErrs=list(result[\"SD\"].values/2.), ytitle=\"Deviation\", rotation=30,fixed_ylim=False,\n",
    "          filename=\"Police2\",autolabel_flag=False)"
   ]
  },
  {
   "cell_type": "code",
   "execution_count": 44,
   "metadata": {
    "collapsed": false
   },
   "outputs": [],
   "source": [
    "def compute_prediction_aggregate_stats(filename,gt_task_key,aggregate=True):\n",
    "    prediction = pd.read_csv(gdrive_path+filename)\n",
    "    if \"Police\" in filename: \n",
    "        attributes = [\"ticket\",\"warn\",\"arrest\"]\n",
    "        task_name = \"Task1\"\n",
    "    else: \n",
    "        attributes = [\"NO\",\"YES\"]\n",
    "        task_name = \"Task2\"\n",
    "    prediction = prediction.merge(user_task).drop(\"Note\",axis=1)\n",
    "    if aggregate:\n",
    "        prediction_groupby=prediction.groupby(task_name)\n",
    "        result = prediction_groupby.mean().reset_index()\n",
    "        std_result = prediction_groupby.apply(lambda x: x.std()).reset_index()\n",
    "        return result,std_result\n",
    "    else:\n",
    "        all_task = [\"Task1\",\"Task2\"]\n",
    "        all_task.remove(task_name)\n",
    "        not_task_name = all_task[0]\n",
    "        prediction = prediction.drop(not_task_name,axis=1).rename(columns={task_name:\"Algorithm\"})\n",
    "        prediction = pd.melt(prediction,id_vars=['Algorithm',\"User\",\"Surprisingness\"], value_vars=attributes)\n",
    "        return attributes,prediction"
   ]
  },
  {
   "cell_type": "code",
   "execution_count": 45,
   "metadata": {
    "collapsed": false
   },
   "outputs": [],
   "source": [
    "task_filename = {\"Police1\":\"Prediction1(Police).csv\",\n",
    " \"Police2\":\"Prediction2(Police).csv\",\n",
    " \"Autism1\":\"Prediction1(Autism).csv\",\n",
    " \"Autism2\":\"Prediction2(Autism).csv\"}\n",
    "df_vals=[]\n",
    "for task in task_filename:\n",
    "    attributes,prediction = compute_prediction_aggregate_stats(task_filename[task],task,aggregate=False)\n",
    "    prediction[\"Task\"]=task\n",
    "    df_vals.append(prediction)\n",
    "df_vals = pd.concat(df_vals)\n",
    "df_vals=df_vals.drop(\"User\",axis=1)\n",
    "#df_vals.to_csv(\"deviation.csv\")\n",
    "surprisingness = df_vals.drop([\"variable\",\"value\"],axis=1)\n",
    "surprisingness.to_csv(\"surprisingess.csv\")\n",
    "vals = df_vals.drop(\"Surprisingness\",axis=1)\n",
    "vals.to_csv(\"values.csv\")"
   ]
  },
  {
   "cell_type": "code",
   "execution_count": 46,
   "metadata": {
    "collapsed": true
   },
   "outputs": [],
   "source": [
    "import seaborn as sns\n",
    "sns.set_context(\n",
    "    \"talk\",\n",
    "    font_scale=1,\n",
    "    rc={\n",
    "        \"lines.linewidth\": 2,\n",
    "        \"text.usetex\": True,\n",
    "        \"font.family\": 'serif',\n",
    "        \"font.serif\": ['Palatino'],\n",
    "        \"font.size\": 18\n",
    "    })\n",
    "sns.set_style('ticks')\n",
    "sns.set_style({\"ytick.direction\": \"in\", \"ytick.major.size\": 6.0,  \"ytick.minor.size\": 3.0, \"xtick.direction\": \"in\", \"xtick.major.size\": 0.0,  \"xtick.minor.size\": 0.0})\n",
    "\n",
    "def plot_prediction_results(result,std_result,xtitle=\"\", ytitle=\"\", title=\"\", top_right_text=\"\", N=1, width=0.1,autolabel_flag =True,fixed_ylim=False):\n",
    "    task_name = \"\"\n",
    "    fig, ax = plt.subplots()\n",
    "    col = 0\n",
    "    x0_lst =[]\n",
    "    plt.ylim(0,100)\n",
    "    if \"Police\" in title: \n",
    "        attributes = [\"ticket\",\"warn\",\"arrest\"]\n",
    "        task_name = \"Task1\"\n",
    "    else: \n",
    "        attributes = [\"NO\",\"YES\"]\n",
    "        task_name = \"Task2\"\n",
    "    labels = result[task_name].values\n",
    "    for attr in attributes:\n",
    "        ind = np.arange(N)  # the x locations for the groups\n",
    "        x0= (col)*(ind + (2+0.5) * width + 0.1)\n",
    "        x0_lst.append(x0[0])\n",
    "        yVals = result[attr].values\n",
    "        xAttrs = attributes\n",
    "        yErrs = std_result[attr].values/2.\n",
    "\n",
    "        if len(yVals)==2:\n",
    "            colors = [\"#fc9272\",\"#9ecae1\"]\n",
    "            sns.set_palette(sns.color_palette(colors))\n",
    "        else:\n",
    "            colors = [\"#9ecae1\",\"#99e699\",\"#fc9272\"]\n",
    "            sns.set_palette(sns.color_palette(colors))\n",
    "\n",
    "        rects = []\n",
    "        error_kw=dict(lw=1, capsize=5, capthick=1)\n",
    "        for i in range(len(yVals)):\n",
    "            if col==0:\n",
    "                if yErrs==[]:\n",
    "                    rect = ax.bar(x0+ind + (i+0.5) * width, yVals[i], width,label=labels[i])\n",
    "                else:\n",
    "                    rect = ax.bar(x0+ind + (i+0.5) * width, yVals[i], width, ecolor=\"black\",yerr=yErrs[i],error_kw=error_kw,label=labels[i])\n",
    "            else:\n",
    "                if yErrs==[]:\n",
    "                    rect = ax.bar(x0+ind + (i+0.5) * width, yVals[i], width)\n",
    "                else:\n",
    "                    rect = ax.bar(x0+ind + (i+0.5) * width, yVals[i], width, ecolor=\"black\",yerr=yErrs[i],error_kw=error_kw)\n",
    "            rects.append(rect)\n",
    "\n",
    "        xtitle = xtitle.replace('\"', '')\n",
    "        ytitle = ytitle.replace('\"', '')\n",
    "\n",
    "        ax.set_xlabel(xtitle)\n",
    "        ax.set_ylabel(ytitle)\n",
    "        if title != \"\":\n",
    "            title = title.replace('\"','')\n",
    "            title = title.replace(\"#\", \",\\n\")\n",
    "            if title[0] == ',':\n",
    "                title = title[2:-2]\n",
    "            if title.count(',') < 3:\n",
    "                ax.set_title(title)\n",
    "            else:\n",
    "                ax.set_title(title)\n",
    "        xmin = -0.05\n",
    "        xmax = 0.25 + 0.1 * (len(yVals) - 2)\n",
    "        xtickpos = [np.abs(xmin - xmax) / (len(yVals) + 1.5) * (i + 0.7) for i in range(len(yVals))]\n",
    "        if \"Police\" in title: \n",
    "            xtickpos=[0.15,0.51,0.83]\n",
    "        else: \n",
    "            xtickpos=[0.14,0.48]\n",
    "        ax.set_xticks(xtickpos)\n",
    "        ax.set_xticklabels(xAttrs)\n",
    "\n",
    "        if fixed_ylim: ax.set_ylim((0, 100))\n",
    "        size = 0\n",
    "        for rect in rects:\n",
    "            size += 1\n",
    "        sns.despine(top=True, right=True)\n",
    "        col+=1\n",
    "    for col_i in range(len(attributes)):\n",
    "        if \"Police\" in title: \n",
    "            if col_i==0:\n",
    "                ax.axhline(prediction_ground_truth[gt_task_key][col_i],xtickpos[col_i]-1*width,xtickpos[col_i]+1.5*width, linestyle=\":\",\n",
    "                           linewidth=2, color='black',label=\"ground truth\")\n",
    "            else:\n",
    "                ax.axhline(prediction_ground_truth[gt_task_key][col_i],xtickpos[col_i]-1.5*width,xtickpos[col_i]+1.25*width, linestyle=\":\",\n",
    "                           linewidth=2, color='black')\n",
    "        else:\n",
    "            if col_i==0:\n",
    "                ax.axhline(prediction_ground_truth[gt_task_key][col_i],xtickpos[col_i]-0.8*width,xtickpos[col_i]+3.3*width, linestyle=\":\",\n",
    "                           linewidth=2, color='black',label=\"ground truth\")\n",
    "            else:\n",
    "                ax.axhline(prediction_ground_truth[gt_task_key][col_i],xtickpos[col_i]+0.5*width,xtickpos[col_i]+4.8*width, linestyle=\":\",\n",
    "                           linewidth=2, color='black')\n",
    "\n",
    "    plt.tight_layout()\n",
    "    plt.ylabel(ytitle)\n",
    "    lgd = plt.legend(numpoints=1, loc=\"center right\", bbox_to_anchor=(1.8, 0.5))\n",
    "    plt.savefig(\"{}.pdf\".format(title), bbox_extra_artists=(lgd,),bbox_inches='tight')\n",
    "    plt.show()"
   ]
  },
  {
   "cell_type": "code",
   "execution_count": 47,
   "metadata": {
    "collapsed": false
   },
   "outputs": [
    {
     "data": {
      "image/png": "[encoded data removed]",
      "text/plain": [
       "<Figure size 288x288 with 1 Axes>"
      ]
     },
     "metadata": {},
     "output_type": "display_data"
    },
    {
     "name": "stderr",
     "output_type": "stream",
     "text": [
      "/Users/dorislee/.virtualenvs/py37env/lib/python3.7/site-packages/ipykernel_launcher.py:47: DeprecationWarning: elementwise == comparison failed; this will raise an error in the future.\n",
      "/Users/dorislee/.virtualenvs/py37env/lib/python3.7/site-packages/ipykernel_launcher.py:52: DeprecationWarning: elementwise == comparison failed; this will raise an error in the future.\n"
     ]
    },
    {
     "data": {
      "image/png": "[encoded data removed]",
      "text/plain": [
       "<Figure size 288x288 with 1 Axes>"
      ]
     },
     "metadata": {},
     "output_type": "display_data"
    }
   ],
   "source": [
    "title=\"Prediction 1 (Police)\"\n",
    "filename = \"Prediction1(Police).csv\"\n",
    "gt_task_key=\"Police1\"\n",
    "task_name = 'Task1'\n",
    "result,std_result = compute_prediction_aggregate_stats(filename,gt_task_key)\n",
    "#Surprisingness Plot\n",
    "bar_chart(list(result[\"Surprisingness\"].values),list(result[task_name].values),list(std_result[\"Surprisingness\"].values/2.),title=title, ytitle=\"Surprisingness\",fixed_ylim=False)\n",
    "plot_prediction_results(result,std_result,task_name,title=title,ytitle=\"% of police stop\")"
   ]
  },
  {
   "cell_type": "code",
   "execution_count": 48,
   "metadata": {
    "collapsed": false
   },
   "outputs": [
    {
     "data": {
      "image/png": "[encoded data removed]",
      "text/plain": [
       "<Figure size 288x288 with 1 Axes>"
      ]
     },
     "metadata": {},
     "output_type": "display_data"
    },
    {
     "name": "stderr",
     "output_type": "stream",
     "text": [
      "/Users/dorislee/.virtualenvs/py37env/lib/python3.7/site-packages/ipykernel_launcher.py:47: DeprecationWarning: elementwise == comparison failed; this will raise an error in the future.\n",
      "/Users/dorislee/.virtualenvs/py37env/lib/python3.7/site-packages/ipykernel_launcher.py:52: DeprecationWarning: elementwise == comparison failed; this will raise an error in the future.\n"
     ]
    },
    {
     "data": {
      "image/png": "[encoded data removed]",
      "text/plain": [
       "<Figure size 288x288 with 1 Axes>"
      ]
     },
     "metadata": {},
     "output_type": "display_data"
    }
   ],
   "source": [
    "title=\"Prediction 2 (Police)\"\n",
    "filename = \"Prediction2(Police).csv\"\n",
    "gt_task_key=\"Police2\"\n",
    "task_name = \"Task1\"\n",
    "result,std_result = compute_prediction_aggregate_stats(filename,gt_task_key)\n",
    "#Surprisingness Plot\n",
    "bar_chart(list(result[\"Surprisingness\"].values),list(result[task_name].values),list(std_result[\"Surprisingness\"].values/2.),title=title, ytitle=\"Surprisingness\",fixed_ylim=False)\n",
    "plot_prediction_results(result,std_result,title=title,ytitle=\"% of police stop\")"
   ]
  },
  {
   "cell_type": "code",
   "execution_count": 49,
   "metadata": {
    "collapsed": false
   },
   "outputs": [
    {
     "data": {
      "image/png": "[encoded data removed]",
      "text/plain": [
       "<Figure size 288x288 with 1 Axes>"
      ]
     },
     "metadata": {},
     "output_type": "display_data"
    },
    {
     "name": "stderr",
     "output_type": "stream",
     "text": [
      "/Users/dorislee/.virtualenvs/py37env/lib/python3.7/site-packages/ipykernel_launcher.py:47: DeprecationWarning: elementwise == comparison failed; this will raise an error in the future.\n",
      "/Users/dorislee/.virtualenvs/py37env/lib/python3.7/site-packages/ipykernel_launcher.py:52: DeprecationWarning: elementwise == comparison failed; this will raise an error in the future.\n"
     ]
    },
    {
     "data": {
      "image/png": "[encoded data removed]",
      "text/plain": [
       "<Figure size 288x288 with 1 Axes>"
      ]
     },
     "metadata": {},
     "output_type": "display_data"
    }
   ],
   "source": [
    "title=\"Prediction 1 (Autism)\"\n",
    "filename = \"Prediction1(Autism).csv\"\n",
    "gt_task_key=\"Autism1\"\n",
    "task_name = \"Task2\"\n",
    "result,std_result = compute_prediction_aggregate_stats(filename,gt_task_key)\n",
    "#Surprisingness Plot\n",
    "bar_chart(list(result[\"Surprisingness\"].values),list(result[task_name].values),list(std_result[\"Surprisingness\"].values/2.),title=title, ytitle=\"Surprisingness\",fixed_ylim=False)\n",
    "plot_prediction_results(result,std_result,title=title,ytitle=\"% of participants\")"
   ]
  },
  {
   "cell_type": "code",
   "execution_count": 50,
   "metadata": {
    "collapsed": false
   },
   "outputs": [
    {
     "data": {
      "image/png": "[encoded data removed]",
      "text/plain": [
       "<Figure size 288x288 with 1 Axes>"
      ]
     },
     "metadata": {},
     "output_type": "display_data"
    },
    {
     "name": "stderr",
     "output_type": "stream",
     "text": [
      "/Users/dorislee/.virtualenvs/py37env/lib/python3.7/site-packages/ipykernel_launcher.py:47: DeprecationWarning: elementwise == comparison failed; this will raise an error in the future.\n",
      "/Users/dorislee/.virtualenvs/py37env/lib/python3.7/site-packages/ipykernel_launcher.py:52: DeprecationWarning: elementwise == comparison failed; this will raise an error in the future.\n"
     ]
    },
    {
     "data": {
      "image/png": "[encoded data removed]",
      "text/plain": [
       "<Figure size 288x288 with 1 Axes>"
      ]
     },
     "metadata": {},
     "output_type": "display_data"
    }
   ],
   "source": [
    "title=\"Prediction 2 (Autism)\"\n",
    "filename = \"Prediction2(Autism).csv\"\n",
    "gt_task_key=\"Autism2\"\n",
    "task_name = \"Task2\"\n",
    "result,std_result = compute_prediction_aggregate_stats(filename,gt_task_key)\n",
    "#Surprisingness Plot\n",
    "bar_chart(list(result[\"Surprisingness\"].values),list(result[task_name].values),list(std_result[\"Surprisingness\"].values/2.),title=title, ytitle=\"Surprisingness\",fixed_ylim=False)\n",
    "plot_prediction_results(result,std_result,title=title,ytitle=\"% of participants\")"
   ]
  },
  {
   "cell_type": "markdown",
   "metadata": {},
   "source": [
    "# Qualitative Analysis"
   ]
  },
  {
   "cell_type": "code",
   "execution_count": 55,
   "metadata": {
    "collapsed": false
   },
   "outputs": [],
   "source": [
    "police_code = pd.read_csv(gdrive_path+\"Findings(Police).csv\").replace(\"T\",1).replace(\"F\",0)\n",
    "autism_code = pd.read_csv(gdrive_path+\"Findings(Autism).csv\").replace(\"T\",1).replace(\"F\",0)\n",
    "police_code.columns=[\"User\"]+list(user_task[\"Task1\"])\n",
    "autism_code.columns=[\"User\"]+list(user_task[\"Task2\"])\n",
    "police_code=police_code.T.reset_index()\n",
    "autism_code=autism_code.T.reset_index()\n",
    "police_code.columns=police_code.loc[0]\n",
    "police_code = police_code.drop(0)\n",
    "autism_code.columns=autism_code.loc[0]\n",
    "autism_code = autism_code.drop(0)"
   ]
  },
  {
   "cell_type": "markdown",
   "metadata": {},
   "source": [
    "# Contextual Reference and Distribution Awareness"
   ]
  },
  {
   "cell_type": "code",
   "execution_count": 56,
   "metadata": {
    "collapsed": true
   },
   "outputs": [],
   "source": [
    "comparison = ['Comparing against other visualizations that have the one or more of the same attribute (relatives)','Comparing against overall','Comparing against immediate parent','Comparing between siblings']"
   ]
  },
  {
   "cell_type": "code",
   "execution_count": 57,
   "metadata": {
    "collapsed": true
   },
   "outputs": [],
   "source": [
    "police_agg_result = police_code.groupby(\"User\",as_index=False).sum()"
   ]
  },
  {
   "cell_type": "code",
   "execution_count": 58,
   "metadata": {
    "collapsed": false,
    "scrolled": false
   },
   "outputs": [
    {
     "data": {
      "text/html": [
       "<div>\n",
       "<style scoped>\n",
       "    .dataframe tbody tr th:only-of-type {\n",
       "        vertical-align: middle;\n",
       "    }\n",
       "\n",
       "    .dataframe tbody tr th {\n",
       "        vertical-align: top;\n",
       "    }\n",
       "\n",
       "    .dataframe thead th {\n",
       "        text-align: right;\n",
       "    }\n",
       "</style>\n",
       "<table border=\"1\" class=\"dataframe\">\n",
       "  <thead>\n",
       "    <tr style=\"text-align: right;\">\n",
       "      <th></th>\n",
       "      <th>User</th>\n",
       "      <th>Comparing against other visualizations that have the one or more of the same attribute (relatives)</th>\n",
       "      <th>Comparing against overall</th>\n",
       "      <th>Comparing against immediate parent</th>\n",
       "      <th>Comparing between siblings</th>\n",
       "    </tr>\n",
       "  </thead>\n",
       "  <tbody>\n",
       "    <tr>\n",
       "      <th>0</th>\n",
       "      <td>A1</td>\n",
       "      <td>0</td>\n",
       "      <td>6</td>\n",
       "      <td>6</td>\n",
       "      <td>5</td>\n",
       "    </tr>\n",
       "    <tr>\n",
       "      <th>1</th>\n",
       "      <td>A2</td>\n",
       "      <td>6</td>\n",
       "      <td>5</td>\n",
       "      <td>2</td>\n",
       "      <td>0</td>\n",
       "    </tr>\n",
       "    <tr>\n",
       "      <th>2</th>\n",
       "      <td>A3</td>\n",
       "      <td>1</td>\n",
       "      <td>3</td>\n",
       "      <td>0</td>\n",
       "      <td>3</td>\n",
       "    </tr>\n",
       "  </tbody>\n",
       "</table>\n",
       "</div>"
      ],
      "text/plain": [
       "0 User  \\\n",
       "0   A1   \n",
       "1   A2   \n",
       "2   A3   \n",
       "\n",
       "0  Comparing against other visualizations that have the one or more of the same attribute (relatives)  \\\n",
       "0                                                  0                                                    \n",
       "1                                                  6                                                    \n",
       "2                                                  1                                                    \n",
       "\n",
       "0  Comparing against overall  Comparing against immediate parent  \\\n",
       "0                          6                                   6   \n",
       "1                          5                                   2   \n",
       "2                          3                                   0   \n",
       "\n",
       "0  Comparing between siblings  \n",
       "0                           5  \n",
       "1                           0  \n",
       "2                           3  "
      ]
     },
     "execution_count": 58,
     "metadata": {},
     "output_type": "execute_result"
    }
   ],
   "source": [
    "police_agg_result[[\"User\"]+comparison]"
   ]
  },
  {
   "cell_type": "code",
   "execution_count": 59,
   "metadata": {
    "collapsed": false
   },
   "outputs": [
    {
     "data": {
      "text/plain": [
       "0    17\n",
       "1    13\n",
       "2     7\n",
       "dtype: int64"
      ]
     },
     "execution_count": 59,
     "metadata": {},
     "output_type": "execute_result"
    }
   ],
   "source": [
    "police_agg_result[[\"User\"]+comparison].sum(axis=1)"
   ]
  },
  {
   "cell_type": "code",
   "execution_count": 60,
   "metadata": {
    "collapsed": false
   },
   "outputs": [],
   "source": [
    "autism_agg_result = autism_code.groupby(\"User\",as_index=False).sum()"
   ]
  },
  {
   "cell_type": "code",
   "execution_count": 61,
   "metadata": {
    "collapsed": false
   },
   "outputs": [
    {
     "data": {
      "text/html": [
       "<div>\n",
       "<style scoped>\n",
       "    .dataframe tbody tr th:only-of-type {\n",
       "        vertical-align: middle;\n",
       "    }\n",
       "\n",
       "    .dataframe tbody tr th {\n",
       "        vertical-align: top;\n",
       "    }\n",
       "\n",
       "    .dataframe thead th {\n",
       "        text-align: right;\n",
       "    }\n",
       "</style>\n",
       "<table border=\"1\" class=\"dataframe\">\n",
       "  <thead>\n",
       "    <tr style=\"text-align: right;\">\n",
       "      <th></th>\n",
       "      <th>User</th>\n",
       "      <th>Comparing against other visualizations that have the one or more of the same attribute (relatives)</th>\n",
       "      <th>Comparing against overall</th>\n",
       "      <th>Comparing against immediate parent</th>\n",
       "      <th>Comparing between siblings</th>\n",
       "    </tr>\n",
       "  </thead>\n",
       "  <tbody>\n",
       "    <tr>\n",
       "      <th>0</th>\n",
       "      <td>B1</td>\n",
       "      <td>0</td>\n",
       "      <td>5</td>\n",
       "      <td>6</td>\n",
       "      <td>3</td>\n",
       "    </tr>\n",
       "    <tr>\n",
       "      <th>1</th>\n",
       "      <td>B2</td>\n",
       "      <td>1</td>\n",
       "      <td>3</td>\n",
       "      <td>2</td>\n",
       "      <td>0</td>\n",
       "    </tr>\n",
       "    <tr>\n",
       "      <th>2</th>\n",
       "      <td>B3</td>\n",
       "      <td>0</td>\n",
       "      <td>5</td>\n",
       "      <td>0</td>\n",
       "      <td>2</td>\n",
       "    </tr>\n",
       "  </tbody>\n",
       "</table>\n",
       "</div>"
      ],
      "text/plain": [
       "0 User  \\\n",
       "0   B1   \n",
       "1   B2   \n",
       "2   B3   \n",
       "\n",
       "0  Comparing against other visualizations that have the one or more of the same attribute (relatives)  \\\n",
       "0                                                  0                                                    \n",
       "1                                                  1                                                    \n",
       "2                                                  0                                                    \n",
       "\n",
       "0  Comparing against overall  Comparing against immediate parent  \\\n",
       "0                          5                                   6   \n",
       "1                          3                                   2   \n",
       "2                          5                                   0   \n",
       "\n",
       "0  Comparing between siblings  \n",
       "0                           3  \n",
       "1                           0  \n",
       "2                           2  "
      ]
     },
     "execution_count": 61,
     "metadata": {},
     "output_type": "execute_result"
    }
   ],
   "source": [
    "autism_agg_result[[\"User\"]+comparison]"
   ]
  },
  {
   "cell_type": "code",
   "execution_count": 62,
   "metadata": {
    "collapsed": false
   },
   "outputs": [
    {
     "data": {
      "text/plain": [
       "0    14\n",
       "1     6\n",
       "2     7\n",
       "dtype: int64"
      ]
     },
     "execution_count": 62,
     "metadata": {},
     "output_type": "execute_result"
    }
   ],
   "source": [
    "autism_agg_result[[\"User\"]+comparison].sum(axis=1)"
   ]
  },
  {
   "cell_type": "code",
   "execution_count": 63,
   "metadata": {
    "collapsed": false
   },
   "outputs": [],
   "source": [
    "combinedABdataset= autism_agg_result[[\"User\"]+comparison]+police_agg_result[[\"User\"]+comparison]"
   ]
  },
  {
   "cell_type": "code",
   "execution_count": 64,
   "metadata": {
    "collapsed": false
   },
   "outputs": [
    {
     "data": {
      "text/html": [
       "<div>\n",
       "<style scoped>\n",
       "    .dataframe tbody tr th:only-of-type {\n",
       "        vertical-align: middle;\n",
       "    }\n",
       "\n",
       "    .dataframe tbody tr th {\n",
       "        vertical-align: top;\n",
       "    }\n",
       "\n",
       "    .dataframe thead th {\n",
       "        text-align: right;\n",
       "    }\n",
       "</style>\n",
       "<table border=\"1\" class=\"dataframe\">\n",
       "  <thead>\n",
       "    <tr style=\"text-align: right;\">\n",
       "      <th></th>\n",
       "      <th>User</th>\n",
       "      <th>Comparing against other visualizations that have the one or more of the same attribute (relatives)</th>\n",
       "      <th>Comparing against overall</th>\n",
       "      <th>Comparing against immediate parent</th>\n",
       "      <th>Comparing between siblings</th>\n",
       "    </tr>\n",
       "  </thead>\n",
       "  <tbody>\n",
       "    <tr>\n",
       "      <th>0</th>\n",
       "      <td>B1A1</td>\n",
       "      <td>0</td>\n",
       "      <td>11</td>\n",
       "      <td>12</td>\n",
       "      <td>8</td>\n",
       "    </tr>\n",
       "    <tr>\n",
       "      <th>1</th>\n",
       "      <td>B2A2</td>\n",
       "      <td>7</td>\n",
       "      <td>8</td>\n",
       "      <td>4</td>\n",
       "      <td>0</td>\n",
       "    </tr>\n",
       "    <tr>\n",
       "      <th>2</th>\n",
       "      <td>B3A3</td>\n",
       "      <td>1</td>\n",
       "      <td>8</td>\n",
       "      <td>0</td>\n",
       "      <td>5</td>\n",
       "    </tr>\n",
       "  </tbody>\n",
       "</table>\n",
       "</div>"
      ],
      "text/plain": [
       "0  User  \\\n",
       "0  B1A1   \n",
       "1  B2A2   \n",
       "2  B3A3   \n",
       "\n",
       "0  Comparing against other visualizations that have the one or more of the same attribute (relatives)  \\\n",
       "0                                                  0                                                    \n",
       "1                                                  7                                                    \n",
       "2                                                  1                                                    \n",
       "\n",
       "0  Comparing against overall  Comparing against immediate parent  \\\n",
       "0                         11                                  12   \n",
       "1                          8                                   4   \n",
       "2                          8                                   0   \n",
       "\n",
       "0  Comparing between siblings  \n",
       "0                           8  \n",
       "1                           0  \n",
       "2                           5  "
      ]
     },
     "execution_count": 64,
     "metadata": {},
     "output_type": "execute_result"
    }
   ],
   "source": [
    "combinedABdataset"
   ]
  },
  {
   "cell_type": "code",
   "execution_count": 65,
   "metadata": {
    "collapsed": false
   },
   "outputs": [],
   "source": [
    "combinedABdataset[\"User\"] = combinedABdataset[\"User\"].replace(\"B1A1\",\"\\system\").replace(\"B2A2\",\"Cluster\").replace(\"B3A3\",'BFS')"
   ]
  },
  {
   "cell_type": "code",
   "execution_count": 66,
   "metadata": {
    "collapsed": false
   },
   "outputs": [],
   "source": [
    "combinedABdataset.columns=['Algorithm','Relative','Overall','Parent','Sibling']"
   ]
  },
  {
   "cell_type": "code",
   "execution_count": 67,
   "metadata": {
    "collapsed": false
   },
   "outputs": [
    {
     "data": {
      "text/html": [
       "<div>\n",
       "<style scoped>\n",
       "    .dataframe tbody tr th:only-of-type {\n",
       "        vertical-align: middle;\n",
       "    }\n",
       "\n",
       "    .dataframe tbody tr th {\n",
       "        vertical-align: top;\n",
       "    }\n",
       "\n",
       "    .dataframe thead th {\n",
       "        text-align: right;\n",
       "    }\n",
       "</style>\n",
       "<table border=\"1\" class=\"dataframe\">\n",
       "  <thead>\n",
       "    <tr style=\"text-align: right;\">\n",
       "      <th></th>\n",
       "      <th>Algorithm</th>\n",
       "      <th>Overall</th>\n",
       "      <th>Parent</th>\n",
       "      <th>Sibling</th>\n",
       "      <th>Relative</th>\n",
       "    </tr>\n",
       "  </thead>\n",
       "  <tbody>\n",
       "    <tr>\n",
       "      <th>0</th>\n",
       "      <td>\\system</td>\n",
       "      <td>11</td>\n",
       "      <td>12</td>\n",
       "      <td>8</td>\n",
       "      <td>0</td>\n",
       "    </tr>\n",
       "    <tr>\n",
       "      <th>1</th>\n",
       "      <td>Cluster</td>\n",
       "      <td>8</td>\n",
       "      <td>4</td>\n",
       "      <td>0</td>\n",
       "      <td>7</td>\n",
       "    </tr>\n",
       "    <tr>\n",
       "      <th>2</th>\n",
       "      <td>BFS</td>\n",
       "      <td>8</td>\n",
       "      <td>0</td>\n",
       "      <td>5</td>\n",
       "      <td>1</td>\n",
       "    </tr>\n",
       "  </tbody>\n",
       "</table>\n",
       "</div>"
      ],
      "text/plain": [
       "  Algorithm  Overall  Parent  Sibling  Relative\n",
       "0   \\system       11      12        8         0\n",
       "1   Cluster        8       4        0         7\n",
       "2       BFS        8       0        5         1"
      ]
     },
     "execution_count": 67,
     "metadata": {},
     "output_type": "execute_result"
    }
   ],
   "source": [
    "combinedABdataset[['Algorithm','Overall','Parent','Sibling','Relative']]"
   ]
  },
  {
   "cell_type": "code",
   "execution_count": 68,
   "metadata": {
    "collapsed": false
   },
   "outputs": [],
   "source": [
    "combinedABdataset[\"Total\"] = combinedABdataset.sum(axis=1)"
   ]
  },
  {
   "cell_type": "code",
   "execution_count": 69,
   "metadata": {
    "collapsed": false
   },
   "outputs": [
    {
     "data": {
      "text/html": [
       "<div>\n",
       "<style scoped>\n",
       "    .dataframe tbody tr th:only-of-type {\n",
       "        vertical-align: middle;\n",
       "    }\n",
       "\n",
       "    .dataframe tbody tr th {\n",
       "        vertical-align: top;\n",
       "    }\n",
       "\n",
       "    .dataframe thead th {\n",
       "        text-align: right;\n",
       "    }\n",
       "</style>\n",
       "<table border=\"1\" class=\"dataframe\">\n",
       "  <thead>\n",
       "    <tr style=\"text-align: right;\">\n",
       "      <th></th>\n",
       "      <th>Algorithm</th>\n",
       "      <th>Relative</th>\n",
       "      <th>Overall</th>\n",
       "      <th>Parent</th>\n",
       "      <th>Sibling</th>\n",
       "      <th>Total</th>\n",
       "    </tr>\n",
       "  </thead>\n",
       "  <tbody>\n",
       "    <tr>\n",
       "      <th>0</th>\n",
       "      <td>\\system</td>\n",
       "      <td>0</td>\n",
       "      <td>11</td>\n",
       "      <td>12</td>\n",
       "      <td>8</td>\n",
       "      <td>31</td>\n",
       "    </tr>\n",
       "    <tr>\n",
       "      <th>1</th>\n",
       "      <td>Cluster</td>\n",
       "      <td>7</td>\n",
       "      <td>8</td>\n",
       "      <td>4</td>\n",
       "      <td>0</td>\n",
       "      <td>19</td>\n",
       "    </tr>\n",
       "    <tr>\n",
       "      <th>2</th>\n",
       "      <td>BFS</td>\n",
       "      <td>1</td>\n",
       "      <td>8</td>\n",
       "      <td>0</td>\n",
       "      <td>5</td>\n",
       "      <td>14</td>\n",
       "    </tr>\n",
       "  </tbody>\n",
       "</table>\n",
       "</div>"
      ],
      "text/plain": [
       "  Algorithm  Relative  Overall  Parent  Sibling  Total\n",
       "0   \\system         0       11      12        8     31\n",
       "1   Cluster         7        8       4        0     19\n",
       "2       BFS         1        8       0        5     14"
      ]
     },
     "execution_count": 69,
     "metadata": {},
     "output_type": "execute_result"
    }
   ],
   "source": [
    "combinedABdataset"
   ]
  },
  {
   "cell_type": "code",
   "execution_count": 70,
   "metadata": {
    "collapsed": false
   },
   "outputs": [
    {
     "name": "stdout",
     "output_type": "stream",
     "text": [
      "\\begin{tabular}{lrrrrr}\n",
      "\\hline\n",
      " Algorithm   &   Overall &   Parent &   Sibling &   Relative &   Total \\\\\n",
      "\\hline\n",
      " \\system     &        11 &       12 &         8 &          0 &      31 \\\\\n",
      " Cluster     &         8 &        4 &         0 &          7 &      19 \\\\\n",
      " BFS         &         8 &        0 &         5 &          1 &      14 \\\\\n",
      "\\hline\n",
      "\\end{tabular}\n"
     ]
    }
   ],
   "source": [
    "colOrder=['Algorithm','Overall','Parent','Sibling','Relative','Total']\n",
    "print (T.tabulate(combinedABdataset[colOrder],tablefmt='latex', floatfmt=\".2f\",showindex=False,headers=colOrder))"
   ]
  },
  {
   "cell_type": "markdown",
   "metadata": {},
   "source": [
    "# Hierarchical v.s. Table  Layout "
   ]
  },
  {
   "cell_type": "code",
   "execution_count": 71,
   "metadata": {
    "collapsed": false
   },
   "outputs": [
    {
     "data": {
      "text/plain": [
       "0    5\n",
       "1    0\n",
       "2    1\n",
       "Name: Described dashboard as picked by a human, dtype: int64"
      ]
     },
     "execution_count": 71,
     "metadata": {},
     "output_type": "execute_result"
    }
   ],
   "source": [
    "police_agg_result[\"Described dashboard as picked by a human\"]+autism_agg_result[\"Described dashboard as picked by a human\"]"
   ]
  },
  {
   "cell_type": "markdown",
   "metadata": {},
   "source": [
    "# Misleading insights "
   ]
  },
  {
   "cell_type": "code",
   "execution_count": 72,
   "metadata": {
    "collapsed": false
   },
   "outputs": [],
   "source": [
    "police_insights = ['User', u'Overall, ticketing resulted in the highest arrest rate',\n",
    "u'duration and search conducted is probably correlated',\n",
    "u'Only search_conducted,  and duration 30+ are all important factors in determining arrest',\n",
    "u'Race is important because Black and Hispanic are arrested at higher rates than White',\n",
    "\"contraband_found and search_conducted have simmilar distribution, which may mean that doesn't matter if contraband was found or not, outcomes are similar.\",\n",
    "u\"What's pulling up the arrest rate for 30+ min cases? Is race related to this or no?\",\n",
    "u'Interesting that contraband found for 60+ arrest rate actually increases',\n",
    "u'confused that the middle path and rightmost path had different ���splits�۝ on variables (age/race) v.s. different races',\n",
    "u'Population is majority white, so it should follow closely to immediate parent (contraband_found=t)',\n",
    "u'Gender does not seem to influence arrest rate. (based on combination or first level viz insight)',]"
   ]
  },
  {
   "cell_type": "code",
   "execution_count": 73,
   "metadata": {
    "collapsed": true
   },
   "outputs": [],
   "source": [
    "police_important_factors = [\"User\",\"search_conducted, contraband_found, and duration 30+ are all important factors in determining arrest\",\n",
    "\"Only search_conducted,  and duration 30+ are all important factors in determining arrest\"]"
   ]
  },
  {
   "cell_type": "code",
   "execution_count": 74,
   "metadata": {
    "collapsed": false
   },
   "outputs": [
    {
     "data": {
      "text/html": [
       "<div>\n",
       "<style scoped>\n",
       "    .dataframe tbody tr th:only-of-type {\n",
       "        vertical-align: middle;\n",
       "    }\n",
       "\n",
       "    .dataframe tbody tr th {\n",
       "        vertical-align: top;\n",
       "    }\n",
       "\n",
       "    .dataframe thead th {\n",
       "        text-align: right;\n",
       "    }\n",
       "</style>\n",
       "<table border=\"1\" class=\"dataframe\">\n",
       "  <thead>\n",
       "    <tr style=\"text-align: right;\">\n",
       "      <th></th>\n",
       "      <th>User</th>\n",
       "      <th>search_conducted, contraband_found, and duration 30+ are all important factors in determining arrest</th>\n",
       "      <th>Only search_conducted,  and duration 30+ are all important factors in determining arrest</th>\n",
       "    </tr>\n",
       "  </thead>\n",
       "  <tbody>\n",
       "    <tr>\n",
       "      <th>0</th>\n",
       "      <td>A1</td>\n",
       "      <td>6</td>\n",
       "      <td>0</td>\n",
       "    </tr>\n",
       "    <tr>\n",
       "      <th>1</th>\n",
       "      <td>A2</td>\n",
       "      <td>0</td>\n",
       "      <td>5</td>\n",
       "    </tr>\n",
       "    <tr>\n",
       "      <th>2</th>\n",
       "      <td>A3</td>\n",
       "      <td>0</td>\n",
       "      <td>0</td>\n",
       "    </tr>\n",
       "  </tbody>\n",
       "</table>\n",
       "</div>"
      ],
      "text/plain": [
       "0 User  \\\n",
       "0   A1   \n",
       "1   A2   \n",
       "2   A3   \n",
       "\n",
       "0  search_conducted, contraband_found, and duration 30+ are all important factors in determining arrest  \\\n",
       "0                                                  6                                                      \n",
       "1                                                  0                                                      \n",
       "2                                                  0                                                      \n",
       "\n",
       "0  Only search_conducted,  and duration 30+ are all important factors in determining arrest  \n",
       "0                                                  0                                         \n",
       "1                                                  5                                         \n",
       "2                                                  0                                         "
      ]
     },
     "execution_count": 74,
     "metadata": {},
     "output_type": "execute_result"
    }
   ],
   "source": [
    "police_agg_result[police_important_factors]"
   ]
  },
  {
   "cell_type": "code",
   "execution_count": 75,
   "metadata": {
    "collapsed": true
   },
   "outputs": [],
   "source": [
    "autism_important_factors = [\"User\",\"a9=1 is important\"]"
   ]
  },
  {
   "cell_type": "code",
   "execution_count": 76,
   "metadata": {
    "collapsed": false
   },
   "outputs": [],
   "source": [
    "# autism_agg_result[autism_important_factors]"
   ]
  },
  {
   "cell_type": "code",
   "execution_count": 77,
   "metadata": {
    "collapsed": true
   },
   "outputs": [],
   "source": [
    "police_misleading=[\"User\",\"Selected visualization with many filters are interesting 100% but may be high due to unknown subpopulation size and should be investigated further .\",\"DId not understand that some chart may have a smaller subpopulation size\",\"Had trouble interpreting meaning of combination of filters, related to above.\"]"
   ]
  },
  {
   "cell_type": "code",
   "execution_count": 78,
   "metadata": {
    "collapsed": false
   },
   "outputs": [
    {
     "data": {
      "text/html": [
       "<div>\n",
       "<style scoped>\n",
       "    .dataframe tbody tr th:only-of-type {\n",
       "        vertical-align: middle;\n",
       "    }\n",
       "\n",
       "    .dataframe tbody tr th {\n",
       "        vertical-align: top;\n",
       "    }\n",
       "\n",
       "    .dataframe thead th {\n",
       "        text-align: right;\n",
       "    }\n",
       "</style>\n",
       "<table border=\"1\" class=\"dataframe\">\n",
       "  <thead>\n",
       "    <tr style=\"text-align: right;\">\n",
       "      <th></th>\n",
       "      <th>User</th>\n",
       "      <th>Selected visualization with many filters are interesting 100% but may be high due to unknown subpopulation size and should be investigated further .</th>\n",
       "      <th>DId not understand that some chart may have a smaller subpopulation size</th>\n",
       "      <th>Had trouble interpreting meaning of combination of filters, related to above.</th>\n",
       "    </tr>\n",
       "  </thead>\n",
       "  <tbody>\n",
       "    <tr>\n",
       "      <th>0</th>\n",
       "      <td>A1</td>\n",
       "      <td>4</td>\n",
       "      <td>0</td>\n",
       "      <td>0</td>\n",
       "    </tr>\n",
       "    <tr>\n",
       "      <th>1</th>\n",
       "      <td>A2</td>\n",
       "      <td>3</td>\n",
       "      <td>1</td>\n",
       "      <td>2</td>\n",
       "    </tr>\n",
       "    <tr>\n",
       "      <th>2</th>\n",
       "      <td>A3</td>\n",
       "      <td>1</td>\n",
       "      <td>1</td>\n",
       "      <td>1</td>\n",
       "    </tr>\n",
       "  </tbody>\n",
       "</table>\n",
       "</div>"
      ],
      "text/plain": [
       "0 User  \\\n",
       "0   A1   \n",
       "1   A2   \n",
       "2   A3   \n",
       "\n",
       "0  Selected visualization with many filters are interesting 100% but may be high due to unknown subpopulation size and should be investigated further .  \\\n",
       "0                                                  4                                                                                                      \n",
       "1                                                  3                                                                                                      \n",
       "2                                                  1                                                                                                      \n",
       "\n",
       "0  DId not understand that some chart may have a smaller subpopulation size  \\\n",
       "0                                                  0                          \n",
       "1                                                  1                          \n",
       "2                                                  1                          \n",
       "\n",
       "0  Had trouble interpreting meaning of combination of filters, related to above.  \n",
       "0                                                  0                              \n",
       "1                                                  2                              \n",
       "2                                                  1                              "
      ]
     },
     "execution_count": 78,
     "metadata": {},
     "output_type": "execute_result"
    }
   ],
   "source": [
    "police_agg_result[police_misleading]"
   ]
  },
  {
   "cell_type": "code",
   "execution_count": 79,
   "metadata": {
    "collapsed": true
   },
   "outputs": [],
   "source": [
    "misleading=[\"User\",\"Had trouble interpreting meaning of combination of filters, related to above.\",\"all the 0s have high skew towards NO and all 1s have about equal rates of YES and NO autism.\",\"Selected visualization with many filters are interesting 100% but may be high due to unknown subpopulation size and should be investigated further .\",\"Did not understand that some chart may have a smaller subpopulation size\"]\n"
   ]
  },
  {
   "cell_type": "code",
   "execution_count": 80,
   "metadata": {
    "collapsed": false
   },
   "outputs": [
    {
     "data": {
      "text/html": [
       "<div>\n",
       "<style scoped>\n",
       "    .dataframe tbody tr th:only-of-type {\n",
       "        vertical-align: middle;\n",
       "    }\n",
       "\n",
       "    .dataframe tbody tr th {\n",
       "        vertical-align: top;\n",
       "    }\n",
       "\n",
       "    .dataframe thead th {\n",
       "        text-align: right;\n",
       "    }\n",
       "</style>\n",
       "<table border=\"1\" class=\"dataframe\">\n",
       "  <thead>\n",
       "    <tr style=\"text-align: right;\">\n",
       "      <th></th>\n",
       "      <th>User</th>\n",
       "      <th>Had trouble interpreting meaning of combination of filters, related to above.</th>\n",
       "      <th>all the 0s have high skew towards NO and all 1s have about equal rates of YES and NO autism.</th>\n",
       "      <th>Selected visualization with many filters are interesting 100% but may be high due to unknown subpopulation size and should be investigated further .</th>\n",
       "      <th>Did not understand that some chart may have a smaller subpopulation size</th>\n",
       "    </tr>\n",
       "  </thead>\n",
       "  <tbody>\n",
       "    <tr>\n",
       "      <th>0</th>\n",
       "      <td>B1</td>\n",
       "      <td>0</td>\n",
       "      <td>2</td>\n",
       "      <td>2</td>\n",
       "      <td>1</td>\n",
       "    </tr>\n",
       "    <tr>\n",
       "      <th>1</th>\n",
       "      <td>B2</td>\n",
       "      <td>1</td>\n",
       "      <td>0</td>\n",
       "      <td>1</td>\n",
       "      <td>3</td>\n",
       "    </tr>\n",
       "    <tr>\n",
       "      <th>2</th>\n",
       "      <td>B3</td>\n",
       "      <td>0</td>\n",
       "      <td>4</td>\n",
       "      <td>2</td>\n",
       "      <td>0</td>\n",
       "    </tr>\n",
       "  </tbody>\n",
       "</table>\n",
       "</div>"
      ],
      "text/plain": [
       "0 User  \\\n",
       "0   B1   \n",
       "1   B2   \n",
       "2   B3   \n",
       "\n",
       "0  Had trouble interpreting meaning of combination of filters, related to above.  \\\n",
       "0                                                  0                               \n",
       "1                                                  1                               \n",
       "2                                                  0                               \n",
       "\n",
       "0  all the 0s have high skew towards NO and all 1s have about equal rates of YES and NO autism.  \\\n",
       "0                                                  2                                              \n",
       "1                                                  0                                              \n",
       "2                                                  4                                              \n",
       "\n",
       "0  Selected visualization with many filters are interesting 100% but may be high due to unknown subpopulation size and should be investigated further .  \\\n",
       "0                                                  2                                                                                                      \n",
       "1                                                  1                                                                                                      \n",
       "2                                                  2                                                                                                      \n",
       "\n",
       "0  Did not understand that some chart may have a smaller subpopulation size  \n",
       "0                                                  1                         \n",
       "1                                                  3                         \n",
       "2                                                  0                         "
      ]
     },
     "execution_count": 80,
     "metadata": {},
     "output_type": "execute_result"
    }
   ],
   "source": [
    "autism_agg_result[misleading]"
   ]
  },
  {
   "cell_type": "code",
   "execution_count": 81,
   "metadata": {
    "collapsed": false
   },
   "outputs": [
    {
     "data": {
      "text/html": [
       "<div>\n",
       "<style scoped>\n",
       "    .dataframe tbody tr th:only-of-type {\n",
       "        vertical-align: middle;\n",
       "    }\n",
       "\n",
       "    .dataframe tbody tr th {\n",
       "        vertical-align: top;\n",
       "    }\n",
       "\n",
       "    .dataframe thead th {\n",
       "        text-align: right;\n",
       "    }\n",
       "</style>\n",
       "<table border=\"1\" class=\"dataframe\">\n",
       "  <thead>\n",
       "    <tr style=\"text-align: right;\">\n",
       "      <th></th>\n",
       "      <th>User</th>\n",
       "      <th>Task1</th>\n",
       "      <th>Task2</th>\n",
       "    </tr>\n",
       "  </thead>\n",
       "  <tbody>\n",
       "    <tr>\n",
       "      <th>0</th>\n",
       "      <td>1</td>\n",
       "      <td>A1</td>\n",
       "      <td>B2</td>\n",
       "    </tr>\n",
       "    <tr>\n",
       "      <th>1</th>\n",
       "      <td>2</td>\n",
       "      <td>A1</td>\n",
       "      <td>B3</td>\n",
       "    </tr>\n",
       "    <tr>\n",
       "      <th>2</th>\n",
       "      <td>3</td>\n",
       "      <td>A2</td>\n",
       "      <td>B1</td>\n",
       "    </tr>\n",
       "    <tr>\n",
       "      <th>3</th>\n",
       "      <td>4</td>\n",
       "      <td>A2</td>\n",
       "      <td>B3</td>\n",
       "    </tr>\n",
       "    <tr>\n",
       "      <th>4</th>\n",
       "      <td>5</td>\n",
       "      <td>A3</td>\n",
       "      <td>B1</td>\n",
       "    </tr>\n",
       "    <tr>\n",
       "      <th>5</th>\n",
       "      <td>6</td>\n",
       "      <td>A3</td>\n",
       "      <td>B2</td>\n",
       "    </tr>\n",
       "    <tr>\n",
       "      <th>6</th>\n",
       "      <td>7</td>\n",
       "      <td>A1</td>\n",
       "      <td>B2</td>\n",
       "    </tr>\n",
       "    <tr>\n",
       "      <th>7</th>\n",
       "      <td>8</td>\n",
       "      <td>A1</td>\n",
       "      <td>B3</td>\n",
       "    </tr>\n",
       "    <tr>\n",
       "      <th>8</th>\n",
       "      <td>9</td>\n",
       "      <td>A2</td>\n",
       "      <td>B1</td>\n",
       "    </tr>\n",
       "    <tr>\n",
       "      <th>9</th>\n",
       "      <td>10</td>\n",
       "      <td>A2</td>\n",
       "      <td>B3</td>\n",
       "    </tr>\n",
       "    <tr>\n",
       "      <th>10</th>\n",
       "      <td>11</td>\n",
       "      <td>A3</td>\n",
       "      <td>B1</td>\n",
       "    </tr>\n",
       "    <tr>\n",
       "      <th>11</th>\n",
       "      <td>12</td>\n",
       "      <td>A3</td>\n",
       "      <td>B2</td>\n",
       "    </tr>\n",
       "    <tr>\n",
       "      <th>12</th>\n",
       "      <td>13</td>\n",
       "      <td>A1</td>\n",
       "      <td>B2</td>\n",
       "    </tr>\n",
       "    <tr>\n",
       "      <th>13</th>\n",
       "      <td>14</td>\n",
       "      <td>A1</td>\n",
       "      <td>B3</td>\n",
       "    </tr>\n",
       "    <tr>\n",
       "      <th>14</th>\n",
       "      <td>15</td>\n",
       "      <td>A2</td>\n",
       "      <td>B1</td>\n",
       "    </tr>\n",
       "    <tr>\n",
       "      <th>15</th>\n",
       "      <td>16</td>\n",
       "      <td>A2</td>\n",
       "      <td>B3</td>\n",
       "    </tr>\n",
       "    <tr>\n",
       "      <th>16</th>\n",
       "      <td>17</td>\n",
       "      <td>A3</td>\n",
       "      <td>B1</td>\n",
       "    </tr>\n",
       "    <tr>\n",
       "      <th>17</th>\n",
       "      <td>18</td>\n",
       "      <td>A3</td>\n",
       "      <td>B2</td>\n",
       "    </tr>\n",
       "  </tbody>\n",
       "</table>\n",
       "</div>"
      ],
      "text/plain": [
       "    User Task1 Task2\n",
       "0      1    A1    B2\n",
       "1      2    A1    B3\n",
       "2      3    A2    B1\n",
       "3      4    A2    B3\n",
       "4      5    A3    B1\n",
       "5      6    A3    B2\n",
       "6      7    A1    B2\n",
       "7      8    A1    B3\n",
       "8      9    A2    B1\n",
       "9     10    A2    B3\n",
       "10    11    A3    B1\n",
       "11    12    A3    B2\n",
       "12    13    A1    B2\n",
       "13    14    A1    B3\n",
       "14    15    A2    B1\n",
       "15    16    A2    B3\n",
       "16    17    A3    B1\n",
       "17    18    A3    B2"
      ]
     },
     "execution_count": 81,
     "metadata": {},
     "output_type": "execute_result"
    }
   ],
   "source": [
    "user_task"
   ]
  }
 ],
 "metadata": {
  "kernelspec": {
   "display_name": "Python 3",
   "language": "python",
   "name": "python3"
  },
  "language_info": {
   "codemirror_mode": {
    "name": "ipython",
    "version": 3
   },
   "file_extension": ".py",
   "mimetype": "text/x-python",
   "name": "python",
   "nbconvert_exporter": "python",
   "pygments_lexer": "ipython3",
   "version": "3.7.0"
  }
 },
 "nbformat": 4,
 "nbformat_minor": 2
}
