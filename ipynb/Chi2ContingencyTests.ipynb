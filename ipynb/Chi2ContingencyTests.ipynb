{
 "cells": [
  {
   "cell_type": "code",
   "execution_count": 2,
   "metadata": {
    "collapsed": false
   },
   "outputs": [
    {
     "name": "stdout",
     "output_type": "stream",
     "text": [
      "Populating the interactive namespace from numpy and matplotlib\n"
     ]
    }
   ],
   "source": [
    "%pylab inline"
   ]
  },
  {
   "cell_type": "code",
   "execution_count": 3,
   "metadata": {
    "collapsed": true
   },
   "outputs": [],
   "source": [
    "import pandas as pd\n",
    "import scipy.stats"
   ]
  },
  {
   "cell_type": "code",
   "execution_count": 4,
   "metadata": {
    "collapsed": false
   },
   "outputs": [],
   "source": [
    "# df.groupby([\"is_arrested\",\"driver_gender\"])[\"id\"].count()"
   ]
  },
  {
   "cell_type": "code",
   "execution_count": 5,
   "metadata": {
    "collapsed": false
   },
   "outputs": [],
   "source": [
    "def chi2testcols(df,col1,col2):\n",
    "    contingency = pd.crosstab(df[col1],df[col2])\n",
    "    return scipy.stats.chi2_contingency(contingency,correction=True)"
   ]
  },
  {
   "cell_type": "code",
   "execution_count": 6,
   "metadata": {
    "collapsed": false
   },
   "outputs": [],
   "source": [
    "df = pd.read_csv(\"../data/police_stop/CT_police_stop.csv\",index_col=0)"
   ]
  },
  {
   "cell_type": "code",
   "execution_count": 7,
   "metadata": {
    "collapsed": false
   },
   "outputs": [
    {
     "name": "stdout",
     "output_type": "stream",
     "text": [
      "state 0.0 1.0 0\n",
      "driver_gender 361.582454182 1.27353587902e-80 1\n",
      "driver_race 431.010885323 4.23997940993e-93 3\n",
      "search_conducted 15083.5763734 0.0 1\n",
      "contraband_found 7167.29901508 0.0 1\n",
      "stop_outcome 112380.690612 0.0 2\n",
      "stop_duration 37038.0496383 0.0 2\n",
      "stop_time_of_day 1316.13516252 4.64302100104e-285 3\n",
      "driver_age_category 187.024993528 1.68909660711e-38 5\n",
      "speeding_violations 839.862225001 1.16293522996e-184 1\n",
      "other_violations 1375.13629089 5.31374175281e-301 1\n",
      "registration_plates_violations 239.845797738 4.24940911363e-54 1\n",
      "moving_violation 955.414082552 8.82792981365e-210 1\n",
      "cell_phone_violations 265.617007322 1.02374525649e-59 1\n"
     ]
    }
   ],
   "source": [
    "col_of_interest = \"is_arrested\"\n",
    "for col in df.columns:\n",
    "    if col!=\"id\" and col!=col_of_interest:\n",
    "        chi2,p,dof,expected = chi2testcols(df,col_of_interest,col)\n",
    "        print col,chi2,p, dof"
   ]
  },
  {
   "cell_type": "code",
   "execution_count": 8,
   "metadata": {
    "collapsed": false
   },
   "outputs": [],
   "source": [
    "df = pd.read_csv(\"../data/mushrooms.csv\")"
   ]
  },
  {
   "cell_type": "code",
   "execution_count": 9,
   "metadata": {
    "collapsed": false
   },
   "outputs": [
    {
     "name": "stdout",
     "output_type": "stream",
     "text": [
      "type 315.042831208 5.51842703865e-68\n",
      "cap_shape 1011.49300341 4.63577768747e-206\n",
      "cap_color 1236.82895751 1.23799754405e-243\n",
      "bruises 146.69581085 1.35984418687e-31\n",
      "odor 1385.70849757 5.62429497299e-278\n",
      "gill_attachment 361.145242221 5.75818576945e-78\n",
      "gill_spacing 929.337925721 3.83113074891e-201\n",
      "gill_size 625.211042055 3.44979719064e-135\n",
      "gill_color 1617.4942974 0.0\n",
      "stalk_shape 50.4072499459 6.5428077197e-11\n",
      "stalk_root 2412.97673157 0.0\n",
      "stalk_surface_above_ring 506.230073969 2.66396008634e-103\n",
      "stalk_surface_below_ring 699.33302946 9.62195736733e-145\n",
      "stalk_color_above_ring 1553.5284428 0.0\n",
      "stalk_color_below_ring 1615.40020144 0.0\n",
      "veil_type 0.0 1.0\n",
      "veil_color 440.046874302 3.84560188068e-89\n",
      "ring_number 159.719314803 6.79034249873e-32\n",
      "ring_type 1230.82739978 3.97573732498e-256\n",
      "spore_print_color 1318.85162183 1.07639844485e-263\n",
      "population 1674.0191573 0.0\n",
      "habitat 1535.54716914 0.0\n"
     ]
    }
   ],
   "source": [
    "col_of_interest = \"cap_surface\"\n",
    "for col in df.columns:\n",
    "    if col!=\"id\" and col!=col_of_interest:\n",
    "        chi2,p,dof,expected = chi2testcols(df,col_of_interest,col)\n",
    "        print col,chi2,p"
   ]
  },
  {
   "cell_type": "code",
   "execution_count": 10,
   "metadata": {
    "collapsed": false
   },
   "outputs": [
    {
     "name": "stdout",
     "output_type": "stream",
     "text": [
      "cap_shape 489.919953619 1.19645656859e-103\n",
      "cap_surface 315.042831208 5.51842703865e-68\n",
      "cap_color 387.597768977 6.05581459834e-78\n",
      "bruises 2041.41564746 0.0\n",
      "odor 7659.72674017 0.0\n",
      "gill_attachment 133.986181287 5.50170741186e-31\n",
      "gill_spacing 984.143333014 5.02297761373e-216\n",
      "gill_size 2366.83425691 0.0\n",
      "gill_color 3765.71408624 0.0\n",
      "stalk_shape 84.1420382655 4.60474621216e-20\n",
      "stalk_root 1344.44052655 7.70204790494e-290\n",
      "stalk_surface_above_ring 2808.28628742 0.0\n",
      "stalk_surface_below_ring 2684.47407633 0.0\n",
      "stalk_color_above_ring 2237.89849645 0.0\n",
      "stalk_color_below_ring 2152.3908906 0.0\n",
      "veil_type 0.0 1.0\n",
      "veil_color 191.223701525 3.32097274917e-41\n",
      "ring_number 374.736830827 4.23575764172e-82\n",
      "ring_type 2956.61927806 0.0\n",
      "spore_print_color 4602.03317008 0.0\n",
      "population 1929.7408909 0.0\n",
      "habitat 1573.77726083 0.0\n"
     ]
    }
   ],
   "source": [
    "col_of_interest = \"type\"\n",
    "for col in df.columns:\n",
    "    if col!=\"id\" and col!=col_of_interest:\n",
    "        chi2,p,dof,expected = chi2testcols(df,col_of_interest,col)\n",
    "        print col,chi2,p"
   ]
  },
  {
   "cell_type": "code",
   "execution_count": 11,
   "metadata": {
    "collapsed": true
   },
   "outputs": [],
   "source": [
    "df = pd.read_csv(\"../data/titanic.csv\")"
   ]
  },
  {
   "cell_type": "code",
   "execution_count": 12,
   "metadata": {
    "collapsed": false
   },
   "outputs": [
    {
     "name": "stdout",
     "output_type": "stream",
     "text": [
      "name 1310.78039269 0.480934328391\n",
      "pc_class 172.299118274 3.85231550242e-38\n",
      "age 100.032249616 0.0236375211674\n",
      "sex 329.841992465 1.04040309197e-73\n",
      "sexcode 329.841992465 1.04040309197e-73\n"
     ]
    }
   ],
   "source": [
    "col_of_interest = \"survived\"\n",
    "for col in df.columns:\n",
    "    if col!=\"id\" and col!=col_of_interest:\n",
    "        chi2,p,dof,expected = chi2testcols(df,col_of_interest,col)\n",
    "        print col,chi2,p"
   ]
  },
  {
   "cell_type": "code",
   "execution_count": 13,
   "metadata": {
    "collapsed": false
   },
   "outputs": [],
   "source": [
    "df = pd.read_csv(\"../data/turn_cheetah_query_log_for_uiuc_v1.csv\")"
   ]
  },
  {
   "cell_type": "code",
   "execution_count": 15,
   "metadata": {
    "collapsed": false
   },
   "outputs": [
    {
     "data": {
      "text/html": [
       "<div>\n",
       "<table border=\"1\" class=\"dataframe\">\n",
       "  <thead>\n",
       "    <tr style=\"text-align: right;\">\n",
       "      <th></th>\n",
       "      <th>job_id</th>\n",
       "      <th>user_company_id</th>\n",
       "      <th>beneficiary_company_id</th>\n",
       "      <th>window_start_time</th>\n",
       "      <th>window_end_time</th>\n",
       "      <th>submission_time</th>\n",
       "      <th>start_time</th>\n",
       "      <th>finish_time</th>\n",
       "      <th>is_successful</th>\n",
       "      <th>is_multi_query</th>\n",
       "      <th>...</th>\n",
       "      <th>hdfs_bytes_written</th>\n",
       "      <th>total_launched_maps</th>\n",
       "      <th>total_launched_reduces</th>\n",
       "      <th>map_input_records</th>\n",
       "      <th>map_output_records</th>\n",
       "      <th>reduce_input_records</th>\n",
       "      <th>reduce_input_groups</th>\n",
       "      <th>reduce_output_records</th>\n",
       "      <th>slots_millis_maps</th>\n",
       "      <th>slots_millis_reduces</th>\n",
       "    </tr>\n",
       "  </thead>\n",
       "  <tbody>\n",
       "    <tr>\n",
       "      <th>0</th>\n",
       "      <td>job-3432142755</td>\n",
       "      <td>company-2342552567</td>\n",
       "      <td>company-1554488253</td>\n",
       "      <td>1998_01_15 05:00:00</td>\n",
       "      <td>1998_04_04 04:59:59</td>\n",
       "      <td>1998_04_04 04:55:39</td>\n",
       "      <td>1998_04_04 07:19:20</td>\n",
       "      <td>1998_04_04 07:20:42</td>\n",
       "      <td>1</td>\n",
       "      <td>0</td>\n",
       "      <td>...</td>\n",
       "      <td>587309</td>\n",
       "      <td>1621</td>\n",
       "      <td>32</td>\n",
       "      <td>68201013</td>\n",
       "      <td>11281</td>\n",
       "      <td>8649</td>\n",
       "      <td>4367</td>\n",
       "      <td>4367</td>\n",
       "      <td>15713603</td>\n",
       "      <td>646243</td>\n",
       "    </tr>\n",
       "    <tr>\n",
       "      <th>1</th>\n",
       "      <td>job-3698996308</td>\n",
       "      <td>company-2342552567</td>\n",
       "      <td>company-1554488253</td>\n",
       "      <td>1998_03_27 05:00:00</td>\n",
       "      <td>1998_04_04 04:59:59</td>\n",
       "      <td>1998_04_04 04:56:16</td>\n",
       "      <td>1998_04_04 07:22:21</td>\n",
       "      <td>1998_04_04 07:24:51</td>\n",
       "      <td>1</td>\n",
       "      <td>0</td>\n",
       "      <td>...</td>\n",
       "      <td>25056</td>\n",
       "      <td>3960</td>\n",
       "      <td>9</td>\n",
       "      <td>883757542</td>\n",
       "      <td>198710</td>\n",
       "      <td>198710</td>\n",
       "      <td>457</td>\n",
       "      <td>457</td>\n",
       "      <td>48298333</td>\n",
       "      <td>190295</td>\n",
       "    </tr>\n",
       "    <tr>\n",
       "      <th>2</th>\n",
       "      <td>job-280950780</td>\n",
       "      <td>company-2342552567</td>\n",
       "      <td>company-1662668658</td>\n",
       "      <td>1998_02_08 05:00:00</td>\n",
       "      <td>1998_04_04 04:59:59</td>\n",
       "      <td>1998_04_04 05:41:10</td>\n",
       "      <td>1998_04_04 07:43:57</td>\n",
       "      <td>1998_04_04 07:45:11</td>\n",
       "      <td>1</td>\n",
       "      <td>0</td>\n",
       "      <td>...</td>\n",
       "      <td>11073633</td>\n",
       "      <td>1453</td>\n",
       "      <td>31</td>\n",
       "      <td>11809839</td>\n",
       "      <td>135028</td>\n",
       "      <td>79339</td>\n",
       "      <td>34138</td>\n",
       "      <td>34138</td>\n",
       "      <td>13158307</td>\n",
       "      <td>559258</td>\n",
       "    </tr>\n",
       "    <tr>\n",
       "      <th>3</th>\n",
       "      <td>job-909565294</td>\n",
       "      <td>company-2342552567</td>\n",
       "      <td>company-186432602</td>\n",
       "      <td>1997_10_07 04:00:00</td>\n",
       "      <td>1998_04_03 04:59:59</td>\n",
       "      <td>1998_04_04 05:41:20</td>\n",
       "      <td>1998_04_04 18:35:29</td>\n",
       "      <td>1998_04_04 18:58:45</td>\n",
       "      <td>1</td>\n",
       "      <td>0</td>\n",
       "      <td>...</td>\n",
       "      <td>997</td>\n",
       "      <td>18956</td>\n",
       "      <td>10</td>\n",
       "      <td>11634594931</td>\n",
       "      <td>8280</td>\n",
       "      <td>8280</td>\n",
       "      <td>2</td>\n",
       "      <td>2</td>\n",
       "      <td>239394231</td>\n",
       "      <td>1062991</td>\n",
       "    </tr>\n",
       "    <tr>\n",
       "      <th>4</th>\n",
       "      <td>job-246208440</td>\n",
       "      <td>company-2342552567</td>\n",
       "      <td>company-186432602</td>\n",
       "      <td>1998_03_01 05:00:00</td>\n",
       "      <td>1998_04_01 04:59:59</td>\n",
       "      <td>1998_04_04 05:41:26</td>\n",
       "      <td>1998_04_04 18:36:05</td>\n",
       "      <td>1998_04_04 18:46:50</td>\n",
       "      <td>1</td>\n",
       "      <td>0</td>\n",
       "      <td>...</td>\n",
       "      <td>997</td>\n",
       "      <td>4147</td>\n",
       "      <td>10</td>\n",
       "      <td>6980591912</td>\n",
       "      <td>8280</td>\n",
       "      <td>8280</td>\n",
       "      <td>2</td>\n",
       "      <td>2</td>\n",
       "      <td>107177437</td>\n",
       "      <td>292714</td>\n",
       "    </tr>\n",
       "  </tbody>\n",
       "</table>\n",
       "<p>5 rows × 56 columns</p>\n",
       "</div>"
      ],
      "text/plain": [
       "           job_id     user_company_id beneficiary_company_id  \\\n",
       "0  job-3432142755  company-2342552567     company-1554488253   \n",
       "1  job-3698996308  company-2342552567     company-1554488253   \n",
       "2   job-280950780  company-2342552567     company-1662668658   \n",
       "3   job-909565294  company-2342552567      company-186432602   \n",
       "4   job-246208440  company-2342552567      company-186432602   \n",
       "\n",
       "     window_start_time      window_end_time      submission_time  \\\n",
       "0  1998_01_15 05:00:00  1998_04_04 04:59:59  1998_04_04 04:55:39   \n",
       "1  1998_03_27 05:00:00  1998_04_04 04:59:59  1998_04_04 04:56:16   \n",
       "2  1998_02_08 05:00:00  1998_04_04 04:59:59  1998_04_04 05:41:10   \n",
       "3  1997_10_07 04:00:00  1998_04_03 04:59:59  1998_04_04 05:41:20   \n",
       "4  1998_03_01 05:00:00  1998_04_01 04:59:59  1998_04_04 05:41:26   \n",
       "\n",
       "            start_time          finish_time  is_successful  is_multi_query  \\\n",
       "0  1998_04_04 07:19:20  1998_04_04 07:20:42              1               0   \n",
       "1  1998_04_04 07:22:21  1998_04_04 07:24:51              1               0   \n",
       "2  1998_04_04 07:43:57  1998_04_04 07:45:11              1               0   \n",
       "3  1998_04_04 18:35:29  1998_04_04 18:58:45              1               0   \n",
       "4  1998_04_04 18:36:05  1998_04_04 18:46:50              1               0   \n",
       "\n",
       "           ...           hdfs_bytes_written  total_launched_maps  \\\n",
       "0          ...                       587309                 1621   \n",
       "1          ...                        25056                 3960   \n",
       "2          ...                     11073633                 1453   \n",
       "3          ...                          997                18956   \n",
       "4          ...                          997                 4147   \n",
       "\n",
       "   total_launched_reduces  map_input_records  map_output_records  \\\n",
       "0                      32           68201013               11281   \n",
       "1                       9          883757542              198710   \n",
       "2                      31           11809839              135028   \n",
       "3                      10        11634594931                8280   \n",
       "4                      10         6980591912                8280   \n",
       "\n",
       "   reduce_input_records  reduce_input_groups  reduce_output_records  \\\n",
       "0                  8649                 4367                   4367   \n",
       "1                198710                  457                    457   \n",
       "2                 79339                34138                  34138   \n",
       "3                  8280                    2                      2   \n",
       "4                  8280                    2                      2   \n",
       "\n",
       "   slots_millis_maps  slots_millis_reduces  \n",
       "0           15713603                646243  \n",
       "1           48298333                190295  \n",
       "2           13158307                559258  \n",
       "3          239394231               1062991  \n",
       "4          107177437                292714  \n",
       "\n",
       "[5 rows x 56 columns]"
      ]
     },
     "execution_count": 15,
     "metadata": {},
     "output_type": "execute_result"
    }
   ],
   "source": [
    "df.head()"
   ]
  },
  {
   "cell_type": "code",
   "execution_count": 16,
   "metadata": {
    "collapsed": false
   },
   "outputs": [],
   "source": [
    "# col_of_interest = \"slots_millis_reduces\"\n",
    "# for col in df.columns:\n",
    "#     if \"id\" in col and col!=col_of_interest:\n",
    "#         chi2,p,dof,expected = chi2testcols(df,col_of_interest,col)\n",
    "#         print col,chi2,p"
   ]
  },
  {
   "cell_type": "code",
   "execution_count": null,
   "metadata": {
    "collapsed": true
   },
   "outputs": [],
   "source": []
  }
 ],
 "metadata": {
  "kernelspec": {
   "display_name": "Python 2",
   "language": "python",
   "name": "python2"
  },
  "language_info": {
   "codemirror_mode": {
    "name": "ipython",
    "version": 2
   },
   "file_extension": ".py",
   "mimetype": "text/x-python",
   "name": "python",
   "nbconvert_exporter": "python",
   "pygments_lexer": "ipython2",
   "version": "2.7.10"
  }
 },
 "nbformat": 4,
 "nbformat_minor": 0
}
