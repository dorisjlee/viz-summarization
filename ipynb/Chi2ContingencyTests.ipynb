{
 "cells": [
  {
   "cell_type": "code",
   "execution_count": 2,
   "metadata": {
    "collapsed": false
   },
   "outputs": [
    {
     "name": "stdout",
     "output_type": "stream",
     "text": [
      "Populating the interactive namespace from numpy and matplotlib\n"
     ]
    }
   ],
   "source": [
    "%pylab inline"
   ]
  },
  {
   "cell_type": "code",
   "execution_count": 3,
   "metadata": {
    "collapsed": true
   },
   "outputs": [],
   "source": [
    "import pandas as pd\n",
    "import scipy.stats"
   ]
  },
  {
   "cell_type": "code",
   "execution_count": 4,
   "metadata": {
    "collapsed": false
   },
   "outputs": [],
   "source": [
    "# df.groupby([\"is_arrested\",\"driver_gender\"])[\"id\"].count()"
   ]
  },
  {
   "cell_type": "code",
   "execution_count": 5,
   "metadata": {
    "collapsed": false
   },
   "outputs": [],
   "source": [
    "def cramers_stat(df,col1,col2):  \n",
    "    confusion_matrix = pd.crosstab(df[col1],df[col2])\n",
    "    chi2 = scipy.stats.chi2_contingency(confusion_matrix,correction=False)[0]  \n",
    "    n = confusion_matrix.sum().sum()  \n",
    "    return np.sqrt(chi2 / (n*(min(confusion_matrix.shape)-1)))  "
   ]
  },
  {
   "cell_type": "code",
   "execution_count": 6,
   "metadata": {
    "collapsed": false
   },
   "outputs": [],
   "source": [
    "def chi2testcols(df,col1,col2):\n",
    "    contingency = pd.crosstab(df[col1],df[col2])\n",
    "    return scipy.stats.chi2_contingency(contingency,correction=True)"
   ]
  },
  {
   "cell_type": "markdown",
   "metadata": {},
   "source": [
    "# Police "
   ]
  },
  {
   "cell_type": "code",
   "execution_count": 77,
   "metadata": {
    "collapsed": false
   },
   "outputs": [],
   "source": [
    "df = pd.read_csv(\"../data/police_stop/CT_police_stop.csv\",index_col=0)"
   ]
  },
  {
   "cell_type": "code",
   "execution_count": 78,
   "metadata": {
    "collapsed": true
   },
   "outputs": [],
   "source": [
    "col_of_interest = \"stop_outcome\"\n",
    "group_by = [\"driver_gender\", \"driver_race\", \"search_conducted\",\"contraband_found\",  \"duration\",\"stop_time\", \"driver_age\"]\n",
    "df = df[group_by+[col_of_interest]]"
   ]
  },
  {
   "cell_type": "code",
   "execution_count": 79,
   "metadata": {
    "collapsed": false
   },
   "outputs": [
    {
     "name": "stdout",
     "output_type": "stream",
     "text": [
      "driver_gender 585.4618218932279 7.388915387696096e-128 0.043252697686012205\n",
      "driver_race 3894.8736775003404 0.0 0.0788852126058245\n",
      "search_conducted 11825.052626847815 0.0 0.19438620938381604\n",
      "contraband_found 3914.1302971111418 0.0 0.1118359803677794\n",
      "duration 75865.25558756948 0.0 0.34815318663578365 --> V>0.2 (*possible correlation*)\n",
      "stop_time 1267.5930416813019 1.1217821035303556e-270 0.04500272741487389\n",
      "driver_age 4125.310844655454 0.0 0.08118527221379175\n"
     ]
    }
   ],
   "source": [
    "df_data = []\n",
    "for col in df.columns:\n",
    "    if col!=\"id\" and col!=col_of_interest and len(df[col].unique())>1:\n",
    "        chi2,p,dof,expected = chi2testcols(df,col_of_interest,col)\n",
    "        cramerV=cramers_stat(df,col_of_interest,col)  \n",
    "        if cramerV>0.2:\n",
    "            print col,chi2,p,cramerV, \"--> V>0.2 (*possible correlation*)\"\n",
    "        else:\n",
    "            print col,chi2,p,cramerV\n",
    "        df_data.append([col,chi2,p,cramerV])"
   ]
  },
  {
   "cell_type": "code",
   "execution_count": 80,
   "metadata": {
    "collapsed": true
   },
   "outputs": [],
   "source": [
    "df  = pd.DataFrame(df_data, columns=[\"attribute\",\"chi2\",\"p\",\"cramerV\"])\n",
    "df.to_csv(\"ct_police_ground_truth_correlation.csv\")"
   ]
  },
  {
   "cell_type": "code",
   "execution_count": 81,
   "metadata": {
    "collapsed": false
   },
   "outputs": [
    {
     "data": {
      "text/html": [
       "<div>\n",
       "<table border=\"1\" class=\"dataframe\">\n",
       "  <thead>\n",
       "    <tr style=\"text-align: right;\">\n",
       "      <th></th>\n",
       "      <th>attribute</th>\n",
       "      <th>chi2</th>\n",
       "      <th>p</th>\n",
       "      <th>cramerV</th>\n",
       "    </tr>\n",
       "  </thead>\n",
       "  <tbody>\n",
       "    <tr>\n",
       "      <th>0</th>\n",
       "      <td>driver_gender</td>\n",
       "      <td>585.461822</td>\n",
       "      <td>7.388915e-128</td>\n",
       "      <td>0.043253</td>\n",
       "    </tr>\n",
       "    <tr>\n",
       "      <th>5</th>\n",
       "      <td>stop_time</td>\n",
       "      <td>1267.593042</td>\n",
       "      <td>1.121782e-270</td>\n",
       "      <td>0.045003</td>\n",
       "    </tr>\n",
       "    <tr>\n",
       "      <th>1</th>\n",
       "      <td>driver_race</td>\n",
       "      <td>3894.873678</td>\n",
       "      <td>0.000000e+00</td>\n",
       "      <td>0.078885</td>\n",
       "    </tr>\n",
       "    <tr>\n",
       "      <th>6</th>\n",
       "      <td>driver_age</td>\n",
       "      <td>4125.310845</td>\n",
       "      <td>0.000000e+00</td>\n",
       "      <td>0.081185</td>\n",
       "    </tr>\n",
       "    <tr>\n",
       "      <th>3</th>\n",
       "      <td>contraband_found</td>\n",
       "      <td>3914.130297</td>\n",
       "      <td>0.000000e+00</td>\n",
       "      <td>0.111836</td>\n",
       "    </tr>\n",
       "    <tr>\n",
       "      <th>2</th>\n",
       "      <td>search_conducted</td>\n",
       "      <td>11825.052627</td>\n",
       "      <td>0.000000e+00</td>\n",
       "      <td>0.194386</td>\n",
       "    </tr>\n",
       "    <tr>\n",
       "      <th>4</th>\n",
       "      <td>duration</td>\n",
       "      <td>75865.255588</td>\n",
       "      <td>0.000000e+00</td>\n",
       "      <td>0.348153</td>\n",
       "    </tr>\n",
       "  </tbody>\n",
       "</table>\n",
       "</div>"
      ],
      "text/plain": [
       "          attribute          chi2              p   cramerV\n",
       "0     driver_gender    585.461822  7.388915e-128  0.043253\n",
       "5         stop_time   1267.593042  1.121782e-270  0.045003\n",
       "1       driver_race   3894.873678   0.000000e+00  0.078885\n",
       "6        driver_age   4125.310845   0.000000e+00  0.081185\n",
       "3  contraband_found   3914.130297   0.000000e+00  0.111836\n",
       "2  search_conducted  11825.052627   0.000000e+00  0.194386\n",
       "4          duration  75865.255588   0.000000e+00  0.348153"
      ]
     },
     "execution_count": 81,
     "metadata": {},
     "output_type": "execute_result"
    }
   ],
   "source": [
    "df.sort(\"cramerV\")"
   ]
  },
  {
   "cell_type": "markdown",
   "metadata": {},
   "source": [
    "# Autism"
   ]
  },
  {
   "cell_type": "code",
   "execution_count": 66,
   "metadata": {
    "collapsed": false
   },
   "outputs": [],
   "source": [
    "df = pd.read_csv(\"../data/autism.csv\")\n",
    "df.columns = [col.lower() for col in df.columns]\n",
    "col_of_interest = \"autism\"\n",
    "group_by = ['a1_score', 'a2_score', 'a3_score', 'a4_score', 'a5_score', 'a6_score', 'a7_score', 'a8_score', 'a9_score', 'a10_score']\n",
    "df = df[group_by+[col_of_interest]]"
   ]
  },
  {
   "cell_type": "code",
   "execution_count": 67,
   "metadata": {
    "collapsed": false
   },
   "outputs": [
    {
     "name": "stdout",
     "output_type": "stream",
     "text": [
      "a1_score 60.87247643017611 6.089427558513987e-15 0.2976276065855922\n",
      "a2_score 66.8546435005204 2.9228294555857717e-16 0.31138172169940886\n",
      "a3_score 134.96983999543073 3.3522248685530275e-31 0.44107371891685415\n",
      "a4_score 153.36360959313063 3.1901210363590196e-35 0.46994518792403434\n",
      "a5_score 200.598762461269 1.5458575800301928e-45 0.537004337601707 --> V>0.5 (*possible correlation*)\n",
      "a6_score 243.84879108234452 5.6954030872241455e-55 0.592090951109315 --> V>0.5 (*possible correlation*)\n",
      "a7_score 85.34491147637725 2.50606072500707e-20 0.35142862483818527\n",
      "a8_score 38.483164230243275 5.522805841679005e-10 0.23716061128409585\n",
      "a9_score 281.32886720198405 3.854919896502865e-63 0.6355758013010075 --> V>0.5 (*possible correlation*)\n",
      "a10_score 103.09454313765482 3.1952998214220183e-24 0.3859170845042139\n"
     ]
    }
   ],
   "source": [
    "df_data = [] \n",
    "for col in df.columns:\n",
    "    if col!=\"id\" and col!=col_of_interest and len(df[col].unique())>1:\n",
    "        chi2,p,dof,expected = chi2testcols(df,col_of_interest,col)\n",
    "        cramerV=cramers_stat(df,col_of_interest,col)  \n",
    "        if cramerV>0.5:\n",
    "            print col,chi2,p,cramerV, \"--> V>0.5 (*possible correlation*)\"\n",
    "        else:\n",
    "            print col,chi2,p,cramerV\n",
    "        df_data.append([col,chi2,p,cramerV])"
   ]
  },
  {
   "cell_type": "code",
   "execution_count": 68,
   "metadata": {
    "collapsed": false
   },
   "outputs": [],
   "source": [
    "df  = pd.DataFrame(df_data, columns=[\"attribute\",\"chi2\",\"p\",\"cramerV\"])"
   ]
  },
  {
   "cell_type": "markdown",
   "metadata": {},
   "source": [
    "- low chi2 corresponds to low p values for chi2 test and cramer's V\n",
    "- ~~Rank function 1: since cramer's score is between [0,1] we can use the cramer's score for each attribute directly as the coefficient for weighting.~~"
   ]
  },
  {
   "cell_type": "code",
   "execution_count": 69,
   "metadata": {
    "collapsed": true
   },
   "outputs": [],
   "source": [
    "df.to_csv(\"autism_ground_truth_correlation.csv\")"
   ]
  },
  {
   "cell_type": "code",
   "execution_count": 70,
   "metadata": {
    "collapsed": false
   },
   "outputs": [
    {
     "data": {
      "text/html": [
       "<div>\n",
       "<table border=\"1\" class=\"dataframe\">\n",
       "  <thead>\n",
       "    <tr style=\"text-align: right;\">\n",
       "      <th></th>\n",
       "      <th>attribute</th>\n",
       "      <th>chi2</th>\n",
       "      <th>p</th>\n",
       "      <th>cramerV</th>\n",
       "    </tr>\n",
       "  </thead>\n",
       "  <tbody>\n",
       "    <tr>\n",
       "      <th>7</th>\n",
       "      <td>a8_score</td>\n",
       "      <td>38.483164</td>\n",
       "      <td>5.522806e-10</td>\n",
       "      <td>0.237161</td>\n",
       "    </tr>\n",
       "    <tr>\n",
       "      <th>0</th>\n",
       "      <td>a1_score</td>\n",
       "      <td>60.872476</td>\n",
       "      <td>6.089428e-15</td>\n",
       "      <td>0.297628</td>\n",
       "    </tr>\n",
       "    <tr>\n",
       "      <th>1</th>\n",
       "      <td>a2_score</td>\n",
       "      <td>66.854644</td>\n",
       "      <td>2.922829e-16</td>\n",
       "      <td>0.311382</td>\n",
       "    </tr>\n",
       "    <tr>\n",
       "      <th>6</th>\n",
       "      <td>a7_score</td>\n",
       "      <td>85.344911</td>\n",
       "      <td>2.506061e-20</td>\n",
       "      <td>0.351429</td>\n",
       "    </tr>\n",
       "    <tr>\n",
       "      <th>9</th>\n",
       "      <td>a10_score</td>\n",
       "      <td>103.094543</td>\n",
       "      <td>3.195300e-24</td>\n",
       "      <td>0.385917</td>\n",
       "    </tr>\n",
       "    <tr>\n",
       "      <th>2</th>\n",
       "      <td>a3_score</td>\n",
       "      <td>134.969840</td>\n",
       "      <td>3.352225e-31</td>\n",
       "      <td>0.441074</td>\n",
       "    </tr>\n",
       "    <tr>\n",
       "      <th>3</th>\n",
       "      <td>a4_score</td>\n",
       "      <td>153.363610</td>\n",
       "      <td>3.190121e-35</td>\n",
       "      <td>0.469945</td>\n",
       "    </tr>\n",
       "    <tr>\n",
       "      <th>4</th>\n",
       "      <td>a5_score</td>\n",
       "      <td>200.598762</td>\n",
       "      <td>1.545858e-45</td>\n",
       "      <td>0.537004</td>\n",
       "    </tr>\n",
       "    <tr>\n",
       "      <th>5</th>\n",
       "      <td>a6_score</td>\n",
       "      <td>243.848791</td>\n",
       "      <td>5.695403e-55</td>\n",
       "      <td>0.592091</td>\n",
       "    </tr>\n",
       "    <tr>\n",
       "      <th>8</th>\n",
       "      <td>a9_score</td>\n",
       "      <td>281.328867</td>\n",
       "      <td>3.854920e-63</td>\n",
       "      <td>0.635576</td>\n",
       "    </tr>\n",
       "  </tbody>\n",
       "</table>\n",
       "</div>"
      ],
      "text/plain": [
       "   attribute        chi2             p   cramerV\n",
       "7   a8_score   38.483164  5.522806e-10  0.237161\n",
       "0   a1_score   60.872476  6.089428e-15  0.297628\n",
       "1   a2_score   66.854644  2.922829e-16  0.311382\n",
       "6   a7_score   85.344911  2.506061e-20  0.351429\n",
       "9  a10_score  103.094543  3.195300e-24  0.385917\n",
       "2   a3_score  134.969840  3.352225e-31  0.441074\n",
       "3   a4_score  153.363610  3.190121e-35  0.469945\n",
       "4   a5_score  200.598762  1.545858e-45  0.537004\n",
       "5   a6_score  243.848791  5.695403e-55  0.592091\n",
       "8   a9_score  281.328867  3.854920e-63  0.635576"
      ]
     },
     "execution_count": 70,
     "metadata": {},
     "output_type": "execute_result"
    }
   ],
   "source": [
    "df.sort(\"cramerV\")"
   ]
  },
  {
   "cell_type": "code",
   "execution_count": null,
   "metadata": {
    "collapsed": true
   },
   "outputs": [],
   "source": []
  },
  {
   "cell_type": "code",
   "execution_count": null,
   "metadata": {
    "collapsed": true
   },
   "outputs": [],
   "source": []
  }
 ],
 "metadata": {
  "kernelspec": {
   "display_name": "Python 2",
   "language": "python",
   "name": "python2"
  },
  "language_info": {
   "codemirror_mode": {
    "name": "ipython",
    "version": 2
   },
   "file_extension": ".py",
   "mimetype": "text/x-python",
   "name": "python",
   "nbconvert_exporter": "python",
   "pygments_lexer": "ipython2",
   "version": "2.7.10"
  }
 },
 "nbformat": 4,
 "nbformat_minor": 0
}
