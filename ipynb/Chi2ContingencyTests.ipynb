{
 "cells": [
  {
   "cell_type": "code",
   "execution_count": 2,
   "metadata": {
    "collapsed": false
   },
   "outputs": [
    {
     "name": "stdout",
     "output_type": "stream",
     "text": [
      "Populating the interactive namespace from numpy and matplotlib\n"
     ]
    }
   ],
   "source": [
    "%pylab inline"
   ]
  },
  {
   "cell_type": "code",
   "execution_count": 3,
   "metadata": {
    "collapsed": true
   },
   "outputs": [],
   "source": [
    "import pandas as pd\n",
    "import scipy.stats"
   ]
  },
  {
   "cell_type": "code",
   "execution_count": 4,
   "metadata": {
    "collapsed": false
   },
   "outputs": [],
   "source": [
    "# df.groupby([\"is_arrested\",\"driver_gender\"])[\"id\"].count()"
   ]
  },
  {
   "cell_type": "code",
   "execution_count": 69,
   "metadata": {
    "collapsed": false
   },
   "outputs": [],
   "source": [
    "def cramers_stat(df,col1,col2):  \n",
    "    confusion_matrix = pd.crosstab(df[col1],df[col2])\n",
    "    chi2 = scipy.stats.chi2_contingency(confusion_matrix,correction=False)[0]  \n",
    "    n = confusion_matrix.sum().sum()  \n",
    "    return np.sqrt(chi2 / (n*(min(confusion_matrix.shape)-1)))  "
   ]
  },
  {
   "cell_type": "code",
   "execution_count": 70,
   "metadata": {
    "collapsed": false
   },
   "outputs": [],
   "source": [
    "def chi2testcols(df,col1,col2):\n",
    "    contingency = pd.crosstab(df[col1],df[col2])\n",
    "    return scipy.stats.chi2_contingency(contingency,correction=True)"
   ]
  },
  {
   "cell_type": "code",
   "execution_count": 85,
   "metadata": {
    "collapsed": false
   },
   "outputs": [],
   "source": [
    "df = pd.read_csv(\"../data/police_stop/CT_police_stop.csv\",index_col=0)"
   ]
  },
  {
   "cell_type": "code",
   "execution_count": 87,
   "metadata": {
    "collapsed": false
   },
   "outputs": [
    {
     "name": "stdout",
     "output_type": "stream",
     "text": [
      "driver_gender 361.582454182 1.27353587902e-80 0.0340137135434\n",
      "driver_race 431.010885323 4.23997940993e-93 0.0371114590462\n",
      "search_conducted 15083.5763734 0.0 0.219623577649 --> V>0.2 (*possible correlation*)\n",
      "contraband_found 7167.29901508 0.0 0.151475788301\n",
      "stop_outcome 112380.690612 0.0 0.599252366975 --> V>0.2 (*possible correlation*)\n",
      "stop_duration 37038.0496383 0.0 0.344023384797 --> V>0.2 (*possible correlation*)\n",
      "stop_time_of_day 1316.13516252 4.64302100104e-285 0.0648506234904\n",
      "driver_age_category 187.024993528 1.68909660711e-38 0.024446333603\n",
      "speeding_violations 839.862225001 1.16293522996e-184 0.051827244629\n",
      "other_violations 1375.13629089 5.31374175281e-301 0.0663119116965\n",
      "registration_plates_violations 239.845797738 4.24940911363e-54 0.0277166814576\n",
      "moving_violation 955.414082552 8.82792981365e-210 0.0552906741623\n",
      "cell_phone_violations 265.617007322 1.02374525649e-59 0.0291767542055\n"
     ]
    }
   ],
   "source": [
    "col_of_interest = \"is_arrested\"\n",
    "for col in df.columns:\n",
    "    if col!=\"id\" and col!=col_of_interest and len(df[col].unique())>1:\n",
    "        chi2,p,dof,expected = chi2testcols(df,col_of_interest,col)\n",
    "        cramerV=cramers_stat(df,col_of_interest,col)  \n",
    "        if cramerV>0.2:\n",
    "            print col,chi2,p,cramerV, \"--> V>0.2 (*possible correlation*)\"\n",
    "        else:\n",
    "            print col,chi2,p,cramerV"
   ]
  },
  {
   "cell_type": "code",
   "execution_count": 89,
   "metadata": {
    "collapsed": false
   },
   "outputs": [],
   "source": [
    "df = pd.read_csv(\"../data/mushrooms.csv\")"
   ]
  },
  {
   "cell_type": "code",
   "execution_count": 90,
   "metadata": {
    "collapsed": false
   },
   "outputs": [
    {
     "name": "stdout",
     "output_type": "stream",
     "text": [
      "type 315.042831208 5.51842703865e-68 0.196924541732\n",
      "cap_shape 1011.49300341 4.63577768747e-206 0.203721026965 --> V>0.2 (*possible correlation*)\n",
      "cap_color 1236.82895751 1.23799754405e-243 0.225273049258 --> V>0.2 (*possible correlation*)\n",
      "bruises 146.69581085 1.35984418687e-31 0.134376677437\n",
      "odor 1385.70849757 5.62429497299e-278 0.238446172375 --> V>0.2 (*possible correlation*)\n",
      "gill_attachment 361.145242221 5.75818576945e-78 0.210841448658 --> V>0.2 (*possible correlation*)\n",
      "gill_spacing 929.337925721 3.83113074891e-201 0.33822201536 --> V>0.2 (*possible correlation*)\n",
      "gill_size 625.211042055 3.44979719064e-135 0.277413992344 --> V>0.2 (*possible correlation*)\n",
      "gill_color 1617.4942974 0.0 0.257617756844 --> V>0.2 (*possible correlation*)\n",
      "stalk_shape 50.4072499459 6.5428077197e-11 0.0787701268473\n",
      "stalk_root 2412.97673157 0.0 0.314652351904 --> V>0.2 (*possible correlation*)\n",
      "stalk_surface_above_ring 506.230073969 2.66396008634e-103 0.144121371483\n",
      "stalk_surface_below_ring 699.33302946 9.62195736733e-145 0.169393380649\n",
      "stalk_color_above_ring 1553.5284428 0.0 0.252472464695 --> V>0.2 (*possible correlation*)\n",
      "stalk_color_below_ring 1615.40020144 0.0 0.257450939864 --> V>0.2 (*possible correlation*)\n",
      "veil_color 440.046874302 3.84560188068e-89 0.134370485249\n",
      "ring_number 159.719314803 6.79034249873e-32 0.0991468142114\n",
      "ring_type 1230.82739978 3.97573732498e-256 0.224725829983 --> V>0.2 (*possible correlation*)\n",
      "spore_print_color 1318.85162183 1.07639844485e-263 0.232622856386 --> V>0.2 (*possible correlation*)\n",
      "population 1674.0191573 0.0 0.262080450814 --> V>0.2 (*possible correlation*)\n",
      "habitat 1535.54716914 0.0 0.251007094216 --> V>0.2 (*possible correlation*)\n"
     ]
    }
   ],
   "source": [
    "col_of_interest = \"cap_surface\"\n",
    "for col in df.columns:\n",
    "    if col!=\"id\" and col!=col_of_interest and len(df[col].unique())>1:\n",
    "        chi2,p,dof,expected = chi2testcols(df,col_of_interest,col)\n",
    "        cramerV=cramers_stat(df,col_of_interest,col)  \n",
    "        if cramerV>0.2:\n",
    "            print col,chi2,p,cramerV, \"--> V>0.2 (*possible correlation*)\"\n",
    "        else:\n",
    "            print col,chi2,p,cramerV"
   ]
  },
  {
   "cell_type": "code",
   "execution_count": 92,
   "metadata": {
    "collapsed": false
   },
   "outputs": [
    {
     "name": "stdout",
     "output_type": "stream",
     "text": [
      "cap_shape 489.919953619 1.19645656859e-103 0.245571298469\n",
      "cap_surface 315.042831208 5.51842703865e-68 0.196924541732\n",
      "cap_color 387.597768977 6.05581459834e-78 0.21842667608\n",
      "bruises 2041.41564746 0.0 0.501530377408 --> V>0.5 (*possible correlation*)\n",
      "odor 7659.72674017 0.0 0.971005479937 --> V>0.5 (*possible correlation*)\n",
      "gill_attachment 133.986181287 5.50170741186e-31 0.129199860268\n",
      "gill_spacing 984.143333014 5.02297761373e-216 0.348386785184\n",
      "gill_size 2366.83425691 0.0 0.540024357433 --> V>0.5 (*possible correlation*)\n",
      "gill_color 3765.71408624 0.0 0.680830046864 --> V>0.5 (*possible correlation*)\n",
      "stalk_shape 84.1420382655 4.60474621216e-20 0.102019017017\n",
      "stalk_root 1344.44052655 7.70204790494e-290 0.40680458609\n",
      "stalk_surface_above_ring 2808.28628742 0.0 0.587943688062 --> V>0.5 (*possible correlation*)\n",
      "stalk_surface_below_ring 2684.47407633 0.0 0.574836914805 --> V>0.5 (*possible correlation*)\n",
      "stalk_color_above_ring 2237.89849645 0.0 0.524850040299 --> V>0.5 (*possible correlation*)\n",
      "stalk_color_below_ring 2152.3908906 0.0 0.514725418404 --> V>0.5 (*possible correlation*)\n",
      "veil_color 191.223701525 3.32097274917e-41 0.153421386393\n",
      "ring_number 374.736830827 4.23575764172e-82 0.2147722824\n",
      "ring_type 2956.61927806 0.0 0.603271411245 --> V>0.5 (*possible correlation*)\n",
      "spore_print_color 4602.03317008 0.0 0.752644539158 --> V>0.5 (*possible correlation*)\n",
      "population 1929.7408909 0.0 0.48737645241\n",
      "habitat 1573.77726083 0.0 0.440135780494\n"
     ]
    }
   ],
   "source": [
    "col_of_interest = \"type\"\n",
    "for col in df.columns:\n",
    "    if col!=\"id\" and col!=col_of_interest and len(df[col].unique())>1:\n",
    "        chi2,p,dof,expected = chi2testcols(df,col_of_interest,col)\n",
    "        cramerV=cramers_stat(df,col_of_interest,col)  \n",
    "        if cramerV>0.5:\n",
    "            print col,chi2,p,cramerV, \"--> V>0.5 (*possible correlation*)\"\n",
    "        else:\n",
    "            print col,chi2,p,cramerV"
   ]
  },
  {
   "cell_type": "code",
   "execution_count": 93,
   "metadata": {
    "collapsed": true
   },
   "outputs": [],
   "source": [
    "df = pd.read_csv(\"../data/titanic.csv\")"
   ]
  },
  {
   "cell_type": "code",
   "execution_count": 95,
   "metadata": {
    "collapsed": true
   },
   "outputs": [],
   "source": [
    "df = df.drop(\"name\",axis=1)"
   ]
  },
  {
   "cell_type": "code",
   "execution_count": 96,
   "metadata": {
    "collapsed": false
   },
   "outputs": [
    {
     "name": "stdout",
     "output_type": "stream",
     "text": [
      "pc_class 172.299118274 3.85231550242e-38 0.362250642522\n",
      "age 100.032249616 0.0236375211674 0.363755124358\n",
      "sex 329.841992465 1.04040309197e-73 0.502891126594 --> V>0.5 (*possible correlation*)\n",
      "sexcode 329.841992465 1.04040309197e-73 0.502891126594 --> V>0.5 (*possible correlation*)\n"
     ]
    }
   ],
   "source": [
    "col_of_interest = \"survived\"\n",
    "for col in df.columns:\n",
    "    if col!=\"id\" and col!=col_of_interest and len(df[col].unique())>1:\n",
    "        chi2,p,dof,expected = chi2testcols(df,col_of_interest,col)\n",
    "        cramerV=cramers_stat(df,col_of_interest,col)  \n",
    "        if cramerV>0.5:\n",
    "            print col,chi2,p,cramerV, \"--> V>0.5 (*possible correlation*)\"\n",
    "        else:\n",
    "            print col,chi2,p,cramerV"
   ]
  },
  {
   "cell_type": "code",
   "execution_count": 13,
   "metadata": {
    "collapsed": false
   },
   "outputs": [],
   "source": [
    "df = pd.read_csv(\"../data/turn_cheetah_query_log_for_uiuc_v1.csv\")"
   ]
  },
  {
   "cell_type": "code",
   "execution_count": 15,
   "metadata": {
    "collapsed": false
   },
   "outputs": [],
   "source": [
    "# col_of_interest = \"slots_millis_reduces\"\n",
    "# for col in df.columns:\n",
    "#     if \"id\" in col and col!=col_of_interest:\n",
    "#         chi2,p,dof,expected = chi2testcols(df,col_of_interest,col)\n",
    "#         print col,chi2,p"
   ]
  },
  {
   "cell_type": "code",
   "execution_count": null,
   "metadata": {
    "collapsed": true
   },
   "outputs": [],
   "source": []
  },
  {
   "cell_type": "code",
   "execution_count": null,
   "metadata": {
    "collapsed": true
   },
   "outputs": [],
   "source": []
  },
  {
   "cell_type": "code",
   "execution_count": null,
   "metadata": {
    "collapsed": true
   },
   "outputs": [],
   "source": []
  }
 ],
 "metadata": {
  "kernelspec": {
   "display_name": "Python 2",
   "language": "python",
   "name": "python2"
  },
  "language_info": {
   "codemirror_mode": {
    "name": "ipython",
    "version": 2
   },
   "file_extension": ".py",
   "mimetype": "text/x-python",
   "name": "python",
   "nbconvert_exporter": "python",
   "pygments_lexer": "ipython2",
   "version": "2.7.10"
  }
 },
 "nbformat": 4,
 "nbformat_minor": 0
}
